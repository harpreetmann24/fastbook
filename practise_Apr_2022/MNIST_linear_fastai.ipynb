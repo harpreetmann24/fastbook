{
 "cells": [
  {
   "cell_type": "markdown",
   "id": "6c03c886-148c-4874-bc52-fda2e11a8c15",
   "metadata": {
    "id": "6c03c886-148c-4874-bc52-fda2e11a8c15"
   },
   "source": [
    "# Import libraries "
   ]
  },
  {
   "cell_type": "code",
   "execution_count": null,
   "id": "4eeafa9a-e869-4233-8203-e961ea7b05c1",
   "metadata": {
    "execution": {
     "iopub.execute_input": "2022-01-23T05:44:36.529079Z",
     "iopub.status.busy": "2022-01-23T05:44:36.528951Z",
     "iopub.status.idle": "2022-01-23T05:44:36.724388Z",
     "shell.execute_reply": "2022-01-23T05:44:36.722329Z",
     "shell.execute_reply.started": "2022-01-23T05:44:36.529065Z"
    },
    "id": "4eeafa9a-e869-4233-8203-e961ea7b05c1",
    "outputId": "cd346f3a-3974-4f16-89b8-9d0293d7e195",
    "tags": []
   },
   "outputs": [
    {
     "name": "stdout",
     "output_type": "stream",
     "text": [
      "Sat Jan 22 23:44:36 2022       \n",
      "+-----------------------------------------------------------------------------+\n",
      "| NVIDIA-SMI 470.86       Driver Version: 470.86       CUDA Version: 11.4     |\n",
      "|-------------------------------+----------------------+----------------------+\n",
      "| GPU  Name        Persistence-M| Bus-Id        Disp.A | Volatile Uncorr. ECC |\n",
      "| Fan  Temp  Perf  Pwr:Usage/Cap|         Memory-Usage | GPU-Util  Compute M. |\n",
      "|                               |                      |               MIG M. |\n",
      "|===============================+======================+======================|\n",
      "|   0  Quadro RTX 5000     Off  | 00000000:01:00.0 Off |                  N/A |\n",
      "| N/A   53C    P8    12W /  N/A |   1619MiB / 16125MiB |      5%      Default |\n",
      "|                               |                      |                  N/A |\n",
      "+-------------------------------+----------------------+----------------------+\n",
      "                                                                               \n",
      "+-----------------------------------------------------------------------------+\n",
      "| Processes:                                                                  |\n",
      "|  GPU   GI   CI        PID   Type   Process name                  GPU Memory |\n",
      "|        ID   ID                                                   Usage      |\n",
      "|=============================================================================|\n",
      "|    0   N/A  N/A      2976      G   /usr/lib/xorg/Xorg                180MiB |\n",
      "|    0   N/A  N/A      3181      G   /usr/bin/gnome-shell               49MiB |\n",
      "|    0   N/A  N/A     93205      G   ...AAAAAAAAA= --shared-files      102MiB |\n",
      "|    0   N/A  N/A     93457      G   ...AAAAAAAAA= --shared-files       11MiB |\n",
      "|    0   N/A  N/A    110882      G   ...AAAAAAAA== --shared-files       12MiB |\n",
      "|    0   N/A  N/A    170428      C   ...conda3/envs/pt/bin/python     1257MiB |\n",
      "+-----------------------------------------------------------------------------+\n"
     ]
    }
   ],
   "source": [
    "!nvidia-smi"
   ]
  },
  {
   "cell_type": "code",
   "execution_count": null,
   "id": "3a01106f-528f-4b6d-870b-37aba7168447",
   "metadata": {
    "execution": {
     "iopub.execute_input": "2022-01-23T05:44:37.268388Z",
     "iopub.status.busy": "2022-01-23T05:44:37.267970Z",
     "iopub.status.idle": "2022-01-23T05:44:37.275554Z",
     "shell.execute_reply": "2022-01-23T05:44:37.274649Z",
     "shell.execute_reply.started": "2022-01-23T05:44:37.268338Z"
    },
    "id": "3a01106f-528f-4b6d-870b-37aba7168447",
    "tags": []
   },
   "outputs": [],
   "source": [
    "from fastai.vision.all import *"
   ]
  },
  {
   "cell_type": "code",
   "execution_count": null,
   "id": "e22f9bc3-24c7-4d99-9ded-530c4cad1a84",
   "metadata": {
    "execution": {
     "iopub.execute_input": "2022-01-23T05:44:37.858008Z",
     "iopub.status.busy": "2022-01-23T05:44:37.857796Z",
     "iopub.status.idle": "2022-01-23T05:44:37.860417Z",
     "shell.execute_reply": "2022-01-23T05:44:37.860025Z",
     "shell.execute_reply.started": "2022-01-23T05:44:37.857991Z"
    },
    "id": "e22f9bc3-24c7-4d99-9ded-530c4cad1a84",
    "tags": []
   },
   "outputs": [],
   "source": [
    "from fastbook import *"
   ]
  },
  {
   "cell_type": "code",
   "execution_count": null,
   "id": "fa0fb0c5-a988-4d21-8208-725b04e0fbb4",
   "metadata": {
    "execution": {
     "iopub.execute_input": "2022-01-23T05:44:38.439739Z",
     "iopub.status.busy": "2022-01-23T05:44:38.439455Z",
     "iopub.status.idle": "2022-01-23T05:44:38.445024Z",
     "shell.execute_reply": "2022-01-23T05:44:38.444703Z",
     "shell.execute_reply.started": "2022-01-23T05:44:38.439707Z"
    },
    "id": "fa0fb0c5-a988-4d21-8208-725b04e0fbb4",
    "outputId": "5207715d-9f52-47ef-fdd1-25e83c765766",
    "tags": []
   },
   "outputs": [
    {
     "data": {
      "text/plain": [
       "True"
      ]
     },
     "execution_count": 88,
     "metadata": {},
     "output_type": "execute_result"
    }
   ],
   "source": [
    "torch.cuda.is_available()"
   ]
  },
  {
   "cell_type": "code",
   "execution_count": null,
   "id": "e268d3f5-7ec8-4859-aaca-baaf2313ec06",
   "metadata": {
    "execution": {
     "iopub.execute_input": "2022-01-23T05:44:38.910221Z",
     "iopub.status.busy": "2022-01-23T05:44:38.910057Z",
     "iopub.status.idle": "2022-01-23T05:44:38.916099Z",
     "shell.execute_reply": "2022-01-23T05:44:38.915691Z",
     "shell.execute_reply.started": "2022-01-23T05:44:38.910204Z"
    },
    "id": "e268d3f5-7ec8-4859-aaca-baaf2313ec06",
    "outputId": "2bd6ca43-b017-4195-8816-809acae7abeb",
    "tags": []
   },
   "outputs": [
    {
     "data": {
      "text/markdown": [
       "\n",
       "---\n",
       "This article is also a Jupyter Notebook available to be run from the top down. There\n",
       "will be code snippets that you can then run in any environment.\n",
       "\n",
       "Below are the versions of `fastai`, `fastcore`, and `wwf` currently running at the time of writing this:\n",
       "* `fastai` : 2.5.3 \n",
       "* `fastcore` : 1.3.27 \n",
       "* `wwf` : 0.0.16 \n",
       "---"
      ],
      "text/plain": [
       "<IPython.core.display.Markdown object>"
      ]
     },
     "execution_count": 89,
     "metadata": {},
     "output_type": "execute_result"
    }
   ],
   "source": [
    "from wwf.utils import state_versions\n",
    "state_versions(['fastai', 'fastcore', 'wwf'])"
   ]
  },
  {
   "cell_type": "markdown",
   "id": "dc0a625b-02e2-4cbb-bbe2-c907603d8f38",
   "metadata": {
    "id": "dc0a625b-02e2-4cbb-bbe2-c907603d8f38"
   },
   "source": [
    "# Create Dataset"
   ]
  },
  {
   "cell_type": "code",
   "execution_count": null,
   "id": "db7d8c93-13e1-48a2-8473-1be0370fcaa0",
   "metadata": {
    "execution": {
     "iopub.execute_input": "2022-01-23T05:44:39.930693Z",
     "iopub.status.busy": "2022-01-23T05:44:39.930068Z",
     "iopub.status.idle": "2022-01-23T05:44:39.938021Z",
     "shell.execute_reply": "2022-01-23T05:44:39.936823Z",
     "shell.execute_reply.started": "2022-01-23T05:44:39.930619Z"
    },
    "id": "db7d8c93-13e1-48a2-8473-1be0370fcaa0",
    "tags": []
   },
   "outputs": [],
   "source": [
    "path = untar_data(URLs.MNIST)"
   ]
  },
  {
   "cell_type": "code",
   "execution_count": null,
   "id": "1ccbe5c9-1207-473d-889e-c6f4b3b67ab9",
   "metadata": {
    "execution": {
     "iopub.execute_input": "2022-01-23T05:44:40.395517Z",
     "iopub.status.busy": "2022-01-23T05:44:40.394991Z",
     "iopub.status.idle": "2022-01-23T05:44:40.399294Z",
     "shell.execute_reply": "2022-01-23T05:44:40.398965Z",
     "shell.execute_reply.started": "2022-01-23T05:44:40.395484Z"
    },
    "id": "1ccbe5c9-1207-473d-889e-c6f4b3b67ab9",
    "outputId": "b6f9ee0e-866a-4d53-a7c1-e60122e1d0ab",
    "tags": []
   },
   "outputs": [
    {
     "data": {
      "text/plain": [
       "Path('.')"
      ]
     },
     "execution_count": 91,
     "metadata": {},
     "output_type": "execute_result"
    }
   ],
   "source": [
    "path"
   ]
  },
  {
   "cell_type": "code",
   "execution_count": null,
   "id": "fbd027dc-8982-4925-9637-aa79951c5da9",
   "metadata": {
    "execution": {
     "iopub.execute_input": "2022-01-23T05:44:40.870723Z",
     "iopub.status.busy": "2022-01-23T05:44:40.870328Z",
     "iopub.status.idle": "2022-01-23T05:44:40.875101Z",
     "shell.execute_reply": "2022-01-23T05:44:40.874039Z",
     "shell.execute_reply.started": "2022-01-23T05:44:40.870685Z"
    },
    "id": "fbd027dc-8982-4925-9637-aa79951c5da9",
    "tags": []
   },
   "outputs": [],
   "source": [
    "Path.BASE_PATH = path"
   ]
  },
  {
   "cell_type": "code",
   "execution_count": null,
   "id": "9e43ccdc-2c5b-4449-8d85-6f7e70e05f10",
   "metadata": {
    "execution": {
     "iopub.execute_input": "2022-01-23T05:44:41.326359Z",
     "iopub.status.busy": "2022-01-23T05:44:41.326092Z",
     "iopub.status.idle": "2022-01-23T05:44:41.330643Z",
     "shell.execute_reply": "2022-01-23T05:44:41.330149Z",
     "shell.execute_reply.started": "2022-01-23T05:44:41.326335Z"
    },
    "id": "9e43ccdc-2c5b-4449-8d85-6f7e70e05f10",
    "outputId": "2f5dc44f-0e38-41ab-e546-0efb4d9480dc",
    "tags": []
   },
   "outputs": [
    {
     "data": {
      "text/plain": [
       "(#2) [Path('testing'),Path('training')]"
      ]
     },
     "execution_count": 93,
     "metadata": {},
     "output_type": "execute_result"
    }
   ],
   "source": [
    "path.ls()\n"
   ]
  },
  {
   "cell_type": "code",
   "execution_count": null,
   "id": "860b1f19-6ce8-4508-922f-3e5588a485e3",
   "metadata": {
    "execution": {
     "iopub.execute_input": "2022-01-23T05:44:41.765759Z",
     "iopub.status.busy": "2022-01-23T05:44:41.765549Z",
     "iopub.status.idle": "2022-01-23T05:44:41.768812Z",
     "shell.execute_reply": "2022-01-23T05:44:41.768491Z",
     "shell.execute_reply.started": "2022-01-23T05:44:41.765745Z"
    },
    "id": "860b1f19-6ce8-4508-922f-3e5588a485e3",
    "outputId": "6a6b9444-9885-4c74-923b-64531eca00fe",
    "tags": []
   },
   "outputs": [
    {
     "data": {
      "text/plain": [
       "(#10) [Path('training/8'),Path('training/9'),Path('training/6'),Path('training/5'),Path('training/0'),Path('training/4'),Path('training/3'),Path('training/2'),Path('training/1'),Path('training/7')]"
      ]
     },
     "execution_count": 94,
     "metadata": {},
     "output_type": "execute_result"
    }
   ],
   "source": [
    "(path/'training').ls()"
   ]
  },
  {
   "cell_type": "code",
   "execution_count": null,
   "id": "bcc40eac-d083-4b6d-81dd-03a6d197712f",
   "metadata": {
    "execution": {
     "iopub.execute_input": "2022-01-23T05:44:42.227660Z",
     "iopub.status.busy": "2022-01-23T05:44:42.227284Z",
     "iopub.status.idle": "2022-01-23T05:44:42.247107Z",
     "shell.execute_reply": "2022-01-23T05:44:42.246545Z",
     "shell.execute_reply.started": "2022-01-23T05:44:42.227631Z"
    },
    "id": "bcc40eac-d083-4b6d-81dd-03a6d197712f",
    "outputId": "06d485b7-c75b-4c88-dbe0-b0db67a428f8",
    "tags": []
   },
   "outputs": [
    {
     "name": "stdout",
     "output_type": "stream",
     "text": [
      "8\n",
      "5851\n",
      "tensor([8, 8, 8, 8, 8, 8, 8, 8, 8, 8])\n"
     ]
    }
   ],
   "source": [
    "for subfolder in (path/'training').ls():\n",
    "    label_value = subfolder.parts[-1]\n",
    "    print(label_value)\n",
    "    num_labels = len(subfolder.ls())\n",
    "    print(num_labels)\n",
    "    print(tensor([int(label_value)]*num_labels)[0:10])\n",
    "    break"
   ]
  },
  {
   "cell_type": "code",
   "execution_count": null,
   "id": "417d4f1e-68bc-4e8c-847f-a4a761065a4a",
   "metadata": {
    "execution": {
     "iopub.execute_input": "2022-01-23T05:44:42.732287Z",
     "iopub.status.busy": "2022-01-23T05:44:42.731625Z",
     "iopub.status.idle": "2022-01-23T05:44:42.741365Z",
     "shell.execute_reply": "2022-01-23T05:44:42.740594Z",
     "shell.execute_reply.started": "2022-01-23T05:44:42.732238Z"
    },
    "id": "417d4f1e-68bc-4e8c-847f-a4a761065a4a",
    "tags": []
   },
   "outputs": [],
   "source": [
    "def get_dataset(folder):\n",
    "    x_tensor = torch.Tensor()\n",
    "    y_tensor = torch.Tensor()\n",
    "    for subfolder in folder.iterdir():\n",
    "        image_tensors = torch.stack([tensor(Image.open(image)) for image in subfolder.iterdir()])\n",
    "        image_tensors = image_tensors.float()/255\n",
    "        x_tensor = torch.cat((x_tensor, image_tensors))\n",
    "        label_value = subfolder.parts[-1]\n",
    "        label_tensor = tensor([int(label_value)]*len(subfolder.ls()))\n",
    "        y_tensor = torch.cat((y_tensor, label_tensor))\n",
    "    x_tensor = x_tensor.view(-1, 28*28)\n",
    "    #y_tensor = y_tensor.view(-1,1)\n",
    "    return list(zip(x_tensor, y_tensor.long()))  "
   ]
  },
  {
   "cell_type": "code",
   "execution_count": null,
   "id": "3471a358-2dd3-4914-93d6-585de4fa2dac",
   "metadata": {
    "execution": {
     "iopub.execute_input": "2022-01-23T05:44:43.184732Z",
     "iopub.status.busy": "2022-01-23T05:44:43.184232Z",
     "iopub.status.idle": "2022-01-23T05:44:51.379368Z",
     "shell.execute_reply": "2022-01-23T05:44:51.378902Z",
     "shell.execute_reply.started": "2022-01-23T05:44:43.184705Z"
    },
    "id": "3471a358-2dd3-4914-93d6-585de4fa2dac",
    "tags": []
   },
   "outputs": [],
   "source": [
    "train_full =  get_dataset(path/'training')"
   ]
  },
  {
   "cell_type": "code",
   "execution_count": null,
   "id": "55b2b1f3-4d90-4919-aacd-ab1c8feed3e8",
   "metadata": {
    "execution": {
     "iopub.execute_input": "2022-01-23T05:44:51.380234Z",
     "iopub.status.busy": "2022-01-23T05:44:51.380096Z",
     "iopub.status.idle": "2022-01-23T05:44:51.400052Z",
     "shell.execute_reply": "2022-01-23T05:44:51.399554Z",
     "shell.execute_reply.started": "2022-01-23T05:44:51.380204Z"
    },
    "id": "55b2b1f3-4d90-4919-aacd-ab1c8feed3e8",
    "tags": []
   },
   "outputs": [],
   "source": [
    "import random\n",
    "random.seed(123)\n",
    "indices=list(range(len(train_full)))\n",
    "random.shuffle(indices)"
   ]
  },
  {
   "cell_type": "code",
   "execution_count": null,
   "id": "95c80789-afd1-433c-abc5-f03b0c3e36a2",
   "metadata": {
    "execution": {
     "iopub.execute_input": "2022-01-23T05:44:51.400701Z",
     "iopub.status.busy": "2022-01-23T05:44:51.400599Z",
     "iopub.status.idle": "2022-01-23T05:44:51.411664Z",
     "shell.execute_reply": "2022-01-23T05:44:51.411252Z",
     "shell.execute_reply.started": "2022-01-23T05:44:51.400688Z"
    },
    "id": "95c80789-afd1-433c-abc5-f03b0c3e36a2",
    "tags": []
   },
   "outputs": [],
   "source": [
    "train_set = [train_full[i] for i in indices[0:50000]]\n",
    "valid_set = [train_full[i] for i in indices[50000:60000]]"
   ]
  },
  {
   "cell_type": "code",
   "execution_count": null,
   "id": "c6adf99a-1851-4c2c-8c36-16e596b28b37",
   "metadata": {
    "execution": {
     "iopub.execute_input": "2022-01-23T05:44:51.412599Z",
     "iopub.status.busy": "2022-01-23T05:44:51.412456Z",
     "iopub.status.idle": "2022-01-23T05:44:51.416927Z",
     "shell.execute_reply": "2022-01-23T05:44:51.416624Z",
     "shell.execute_reply.started": "2022-01-23T05:44:51.412587Z"
    },
    "id": "c6adf99a-1851-4c2c-8c36-16e596b28b37",
    "outputId": "d3556b84-9a95-4c68-a9a1-1624c27398c6",
    "tags": []
   },
   "outputs": [
    {
     "data": {
      "text/plain": [
       "(50000, 10000)"
      ]
     },
     "execution_count": 100,
     "metadata": {},
     "output_type": "execute_result"
    }
   ],
   "source": [
    "len(train_set), len(valid_set)"
   ]
  },
  {
   "cell_type": "code",
   "execution_count": null,
   "id": "003193c1-b621-467c-98c5-d24040dc856f",
   "metadata": {
    "execution": {
     "iopub.execute_input": "2022-01-23T05:44:51.417538Z",
     "iopub.status.busy": "2022-01-23T05:44:51.417420Z",
     "iopub.status.idle": "2022-01-23T05:44:51.420283Z",
     "shell.execute_reply": "2022-01-23T05:44:51.420021Z",
     "shell.execute_reply.started": "2022-01-23T05:44:51.417525Z"
    },
    "id": "003193c1-b621-467c-98c5-d24040dc856f",
    "outputId": "f3019843-de42-4e8f-e83c-1eab615b691f",
    "tags": []
   },
   "outputs": [
    {
     "name": "stdout",
     "output_type": "stream",
     "text": [
      "torch.Size([784]) torch.Size([])\n"
     ]
    }
   ],
   "source": [
    "x, y = train_set[0]\n",
    "print(x.shape, y.shape)"
   ]
  },
  {
   "cell_type": "code",
   "execution_count": null,
   "id": "ec84b0e0-0761-4328-beff-1a52935e096b",
   "metadata": {
    "execution": {
     "iopub.execute_input": "2022-01-23T05:44:51.420849Z",
     "iopub.status.busy": "2022-01-23T05:44:51.420717Z",
     "iopub.status.idle": "2022-01-23T05:44:52.810365Z",
     "shell.execute_reply": "2022-01-23T05:44:52.810026Z",
     "shell.execute_reply.started": "2022-01-23T05:44:51.420837Z"
    },
    "id": "ec84b0e0-0761-4328-beff-1a52935e096b",
    "tags": []
   },
   "outputs": [],
   "source": [
    "test_set = get_dataset(path/'testing')"
   ]
  },
  {
   "cell_type": "code",
   "execution_count": null,
   "id": "4037c2e4-c2e4-4a61-8fb1-a909e09843cf",
   "metadata": {
    "execution": {
     "iopub.execute_input": "2022-01-23T05:44:52.811002Z",
     "iopub.status.busy": "2022-01-23T05:44:52.810866Z",
     "iopub.status.idle": "2022-01-23T05:44:52.814231Z",
     "shell.execute_reply": "2022-01-23T05:44:52.813920Z",
     "shell.execute_reply.started": "2022-01-23T05:44:52.810988Z"
    },
    "id": "4037c2e4-c2e4-4a61-8fb1-a909e09843cf",
    "outputId": "48d3c7d5-63b7-4135-e0f8-e4ea9007a418",
    "tags": []
   },
   "outputs": [
    {
     "data": {
      "text/plain": [
       "10000"
      ]
     },
     "execution_count": 103,
     "metadata": {},
     "output_type": "execute_result"
    }
   ],
   "source": [
    "len(valid_set)"
   ]
  },
  {
   "cell_type": "code",
   "execution_count": null,
   "id": "c19afdef-c95a-452e-9112-0999d6358060",
   "metadata": {
    "execution": {
     "iopub.execute_input": "2022-01-23T05:44:52.814900Z",
     "iopub.status.busy": "2022-01-23T05:44:52.814752Z",
     "iopub.status.idle": "2022-01-23T05:44:52.819241Z",
     "shell.execute_reply": "2022-01-23T05:44:52.818920Z",
     "shell.execute_reply.started": "2022-01-23T05:44:52.814884Z"
    },
    "id": "c19afdef-c95a-452e-9112-0999d6358060",
    "tags": []
   },
   "outputs": [],
   "source": [
    "train_dl = DataLoader(train_set, bs = 256, shuffle=True)\n",
    "test_dl = DataLoader(test_set, bs = 256, shuffle=False)\n",
    "valid_dl = DataLoader(valid_set, bs = 256, shuffle=False)"
   ]
  },
  {
   "cell_type": "code",
   "execution_count": null,
   "id": "6c0c9487-d998-46c2-bb7e-21124eac2370",
   "metadata": {
    "execution": {
     "iopub.execute_input": "2022-01-23T05:44:52.819864Z",
     "iopub.status.busy": "2022-01-23T05:44:52.819719Z",
     "iopub.status.idle": "2022-01-23T05:44:52.823181Z",
     "shell.execute_reply": "2022-01-23T05:44:52.822615Z",
     "shell.execute_reply.started": "2022-01-23T05:44:52.819849Z"
    },
    "id": "6c0c9487-d998-46c2-bb7e-21124eac2370",
    "outputId": "b6cd6305-ca1a-41a1-8f45-e876792ee3c2",
    "tags": []
   },
   "outputs": [
    {
     "data": {
      "text/plain": [
       "fastai.data.load.DataLoader"
      ]
     },
     "execution_count": 105,
     "metadata": {},
     "output_type": "execute_result"
    }
   ],
   "source": [
    "type(train_dl)"
   ]
  },
  {
   "cell_type": "code",
   "execution_count": null,
   "id": "615402ba-3004-4b1e-bc08-b69e56ae2e3d",
   "metadata": {
    "execution": {
     "iopub.execute_input": "2022-01-23T05:44:52.824655Z",
     "iopub.status.busy": "2022-01-23T05:44:52.824444Z",
     "iopub.status.idle": "2022-01-23T05:44:52.849362Z",
     "shell.execute_reply": "2022-01-23T05:44:52.849005Z",
     "shell.execute_reply.started": "2022-01-23T05:44:52.824638Z"
    },
    "id": "615402ba-3004-4b1e-bc08-b69e56ae2e3d",
    "tags": []
   },
   "outputs": [],
   "source": [
    "x, y = first(train_dl)"
   ]
  },
  {
   "cell_type": "code",
   "execution_count": null,
   "id": "2c319928-4ade-43eb-a72e-6f50b2b7c2fb",
   "metadata": {
    "execution": {
     "iopub.execute_input": "2022-01-23T05:44:52.849973Z",
     "iopub.status.busy": "2022-01-23T05:44:52.849839Z",
     "iopub.status.idle": "2022-01-23T05:44:52.852819Z",
     "shell.execute_reply": "2022-01-23T05:44:52.852476Z",
     "shell.execute_reply.started": "2022-01-23T05:44:52.849959Z"
    },
    "id": "2c319928-4ade-43eb-a72e-6f50b2b7c2fb",
    "outputId": "63f9d17e-506f-490a-860e-044ebbea7907",
    "tags": []
   },
   "outputs": [
    {
     "data": {
      "text/plain": [
       "torch.Size([256, 784])"
      ]
     },
     "execution_count": 107,
     "metadata": {},
     "output_type": "execute_result"
    }
   ],
   "source": [
    "x.shape"
   ]
  },
  {
   "cell_type": "code",
   "execution_count": null,
   "id": "39189967-6d87-436a-8751-58feda8eb30f",
   "metadata": {
    "execution": {
     "iopub.execute_input": "2022-01-23T05:44:52.853551Z",
     "iopub.status.busy": "2022-01-23T05:44:52.853391Z",
     "iopub.status.idle": "2022-01-23T05:44:52.856551Z",
     "shell.execute_reply": "2022-01-23T05:44:52.856238Z",
     "shell.execute_reply.started": "2022-01-23T05:44:52.853534Z"
    },
    "id": "39189967-6d87-436a-8751-58feda8eb30f",
    "outputId": "b0d8ca4c-fa4f-4918-a9e6-7f5eaa341ce4",
    "tags": []
   },
   "outputs": [
    {
     "data": {
      "text/plain": [
       "torch.Size([256])"
      ]
     },
     "execution_count": 108,
     "metadata": {},
     "output_type": "execute_result"
    }
   ],
   "source": [
    "y.shape"
   ]
  },
  {
   "cell_type": "code",
   "execution_count": null,
   "id": "f6a52303-1e61-4696-9e94-ecb7c3602b5e",
   "metadata": {
    "execution": {
     "iopub.execute_input": "2022-01-23T05:44:52.857151Z",
     "iopub.status.busy": "2022-01-23T05:44:52.857037Z",
     "iopub.status.idle": "2022-01-23T05:44:52.860275Z",
     "shell.execute_reply": "2022-01-23T05:44:52.859968Z",
     "shell.execute_reply.started": "2022-01-23T05:44:52.857136Z"
    },
    "id": "f6a52303-1e61-4696-9e94-ecb7c3602b5e",
    "outputId": "2b615b34-21a7-4777-e2fc-e72bdd11f551",
    "tags": []
   },
   "outputs": [
    {
     "data": {
      "text/plain": [
       "tensor([7, 5, 4, 3, 4, 2, 0, 0, 6, 1, 4, 4, 7, 5, 3, 6, 5, 9, 9, 4])"
      ]
     },
     "execution_count": 109,
     "metadata": {},
     "output_type": "execute_result"
    }
   ],
   "source": [
    "y[0:20]"
   ]
  },
  {
   "cell_type": "markdown",
   "id": "b9e53b99-2594-41b3-9f60-393106ead64c",
   "metadata": {
    "id": "b9e53b99-2594-41b3-9f60-393106ead64c"
   },
   "source": [
    "# Linear Model 2 layer - scratch"
   ]
  },
  {
   "cell_type": "code",
   "execution_count": null,
   "id": "ef84b588-b4a9-4ead-b95d-2e54bafa1efc",
   "metadata": {
    "execution": {
     "iopub.execute_input": "2022-01-23T05:44:52.860918Z",
     "iopub.status.busy": "2022-01-23T05:44:52.860778Z",
     "iopub.status.idle": "2022-01-23T05:44:52.863082Z",
     "shell.execute_reply": "2022-01-23T05:44:52.862793Z",
     "shell.execute_reply.started": "2022-01-23T05:44:52.860903Z"
    },
    "id": "ef84b588-b4a9-4ead-b95d-2e54bafa1efc",
    "tags": []
   },
   "outputs": [],
   "source": [
    "def init_params(size, std =0.01):\n",
    "    return torch.normal(0, std, size=size).requires_grad_()"
   ]
  },
  {
   "cell_type": "code",
   "execution_count": null,
   "id": "e3cf2561-208b-4e2b-baa0-488f579526e6",
   "metadata": {
    "execution": {
     "iopub.execute_input": "2022-01-23T05:44:52.863617Z",
     "iopub.status.busy": "2022-01-23T05:44:52.863493Z",
     "iopub.status.idle": "2022-01-23T05:44:52.867702Z",
     "shell.execute_reply": "2022-01-23T05:44:52.867409Z",
     "shell.execute_reply.started": "2022-01-23T05:44:52.863604Z"
    },
    "id": "e3cf2561-208b-4e2b-baa0-488f579526e6",
    "tags": []
   },
   "outputs": [],
   "source": [
    "def sigmoid(z):\n",
    "    return 1/(1+torch.exp(-z))"
   ]
  },
  {
   "cell_type": "code",
   "execution_count": null,
   "id": "ca833d23-6a66-4046-8fb3-47ff11207ae6",
   "metadata": {
    "execution": {
     "iopub.execute_input": "2022-01-23T05:44:52.868235Z",
     "iopub.status.busy": "2022-01-23T05:44:52.868110Z",
     "iopub.status.idle": "2022-01-23T05:44:52.870679Z",
     "shell.execute_reply": "2022-01-23T05:44:52.870375Z",
     "shell.execute_reply.started": "2022-01-23T05:44:52.868222Z"
    },
    "id": "ca833d23-6a66-4046-8fb3-47ff11207ae6",
    "tags": []
   },
   "outputs": [],
   "source": [
    "def relu(X):\n",
    "\n",
    "    # Create a tensor of zeros with same dimensions as input\n",
    "    a = torch.zeros_like(X)\n",
    "\n",
    "    # Return max(0,x) for all elements in the Tensor\n",
    "    return torch.max(X, a)"
   ]
  },
  {
   "cell_type": "code",
   "execution_count": null,
   "id": "0d849fe4-fd9e-4024-ba65-cc519c05cf17",
   "metadata": {
    "execution": {
     "iopub.execute_input": "2022-01-23T05:44:52.871236Z",
     "iopub.status.busy": "2022-01-23T05:44:52.871112Z",
     "iopub.status.idle": "2022-01-23T05:44:52.874349Z",
     "shell.execute_reply": "2022-01-23T05:44:52.874061Z",
     "shell.execute_reply.started": "2022-01-23T05:44:52.871223Z"
    },
    "id": "0d849fe4-fd9e-4024-ba65-cc519c05cf17",
    "tags": []
   },
   "outputs": [],
   "source": [
    "def softmax(z):\n",
    "\n",
    "    # Numerator\n",
    "    num = torch.exp(z)\n",
    "\n",
    "    # Denominator\n",
    "    denom = num.sum(1, keepdim=True)\n",
    "\n",
    "    # Return the softmax value\n",
    "    return num / denom "
   ]
  },
  {
   "cell_type": "code",
   "execution_count": null,
   "id": "bc150a0a-e696-499a-bd87-d1c78884f6cb",
   "metadata": {
    "execution": {
     "iopub.execute_input": "2022-01-23T05:44:52.874870Z",
     "iopub.status.busy": "2022-01-23T05:44:52.874747Z",
     "iopub.status.idle": "2022-01-23T05:44:52.878442Z",
     "shell.execute_reply": "2022-01-23T05:44:52.878163Z",
     "shell.execute_reply.started": "2022-01-23T05:44:52.874857Z"
    },
    "id": "bc150a0a-e696-499a-bd87-d1c78884f6cb",
    "tags": []
   },
   "outputs": [],
   "source": [
    "def model(x):\n",
    "    out1 = relu(x@w1 + b1)\n",
    "    out2 = out1@w2 + b2\n",
    "    return out2"
   ]
  },
  {
   "cell_type": "code",
   "execution_count": null,
   "id": "f0595cd4-b414-4037-a749-cb76c91e55a6",
   "metadata": {
    "execution": {
     "iopub.execute_input": "2022-01-23T05:44:52.878956Z",
     "iopub.status.busy": "2022-01-23T05:44:52.878834Z",
     "iopub.status.idle": "2022-01-23T05:44:52.882044Z",
     "shell.execute_reply": "2022-01-23T05:44:52.881640Z",
     "shell.execute_reply.started": "2022-01-23T05:44:52.878943Z"
    },
    "id": "f0595cd4-b414-4037-a749-cb76c91e55a6",
    "tags": []
   },
   "outputs": [],
   "source": [
    "class Optimizer:\n",
    "    def __init__(self, params, lr):\n",
    "        self.params= params\n",
    "        self.lr = lr\n",
    "        \n",
    "    def step(self):\n",
    "        for p in self.params: \n",
    "            p.data -= self.lr*p.grad\n",
    "\n",
    "    def zero_grad(self):\n",
    "        for p in self.params: \n",
    "            p.grad.zero_()                  \n",
    "      "
   ]
  },
  {
   "cell_type": "code",
   "execution_count": null,
   "id": "ca60e4ed-179c-468b-b974-0608f9f324d6",
   "metadata": {
    "execution": {
     "iopub.execute_input": "2022-01-23T05:44:52.882799Z",
     "iopub.status.busy": "2022-01-23T05:44:52.882626Z",
     "iopub.status.idle": "2022-01-23T05:44:52.885395Z",
     "shell.execute_reply": "2022-01-23T05:44:52.885005Z",
     "shell.execute_reply.started": "2022-01-23T05:44:52.882783Z"
    },
    "id": "ca60e4ed-179c-468b-b974-0608f9f324d6",
    "tags": []
   },
   "outputs": [],
   "source": [
    "# cross entropy loss function\n",
    "def my_loss(logits, y):\n",
    "    probs = softmax(logits)\n",
    "    return -torch.log(probs[range(len(probs)), y]).mean()"
   ]
  },
  {
   "cell_type": "code",
   "execution_count": null,
   "id": "806db2eb-db40-4a5f-bbda-ca6b911d06bc",
   "metadata": {
    "execution": {
     "iopub.execute_input": "2022-01-23T05:44:52.979421Z",
     "iopub.status.busy": "2022-01-23T05:44:52.979257Z",
     "iopub.status.idle": "2022-01-23T05:44:52.981883Z",
     "shell.execute_reply": "2022-01-23T05:44:52.981570Z",
     "shell.execute_reply.started": "2022-01-23T05:44:52.979406Z"
    },
    "id": "806db2eb-db40-4a5f-bbda-ca6b911d06bc",
    "tags": []
   },
   "outputs": [],
   "source": [
    "def batch_accuracy(logits, y):\n",
    "    pred = torch.argmax(logits, dim = 1)\n",
    "    correct = (pred == y)\n",
    "    \n",
    "    return correct.float().mean()        "
   ]
  },
  {
   "cell_type": "code",
   "execution_count": null,
   "id": "decf30f3-f555-423d-88da-1daefc428cde",
   "metadata": {
    "execution": {
     "iopub.execute_input": "2022-01-23T05:44:53.459215Z",
     "iopub.status.busy": "2022-01-23T05:44:53.458880Z",
     "iopub.status.idle": "2022-01-23T05:44:53.462034Z",
     "shell.execute_reply": "2022-01-23T05:44:53.461509Z",
     "shell.execute_reply.started": "2022-01-23T05:44:53.459194Z"
    },
    "id": "decf30f3-f555-423d-88da-1daefc428cde",
    "tags": []
   },
   "outputs": [],
   "source": [
    "def binary_cross_entropy():\n",
    "    pass\n",
    "    "
   ]
  },
  {
   "cell_type": "code",
   "execution_count": null,
   "id": "aaad9ae7-9a47-4083-bd28-1189d72227a9",
   "metadata": {
    "execution": {
     "iopub.execute_input": "2022-01-23T05:44:53.909032Z",
     "iopub.status.busy": "2022-01-23T05:44:53.908857Z",
     "iopub.status.idle": "2022-01-23T05:44:53.911845Z",
     "shell.execute_reply": "2022-01-23T05:44:53.911413Z",
     "shell.execute_reply.started": "2022-01-23T05:44:53.909013Z"
    },
    "id": "aaad9ae7-9a47-4083-bd28-1189d72227a9",
    "tags": []
   },
   "outputs": [],
   "source": [
    "def calc_grad(x, y, model):\n",
    "    logits  = model(x)\n",
    "    loss = my_loss(logits, y)\n",
    "    loss.backward()"
   ]
  },
  {
   "cell_type": "code",
   "execution_count": null,
   "id": "ff9800a4-ee5b-4f95-9ed3-206468f2f27c",
   "metadata": {
    "execution": {
     "iopub.execute_input": "2022-01-23T05:44:54.359200Z",
     "iopub.status.busy": "2022-01-23T05:44:54.359032Z",
     "iopub.status.idle": "2022-01-23T05:44:54.362335Z",
     "shell.execute_reply": "2022-01-23T05:44:54.361763Z",
     "shell.execute_reply.started": "2022-01-23T05:44:54.359182Z"
    },
    "id": "ff9800a4-ee5b-4f95-9ed3-206468f2f27c",
    "tags": []
   },
   "outputs": [],
   "source": [
    "def train_epoch(dl, model):\n",
    "    for x, y in dl:\n",
    "        calc_grad(x, y, model)\n",
    "        optimizer.step()\n",
    "        optimizer.zero_grad()   "
   ]
  },
  {
   "cell_type": "code",
   "execution_count": null,
   "id": "14cc6f7c-9316-4c26-835e-35ba409770f8",
   "metadata": {
    "execution": {
     "iopub.execute_input": "2022-01-23T05:44:54.778771Z",
     "iopub.status.busy": "2022-01-23T05:44:54.778630Z",
     "iopub.status.idle": "2022-01-23T05:44:54.781596Z",
     "shell.execute_reply": "2022-01-23T05:44:54.781256Z",
     "shell.execute_reply.started": "2022-01-23T05:44:54.778756Z"
    },
    "id": "14cc6f7c-9316-4c26-835e-35ba409770f8",
    "tags": []
   },
   "outputs": [],
   "source": [
    "def valid_epoch(dl, model):\n",
    "    with torch.no_grad():\n",
    "       accs = [batch_accuracy(model(x), y) for x, y in dl]     \n",
    "    return round(torch.stack(accs).mean().item(), 4)\n",
    "    "
   ]
  },
  {
   "cell_type": "code",
   "execution_count": null,
   "id": "8526f80f-eeb0-4bc8-a951-1c44a86b8f14",
   "metadata": {
    "execution": {
     "iopub.execute_input": "2022-01-23T05:44:55.288321Z",
     "iopub.status.busy": "2022-01-23T05:44:55.288149Z",
     "iopub.status.idle": "2022-01-23T05:44:55.291325Z",
     "shell.execute_reply": "2022-01-23T05:44:55.290936Z",
     "shell.execute_reply.started": "2022-01-23T05:44:55.288301Z"
    },
    "id": "8526f80f-eeb0-4bc8-a951-1c44a86b8f14",
    "tags": []
   },
   "outputs": [],
   "source": [
    "def train_model(model, epochs, train_dl, valid_dl):\n",
    "    for i in range(epochs):\n",
    "        train_epoch(train_dl, model)        \n",
    "        print(valid_epoch(valid_dl, model), end =\" \")"
   ]
  },
  {
   "cell_type": "code",
   "execution_count": null,
   "id": "58ca6583-3afe-40ad-92b1-273dc31b6c89",
   "metadata": {
    "execution": {
     "iopub.execute_input": "2022-01-23T05:46:24.355176Z",
     "iopub.status.busy": "2022-01-23T05:46:24.354969Z",
     "iopub.status.idle": "2022-01-23T05:46:24.359444Z",
     "shell.execute_reply": "2022-01-23T05:46:24.359008Z",
     "shell.execute_reply.started": "2022-01-23T05:46:24.355154Z"
    },
    "id": "58ca6583-3afe-40ad-92b1-273dc31b6c89",
    "tags": []
   },
   "outputs": [],
   "source": [
    "# hyperparameters\n",
    "w1 = init_params((28*28, 30))\n",
    "b1= init_params((30,))\n",
    "w2 = init_params((30, 10))\n",
    "b2 = init_params((10,))\n",
    "lr = 0.1\n",
    "epochs = 10\n",
    "params = w1, w2, b1, b2\n",
    "optimizer = Optimizer(params, lr)"
   ]
  },
  {
   "cell_type": "code",
   "execution_count": null,
   "id": "0ad561cb-b2b0-4a53-a8ea-5b0c6b9ef481",
   "metadata": {
    "execution": {
     "iopub.execute_input": "2022-01-23T05:44:56.575235Z",
     "iopub.status.busy": "2022-01-23T05:44:56.574652Z",
     "iopub.status.idle": "2022-01-23T05:44:59.654111Z",
     "shell.execute_reply": "2022-01-23T05:44:59.653771Z",
     "shell.execute_reply.started": "2022-01-23T05:44:56.575207Z"
    },
    "id": "0ad561cb-b2b0-4a53-a8ea-5b0c6b9ef481",
    "outputId": "7e06e9d0-1ade-45b4-dff9-3683bccd0c6f",
    "tags": []
   },
   "outputs": [
    {
     "name": "stdout",
     "output_type": "stream",
     "text": [
      "0.8277 0.8899 0.9026 0.9099 0.9131 0.9176 0.9224 0.926 0.9269 0.9305 "
     ]
    }
   ],
   "source": [
    "train_model(model, epochs, train_dl, valid_dl)"
   ]
  },
  {
   "cell_type": "code",
   "execution_count": null,
   "id": "26ad6b56-fef4-4307-b477-78119dd1eb4d",
   "metadata": {
    "execution": {
     "iopub.execute_input": "2022-01-23T05:46:31.747329Z",
     "iopub.status.busy": "2022-01-23T05:46:31.747199Z",
     "iopub.status.idle": "2022-01-23T05:46:31.750830Z",
     "shell.execute_reply": "2022-01-23T05:46:31.750438Z",
     "shell.execute_reply.started": "2022-01-23T05:46:31.747315Z"
    },
    "id": "26ad6b56-fef4-4307-b477-78119dd1eb4d",
    "tags": []
   },
   "outputs": [],
   "source": [
    "def train_epoch_long(train_loader, model):\n",
    "\n",
    "\n",
    "  # Training Loop loop\n",
    "  # Initialize train_loss at the he strat of the epoch\n",
    "  running_train_loss = 0\n",
    "  running_train_correct = 0\n",
    "  \n",
    "  # Iterate on batches from the dataset using train_loader\n",
    "  for images, targets in train_loader:\n",
    "    \n",
    "    # move images and outputs to GPUs\n",
    "    # we do not need to do this fastai adat loaders take care of these for us\n",
    "    #images = images.to(device)\n",
    "    #targets = targets.to(device)\n",
    "\n",
    "    # Forward pass\n",
    "    output = model(images)\n",
    "    loss = my_loss(output, targets)\n",
    "\n",
    "    # Correct prediction\n",
    "    y_pred = torch.argmax(output, dim = 1)\n",
    "    correct = torch.sum(y_pred == targets)\n",
    "\n",
    "    # Backward pass\n",
    "    loss.backward()\n",
    "\n",
    "    # Update parameters using their gradient\n",
    "    optimizer.step()\n",
    "    optimizer.zero_grad()\n",
    "\n",
    "          \n",
    "    # Add train loss of a batch \n",
    "    running_train_loss += loss.item()\n",
    "\n",
    "    # Add Corect counts of a batch\n",
    "    running_train_correct += correct\n",
    "  \n",
    "  # Calculate mean train loss for the whole dataset for a particular epoch\n",
    "  train_loss = running_train_loss/len(train_loader)\n",
    "\n",
    "  # Calculate accuracy for the whole dataset for a particular epoch\n",
    "  train_acc = running_train_correct/len(train_set)\n",
    "\n",
    "  return train_loss, train_acc  "
   ]
  },
  {
   "cell_type": "code",
   "execution_count": null,
   "id": "59011f84-aa25-4cb1-895c-f12dd2ac4420",
   "metadata": {
    "execution": {
     "iopub.execute_input": "2022-01-23T05:46:35.943473Z",
     "iopub.status.busy": "2022-01-23T05:46:35.943252Z",
     "iopub.status.idle": "2022-01-23T05:46:35.948814Z",
     "shell.execute_reply": "2022-01-23T05:46:35.948315Z",
     "shell.execute_reply.started": "2022-01-23T05:46:35.943449Z"
    },
    "id": "59011f84-aa25-4cb1-895c-f12dd2ac4420",
    "tags": []
   },
   "outputs": [],
   "source": [
    "def valid_epoch_long(valid_loader, model):\n",
    "\n",
    "\n",
    "  # Validation loop\n",
    "  # Initialize train_loss at the he strat of the epoch\n",
    "  running_valid_loss = 0\n",
    "  running_valid_correct = 0\n",
    "  \n",
    "  with torch.no_grad():\n",
    "    for images,targets in valid_loader:\n",
    "\n",
    "      # move imagess and labels to GPUs\n",
    "      #images = images.to(device)\n",
    "      #targets = targets.to(device)\n",
    "\n",
    "      # Forward pass\n",
    "      output = model(images)\n",
    "      loss = my_loss(output,targets)\n",
    "\n",
    "      # Correct Predictions\n",
    "      y_pred = torch.argmax(output, dim = 1)\n",
    "      correct = torch.sum(y_pred == targets)\n",
    "\n",
    "      # Add valid loss of a batch \n",
    "      running_valid_loss += loss.item()\n",
    "\n",
    "      # Add correct count for each batch\n",
    "      running_valid_correct += correct\n",
    "\n",
    "    # Calculate mean valid loss for the whole dataset for a particular epoch\n",
    "    valid_loss = running_valid_loss/len(valid_loader)\n",
    "\n",
    "    # Calculate accuracy for the whole dataset for a particular epoch\n",
    "    valid_acc = running_valid_correct/len(valid_set)\n",
    "    \n",
    "  return valid_loss, valid_acc            "
   ]
  },
  {
   "cell_type": "code",
   "execution_count": null,
   "id": "3573580e-cc7d-4cd0-8e3f-5bf66ed5d8f1",
   "metadata": {
    "execution": {
     "iopub.execute_input": "2022-01-23T05:46:42.575283Z",
     "iopub.status.busy": "2022-01-23T05:46:42.575095Z",
     "iopub.status.idle": "2022-01-23T05:46:42.579930Z",
     "shell.execute_reply": "2022-01-23T05:46:42.579492Z",
     "shell.execute_reply.started": "2022-01-23T05:46:42.575261Z"
    },
    "id": "3573580e-cc7d-4cd0-8e3f-5bf66ed5d8f1",
    "tags": []
   },
   "outputs": [],
   "source": [
    "def train_model_long(model, epochs, train_dl, valid_dl):\n",
    "    # Create lists to store train and valid loss at each epoch\n",
    "    train_loss_history = []\n",
    "    valid_loss_history = []\n",
    "    train_acc_history = []\n",
    "    valid_acc_history = []\n",
    "\n",
    "    # Iterate for the given number of epochs\n",
    "    for epoch in range(epochs):\n",
    "\n",
    "      # Get train loss and accuracy for one epoch\n",
    "      train_loss, train_acc = train_epoch_long(train_dl, model)\n",
    "      valid_loss, valid_acc   = valid_epoch_long(valid_dl, model)\n",
    "\n",
    "      # Save history of the Losses and accuracy\n",
    "      train_loss_history.append(train_loss)\n",
    "      train_acc_history.append(train_acc)\n",
    "\n",
    "      valid_loss_history.append(valid_loss)\n",
    "      valid_acc_history.append(valid_acc)\n",
    "\n",
    "\n",
    "      # Print the train loss and accuracy for given number of epochs, batch size and number of samples\n",
    "      print(f'Epoch : {epoch+1} / {epochs}')\n",
    "      print(f'Train Loss: {train_loss : .4f} | Train Accuracy: {train_acc * 100 : .4f}%')\n",
    "      print(f'Valid Loss: {valid_loss : .4f} | Valid Accuracy: {valid_acc * 100 : .4f}%')\n",
    "      print()"
   ]
  },
  {
   "cell_type": "code",
   "execution_count": null,
   "id": "4fc65ba4-d192-4bfb-8057-fb3c66e9cbfc",
   "metadata": {
    "execution": {
     "iopub.execute_input": "2022-01-23T05:46:43.262855Z",
     "iopub.status.busy": "2022-01-23T05:46:43.262715Z",
     "iopub.status.idle": "2022-01-23T05:46:46.569635Z",
     "shell.execute_reply": "2022-01-23T05:46:46.569292Z",
     "shell.execute_reply.started": "2022-01-23T05:46:43.262840Z"
    },
    "id": "4fc65ba4-d192-4bfb-8057-fb3c66e9cbfc",
    "outputId": "1f671fd3-9d24-4e0b-96ba-e999ae411230",
    "tags": []
   },
   "outputs": [
    {
     "name": "stdout",
     "output_type": "stream",
     "text": [
      "Epoch : 1 / 10\n",
      "Train Loss:  1.4199 | Train Accuracy:  60.8260%\n",
      "Valid Loss:  0.6054 | Valid Accuracy:  82.9000%\n",
      "\n",
      "Epoch : 2 / 10\n",
      "Train Loss:  0.4669 | Train Accuracy:  87.0620%\n",
      "Valid Loss:  0.4070 | Valid Accuracy:  88.7500%\n",
      "\n",
      "Epoch : 3 / 10\n",
      "Train Loss:  0.3670 | Train Accuracy:  89.6540%\n",
      "Valid Loss:  0.3559 | Valid Accuracy:  90.1600%\n",
      "\n",
      "Epoch : 4 / 10\n",
      "Train Loss:  0.3291 | Train Accuracy:  90.7780%\n",
      "Valid Loss:  0.3328 | Valid Accuracy:  90.7500%\n",
      "\n",
      "Epoch : 5 / 10\n",
      "Train Loss:  0.3052 | Train Accuracy:  91.3840%\n",
      "Valid Loss:  0.3095 | Valid Accuracy:  91.4000%\n",
      "\n",
      "Epoch : 6 / 10\n",
      "Train Loss:  0.2878 | Train Accuracy:  91.7860%\n",
      "Valid Loss:  0.2961 | Valid Accuracy:  91.6700%\n",
      "\n",
      "Epoch : 7 / 10\n",
      "Train Loss:  0.2726 | Train Accuracy:  92.3400%\n",
      "Valid Loss:  0.2884 | Valid Accuracy:  91.9900%\n",
      "\n",
      "Epoch : 8 / 10\n",
      "Train Loss:  0.2601 | Train Accuracy:  92.7000%\n",
      "Valid Loss:  0.2789 | Valid Accuracy:  92.2600%\n",
      "\n",
      "Epoch : 9 / 10\n",
      "Train Loss:  0.2471 | Train Accuracy:  93.1220%\n",
      "Valid Loss:  0.2600 | Valid Accuracy:  92.8500%\n",
      "\n",
      "Epoch : 10 / 10\n",
      "Train Loss:  0.2353 | Train Accuracy:  93.4440%\n",
      "Valid Loss:  0.2518 | Valid Accuracy:  93.1300%\n",
      "\n"
     ]
    }
   ],
   "source": [
    "train_model_long(model, epochs, train_dl, valid_dl)"
   ]
  },
  {
   "cell_type": "code",
   "execution_count": null,
   "id": "92d8de29-325c-4519-8b20-6d74394ebef3",
   "metadata": {
    "execution": {
     "iopub.execute_input": "2022-01-23T05:55:38.678174Z",
     "iopub.status.busy": "2022-01-23T05:55:38.677949Z",
     "iopub.status.idle": "2022-01-23T05:55:38.720542Z",
     "shell.execute_reply": "2022-01-23T05:55:38.720083Z",
     "shell.execute_reply.started": "2022-01-23T05:55:38.678160Z"
    },
    "id": "92d8de29-325c-4519-8b20-6d74394ebef3",
    "tags": []
   },
   "outputs": [],
   "source": [
    "test_loss, test_acc = valid_epoch_long(test_dl, model)"
   ]
  },
  {
   "cell_type": "code",
   "execution_count": null,
   "id": "cf4361db-c72a-43fb-8b02-c3264e7bcde3",
   "metadata": {
    "execution": {
     "iopub.execute_input": "2022-01-23T05:55:44.951050Z",
     "iopub.status.busy": "2022-01-23T05:55:44.950890Z",
     "iopub.status.idle": "2022-01-23T05:55:44.955540Z",
     "shell.execute_reply": "2022-01-23T05:55:44.955158Z",
     "shell.execute_reply.started": "2022-01-23T05:55:44.951036Z"
    },
    "id": "cf4361db-c72a-43fb-8b02-c3264e7bcde3",
    "outputId": "90d5d264-3cae-48ec-e8f9-918f932fad23"
   },
   "outputs": [
    {
     "data": {
      "text/plain": [
       "(0.2344709536060691, tensor(0.9347))"
      ]
     },
     "execution_count": 136,
     "metadata": {},
     "output_type": "execute_result"
    }
   ],
   "source": [
    "test_loss, test_acc"
   ]
  },
  {
   "cell_type": "markdown",
   "id": "de40cf20-adc1-45ce-a66c-e5fd2735af72",
   "metadata": {
    "id": "de40cf20-adc1-45ce-a66c-e5fd2735af72"
   },
   "source": [
    "# Linera Model 2 layer - concise version"
   ]
  },
  {
   "cell_type": "code",
   "execution_count": null,
   "id": "d862a176-c1c3-44ef-bf06-c691a26dfdc6",
   "metadata": {
    "execution": {
     "iopub.execute_input": "2022-01-23T05:30:15.840794Z",
     "iopub.status.busy": "2022-01-23T05:30:15.840568Z",
     "iopub.status.idle": "2022-01-23T05:30:15.845222Z",
     "shell.execute_reply": "2022-01-23T05:30:15.844788Z",
     "shell.execute_reply.started": "2022-01-23T05:30:15.840757Z"
    },
    "id": "d862a176-c1c3-44ef-bf06-c691a26dfdc6",
    "tags": []
   },
   "outputs": [],
   "source": [
    "mnist = DataBlock(\n",
    "    blocks=(ImageBlock(cls=PILImageBW), CategoryBlock), \n",
    "    get_items=get_image_files, \n",
    "    splitter=RandomSplitter(valid_pct=0.2, seed=42),\n",
    "    get_y=parent_label,    \n",
    "    )"
   ]
  },
  {
   "cell_type": "code",
   "execution_count": null,
   "id": "858c0545-5c01-4c12-9b4c-97ac970f8df9",
   "metadata": {
    "execution": {
     "iopub.execute_input": "2022-01-23T05:30:18.415718Z",
     "iopub.status.busy": "2022-01-23T05:30:18.415590Z",
     "iopub.status.idle": "2022-01-23T05:30:18.418525Z",
     "shell.execute_reply": "2022-01-23T05:30:18.418232Z",
     "shell.execute_reply.started": "2022-01-23T05:30:18.415705Z"
    },
    "id": "858c0545-5c01-4c12-9b4c-97ac970f8df9",
    "outputId": "c053f3e3-5672-4ec5-f858-b2a6710e6358",
    "tags": []
   },
   "outputs": [
    {
     "data": {
      "text/plain": [
       "Path('.')"
      ]
     },
     "execution_count": 67,
     "metadata": {},
     "output_type": "execute_result"
    }
   ],
   "source": [
    "path"
   ]
  },
  {
   "cell_type": "code",
   "execution_count": null,
   "id": "4f5de198-6c42-47f0-8cd0-fb76e60cd3ae",
   "metadata": {
    "execution": {
     "iopub.execute_input": "2022-01-23T05:30:27.247325Z",
     "iopub.status.busy": "2022-01-23T05:30:27.246939Z",
     "iopub.status.idle": "2022-01-23T05:30:31.746383Z",
     "shell.execute_reply": "2022-01-23T05:30:31.745988Z",
     "shell.execute_reply.started": "2022-01-23T05:30:27.247280Z"
    },
    "id": "4f5de198-6c42-47f0-8cd0-fb76e60cd3ae",
    "tags": []
   },
   "outputs": [],
   "source": [
    "dls = mnist.dataloaders(path/'training', bs =64, shuffle=True)"
   ]
  },
  {
   "cell_type": "code",
   "execution_count": null,
   "id": "5accc187-2720-44d6-91a9-91f157cffe33",
   "metadata": {
    "execution": {
     "iopub.execute_input": "2022-01-09T22:35:53.089403Z",
     "iopub.status.busy": "2022-01-09T22:35:53.089283Z",
     "iopub.status.idle": "2022-01-09T22:35:53.091426Z",
     "shell.execute_reply": "2022-01-09T22:35:53.091166Z",
     "shell.execute_reply.started": "2022-01-09T22:35:53.089391Z"
    },
    "id": "5accc187-2720-44d6-91a9-91f157cffe33",
    "tags": []
   },
   "outputs": [],
   "source": [
    "#dls = ImageDataLoaders.from_folder(path, valid_pct = 0.2)"
   ]
  },
  {
   "cell_type": "code",
   "execution_count": null,
   "id": "505e8be2-cc29-4c29-995a-9e88b75dc50d",
   "metadata": {
    "execution": {
     "iopub.execute_input": "2022-01-23T05:30:34.893628Z",
     "iopub.status.busy": "2022-01-23T05:30:34.893499Z",
     "iopub.status.idle": "2022-01-23T05:30:34.896726Z",
     "shell.execute_reply": "2022-01-23T05:30:34.896279Z",
     "shell.execute_reply.started": "2022-01-23T05:30:34.893614Z"
    },
    "id": "505e8be2-cc29-4c29-995a-9e88b75dc50d",
    "tags": []
   },
   "outputs": [],
   "source": [
    "simple_net = nn.Sequential(\n",
    "    nn.Flatten(),\n",
    "    nn.Linear(28*28, 30), \n",
    "    nn.ReLU(), \n",
    "    nn.Linear(30,10)\n",
    ")"
   ]
  },
  {
   "cell_type": "code",
   "execution_count": null,
   "id": "58a84f0e-d311-4e3c-8ca8-0326dd8b9776",
   "metadata": {
    "execution": {
     "iopub.execute_input": "2022-01-23T05:30:35.496660Z",
     "iopub.status.busy": "2022-01-23T05:30:35.496532Z",
     "iopub.status.idle": "2022-01-23T05:30:35.934077Z",
     "shell.execute_reply": "2022-01-23T05:30:35.933685Z",
     "shell.execute_reply.started": "2022-01-23T05:30:35.496647Z"
    },
    "id": "58a84f0e-d311-4e3c-8ca8-0326dd8b9776",
    "outputId": "50cbb97b-bc6e-4b41-def0-836701fd4ce7",
    "tags": []
   },
   "outputs": [
    {
     "data": {
      "image/png": "[encoded data removed]",
      "text/plain": [
       "<Figure size 2160x216 with 10 Axes>"
      ]
     },
     "metadata": {
      "needs_background": "light"
     },
     "output_type": "display_data"
    }
   ],
   "source": [
    "dls.train.show_batch(max_n=10, nrows=1)"
   ]
  },
  {
   "cell_type": "code",
   "execution_count": null,
   "id": "4e1cb5d9-39cf-4bbe-8795-c5d3c8f2ccac",
   "metadata": {
    "execution": {
     "iopub.execute_input": "2022-01-23T05:30:38.831835Z",
     "iopub.status.busy": "2022-01-23T05:30:38.831665Z",
     "iopub.status.idle": "2022-01-23T05:30:39.065070Z",
     "shell.execute_reply": "2022-01-23T05:30:39.064609Z",
     "shell.execute_reply.started": "2022-01-23T05:30:38.831816Z"
    },
    "id": "4e1cb5d9-39cf-4bbe-8795-c5d3c8f2ccac",
    "outputId": "30dfc9a0-2634-46b3-f469-7f0d5ce359a8",
    "tags": []
   },
   "outputs": [
    {
     "data": {
      "image/png": "[encoded data removed]",
      "text/plain": [
       "<Figure size 2160x216 with 10 Axes>"
      ]
     },
     "metadata": {
      "needs_background": "light"
     },
     "output_type": "display_data"
    }
   ],
   "source": [
    "dls.valid.show_batch(max_n=10, nrows=1)"
   ]
  },
  {
   "cell_type": "code",
   "execution_count": null,
   "id": "12ca778c-4bb9-4a92-a4f0-4bbc9fa0ee2e",
   "metadata": {
    "execution": {
     "iopub.execute_input": "2022-01-23T05:30:43.777674Z",
     "iopub.status.busy": "2022-01-23T05:30:43.777526Z",
     "iopub.status.idle": "2022-01-23T05:30:43.780950Z",
     "shell.execute_reply": "2022-01-23T05:30:43.780524Z",
     "shell.execute_reply.started": "2022-01-23T05:30:43.777660Z"
    },
    "id": "12ca778c-4bb9-4a92-a4f0-4bbc9fa0ee2e",
    "outputId": "28a26518-8549-4d8b-feeb-1bd1c63f36af",
    "tags": []
   },
   "outputs": [
    {
     "data": {
      "text/plain": [
       "750"
      ]
     },
     "execution_count": 72,
     "metadata": {},
     "output_type": "execute_result"
    }
   ],
   "source": [
    "len(dls.train)"
   ]
  },
  {
   "cell_type": "code",
   "execution_count": null,
   "id": "0ad4f17b-2ded-43fe-8885-289c746c3c67",
   "metadata": {
    "execution": {
     "iopub.execute_input": "2022-01-23T05:30:44.578619Z",
     "iopub.status.busy": "2022-01-23T05:30:44.578044Z",
     "iopub.status.idle": "2022-01-23T05:30:44.584548Z",
     "shell.execute_reply": "2022-01-23T05:30:44.584283Z",
     "shell.execute_reply.started": "2022-01-23T05:30:44.578521Z"
    },
    "id": "0ad4f17b-2ded-43fe-8885-289c746c3c67",
    "outputId": "b5026265-d79c-4c08-d0f2-d00e795c38f8",
    "tags": []
   },
   "outputs": [
    {
     "data": {
      "text/plain": [
       "188"
      ]
     },
     "execution_count": 73,
     "metadata": {},
     "output_type": "execute_result"
    }
   ],
   "source": [
    "len(dls.valid)"
   ]
  },
  {
   "cell_type": "code",
   "execution_count": null,
   "id": "b910df1e-84a8-41b9-b9e0-c941667f14dd",
   "metadata": {
    "execution": {
     "iopub.execute_input": "2022-01-23T05:30:48.183306Z",
     "iopub.status.busy": "2022-01-23T05:30:48.183147Z",
     "iopub.status.idle": "2022-01-23T05:30:48.901535Z",
     "shell.execute_reply": "2022-01-23T05:30:48.901126Z",
     "shell.execute_reply.started": "2022-01-23T05:30:48.183292Z"
    },
    "id": "b910df1e-84a8-41b9-b9e0-c941667f14dd",
    "tags": []
   },
   "outputs": [],
   "source": [
    "x, y = first(dls.train)"
   ]
  },
  {
   "cell_type": "code",
   "execution_count": null,
   "id": "8eb42f7b-2c29-409e-a42a-dff549277b53",
   "metadata": {
    "execution": {
     "iopub.execute_input": "2022-01-23T05:30:48.902377Z",
     "iopub.status.busy": "2022-01-23T05:30:48.902242Z",
     "iopub.status.idle": "2022-01-23T05:30:48.905996Z",
     "shell.execute_reply": "2022-01-23T05:30:48.905695Z",
     "shell.execute_reply.started": "2022-01-23T05:30:48.902364Z"
    },
    "id": "8eb42f7b-2c29-409e-a42a-dff549277b53",
    "outputId": "7a5539c3-abca-4a7f-8892-ba5e12de6c4f",
    "tags": []
   },
   "outputs": [
    {
     "data": {
      "text/plain": [
       "(torch.Size([64, 1, 28, 28]), torch.Size([64]))"
      ]
     },
     "execution_count": 75,
     "metadata": {},
     "output_type": "execute_result"
    }
   ],
   "source": [
    "x.shape, y.shape"
   ]
  },
  {
   "cell_type": "code",
   "execution_count": null,
   "id": "255ba5da-a8d0-4890-b5ee-41c523175ea6",
   "metadata": {
    "execution": {
     "iopub.execute_input": "2022-01-23T05:30:49.628958Z",
     "iopub.status.busy": "2022-01-23T05:30:49.628652Z",
     "iopub.status.idle": "2022-01-23T05:30:49.641945Z",
     "shell.execute_reply": "2022-01-23T05:30:49.641388Z",
     "shell.execute_reply.started": "2022-01-23T05:30:49.628923Z"
    },
    "id": "255ba5da-a8d0-4890-b5ee-41c523175ea6",
    "outputId": "37313776-8989-4cf1-ce2d-e7724f44bccb",
    "tags": []
   },
   "outputs": [
    {
     "data": {
      "text/plain": [
       "TensorImageBW(1., device='cuda:0')"
      ]
     },
     "execution_count": 76,
     "metadata": {},
     "output_type": "execute_result"
    }
   ],
   "source": [
    "x[0].max()"
   ]
  },
  {
   "cell_type": "code",
   "execution_count": null,
   "id": "586d32e5-1a54-466f-b16b-a418e6db6c3b",
   "metadata": {
    "execution": {
     "iopub.execute_input": "2022-01-23T05:30:53.883886Z",
     "iopub.status.busy": "2022-01-23T05:30:53.883108Z",
     "iopub.status.idle": "2022-01-23T05:30:53.896669Z",
     "shell.execute_reply": "2022-01-23T05:30:53.894639Z",
     "shell.execute_reply.started": "2022-01-23T05:30:53.883793Z"
    },
    "id": "586d32e5-1a54-466f-b16b-a418e6db6c3b",
    "tags": []
   },
   "outputs": [],
   "source": [
    "loss = nn.CrossEntropyLoss()\n",
    "\n",
    "def my_loss(i, t):\n",
    "  i = cast(i, Tensor)\n",
    "  t = cast(t, Tensor)\n",
    "  return loss(i, t)"
   ]
  },
  {
   "cell_type": "code",
   "execution_count": null,
   "id": "b359a96a-4284-4025-bcde-6025d9c8b64a",
   "metadata": {
    "execution": {
     "iopub.execute_input": "2022-01-23T05:30:54.855021Z",
     "iopub.status.busy": "2022-01-23T05:30:54.854579Z",
     "iopub.status.idle": "2022-01-23T05:30:54.857766Z",
     "shell.execute_reply": "2022-01-23T05:30:54.857426Z",
     "shell.execute_reply.started": "2022-01-23T05:30:54.854985Z"
    },
    "id": "b359a96a-4284-4025-bcde-6025d9c8b64a",
    "tags": []
   },
   "outputs": [],
   "source": [
    "learn = Learner(dls, simple_net, opt_func=SGD,\n",
    "                loss_func=my_loss, metrics=accuracy)"
   ]
  },
  {
   "cell_type": "code",
   "execution_count": null,
   "id": "98d261da-7a52-48d5-b578-7d1c9d9bdb04",
   "metadata": {
    "execution": {
     "iopub.execute_input": "2022-01-23T05:30:58.086341Z",
     "iopub.status.busy": "2022-01-23T05:30:58.086152Z",
     "iopub.status.idle": "2022-01-23T05:30:58.752178Z",
     "shell.execute_reply": "2022-01-23T05:30:58.751708Z",
     "shell.execute_reply.started": "2022-01-23T05:30:58.086320Z"
    },
    "id": "98d261da-7a52-48d5-b578-7d1c9d9bdb04",
    "outputId": "17d1f5dd-dac0-4da1-a84d-e57c9ddbd989",
    "tags": []
   },
   "outputs": [
    {
     "data": {
      "text/html": [],
      "text/plain": [
       "<IPython.core.display.HTML object>"
      ]
     },
     "metadata": {},
     "output_type": "display_data"
    },
    {
     "data": {
      "text/plain": [
       "Sequential (Input shape: 64 x 1 x 28 x 28)\n",
       "============================================================================\n",
       "Layer (type)         Output Shape         Param #    Trainable \n",
       "============================================================================\n",
       "                     64 x 784            \n",
       "Flatten                                                        \n",
       "____________________________________________________________________________\n",
       "                     64 x 30             \n",
       "Linear                                    23550      True      \n",
       "ReLU                                                           \n",
       "____________________________________________________________________________\n",
       "                     64 x 10             \n",
       "Linear                                    310        True      \n",
       "____________________________________________________________________________\n",
       "\n",
       "Total params: 23,860\n",
       "Total trainable params: 23,860\n",
       "Total non-trainable params: 0\n",
       "\n",
       "Optimizer used: <function SGD at 0x7fdef121b820>\n",
       "Loss function: <function my_loss at 0x7fdeb8c268b0>\n",
       "\n",
       "Callbacks:\n",
       "  - TrainEvalCallback\n",
       "  - Recorder\n",
       "  - ProgressCallback"
      ]
     },
     "execution_count": 79,
     "metadata": {},
     "output_type": "execute_result"
    }
   ],
   "source": [
    "learn.summary()"
   ]
  },
  {
   "cell_type": "code",
   "execution_count": null,
   "id": "e2b0c281-659b-4282-9c26-189abd02320f",
   "metadata": {
    "execution": {
     "iopub.execute_input": "2022-01-23T05:31:02.828156Z",
     "iopub.status.busy": "2022-01-23T05:31:02.827613Z",
     "iopub.status.idle": "2022-01-23T05:31:56.448507Z",
     "shell.execute_reply": "2022-01-23T05:31:56.448056Z",
     "shell.execute_reply.started": "2022-01-23T05:31:02.828093Z"
    },
    "id": "e2b0c281-659b-4282-9c26-189abd02320f",
    "outputId": "df54a1b9-9bf1-4381-d995-90718d0f2bad",
    "tags": []
   },
   "outputs": [
    {
     "data": {
      "text/html": [
       "<table border=\"1\" class=\"dataframe\">\n",
       "  <thead>\n",
       "    <tr style=\"text-align: left;\">\n",
       "      <th>epoch</th>\n",
       "      <th>train_loss</th>\n",
       "      <th>valid_loss</th>\n",
       "      <th>accuracy</th>\n",
       "      <th>time</th>\n",
       "    </tr>\n",
       "  </thead>\n",
       "  <tbody>\n",
       "    <tr>\n",
       "      <td>0</td>\n",
       "      <td>0.299822</td>\n",
       "      <td>0.294222</td>\n",
       "      <td>0.915667</td>\n",
       "      <td>00:05</td>\n",
       "    </tr>\n",
       "    <tr>\n",
       "      <td>1</td>\n",
       "      <td>0.256010</td>\n",
       "      <td>0.244513</td>\n",
       "      <td>0.928833</td>\n",
       "      <td>00:05</td>\n",
       "    </tr>\n",
       "    <tr>\n",
       "      <td>2</td>\n",
       "      <td>0.198730</td>\n",
       "      <td>0.205681</td>\n",
       "      <td>0.940417</td>\n",
       "      <td>00:05</td>\n",
       "    </tr>\n",
       "    <tr>\n",
       "      <td>3</td>\n",
       "      <td>0.186619</td>\n",
       "      <td>0.186411</td>\n",
       "      <td>0.945667</td>\n",
       "      <td>00:05</td>\n",
       "    </tr>\n",
       "    <tr>\n",
       "      <td>4</td>\n",
       "      <td>0.166989</td>\n",
       "      <td>0.170371</td>\n",
       "      <td>0.951417</td>\n",
       "      <td>00:05</td>\n",
       "    </tr>\n",
       "    <tr>\n",
       "      <td>5</td>\n",
       "      <td>0.150694</td>\n",
       "      <td>0.158042</td>\n",
       "      <td>0.954583</td>\n",
       "      <td>00:05</td>\n",
       "    </tr>\n",
       "    <tr>\n",
       "      <td>6</td>\n",
       "      <td>0.130590</td>\n",
       "      <td>0.150575</td>\n",
       "      <td>0.956333</td>\n",
       "      <td>00:05</td>\n",
       "    </tr>\n",
       "    <tr>\n",
       "      <td>7</td>\n",
       "      <td>0.136826</td>\n",
       "      <td>0.145448</td>\n",
       "      <td>0.958167</td>\n",
       "      <td>00:05</td>\n",
       "    </tr>\n",
       "    <tr>\n",
       "      <td>8</td>\n",
       "      <td>0.124250</td>\n",
       "      <td>0.141563</td>\n",
       "      <td>0.958833</td>\n",
       "      <td>00:05</td>\n",
       "    </tr>\n",
       "    <tr>\n",
       "      <td>9</td>\n",
       "      <td>0.110068</td>\n",
       "      <td>0.134101</td>\n",
       "      <td>0.961833</td>\n",
       "      <td>00:05</td>\n",
       "    </tr>\n",
       "  </tbody>\n",
       "</table>"
      ],
      "text/plain": [
       "<IPython.core.display.HTML object>"
      ]
     },
     "metadata": {},
     "output_type": "display_data"
    }
   ],
   "source": [
    "learn.fit(10, 0.1)"
   ]
  },
  {
   "cell_type": "code",
   "execution_count": null,
   "id": "dccc2e99-7904-48d5-bb85-9e7ee87adc1b",
   "metadata": {
    "execution": {
     "iopub.execute_input": "2022-01-23T05:33:04.527925Z",
     "iopub.status.busy": "2022-01-23T05:33:04.527585Z",
     "iopub.status.idle": "2022-01-23T05:33:04.573131Z",
     "shell.execute_reply": "2022-01-23T05:33:04.572736Z",
     "shell.execute_reply.started": "2022-01-23T05:33:04.527886Z"
    },
    "id": "dccc2e99-7904-48d5-bb85-9e7ee87adc1b"
   },
   "outputs": [],
   "source": [
    "test_dl = learn.dls.test_dl(get_image_files(path/\"testing\"), with_labels=True)"
   ]
  },
  {
   "cell_type": "code",
   "execution_count": null,
   "id": "60c72b37-4bc4-40f8-8930-3fc40f3daaa7",
   "metadata": {
    "execution": {
     "iopub.execute_input": "2022-01-23T05:33:52.814274Z",
     "iopub.status.busy": "2022-01-23T05:33:52.814098Z",
     "iopub.status.idle": "2022-01-23T05:33:54.063074Z",
     "shell.execute_reply": "2022-01-23T05:33:54.062755Z",
     "shell.execute_reply.started": "2022-01-23T05:33:52.814254Z"
    },
    "id": "60c72b37-4bc4-40f8-8930-3fc40f3daaa7",
    "outputId": "401f90f5-cd6b-4136-99fd-ec33fb44a402",
    "tags": []
   },
   "outputs": [
    {
     "data": {
      "text/html": [],
      "text/plain": [
       "<IPython.core.display.HTML object>"
      ]
     },
     "metadata": {},
     "output_type": "display_data"
    }
   ],
   "source": [
    "test_loss, test_accuracy = learn.validate(dl=test_dl)"
   ]
  },
  {
   "cell_type": "code",
   "execution_count": null,
   "id": "6d55a6df-ea39-4878-a8ba-b08c97bed4a2",
   "metadata": {
    "execution": {
     "iopub.execute_input": "2022-01-23T05:34:02.652672Z",
     "iopub.status.busy": "2022-01-23T05:34:02.652529Z",
     "iopub.status.idle": "2022-01-23T05:34:02.655583Z",
     "shell.execute_reply": "2022-01-23T05:34:02.655312Z",
     "shell.execute_reply.started": "2022-01-23T05:34:02.652657Z"
    },
    "id": "6d55a6df-ea39-4878-a8ba-b08c97bed4a2",
    "outputId": "f7fd7339-9478-40ec-9cb6-bf1653362f5d"
   },
   "outputs": [
    {
     "data": {
      "text/plain": [
       "(0.1238597184419632, 0.9656999707221985)"
      ]
     },
     "execution_count": 84,
     "metadata": {},
     "output_type": "execute_result"
    }
   ],
   "source": [
    "test_loss, test_accuracy"
   ]
  },
  {
   "cell_type": "code",
   "execution_count": null,
   "id": "92d5d806-854a-435f-8b36-4175aed87c84",
   "metadata": {
    "execution": {
     "iopub.execute_input": "2022-01-10T06:51:15.539449Z",
     "iopub.status.busy": "2022-01-10T06:51:15.539004Z",
     "iopub.status.idle": "2022-01-10T06:51:15.541942Z",
     "shell.execute_reply": "2022-01-10T06:51:15.541462Z",
     "shell.execute_reply.started": "2022-01-10T06:51:15.539433Z"
    },
    "id": "92d5d806-854a-435f-8b36-4175aed87c84",
    "tags": []
   },
   "outputs": [],
   "source": [
    "c = torch.zeros(1, requires_grad=True)\n",
    "d = torch.zeros(1, requires_grad=True)"
   ]
  },
  {
   "cell_type": "code",
   "execution_count": null,
   "id": "bb75e204-0757-4efa-a838-e195c9322061",
   "metadata": {
    "execution": {
     "iopub.execute_input": "2022-01-10T06:51:16.039927Z",
     "iopub.status.busy": "2022-01-10T06:51:16.039748Z",
     "iopub.status.idle": "2022-01-10T06:51:16.042513Z",
     "shell.execute_reply": "2022-01-10T06:51:16.042082Z",
     "shell.execute_reply.started": "2022-01-10T06:51:16.039900Z"
    },
    "id": "bb75e204-0757-4efa-a838-e195c9322061",
    "tags": []
   },
   "outputs": [],
   "source": [
    "def test_fn(params):\n",
    "    for p in params:\n",
    "        p.data += 1*p.grad\n",
    "        p.grad.zero_()\n",
    "        \n",
    "        "
   ]
  },
  {
   "cell_type": "code",
   "execution_count": null,
   "id": "c4c0c0cb-9df0-4c18-9eba-48c96e0ee5c2",
   "metadata": {
    "execution": {
     "iopub.execute_input": "2022-01-10T06:51:16.637732Z",
     "iopub.status.busy": "2022-01-10T06:51:16.637514Z",
     "iopub.status.idle": "2022-01-10T06:51:16.643478Z",
     "shell.execute_reply": "2022-01-10T06:51:16.643111Z",
     "shell.execute_reply.started": "2022-01-10T06:51:16.637702Z"
    },
    "id": "c4c0c0cb-9df0-4c18-9eba-48c96e0ee5c2",
    "outputId": "87feb9e5-e853-4c57-f03f-99afd5990eeb",
    "tags": []
   },
   "outputs": [
    {
     "name": "stdout",
     "output_type": "stream",
     "text": [
      "tensor([1.])\n",
      "tensor([0.])\n",
      "tensor([2.])\n",
      "tensor([0.])\n",
      "tensor([3.])\n",
      "tensor([0.])\n",
      "tensor([4.])\n",
      "tensor([0.])\n"
     ]
    }
   ],
   "source": [
    "for i in range(4):\n",
    "    x = c + d\n",
    "    x.backward()\n",
    "    test_fn([c, d])\n",
    "    #print(c)\n",
    "    print(c.data)\n",
    "    print(c.grad.data)\n",
    "    "
   ]
  },
  {
   "cell_type": "code",
   "execution_count": null,
   "id": "6d46a940-1da5-46e5-b24f-6ace4cd9ddba",
   "metadata": {
    "execution": {
     "iopub.execute_input": "2022-01-10T06:51:23.476478Z",
     "iopub.status.busy": "2022-01-10T06:51:23.476318Z",
     "iopub.status.idle": "2022-01-10T06:51:23.479636Z",
     "shell.execute_reply": "2022-01-10T06:51:23.479323Z",
     "shell.execute_reply.started": "2022-01-10T06:51:23.476465Z"
    },
    "id": "6d46a940-1da5-46e5-b24f-6ace4cd9ddba",
    "outputId": "71a2b626-dc44-4029-e29a-cff39d5eef56",
    "tags": []
   },
   "outputs": [
    {
     "data": {
      "text/plain": [
       "tensor([4.], requires_grad=True)"
      ]
     },
     "execution_count": 147,
     "metadata": {},
     "output_type": "execute_result"
    }
   ],
   "source": [
    "c"
   ]
  },
  {
   "cell_type": "code",
   "execution_count": null,
   "id": "fe5e75e8-f2ef-4e00-a37d-9d499db188a2",
   "metadata": {
    "execution": {
     "iopub.execute_input": "2022-01-10T06:51:24.325931Z",
     "iopub.status.busy": "2022-01-10T06:51:24.325651Z",
     "iopub.status.idle": "2022-01-10T06:51:24.329358Z",
     "shell.execute_reply": "2022-01-10T06:51:24.329049Z",
     "shell.execute_reply.started": "2022-01-10T06:51:24.325914Z"
    },
    "id": "fe5e75e8-f2ef-4e00-a37d-9d499db188a2",
    "outputId": "f5abc556-3e1f-468a-e680-c0b836efd73a",
    "tags": []
   },
   "outputs": [
    {
     "data": {
      "text/plain": [
       "tensor([4.], requires_grad=True)"
      ]
     },
     "execution_count": 148,
     "metadata": {},
     "output_type": "execute_result"
    }
   ],
   "source": [
    "d"
   ]
  },
  {
   "cell_type": "code",
   "execution_count": null,
   "id": "7aec6c59-cd7b-4abf-83f0-ba8d3b358cf1",
   "metadata": {
    "id": "7aec6c59-cd7b-4abf-83f0-ba8d3b358cf1"
   },
   "outputs": [],
   "source": []
  }
 ],
 "metadata": {
  "colab": {
   "name": "MNIST_linear_fastai.ipynb",
   "provenance": []
  },
  "kernelspec": {
   "display_name": "pt",
   "language": "python",
   "name": "pt"
  },
  "language_info": {
   "codemirror_mode": {
    "name": "ipython",
    "version": 3
   },
   "file_extension": ".py",
   "mimetype": "text/x-python",
   "name": "python",
   "nbconvert_exporter": "python",
   "pygments_lexer": "ipython3",
   "version": "3.8.12"
  }
 },
 "nbformat": 4,
 "nbformat_minor": 5
}
