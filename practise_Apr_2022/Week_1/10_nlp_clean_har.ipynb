{
 "cells": [
  {
   "cell_type": "code",
   "execution_count": 1,
   "metadata": {
    "collapsed": true,
    "execution": {
     "iopub.execute_input": "2022-05-11T22:09:34.464452Z",
     "iopub.status.busy": "2022-05-11T22:09:34.464031Z",
     "iopub.status.idle": "2022-05-11T22:09:36.271912Z",
     "shell.execute_reply": "2022-05-11T22:09:36.271495Z",
     "shell.execute_reply.started": "2022-05-11T22:09:34.464402Z"
    },
    "jupyter": {
     "outputs_hidden": true
    },
    "tags": []
   },
   "outputs": [
    {
     "name": "stdout",
     "output_type": "stream",
     "text": [
      "Collecting nbdev\n",
      "  Downloading nbdev-1.2.8-py3-none-any.whl (49 kB)\n",
      "     |████████████████████████████████| 49 kB 2.4 MB/s            \n",
      "\u001b[?25hCollecting fastrelease\n",
      "  Downloading fastrelease-0.1.16-py3-none-any.whl (13 kB)\n",
      "Requirement already satisfied: jupyter-client<8 in /home/harpreet/miniconda3/envs/pt10/lib/python3.8/site-packages (from nbdev) (7.1.0)\n",
      "Requirement already satisfied: fastcore>=1.4.1 in /home/harpreet/miniconda3/envs/pt10/lib/python3.8/site-packages (from nbdev) (1.4.2)\n",
      "Requirement already satisfied: Jinja2<3.1.0 in /home/harpreet/miniconda3/envs/pt10/lib/python3.8/site-packages (from nbdev) (3.0.3)\n",
      "Requirement already satisfied: pip in /home/harpreet/miniconda3/envs/pt10/lib/python3.8/site-packages (from nbdev) (21.3.1)\n",
      "Requirement already satisfied: jupyter in /home/harpreet/miniconda3/envs/pt10/lib/python3.8/site-packages (from nbdev) (1.0.0)\n",
      "Collecting ghapi\n",
      "  Downloading ghapi-0.1.20-py3-none-any.whl (53 kB)\n",
      "     |████████████████████████████████| 53 kB 4.1 MB/s            \n",
      "\u001b[?25hRequirement already satisfied: nbconvert>=6.1 in /home/harpreet/miniconda3/envs/pt10/lib/python3.8/site-packages (from nbdev) (6.3.0)\n",
      "Requirement already satisfied: nbformat>=4.4.0 in /home/harpreet/miniconda3/envs/pt10/lib/python3.8/site-packages (from nbdev) (5.1.3)\n",
      "Requirement already satisfied: ipykernel in /home/harpreet/miniconda3/envs/pt10/lib/python3.8/site-packages (from nbdev) (6.6.0)\n",
      "Requirement already satisfied: packaging in /home/harpreet/miniconda3/envs/pt10/lib/python3.8/site-packages (from nbdev) (21.3)\n",
      "Requirement already satisfied: pyyaml in /home/harpreet/miniconda3/envs/pt10/lib/python3.8/site-packages (from nbdev) (6.0)\n",
      "Requirement already satisfied: MarkupSafe>=2.0 in /home/harpreet/miniconda3/envs/pt10/lib/python3.8/site-packages (from Jinja2<3.1.0->nbdev) (2.0.1)\n",
      "Requirement already satisfied: python-dateutil>=2.1 in /home/harpreet/miniconda3/envs/pt10/lib/python3.8/site-packages (from jupyter-client<8->nbdev) (2.8.2)\n",
      "Requirement already satisfied: nest-asyncio>=1.5 in /home/harpreet/miniconda3/envs/pt10/lib/python3.8/site-packages (from jupyter-client<8->nbdev) (1.5.4)\n",
      "Requirement already satisfied: tornado>=4.1 in /home/harpreet/miniconda3/envs/pt10/lib/python3.8/site-packages (from jupyter-client<8->nbdev) (6.1)\n",
      "Requirement already satisfied: pyzmq>=13 in /home/harpreet/miniconda3/envs/pt10/lib/python3.8/site-packages (from jupyter-client<8->nbdev) (22.3.0)\n",
      "Requirement already satisfied: entrypoints in /home/harpreet/miniconda3/envs/pt10/lib/python3.8/site-packages (from jupyter-client<8->nbdev) (0.3)\n",
      "Requirement already satisfied: jupyter-core>=4.6.0 in /home/harpreet/miniconda3/envs/pt10/lib/python3.8/site-packages (from jupyter-client<8->nbdev) (4.9.1)\n",
      "Requirement already satisfied: traitlets in /home/harpreet/miniconda3/envs/pt10/lib/python3.8/site-packages (from jupyter-client<8->nbdev) (5.1.1)\n",
      "Requirement already satisfied: pygments>=2.4.1 in /home/harpreet/miniconda3/envs/pt10/lib/python3.8/site-packages (from nbconvert>=6.1->nbdev) (2.10.0)\n",
      "Requirement already satisfied: defusedxml in /home/harpreet/miniconda3/envs/pt10/lib/python3.8/site-packages (from nbconvert>=6.1->nbdev) (0.7.1)\n",
      "Requirement already satisfied: bleach in /home/harpreet/miniconda3/envs/pt10/lib/python3.8/site-packages (from nbconvert>=6.1->nbdev) (4.1.0)\n",
      "Requirement already satisfied: testpath in /home/harpreet/miniconda3/envs/pt10/lib/python3.8/site-packages (from nbconvert>=6.1->nbdev) (0.5.0)\n",
      "Requirement already satisfied: nbclient<0.6.0,>=0.5.0 in /home/harpreet/miniconda3/envs/pt10/lib/python3.8/site-packages (from nbconvert>=6.1->nbdev) (0.5.9)\n",
      "Requirement already satisfied: pandocfilters>=1.4.1 in /home/harpreet/miniconda3/envs/pt10/lib/python3.8/site-packages (from nbconvert>=6.1->nbdev) (1.5.0)\n",
      "Requirement already satisfied: jupyterlab-pygments in /home/harpreet/miniconda3/envs/pt10/lib/python3.8/site-packages (from nbconvert>=6.1->nbdev) (0.1.2)\n",
      "Requirement already satisfied: mistune<2,>=0.8.1 in /home/harpreet/miniconda3/envs/pt10/lib/python3.8/site-packages (from nbconvert>=6.1->nbdev) (0.8.4)\n",
      "Requirement already satisfied: ipython-genutils in /home/harpreet/miniconda3/envs/pt10/lib/python3.8/site-packages (from nbformat>=4.4.0->nbdev) (0.2.0)\n",
      "Requirement already satisfied: jsonschema!=2.5.0,>=2.4 in /home/harpreet/miniconda3/envs/pt10/lib/python3.8/site-packages (from nbformat>=4.4.0->nbdev) (4.2.1)\n",
      "Requirement already satisfied: matplotlib-inline<0.2.0,>=0.1.0 in /home/harpreet/miniconda3/envs/pt10/lib/python3.8/site-packages (from ipykernel->nbdev) (0.1.3)\n",
      "Requirement already satisfied: debugpy<2.0,>=1.0.0 in /home/harpreet/miniconda3/envs/pt10/lib/python3.8/site-packages (from ipykernel->nbdev) (1.5.1)\n",
      "Requirement already satisfied: ipython>=7.23.1 in /home/harpreet/miniconda3/envs/pt10/lib/python3.8/site-packages (from ipykernel->nbdev) (7.30.1)\n",
      "Requirement already satisfied: qtconsole in /home/harpreet/miniconda3/envs/pt10/lib/python3.8/site-packages (from jupyter->nbdev) (5.2.2)\n",
      "Requirement already satisfied: notebook in /home/harpreet/miniconda3/envs/pt10/lib/python3.8/site-packages (from jupyter->nbdev) (6.4.6)\n",
      "Requirement already satisfied: ipywidgets in /home/harpreet/miniconda3/envs/pt10/lib/python3.8/site-packages (from jupyter->nbdev) (7.6.5)\n",
      "Requirement already satisfied: jupyter-console in /home/harpreet/miniconda3/envs/pt10/lib/python3.8/site-packages (from jupyter->nbdev) (6.4.0)\n",
      "Requirement already satisfied: pyparsing!=3.0.5,>=2.0.2 in /home/harpreet/miniconda3/envs/pt10/lib/python3.8/site-packages (from packaging->nbdev) (3.0.6)\n",
      "Requirement already satisfied: pickleshare in /home/harpreet/miniconda3/envs/pt10/lib/python3.8/site-packages (from ipython>=7.23.1->ipykernel->nbdev) (0.7.5)\n",
      "Requirement already satisfied: setuptools>=18.5 in /home/harpreet/miniconda3/envs/pt10/lib/python3.8/site-packages (from ipython>=7.23.1->ipykernel->nbdev) (59.4.0)\n",
      "Requirement already satisfied: decorator in /home/harpreet/miniconda3/envs/pt10/lib/python3.8/site-packages (from ipython>=7.23.1->ipykernel->nbdev) (5.1.0)\n",
      "Requirement already satisfied: jedi>=0.16 in /home/harpreet/miniconda3/envs/pt10/lib/python3.8/site-packages (from ipython>=7.23.1->ipykernel->nbdev) (0.18.1)\n",
      "Requirement already satisfied: prompt-toolkit!=3.0.0,!=3.0.1,<3.1.0,>=2.0.0 in /home/harpreet/miniconda3/envs/pt10/lib/python3.8/site-packages (from ipython>=7.23.1->ipykernel->nbdev) (3.0.23)\n",
      "Requirement already satisfied: pexpect>4.3 in /home/harpreet/miniconda3/envs/pt10/lib/python3.8/site-packages (from ipython>=7.23.1->ipykernel->nbdev) (4.8.0)\n",
      "Requirement already satisfied: backcall in /home/harpreet/miniconda3/envs/pt10/lib/python3.8/site-packages (from ipython>=7.23.1->ipykernel->nbdev) (0.2.0)\n",
      "Requirement already satisfied: pyrsistent!=0.17.0,!=0.17.1,!=0.17.2,>=0.14.0 in /home/harpreet/miniconda3/envs/pt10/lib/python3.8/site-packages (from jsonschema!=2.5.0,>=2.4->nbformat>=4.4.0->nbdev) (0.18.0)\n",
      "Requirement already satisfied: importlib-resources>=1.4.0 in /home/harpreet/miniconda3/envs/pt10/lib/python3.8/site-packages (from jsonschema!=2.5.0,>=2.4->nbformat>=4.4.0->nbdev) (5.4.0)\n",
      "Requirement already satisfied: attrs>=17.4.0 in /home/harpreet/miniconda3/envs/pt10/lib/python3.8/site-packages (from jsonschema!=2.5.0,>=2.4->nbformat>=4.4.0->nbdev) (21.2.0)\n",
      "Requirement already satisfied: six>=1.5 in /home/harpreet/miniconda3/envs/pt10/lib/python3.8/site-packages (from python-dateutil>=2.1->jupyter-client<8->nbdev) (1.16.0)\n",
      "Requirement already satisfied: webencodings in /home/harpreet/miniconda3/envs/pt10/lib/python3.8/site-packages (from bleach->nbconvert>=6.1->nbdev) (0.5.1)\n",
      "Requirement already satisfied: widgetsnbextension~=3.5.0 in /home/harpreet/miniconda3/envs/pt10/lib/python3.8/site-packages (from ipywidgets->jupyter->nbdev) (3.5.2)\n",
      "Requirement already satisfied: jupyterlab-widgets>=1.0.0 in /home/harpreet/miniconda3/envs/pt10/lib/python3.8/site-packages (from ipywidgets->jupyter->nbdev) (1.0.2)\n",
      "Requirement already satisfied: prometheus-client in /home/harpreet/miniconda3/envs/pt10/lib/python3.8/site-packages (from notebook->jupyter->nbdev) (0.12.0)\n",
      "Requirement already satisfied: argon2-cffi in /home/harpreet/miniconda3/envs/pt10/lib/python3.8/site-packages (from notebook->jupyter->nbdev) (21.1.0)\n",
      "Requirement already satisfied: terminado>=0.8.3 in /home/harpreet/miniconda3/envs/pt10/lib/python3.8/site-packages (from notebook->jupyter->nbdev) (0.12.1)\n",
      "Requirement already satisfied: Send2Trash>=1.8.0 in /home/harpreet/miniconda3/envs/pt10/lib/python3.8/site-packages (from notebook->jupyter->nbdev) (1.8.0)\n",
      "Requirement already satisfied: qtpy in /home/harpreet/miniconda3/envs/pt10/lib/python3.8/site-packages (from qtconsole->jupyter->nbdev) (2.0.1)\n",
      "Requirement already satisfied: zipp>=3.1.0 in /home/harpreet/miniconda3/envs/pt10/lib/python3.8/site-packages (from importlib-resources>=1.4.0->jsonschema!=2.5.0,>=2.4->nbformat>=4.4.0->nbdev) (3.6.0)\n",
      "Requirement already satisfied: parso<0.9.0,>=0.8.0 in /home/harpreet/miniconda3/envs/pt10/lib/python3.8/site-packages (from jedi>=0.16->ipython>=7.23.1->ipykernel->nbdev) (0.8.3)\n",
      "Requirement already satisfied: ptyprocess>=0.5 in /home/harpreet/miniconda3/envs/pt10/lib/python3.8/site-packages (from pexpect>4.3->ipython>=7.23.1->ipykernel->nbdev) (0.7.0)\n",
      "Requirement already satisfied: wcwidth in /home/harpreet/miniconda3/envs/pt10/lib/python3.8/site-packages (from prompt-toolkit!=3.0.0,!=3.0.1,<3.1.0,>=2.0.0->ipython>=7.23.1->ipykernel->nbdev) (0.2.5)\n",
      "Requirement already satisfied: cffi>=1.0.0 in /home/harpreet/miniconda3/envs/pt10/lib/python3.8/site-packages (from argon2-cffi->notebook->jupyter->nbdev) (1.15.0)\n",
      "Requirement already satisfied: pycparser in /home/harpreet/miniconda3/envs/pt10/lib/python3.8/site-packages (from cffi>=1.0.0->argon2-cffi->notebook->jupyter->nbdev) (2.21)\n",
      "Installing collected packages: ghapi, fastrelease, nbdev\n",
      "Successfully installed fastrelease-0.1.16 ghapi-0.1.20 nbdev-1.2.8\n"
     ]
    }
   ],
   "source": [
    "!pip install nbdev"
   ]
  },
  {
   "cell_type": "code",
   "execution_count": 2,
   "metadata": {
    "execution": {
     "iopub.execute_input": "2022-05-11T22:09:42.335541Z",
     "iopub.status.busy": "2022-05-11T22:09:42.335361Z",
     "iopub.status.idle": "2022-05-11T22:09:43.563313Z",
     "shell.execute_reply": "2022-05-11T22:09:43.562800Z",
     "shell.execute_reply.started": "2022-05-11T22:09:42.335525Z"
    },
    "tags": []
   },
   "outputs": [],
   "source": [
    "#hide\n",
    "#! [ -e /content ] && pip install -Uqq fastbook\n",
    "import fastbook\n",
    "fastbook.setup_book()"
   ]
  },
  {
   "cell_type": "code",
   "execution_count": 3,
   "metadata": {
    "execution": {
     "iopub.execute_input": "2022-05-11T22:09:43.564186Z",
     "iopub.status.busy": "2022-05-11T22:09:43.564066Z",
     "iopub.status.idle": "2022-05-11T22:09:43.567787Z",
     "shell.execute_reply": "2022-05-11T22:09:43.567363Z",
     "shell.execute_reply.started": "2022-05-11T22:09:43.564174Z"
    },
    "tags": []
   },
   "outputs": [],
   "source": [
    "#hide\n",
    "from fastbook import *\n",
    "from IPython.display import display,HTML"
   ]
  },
  {
   "cell_type": "code",
   "execution_count": 4,
   "metadata": {
    "execution": {
     "iopub.execute_input": "2022-05-11T22:09:43.568353Z",
     "iopub.status.busy": "2022-05-11T22:09:43.568218Z",
     "iopub.status.idle": "2022-05-11T22:09:43.858678Z",
     "shell.execute_reply": "2022-05-11T22:09:43.858194Z",
     "shell.execute_reply.started": "2022-05-11T22:09:43.568341Z"
    },
    "tags": []
   },
   "outputs": [],
   "source": [
    "from fastdownload import FastDownload\n",
    "from fastai.text.all import *"
   ]
  },
  {
   "cell_type": "markdown",
   "metadata": {},
   "source": [
    "# NLP Deep Dive: RNNs"
   ]
  },
  {
   "cell_type": "markdown",
   "metadata": {},
   "source": [
    "## Text Preprocessing"
   ]
  },
  {
   "cell_type": "markdown",
   "metadata": {},
   "source": [
    "### Tokenization"
   ]
  },
  {
   "cell_type": "markdown",
   "metadata": {},
   "source": [
    "### Word Tokenization with fastai"
   ]
  },
  {
   "cell_type": "code",
   "execution_count": 17,
   "metadata": {
    "execution": {
     "iopub.execute_input": "2022-05-11T22:30:24.559961Z",
     "iopub.status.busy": "2022-05-11T22:30:24.559760Z",
     "iopub.status.idle": "2022-05-11T22:30:24.562054Z",
     "shell.execute_reply": "2022-05-11T22:30:24.561767Z",
     "shell.execute_reply.started": "2022-05-11T22:30:24.559947Z"
    },
    "tags": []
   },
   "outputs": [],
   "source": [
    "base= Path('/home/harpreet/Insync/google_drive_shaannoor/datasets')"
   ]
  },
  {
   "cell_type": "code",
   "execution_count": 18,
   "metadata": {
    "execution": {
     "iopub.execute_input": "2022-05-11T22:30:24.841948Z",
     "iopub.status.busy": "2022-05-11T22:30:24.841226Z",
     "iopub.status.idle": "2022-05-11T22:30:24.843869Z",
     "shell.execute_reply": "2022-05-11T22:30:24.843419Z",
     "shell.execute_reply.started": "2022-05-11T22:30:24.841930Z"
    },
    "tags": []
   },
   "outputs": [],
   "source": [
    "#path = base/'data'/'imdb'"
   ]
  },
  {
   "cell_type": "code",
   "execution_count": 19,
   "metadata": {
    "execution": {
     "iopub.execute_input": "2022-05-11T22:30:25.067422Z",
     "iopub.status.busy": "2022-05-11T22:30:25.067234Z",
     "iopub.status.idle": "2022-05-11T22:30:25.070108Z",
     "shell.execute_reply": "2022-05-11T22:30:25.069806Z",
     "shell.execute_reply.started": "2022-05-11T22:30:25.067409Z"
    },
    "tags": []
   },
   "outputs": [
    {
     "data": {
      "text/plain": [
       "'https://s3.amazonaws.com/fast-ai-nlp/imdb.tgz'"
      ]
     },
     "execution_count": 19,
     "metadata": {},
     "output_type": "execute_result"
    }
   ],
   "source": [
    "URLs.IMDB"
   ]
  },
  {
   "cell_type": "code",
   "execution_count": 20,
   "metadata": {
    "execution": {
     "iopub.execute_input": "2022-05-11T22:30:25.280868Z",
     "iopub.status.busy": "2022-05-11T22:30:25.280413Z",
     "iopub.status.idle": "2022-05-11T22:30:25.283813Z",
     "shell.execute_reply": "2022-05-11T22:30:25.283503Z",
     "shell.execute_reply.started": "2022-05-11T22:30:25.280851Z"
    },
    "tags": []
   },
   "outputs": [
    {
     "data": {
      "text/plain": [
       "Path('/home/harpreet/Insync/google_drive_shaannoor/datasets/data/imdb')"
      ]
     },
     "execution_count": 20,
     "metadata": {},
     "output_type": "execute_result"
    }
   ],
   "source": [
    "path = untar_data(URLs.IMDB, archive = base/'archive', data = base/'data'); path"
   ]
  },
  {
   "cell_type": "code",
   "execution_count": 21,
   "metadata": {
    "execution": {
     "iopub.execute_input": "2022-05-11T22:30:25.456785Z",
     "iopub.status.busy": "2022-05-11T22:30:25.456343Z",
     "iopub.status.idle": "2022-05-11T22:30:25.839843Z",
     "shell.execute_reply": "2022-05-11T22:30:25.839366Z",
     "shell.execute_reply.started": "2022-05-11T22:30:25.456769Z"
    },
    "tags": []
   },
   "outputs": [],
   "source": [
    "files = get_text_files(path, folders = ['train', 'test', 'unsup'])"
   ]
  },
  {
   "cell_type": "code",
   "execution_count": 22,
   "metadata": {
    "execution": {
     "iopub.execute_input": "2022-05-11T22:30:25.840711Z",
     "iopub.status.busy": "2022-05-11T22:30:25.840613Z",
     "iopub.status.idle": "2022-05-11T22:30:25.844243Z",
     "shell.execute_reply": "2022-05-11T22:30:25.843853Z",
     "shell.execute_reply.started": "2022-05-11T22:30:25.840698Z"
    },
    "tags": []
   },
   "outputs": [
    {
     "data": {
      "text/plain": [
       "100000"
      ]
     },
     "execution_count": 22,
     "metadata": {},
     "output_type": "execute_result"
    }
   ],
   "source": [
    "len(files)"
   ]
  },
  {
   "cell_type": "code",
   "execution_count": 23,
   "metadata": {
    "execution": {
     "iopub.execute_input": "2022-05-11T22:30:25.845298Z",
     "iopub.status.busy": "2022-05-11T22:30:25.845199Z",
     "iopub.status.idle": "2022-05-11T22:30:25.849699Z",
     "shell.execute_reply": "2022-05-11T22:30:25.849399Z",
     "shell.execute_reply.started": "2022-05-11T22:30:25.845285Z"
    },
    "tags": []
   },
   "outputs": [
    {
     "data": {
      "text/plain": [
       "'Well this just maybe the worst movie ever at least the worst movie i have e'"
      ]
     },
     "execution_count": 23,
     "metadata": {},
     "output_type": "execute_result"
    }
   ],
   "source": [
    "txt = files[0].open().read(); txt[:75]"
   ]
  },
  {
   "cell_type": "markdown",
   "metadata": {},
   "source": [
    "<font color = 'green'> coll_repr is used to provide a more informative __repr__ about list-like objects. coll_repr and is used by L to build a __repr__ that displays the length of a list in addition to a preview of a list.</font> [From Documentation](https://fastcore.fast.ai/foundation.html#coll_repr)\n",
    "\n",
    "<font color = 'green'> In Python, __repr__ is a special method used to represent a class’s objects as a string. </font>"
   ]
  },
  {
   "cell_type": "code",
   "execution_count": 24,
   "metadata": {
    "execution": {
     "iopub.execute_input": "2022-05-11T22:30:26.456344Z",
     "iopub.status.busy": "2022-05-11T22:30:26.455829Z",
     "iopub.status.idle": "2022-05-11T22:30:26.555493Z",
     "shell.execute_reply": "2022-05-11T22:30:26.555014Z",
     "shell.execute_reply.started": "2022-05-11T22:30:26.456327Z"
    },
    "tags": []
   },
   "outputs": [
    {
     "name": "stdout",
     "output_type": "stream",
     "text": [
      "(#150) ['Well','this','just','maybe','the','worst','movie','ever','at','least','the','worst','movie','i','have','ever','seen','.','They','have','tried','out','these','666','child','of','Satan','the','anti','Christ'...]\n"
     ]
    }
   ],
   "source": [
    "spacy = WordTokenizer()\n",
    "toks = first(spacy([txt]))\n",
    "print(coll_repr(toks, 30))"
   ]
  },
  {
   "cell_type": "code",
   "execution_count": 25,
   "metadata": {
    "collapsed": true,
    "execution": {
     "iopub.execute_input": "2022-05-11T22:30:26.652442Z",
     "iopub.status.busy": "2022-05-11T22:30:26.652047Z",
     "iopub.status.idle": "2022-05-11T22:30:26.659289Z",
     "shell.execute_reply": "2022-05-11T22:30:26.658896Z",
     "shell.execute_reply.started": "2022-05-11T22:30:26.652423Z"
    },
    "jupyter": {
     "outputs_hidden": true
    },
    "tags": []
   },
   "outputs": [
    {
     "data": {
      "text/html": [
       "<h4 id=\"first\" class=\"doc_header\"><code>first</code><a href=\"https://github.com/fastai/fastcore/tree/master/fastcore/basics.py#L616\" class=\"source_link\" style=\"float:right\">[source]</a></h4><blockquote><p><code>first</code>(<strong><code>x</code></strong>, <strong><code>f</code></strong>=<em><code>None</code></em>, <strong><code>negate</code></strong>=<em><code>False</code></em>, <strong>**<code>kwargs</code></strong>)</p>\n",
       "</blockquote>\n",
       "<p>First element of <code>x</code>, optionally filtered by <code>f</code>, or None if missing</p>\n",
       "<p><a href=\"https://fastcore.fast.ai/basics#first\" target=\"_blank\" rel=\"noreferrer noopener\">Show in docs</a></p>\n",
       "<style>\n",
       "    table { border-collapse: collapse; border:thin solid #dddddd; margin: 25px 0px; ; }\n",
       "    table tr:first-child { background-color: #FFF}\n",
       "    table thead th { background-color: #eee; color: #000; text-align: center;}\n",
       "    tr, th, td { border: 1px solid #ccc; border-width: 1px 0 0 1px; border-collapse: collapse;\n",
       "    padding: 5px; }\n",
       "    tr:nth-child(even) {background: #eee;}</style>"
      ]
     },
     "metadata": {},
     "output_type": "display_data"
    }
   ],
   "source": [
    "doc(first)"
   ]
  },
  {
   "cell_type": "code",
   "execution_count": 26,
   "metadata": {
    "execution": {
     "iopub.execute_input": "2022-05-11T22:30:27.107075Z",
     "iopub.status.busy": "2022-05-11T22:30:27.106887Z",
     "iopub.status.idle": "2022-05-11T22:30:27.111430Z",
     "shell.execute_reply": "2022-05-11T22:30:27.110977Z",
     "shell.execute_reply.started": "2022-05-11T22:30:27.107061Z"
    },
    "tags": []
   },
   "outputs": [
    {
     "data": {
      "text/plain": [
       "(#9) ['The','U.S.','dollar','$','1','is','$','1.00','.']"
      ]
     },
     "execution_count": 26,
     "metadata": {},
     "output_type": "execute_result"
    }
   ],
   "source": [
    "first(spacy(['The U.S. dollar $1 is $1.00.']))"
   ]
  },
  {
   "cell_type": "code",
   "execution_count": 27,
   "metadata": {
    "execution": {
     "iopub.execute_input": "2022-05-11T22:30:27.318025Z",
     "iopub.status.busy": "2022-05-11T22:30:27.317643Z",
     "iopub.status.idle": "2022-05-11T22:30:27.322347Z",
     "shell.execute_reply": "2022-05-11T22:30:27.322003Z",
     "shell.execute_reply.started": "2022-05-11T22:30:27.318008Z"
    },
    "tags": []
   },
   "outputs": [
    {
     "name": "stdout",
     "output_type": "stream",
     "text": [
      "(#168) ['xxbos','xxmaj','well','this','just','maybe','the','worst','movie','ever','at','least','the','worst','movie','i','have','ever','seen','.','xxmaj','they','have','tried','out','these','xxrep','3','6','child','of'...]\n"
     ]
    }
   ],
   "source": [
    "tkn = Tokenizer(spacy)\n",
    "print(coll_repr(tkn(txt), 31))"
   ]
  },
  {
   "cell_type": "code",
   "execution_count": 28,
   "metadata": {
    "execution": {
     "iopub.execute_input": "2022-05-11T22:30:27.517899Z",
     "iopub.status.busy": "2022-05-11T22:30:27.517697Z",
     "iopub.status.idle": "2022-05-11T22:30:27.521346Z",
     "shell.execute_reply": "2022-05-11T22:30:27.520911Z",
     "shell.execute_reply.started": "2022-05-11T22:30:27.517885Z"
    },
    "tags": []
   },
   "outputs": [
    {
     "data": {
      "text/plain": [
       "[<function fastai.text.core.fix_html(x)>,\n",
       " <function fastai.text.core.replace_rep(t)>,\n",
       " <function fastai.text.core.replace_wrep(t)>,\n",
       " <function fastai.text.core.spec_add_spaces(t)>,\n",
       " <function fastai.text.core.rm_useless_spaces(t)>,\n",
       " <function fastai.text.core.replace_all_caps(t)>,\n",
       " <function fastai.text.core.replace_maj(t)>,\n",
       " <function fastai.text.core.lowercase(t, add_bos=True, add_eos=False)>]"
      ]
     },
     "execution_count": 28,
     "metadata": {},
     "output_type": "execute_result"
    }
   ],
   "source": [
    "defaults.text_proc_rules"
   ]
  },
  {
   "cell_type": "code",
   "execution_count": 29,
   "metadata": {
    "execution": {
     "iopub.execute_input": "2022-05-11T22:30:29.017705Z",
     "iopub.status.busy": "2022-05-11T22:30:29.017429Z",
     "iopub.status.idle": "2022-05-11T22:30:29.021325Z",
     "shell.execute_reply": "2022-05-11T22:30:29.021014Z",
     "shell.execute_reply.started": "2022-05-11T22:30:29.017689Z"
    },
    "tags": []
   },
   "outputs": [
    {
     "data": {
      "text/plain": [
       "\"(#11) ['xxbos','©','xxmaj','fast.ai','xxrep','3','w','.fast.ai','/','xxup','index']\""
      ]
     },
     "execution_count": 29,
     "metadata": {},
     "output_type": "execute_result"
    }
   ],
   "source": [
    "coll_repr(tkn('&copy;   Fast.ai www.fast.ai/INDEX'), 31)"
   ]
  },
  {
   "cell_type": "markdown",
   "metadata": {},
   "source": [
    "### Subword Tokenization"
   ]
  },
  {
   "cell_type": "code",
   "execution_count": 31,
   "metadata": {
    "execution": {
     "iopub.execute_input": "2022-05-11T22:31:51.216831Z",
     "iopub.status.busy": "2022-05-11T22:31:51.216667Z",
     "iopub.status.idle": "2022-05-11T22:31:51.265321Z",
     "shell.execute_reply": "2022-05-11T22:31:51.264727Z",
     "shell.execute_reply.started": "2022-05-11T22:31:51.216817Z"
    },
    "tags": []
   },
   "outputs": [],
   "source": [
    "txts = L(o.open().read() for o in files[:2000])"
   ]
  },
  {
   "cell_type": "code",
   "execution_count": 32,
   "metadata": {
    "execution": {
     "iopub.execute_input": "2022-05-11T22:31:52.009446Z",
     "iopub.status.busy": "2022-05-11T22:31:52.009320Z",
     "iopub.status.idle": "2022-05-11T22:31:52.012512Z",
     "shell.execute_reply": "2022-05-11T22:31:52.012218Z",
     "shell.execute_reply.started": "2022-05-11T22:31:52.009432Z"
    },
    "tags": []
   },
   "outputs": [
    {
     "data": {
      "text/plain": [
       "2000"
      ]
     },
     "execution_count": 32,
     "metadata": {},
     "output_type": "execute_result"
    }
   ],
   "source": [
    "len(txts)"
   ]
  },
  {
   "cell_type": "code",
   "execution_count": 33,
   "metadata": {
    "execution": {
     "iopub.execute_input": "2022-05-11T22:31:52.709131Z",
     "iopub.status.busy": "2022-05-11T22:31:52.708974Z",
     "iopub.status.idle": "2022-05-11T22:31:52.711721Z",
     "shell.execute_reply": "2022-05-11T22:31:52.711413Z",
     "shell.execute_reply.started": "2022-05-11T22:31:52.709104Z"
    },
    "tags": []
   },
   "outputs": [
    {
     "name": "stdout",
     "output_type": "stream",
     "text": [
      "Well this just maybe the worst movie ever at least the worst movie i have ever seen. They have tried out these 666 child of Satan the anti Christ kinda movies about 1000 times and none of them is good and this just maybe the worst of them. They think that it's going to be better movie as more they use that fake blood. This movie doesn't have any idea in it, actors and filming is just terrible. Cant even make out that 10 line minium of this movie. Really nothing to tell about but that it's just horrible. How they can make movies like that in their right mind just can't understand that. This cant be a Hollywood movie, is it? Just don't go watch this use your money more wisely.\n"
     ]
    }
   ],
   "source": [
    "print(txts[0])"
   ]
  },
  {
   "cell_type": "code",
   "execution_count": 41,
   "metadata": {
    "execution": {
     "iopub.execute_input": "2022-05-11T22:41:03.080901Z",
     "iopub.status.busy": "2022-05-11T22:41:03.080694Z",
     "iopub.status.idle": "2022-05-11T22:41:03.083073Z",
     "shell.execute_reply": "2022-05-11T22:41:03.082804Z",
     "shell.execute_reply.started": "2022-05-11T22:41:03.080886Z"
    },
    "tags": []
   },
   "outputs": [],
   "source": [
    "def subword(sz):\n",
    "    sp = SubwordTokenizer(vocab_sz=sz)\n",
    "    sp.setup(txts) # train on 2000 files : txt\n",
    "    return first(sp([txt]))[:40] # apply on first document txt"
   ]
  },
  {
   "cell_type": "code",
   "execution_count": 42,
   "metadata": {
    "collapsed": true,
    "execution": {
     "iopub.execute_input": "2022-05-11T22:41:03.689253Z",
     "iopub.status.busy": "2022-05-11T22:41:03.688671Z",
     "iopub.status.idle": "2022-05-11T22:41:05.534528Z",
     "shell.execute_reply": "2022-05-11T22:41:05.534258Z",
     "shell.execute_reply.started": "2022-05-11T22:41:03.689237Z"
    },
    "jupyter": {
     "outputs_hidden": true
    },
    "tags": []
   },
   "outputs": [
    {
     "data": {
      "text/html": [],
      "text/plain": [
       "<IPython.core.display.HTML object>"
      ]
     },
     "metadata": {},
     "output_type": "display_data"
    },
    {
     "data": {
      "text/plain": [
       "['▁Well',\n",
       " '▁this',\n",
       " '▁just',\n",
       " '▁maybe',\n",
       " '▁the',\n",
       " '▁worst',\n",
       " '▁movie',\n",
       " '▁ever',\n",
       " '▁at',\n",
       " '▁least',\n",
       " '▁the',\n",
       " '▁worst',\n",
       " '▁movie',\n",
       " '▁i',\n",
       " '▁have',\n",
       " '▁ever',\n",
       " '▁seen',\n",
       " '.',\n",
       " '▁The',\n",
       " 'y',\n",
       " '▁have',\n",
       " '▁tr',\n",
       " 'i',\n",
       " 'ed',\n",
       " '▁out',\n",
       " '▁these',\n",
       " '▁',\n",
       " '6',\n",
       " '6',\n",
       " '6',\n",
       " '▁child',\n",
       " '▁of',\n",
       " '▁S',\n",
       " 'at',\n",
       " 'an',\n",
       " '▁the',\n",
       " '▁an',\n",
       " 'ti',\n",
       " '▁Ch',\n",
       " 'ri']"
      ]
     },
     "execution_count": 42,
     "metadata": {},
     "output_type": "execute_result"
    }
   ],
   "source": [
    "subword(1000)"
   ]
  },
  {
   "cell_type": "code",
   "execution_count": 43,
   "metadata": {
    "collapsed": true,
    "execution": {
     "iopub.execute_input": "2022-05-11T22:41:14.945519Z",
     "iopub.status.busy": "2022-05-11T22:41:14.945109Z",
     "iopub.status.idle": "2022-05-11T22:41:17.045241Z",
     "shell.execute_reply": "2022-05-11T22:41:17.044747Z",
     "shell.execute_reply.started": "2022-05-11T22:41:14.945502Z"
    },
    "jupyter": {
     "outputs_hidden": true
    },
    "tags": []
   },
   "outputs": [
    {
     "data": {
      "text/html": [],
      "text/plain": [
       "<IPython.core.display.HTML object>"
      ]
     },
     "metadata": {},
     "output_type": "display_data"
    },
    {
     "data": {
      "text/plain": [
       "['▁',\n",
       " 'W',\n",
       " 'e',\n",
       " 'l',\n",
       " 'l',\n",
       " '▁this',\n",
       " '▁',\n",
       " 'j',\n",
       " 'us',\n",
       " 't',\n",
       " '▁ma',\n",
       " 'y',\n",
       " 'b',\n",
       " 'e',\n",
       " '▁the',\n",
       " '▁w',\n",
       " 'or',\n",
       " 'st',\n",
       " '▁movie',\n",
       " '▁',\n",
       " 'e',\n",
       " 'ver',\n",
       " '▁a',\n",
       " 't',\n",
       " '▁',\n",
       " 'le',\n",
       " 'a',\n",
       " 'st',\n",
       " '▁the',\n",
       " '▁w',\n",
       " 'or',\n",
       " 'st',\n",
       " '▁movie',\n",
       " '▁',\n",
       " 'i',\n",
       " '▁h',\n",
       " 'a',\n",
       " 've',\n",
       " '▁',\n",
       " 'e']"
      ]
     },
     "execution_count": 43,
     "metadata": {},
     "output_type": "execute_result"
    }
   ],
   "source": [
    "subword(200)"
   ]
  },
  {
   "cell_type": "code",
   "execution_count": 44,
   "metadata": {
    "collapsed": true,
    "execution": {
     "iopub.execute_input": "2022-05-11T22:41:29.944792Z",
     "iopub.status.busy": "2022-05-11T22:41:29.944439Z",
     "iopub.status.idle": "2022-05-11T22:41:31.250165Z",
     "shell.execute_reply": "2022-05-11T22:41:31.249882Z",
     "shell.execute_reply.started": "2022-05-11T22:41:29.944770Z"
    },
    "jupyter": {
     "outputs_hidden": true
    },
    "tags": []
   },
   "outputs": [
    {
     "data": {
      "text/html": [],
      "text/plain": [
       "<IPython.core.display.HTML object>"
      ]
     },
     "metadata": {},
     "output_type": "display_data"
    },
    {
     "data": {
      "text/plain": [
       "['▁Well',\n",
       " '▁this',\n",
       " '▁just',\n",
       " '▁maybe',\n",
       " '▁the',\n",
       " '▁worst',\n",
       " '▁movie',\n",
       " '▁ever',\n",
       " '▁at',\n",
       " '▁least',\n",
       " '▁the',\n",
       " '▁worst',\n",
       " '▁movie',\n",
       " '▁i',\n",
       " '▁have',\n",
       " '▁ever',\n",
       " '▁seen',\n",
       " '.',\n",
       " '▁They',\n",
       " '▁have',\n",
       " '▁tried',\n",
       " '▁out',\n",
       " '▁these',\n",
       " '▁6',\n",
       " '6',\n",
       " '6',\n",
       " '▁child',\n",
       " '▁of',\n",
       " '▁Satan',\n",
       " '▁the',\n",
       " '▁anti',\n",
       " '▁Christ',\n",
       " '▁kind',\n",
       " 'a',\n",
       " '▁movies',\n",
       " '▁about',\n",
       " '▁1000',\n",
       " '▁times',\n",
       " '▁and',\n",
       " '▁none']"
      ]
     },
     "execution_count": 44,
     "metadata": {},
     "output_type": "execute_result"
    }
   ],
   "source": [
    "subword(10000)"
   ]
  },
  {
   "cell_type": "markdown",
   "metadata": {},
   "source": [
    "### Numericalization with fastai"
   ]
  },
  {
   "cell_type": "code",
   "execution_count": 46,
   "metadata": {
    "execution": {
     "iopub.execute_input": "2022-05-11T22:44:27.258768Z",
     "iopub.status.busy": "2022-05-11T22:44:27.258369Z",
     "iopub.status.idle": "2022-05-11T22:44:27.263129Z",
     "shell.execute_reply": "2022-05-11T22:44:27.262814Z",
     "shell.execute_reply.started": "2022-05-11T22:44:27.258744Z"
    },
    "tags": []
   },
   "outputs": [
    {
     "name": "stdout",
     "output_type": "stream",
     "text": [
      "(#168) ['xxbos','xxmaj','well','this','just','maybe','the','worst','movie','ever','at','least','the','worst','movie','i','have','ever','seen','.','xxmaj','they','have','tried','out','these','xxrep','3','6','child','of'...]\n"
     ]
    }
   ],
   "source": [
    "toks = tkn(txt)\n",
    "print(coll_repr(tkn(txt), 31))"
   ]
  },
  {
   "cell_type": "code",
   "execution_count": 54,
   "metadata": {
    "execution": {
     "iopub.execute_input": "2022-05-11T23:05:03.966724Z",
     "iopub.status.busy": "2022-05-11T23:05:03.966552Z",
     "iopub.status.idle": "2022-05-11T23:05:04.316775Z",
     "shell.execute_reply": "2022-05-11T23:05:04.316407Z",
     "shell.execute_reply.started": "2022-05-11T23:05:03.966710Z"
    },
    "tags": []
   },
   "outputs": [
    {
     "data": {
      "text/plain": [
       "(#168) ['xxbos','xxmaj','well','this','just','maybe','the','worst','movie','ever'...]"
      ]
     },
     "execution_count": 54,
     "metadata": {},
     "output_type": "execute_result"
    }
   ],
   "source": [
    "toks200 = txts[:200].map(tkn)\n",
    "toks200[0]"
   ]
  },
  {
   "cell_type": "code",
   "execution_count": 58,
   "metadata": {
    "collapsed": true,
    "execution": {
     "iopub.execute_input": "2022-05-11T23:05:41.992526Z",
     "iopub.status.busy": "2022-05-11T23:05:41.992372Z",
     "iopub.status.idle": "2022-05-11T23:05:41.995517Z",
     "shell.execute_reply": "2022-05-11T23:05:41.995238Z",
     "shell.execute_reply.started": "2022-05-11T23:05:41.992513Z"
    },
    "jupyter": {
     "outputs_hidden": true
    },
    "tags": []
   },
   "outputs": [
    {
     "data": {
      "text/plain": [
       "(#2) [['xxbos', 'xxmaj', 'well', 'this', 'just', 'maybe', 'the', 'worst', 'movie', 'ever', 'at', 'least', 'the', 'worst', 'movie', 'i', 'have', 'ever', 'seen', '.', 'xxmaj', 'they', 'have', 'tried', 'out', 'these', 'xxrep', '3', '6', 'child', 'of', 'xxmaj', 'satan', 'the', 'anti', 'xxmaj', 'christ', 'kinda', 'movies', 'about', '1', 'xxrep', '3', '0', 'times', 'and', 'none', 'of', 'them', 'is', 'good', 'and', 'this', 'just', 'maybe', 'the', 'worst', 'of', 'them', '.', 'xxmaj', 'they', 'think', 'that', 'it', \"'s\", 'going', 'to', 'be', 'better', 'movie', 'as', 'more', 'they', 'use', 'that', 'fake', 'blood', '.', 'xxmaj', 'this', 'movie', 'does', \"n't\", 'have', 'any', 'idea', 'in', 'it', ',', 'actors', 'and', 'filming', 'is', 'just', 'terrible', '.', 'xxmaj', 'ca', 'nt', 'even', 'make', 'out', 'that', '10', 'line', 'minium', 'of', 'this', 'movie', '.', 'xxmaj', 'really', 'nothing', 'to', 'tell', 'about', 'but', 'that', 'it', \"'s\", 'just', 'horrible', '.', 'xxmaj', 'how', 'they', 'can', 'make', 'movies', 'like', 'that', 'in', 'their', 'right', 'mind', 'just', 'ca', \"n't\", 'understand', 'that', '.', 'xxmaj', 'this', 'ca', 'nt', 'be', 'a', 'xxmaj', 'hollywood', 'movie', ',', 'is', 'it', '?', 'xxmaj', 'just', 'do', \"n't\", 'go', 'watch', 'this', 'use', 'your', 'money', 'more', 'wisely', '.'],['xxbos', 'xxmaj', 'picture', 'the', 'scene', 'where', 'a', 'bunch', 'of', 'scriptwriters', 'sit', 'around', 'a', 'table', 'and', 'one', 'says', '\"', 'lets', 'have', 'a', 'black', 'woman', 'approach', 'an', 'unsuspecting', 'member', 'of', 'the', 'public', '(', 'also', 'black', ')', 'in', 'the', 'street', 'and', 'ask', 'him', 'if', 'he', 'is', 'black', ',', 'then', 'walk', 'away', '\"', '.', 'xxmaj', 'the', 'other', 'writers', 'fall', 'about', 'laughing', 'hysterically', 'until', 'one', 'suggests', 'they', 'repeat', 'it', 'in', 'every', 'episode', '.', 'xxmaj', 'more', 'laughter', '.', 'xxmaj', 'now', 'if', 'you', 'think', 'the', 'premise', 'is', 'funny', ',', 'and', 'the', 'show', 'contains', 'many', 'such', 'types', 'of', 'situation', ',', 'you', 'will', 'enjoy', 'this', 'show', '.', 'xxmaj', 'for', 'the', 'rest', ',', 'use', 'your', 'zapper', 'and', 'find', 'something', 'more', 'entertaining', 'like', 'watching', 'paint', 'dry', '.', 'xxmaj', 'those', 'that', 'have', 'written', 'glowing', 'reports', 'of', 'this', 'show', 'should', 'either', 'get', 'out', 'more', 'or', 'be', 'forced', 'to', 'watch', 'television', 'comedies', 'that', 'are', 'really', 'funny', '.', 'xxmaj', 'another', 'example', 'of', 'the', 'humor', 'in', 'the', 'show', ',', 'a', 'girl', 'tries', 'to', 'get', 'out', 'of', 'paying', 'at', 'a', 'supermarket', 'checkout', 'by', 'trying', 'to', 'hypnotise', 'the', 'cashier', '.', 'xxmaj', 'marginally', 'funny', 'the', 'first', 'time', 'but', 'why', 'repeat', 'it', 'over', 'and', 'over', 'in', 'different', 'shows', 'with', 'different', 'cashiers', '?', 'i', 'could', 'give', 'other', 'examples', 'but', 'these', 'just', 'might', 'be', 'treated', 'as', 'spoilers', ',', 'divulging', 'why', 'this', 'comedy', 'just', 'is', 'not', 'funny', 'at', 'all', '.']]"
      ]
     },
     "execution_count": 58,
     "metadata": {},
     "output_type": "execute_result"
    }
   ],
   "source": [
    "toks200[0:2]"
   ]
  },
  {
   "cell_type": "code",
   "execution_count": 48,
   "metadata": {
    "execution": {
     "iopub.execute_input": "2022-05-11T22:44:29.226209Z",
     "iopub.status.busy": "2022-05-11T22:44:29.226088Z",
     "iopub.status.idle": "2022-05-11T22:44:29.229005Z",
     "shell.execute_reply": "2022-05-11T22:44:29.228749Z",
     "shell.execute_reply.started": "2022-05-11T22:44:29.226197Z"
    },
    "tags": []
   },
   "outputs": [
    {
     "data": {
      "text/plain": [
       "200"
      ]
     },
     "execution_count": 48,
     "metadata": {},
     "output_type": "execute_result"
    }
   ],
   "source": [
    "len(toks200)"
   ]
  },
  {
   "cell_type": "code",
   "execution_count": 49,
   "metadata": {
    "execution": {
     "iopub.execute_input": "2022-05-11T22:44:30.064247Z",
     "iopub.status.busy": "2022-05-11T22:44:30.064083Z",
     "iopub.status.idle": "2022-05-11T22:44:30.409298Z",
     "shell.execute_reply": "2022-05-11T22:44:30.408790Z",
     "shell.execute_reply.started": "2022-05-11T22:44:30.064218Z"
    },
    "tags": []
   },
   "outputs": [],
   "source": [
    "toks200_alt = [tkn(t) for t in txts[:200]]"
   ]
  },
  {
   "cell_type": "code",
   "execution_count": 50,
   "metadata": {
    "execution": {
     "iopub.execute_input": "2022-05-11T22:44:31.751889Z",
     "iopub.status.busy": "2022-05-11T22:44:31.751747Z",
     "iopub.status.idle": "2022-05-11T22:44:31.754973Z",
     "shell.execute_reply": "2022-05-11T22:44:31.754652Z",
     "shell.execute_reply.started": "2022-05-11T22:44:31.751876Z"
    },
    "tags": []
   },
   "outputs": [
    {
     "data": {
      "text/plain": [
       "(#168) ['xxbos','xxmaj','well','this','just','maybe','the','worst','movie','ever'...]"
      ]
     },
     "execution_count": 50,
     "metadata": {},
     "output_type": "execute_result"
    }
   ],
   "source": [
    "toks200_alt[0]"
   ]
  },
  {
   "cell_type": "code",
   "execution_count": 59,
   "metadata": {
    "execution": {
     "iopub.execute_input": "2022-05-11T23:06:05.626767Z",
     "iopub.status.busy": "2022-05-11T23:06:05.626364Z",
     "iopub.status.idle": "2022-05-11T23:06:05.636439Z",
     "shell.execute_reply": "2022-05-11T23:06:05.636153Z",
     "shell.execute_reply.started": "2022-05-11T23:06:05.626749Z"
    },
    "tags": []
   },
   "outputs": [
    {
     "data": {
      "text/plain": [
       "\"(#1840) ['xxunk','xxpad','xxbos','xxeos','xxfld','xxrep','xxwrep','xxup','xxmaj','the','.',',','a','and','to','of','is','it','i','in'...]\""
      ]
     },
     "execution_count": 59,
     "metadata": {},
     "output_type": "execute_result"
    }
   ],
   "source": [
    "num = Numericalize()\n",
    "num.setup(toks200)\n",
    "coll_repr(num.vocab,20)"
   ]
  },
  {
   "cell_type": "code",
   "execution_count": 60,
   "metadata": {
    "execution": {
     "iopub.execute_input": "2022-05-11T23:06:09.347649Z",
     "iopub.status.busy": "2022-05-11T23:06:09.347495Z",
     "iopub.status.idle": "2022-05-11T23:06:09.351303Z",
     "shell.execute_reply": "2022-05-11T23:06:09.350999Z",
     "shell.execute_reply.started": "2022-05-11T23:06:09.347623Z"
    },
    "tags": []
   },
   "outputs": [
    {
     "data": {
      "text/plain": [
       "TensorText([  2,   8, 104,  20,  47, 232,   9, 183,  24, 167,  43, 233,   9, 183,  24,  18,  37, 167, 129,  10])"
      ]
     },
     "execution_count": 60,
     "metadata": {},
     "output_type": "execute_result"
    }
   ],
   "source": [
    "nums = num(toks)[:20]; nums"
   ]
  },
  {
   "cell_type": "code",
   "execution_count": 61,
   "metadata": {
    "execution": {
     "iopub.execute_input": "2022-05-11T23:06:15.734888Z",
     "iopub.status.busy": "2022-05-11T23:06:15.734739Z",
     "iopub.status.idle": "2022-05-11T23:06:15.738430Z",
     "shell.execute_reply": "2022-05-11T23:06:15.738150Z",
     "shell.execute_reply.started": "2022-05-11T23:06:15.734875Z"
    },
    "tags": []
   },
   "outputs": [
    {
     "data": {
      "text/plain": [
       "'xxbos xxmaj well this just maybe the worst movie ever at least the worst movie i have ever seen .'"
      ]
     },
     "execution_count": 61,
     "metadata": {},
     "output_type": "execute_result"
    }
   ],
   "source": [
    "' '.join(num.vocab[o] for o in nums)"
   ]
  },
  {
   "cell_type": "markdown",
   "metadata": {},
   "source": [
    "### Putting Our Texts into Batches for a Language Model"
   ]
  },
  {
   "cell_type": "code",
   "execution_count": 62,
   "metadata": {
    "execution": {
     "iopub.execute_input": "2022-05-11T23:06:17.497995Z",
     "iopub.status.busy": "2022-05-11T23:06:17.497854Z",
     "iopub.status.idle": "2022-05-11T23:06:17.506352Z",
     "shell.execute_reply": "2022-05-11T23:06:17.505999Z",
     "shell.execute_reply.started": "2022-05-11T23:06:17.497983Z"
    },
    "tags": []
   },
   "outputs": [
    {
     "data": {
      "text/html": [
       "<table border=\"1\" class=\"dataframe\">\n",
       "  <tbody>\n",
       "    <tr>\n",
       "      <td>xxbos</td>\n",
       "      <td>xxmaj</td>\n",
       "      <td>in</td>\n",
       "      <td>this</td>\n",
       "      <td>chapter</td>\n",
       "      <td>,</td>\n",
       "      <td>we</td>\n",
       "      <td>will</td>\n",
       "      <td>go</td>\n",
       "      <td>back</td>\n",
       "      <td>over</td>\n",
       "      <td>the</td>\n",
       "      <td>example</td>\n",
       "      <td>of</td>\n",
       "      <td>classifying</td>\n",
       "    </tr>\n",
       "    <tr>\n",
       "      <td>movie</td>\n",
       "      <td>reviews</td>\n",
       "      <td>we</td>\n",
       "      <td>studied</td>\n",
       "      <td>in</td>\n",
       "      <td>chapter</td>\n",
       "      <td>1</td>\n",
       "      <td>and</td>\n",
       "      <td>dig</td>\n",
       "      <td>deeper</td>\n",
       "      <td>under</td>\n",
       "      <td>the</td>\n",
       "      <td>surface</td>\n",
       "      <td>.</td>\n",
       "      <td>xxmaj</td>\n",
       "    </tr>\n",
       "    <tr>\n",
       "      <td>first</td>\n",
       "      <td>we</td>\n",
       "      <td>will</td>\n",
       "      <td>look</td>\n",
       "      <td>at</td>\n",
       "      <td>the</td>\n",
       "      <td>processing</td>\n",
       "      <td>steps</td>\n",
       "      <td>necessary</td>\n",
       "      <td>to</td>\n",
       "      <td>convert</td>\n",
       "      <td>text</td>\n",
       "      <td>into</td>\n",
       "      <td>numbers</td>\n",
       "      <td>and</td>\n",
       "    </tr>\n",
       "    <tr>\n",
       "      <td>how</td>\n",
       "      <td>to</td>\n",
       "      <td>customize</td>\n",
       "      <td>it</td>\n",
       "      <td>.</td>\n",
       "      <td>xxmaj</td>\n",
       "      <td>by</td>\n",
       "      <td>doing</td>\n",
       "      <td>this</td>\n",
       "      <td>,</td>\n",
       "      <td>we</td>\n",
       "      <td>'ll</td>\n",
       "      <td>have</td>\n",
       "      <td>another</td>\n",
       "      <td>example</td>\n",
       "    </tr>\n",
       "    <tr>\n",
       "      <td>of</td>\n",
       "      <td>the</td>\n",
       "      <td>preprocessor</td>\n",
       "      <td>used</td>\n",
       "      <td>in</td>\n",
       "      <td>the</td>\n",
       "      <td>data</td>\n",
       "      <td>block</td>\n",
       "      <td>xxup</td>\n",
       "      <td>api</td>\n",
       "      <td>.</td>\n",
       "      <td>\\n</td>\n",
       "      <td>xxmaj</td>\n",
       "      <td>then</td>\n",
       "      <td>we</td>\n",
       "    </tr>\n",
       "    <tr>\n",
       "      <td>will</td>\n",
       "      <td>study</td>\n",
       "      <td>how</td>\n",
       "      <td>we</td>\n",
       "      <td>build</td>\n",
       "      <td>a</td>\n",
       "      <td>language</td>\n",
       "      <td>model</td>\n",
       "      <td>and</td>\n",
       "      <td>train</td>\n",
       "      <td>it</td>\n",
       "      <td>for</td>\n",
       "      <td>a</td>\n",
       "      <td>while</td>\n",
       "      <td>.</td>\n",
       "    </tr>\n",
       "  </tbody>\n",
       "</table>"
      ],
      "text/plain": [
       "<IPython.core.display.HTML object>"
      ]
     },
     "metadata": {},
     "output_type": "display_data"
    }
   ],
   "source": [
    "stream = \"In this chapter, we will go back over the example of classifying movie reviews we studied in chapter 1 and dig deeper under the surface. First we will look at the processing steps necessary to convert text into numbers and how to customize it. By doing this, we'll have another example of the PreProcessor used in the data block API.\\nThen we will study how we build a language model and train it for a while.\"\n",
    "tokens = tkn(stream)\n",
    "bs,seq_len = 6,15\n",
    "d_tokens = np.array([tokens[i*seq_len:(i+1)*seq_len] for i in range(bs)])\n",
    "df = pd.DataFrame(d_tokens)\n",
    "display(HTML(df.to_html(index=False,header=None)))"
   ]
  },
  {
   "cell_type": "code",
   "execution_count": 63,
   "metadata": {
    "execution": {
     "iopub.execute_input": "2022-05-11T23:06:17.871928Z",
     "iopub.status.busy": "2022-05-11T23:06:17.871783Z",
     "iopub.status.idle": "2022-05-11T23:06:17.876491Z",
     "shell.execute_reply": "2022-05-11T23:06:17.876153Z",
     "shell.execute_reply.started": "2022-05-11T23:06:17.871915Z"
    },
    "tags": []
   },
   "outputs": [
    {
     "data": {
      "text/html": [
       "<table border=\"1\" class=\"dataframe\">\n",
       "  <tbody>\n",
       "    <tr>\n",
       "      <td>xxbos</td>\n",
       "      <td>xxmaj</td>\n",
       "      <td>in</td>\n",
       "      <td>this</td>\n",
       "      <td>chapter</td>\n",
       "    </tr>\n",
       "    <tr>\n",
       "      <td>movie</td>\n",
       "      <td>reviews</td>\n",
       "      <td>we</td>\n",
       "      <td>studied</td>\n",
       "      <td>in</td>\n",
       "    </tr>\n",
       "    <tr>\n",
       "      <td>first</td>\n",
       "      <td>we</td>\n",
       "      <td>will</td>\n",
       "      <td>look</td>\n",
       "      <td>at</td>\n",
       "    </tr>\n",
       "    <tr>\n",
       "      <td>how</td>\n",
       "      <td>to</td>\n",
       "      <td>customize</td>\n",
       "      <td>it</td>\n",
       "      <td>.</td>\n",
       "    </tr>\n",
       "    <tr>\n",
       "      <td>of</td>\n",
       "      <td>the</td>\n",
       "      <td>preprocessor</td>\n",
       "      <td>used</td>\n",
       "      <td>in</td>\n",
       "    </tr>\n",
       "    <tr>\n",
       "      <td>will</td>\n",
       "      <td>study</td>\n",
       "      <td>how</td>\n",
       "      <td>we</td>\n",
       "      <td>build</td>\n",
       "    </tr>\n",
       "  </tbody>\n",
       "</table>"
      ],
      "text/plain": [
       "<IPython.core.display.HTML object>"
      ]
     },
     "metadata": {},
     "output_type": "display_data"
    }
   ],
   "source": [
    "bs,seq_len = 6,5\n",
    "d_tokens = np.array([tokens[i*15:i*15+seq_len] for i in range(bs)])\n",
    "df = pd.DataFrame(d_tokens)\n",
    "display(HTML(df.to_html(index=False,header=None)))"
   ]
  },
  {
   "cell_type": "code",
   "execution_count": 64,
   "metadata": {
    "execution": {
     "iopub.execute_input": "2022-05-11T23:06:18.222551Z",
     "iopub.status.busy": "2022-05-11T23:06:18.222406Z",
     "iopub.status.idle": "2022-05-11T23:06:18.227855Z",
     "shell.execute_reply": "2022-05-11T23:06:18.227294Z",
     "shell.execute_reply.started": "2022-05-11T23:06:18.222538Z"
    },
    "tags": []
   },
   "outputs": [
    {
     "data": {
      "text/html": [
       "<table border=\"1\" class=\"dataframe\">\n",
       "  <tbody>\n",
       "    <tr>\n",
       "      <td>,</td>\n",
       "      <td>we</td>\n",
       "      <td>will</td>\n",
       "      <td>go</td>\n",
       "      <td>back</td>\n",
       "    </tr>\n",
       "    <tr>\n",
       "      <td>chapter</td>\n",
       "      <td>1</td>\n",
       "      <td>and</td>\n",
       "      <td>dig</td>\n",
       "      <td>deeper</td>\n",
       "    </tr>\n",
       "    <tr>\n",
       "      <td>the</td>\n",
       "      <td>processing</td>\n",
       "      <td>steps</td>\n",
       "      <td>necessary</td>\n",
       "      <td>to</td>\n",
       "    </tr>\n",
       "    <tr>\n",
       "      <td>xxmaj</td>\n",
       "      <td>by</td>\n",
       "      <td>doing</td>\n",
       "      <td>this</td>\n",
       "      <td>,</td>\n",
       "    </tr>\n",
       "    <tr>\n",
       "      <td>the</td>\n",
       "      <td>data</td>\n",
       "      <td>block</td>\n",
       "      <td>xxup</td>\n",
       "      <td>api</td>\n",
       "    </tr>\n",
       "    <tr>\n",
       "      <td>a</td>\n",
       "      <td>language</td>\n",
       "      <td>model</td>\n",
       "      <td>and</td>\n",
       "      <td>train</td>\n",
       "    </tr>\n",
       "  </tbody>\n",
       "</table>"
      ],
      "text/plain": [
       "<IPython.core.display.HTML object>"
      ]
     },
     "metadata": {},
     "output_type": "display_data"
    }
   ],
   "source": [
    "bs,seq_len = 6,5\n",
    "d_tokens = np.array([tokens[i*15+seq_len:i*15+2*seq_len] for i in range(bs)])\n",
    "df = pd.DataFrame(d_tokens)\n",
    "display(HTML(df.to_html(index=False,header=None)))"
   ]
  },
  {
   "cell_type": "code",
   "execution_count": 65,
   "metadata": {
    "execution": {
     "iopub.execute_input": "2022-05-11T23:06:18.572044Z",
     "iopub.status.busy": "2022-05-11T23:06:18.571901Z",
     "iopub.status.idle": "2022-05-11T23:06:18.576824Z",
     "shell.execute_reply": "2022-05-11T23:06:18.576541Z",
     "shell.execute_reply.started": "2022-05-11T23:06:18.572031Z"
    },
    "tags": []
   },
   "outputs": [
    {
     "data": {
      "text/html": [
       "<table border=\"1\" class=\"dataframe\">\n",
       "  <tbody>\n",
       "    <tr>\n",
       "      <td>over</td>\n",
       "      <td>the</td>\n",
       "      <td>example</td>\n",
       "      <td>of</td>\n",
       "      <td>classifying</td>\n",
       "    </tr>\n",
       "    <tr>\n",
       "      <td>under</td>\n",
       "      <td>the</td>\n",
       "      <td>surface</td>\n",
       "      <td>.</td>\n",
       "      <td>xxmaj</td>\n",
       "    </tr>\n",
       "    <tr>\n",
       "      <td>convert</td>\n",
       "      <td>text</td>\n",
       "      <td>into</td>\n",
       "      <td>numbers</td>\n",
       "      <td>and</td>\n",
       "    </tr>\n",
       "    <tr>\n",
       "      <td>we</td>\n",
       "      <td>'ll</td>\n",
       "      <td>have</td>\n",
       "      <td>another</td>\n",
       "      <td>example</td>\n",
       "    </tr>\n",
       "    <tr>\n",
       "      <td>.</td>\n",
       "      <td>\\n</td>\n",
       "      <td>xxmaj</td>\n",
       "      <td>then</td>\n",
       "      <td>we</td>\n",
       "    </tr>\n",
       "    <tr>\n",
       "      <td>it</td>\n",
       "      <td>for</td>\n",
       "      <td>a</td>\n",
       "      <td>while</td>\n",
       "      <td>.</td>\n",
       "    </tr>\n",
       "  </tbody>\n",
       "</table>"
      ],
      "text/plain": [
       "<IPython.core.display.HTML object>"
      ]
     },
     "metadata": {},
     "output_type": "display_data"
    }
   ],
   "source": [
    "bs,seq_len = 6,5\n",
    "d_tokens = np.array([tokens[i*15+10:i*15+15] for i in range(bs)])\n",
    "df = pd.DataFrame(d_tokens)\n",
    "display(HTML(df.to_html(index=False,header=None)))"
   ]
  },
  {
   "cell_type": "code",
   "execution_count": 69,
   "metadata": {
    "execution": {
     "iopub.execute_input": "2022-05-11T23:06:59.541247Z",
     "iopub.status.busy": "2022-05-11T23:06:59.541049Z",
     "iopub.status.idle": "2022-05-11T23:06:59.566389Z",
     "shell.execute_reply": "2022-05-11T23:06:59.566079Z",
     "shell.execute_reply.started": "2022-05-11T23:06:59.541232Z"
    },
    "tags": []
   },
   "outputs": [],
   "source": [
    "nums200 = toks200.map(num)"
   ]
  },
  {
   "cell_type": "code",
   "execution_count": null,
   "metadata": {
    "execution": {
     "iopub.execute_input": "2022-05-11T23:07:03.686586Z",
     "iopub.status.busy": "2022-05-11T23:07:03.686373Z",
     "iopub.status.idle": "2022-05-11T23:07:03.694666Z",
     "shell.execute_reply": "2022-05-11T23:07:03.694358Z",
     "shell.execute_reply.started": "2022-05-11T23:07:03.686530Z"
    }
   },
   "outputs": [],
   "source": [
    "nums200"
   ]
  },
  {
   "cell_type": "code",
   "execution_count": 82,
   "metadata": {
    "execution": {
     "iopub.execute_input": "2022-05-11T23:25:06.065397Z",
     "iopub.status.busy": "2022-05-11T23:25:06.065169Z",
     "iopub.status.idle": "2022-05-11T23:25:06.069780Z",
     "shell.execute_reply": "2022-05-11T23:25:06.069452Z",
     "shell.execute_reply.started": "2022-05-11T23:25:06.065380Z"
    },
    "tags": []
   },
   "outputs": [],
   "source": [
    "tot_len=0\n",
    "for x in nums200:\n",
    "    tot_len+= len(x)"
   ]
  },
  {
   "cell_type": "code",
   "execution_count": 86,
   "metadata": {
    "execution": {
     "iopub.execute_input": "2022-05-11T23:50:27.387519Z",
     "iopub.status.busy": "2022-05-11T23:50:27.387354Z",
     "iopub.status.idle": "2022-05-11T23:50:27.390060Z",
     "shell.execute_reply": "2022-05-11T23:50:27.389737Z",
     "shell.execute_reply.started": "2022-05-11T23:50:27.387491Z"
    },
    "tags": []
   },
   "outputs": [],
   "source": [
    "batch_size = 64\n",
    "seq_len = 72\n",
    "n_batches = tot_len // (batch_size * seq_len)"
   ]
  },
  {
   "cell_type": "code",
   "execution_count": 87,
   "metadata": {
    "execution": {
     "iopub.execute_input": "2022-05-11T23:50:27.944846Z",
     "iopub.status.busy": "2022-05-11T23:50:27.944672Z",
     "iopub.status.idle": "2022-05-11T23:50:27.947737Z",
     "shell.execute_reply": "2022-05-11T23:50:27.947381Z",
     "shell.execute_reply.started": "2022-05-11T23:50:27.944819Z"
    },
    "tags": []
   },
   "outputs": [
    {
     "data": {
      "text/plain": [
       "12"
      ]
     },
     "execution_count": 87,
     "metadata": {},
     "output_type": "execute_result"
    }
   ],
   "source": [
    "n_batches"
   ]
  },
  {
   "cell_type": "code",
   "execution_count": null,
   "metadata": {
    "execution": {
     "iopub.execute_input": "2022-05-11T23:55:12.798764Z",
     "iopub.status.busy": "2022-05-11T23:55:12.798315Z",
     "iopub.status.idle": "2022-05-11T23:55:12.806337Z",
     "shell.execute_reply": "2022-05-11T23:55:12.805987Z",
     "shell.execute_reply.started": "2022-05-11T23:55:12.798744Z"
    },
    "tags": []
   },
   "outputs": [],
   "source": [
    "dl = LMDataLoader(nums200, drop_last=True)"
   ]
  },
  {
   "cell_type": "code",
   "execution_count": 97,
   "metadata": {
    "execution": {
     "iopub.execute_input": "2022-05-11T23:55:54.640932Z",
     "iopub.status.busy": "2022-05-11T23:55:54.640776Z",
     "iopub.status.idle": "2022-05-11T23:55:54.644444Z",
     "shell.execute_reply": "2022-05-11T23:55:54.643882Z",
     "shell.execute_reply.started": "2022-05-11T23:55:54.640918Z"
    },
    "tags": []
   },
   "outputs": [],
   "source": [
    "dl = dl.new(drop_last=True)"
   ]
  },
  {
   "cell_type": "code",
   "execution_count": 98,
   "metadata": {
    "execution": {
     "iopub.execute_input": "2022-05-11T23:55:59.714698Z",
     "iopub.status.busy": "2022-05-11T23:55:59.714540Z",
     "iopub.status.idle": "2022-05-11T23:55:59.717431Z",
     "shell.execute_reply": "2022-05-11T23:55:59.717107Z",
     "shell.execute_reply.started": "2022-05-11T23:55:59.714683Z"
    },
    "tags": []
   },
   "outputs": [
    {
     "data": {
      "text/plain": [
       "13"
      ]
     },
     "execution_count": 98,
     "metadata": {},
     "output_type": "execute_result"
    }
   ],
   "source": [
    "dl.last_len"
   ]
  },
  {
   "cell_type": "code",
   "execution_count": 99,
   "metadata": {
    "execution": {
     "iopub.execute_input": "2022-05-11T23:56:02.492628Z",
     "iopub.status.busy": "2022-05-11T23:56:02.492469Z",
     "iopub.status.idle": "2022-05-11T23:56:02.495675Z",
     "shell.execute_reply": "2022-05-11T23:56:02.495347Z",
     "shell.execute_reply.started": "2022-05-11T23:56:02.492599Z"
    },
    "tags": []
   },
   "outputs": [
    {
     "data": {
      "text/plain": [
       "13"
      ]
     },
     "execution_count": 99,
     "metadata": {},
     "output_type": "execute_result"
    }
   ],
   "source": [
    "len(dl)"
   ]
  },
  {
   "cell_type": "code",
   "execution_count": 100,
   "metadata": {
    "execution": {
     "iopub.execute_input": "2022-05-11T23:56:05.093475Z",
     "iopub.status.busy": "2022-05-11T23:56:05.093323Z",
     "iopub.status.idle": "2022-05-11T23:56:05.203711Z",
     "shell.execute_reply": "2022-05-11T23:56:05.203282Z",
     "shell.execute_reply.started": "2022-05-11T23:56:05.093461Z"
    },
    "tags": []
   },
   "outputs": [
    {
     "name": "stdout",
     "output_type": "stream",
     "text": [
      "torch.Size([64, 72]) torch.Size([64, 72])\n",
      "torch.Size([64, 72]) torch.Size([64, 72])\n",
      "torch.Size([64, 72]) torch.Size([64, 72])\n",
      "torch.Size([64, 72]) torch.Size([64, 72])\n",
      "torch.Size([64, 72]) torch.Size([64, 72])\n",
      "torch.Size([64, 72]) torch.Size([64, 72])\n",
      "torch.Size([64, 72]) torch.Size([64, 72])\n",
      "torch.Size([64, 72]) torch.Size([64, 72])\n",
      "torch.Size([64, 72]) torch.Size([64, 72])\n",
      "torch.Size([64, 72]) torch.Size([64, 72])\n",
      "torch.Size([64, 72]) torch.Size([64, 72])\n",
      "torch.Size([64, 72]) torch.Size([64, 72])\n",
      "torch.Size([64, 13]) torch.Size([64, 13])\n"
     ]
    }
   ],
   "source": [
    "for x,y in dl:\n",
    "    print(x.shape,y.shape)"
   ]
  },
  {
   "cell_type": "code",
   "execution_count": 38,
   "metadata": {
    "execution": {
     "iopub.execute_input": "2022-04-30T00:20:25.949777Z",
     "iopub.status.busy": "2022-04-30T00:20:25.949594Z",
     "iopub.status.idle": "2022-04-30T00:20:25.954362Z",
     "shell.execute_reply": "2022-04-30T00:20:25.953931Z",
     "shell.execute_reply.started": "2022-04-30T00:20:25.949757Z"
    },
    "tags": []
   },
   "outputs": [
    {
     "data": {
      "text/plain": [
       "'xxbos xxmaj well this just maybe the worst movie ever at least the worst movie i have ever seen .'"
      ]
     },
     "execution_count": 38,
     "metadata": {},
     "output_type": "execute_result"
    }
   ],
   "source": [
    "' '.join(num.vocab[o] for o in x[0][:20])"
   ]
  },
  {
   "cell_type": "code",
   "execution_count": 39,
   "metadata": {
    "execution": {
     "iopub.execute_input": "2022-04-30T00:20:26.162104Z",
     "iopub.status.busy": "2022-04-30T00:20:26.161956Z",
     "iopub.status.idle": "2022-04-30T00:20:26.165835Z",
     "shell.execute_reply": "2022-04-30T00:20:26.165463Z",
     "shell.execute_reply.started": "2022-04-30T00:20:26.162090Z"
    },
    "tags": []
   },
   "outputs": [
    {
     "data": {
      "text/plain": [
       "'xxmaj well this just maybe the worst movie ever at least the worst movie i have ever seen . xxmaj'"
      ]
     },
     "execution_count": 39,
     "metadata": {},
     "output_type": "execute_result"
    }
   ],
   "source": [
    "' '.join(num.vocab[o] for o in y[0][:20])"
   ]
  },
  {
   "cell_type": "markdown",
   "metadata": {},
   "source": [
    "## Training a Text Classifier"
   ]
  },
  {
   "cell_type": "markdown",
   "metadata": {},
   "source": [
    "### Language Model Using DataBlock"
   ]
  },
  {
   "cell_type": "code",
   "execution_count": 8,
   "metadata": {
    "execution": {
     "iopub.execute_input": "2022-04-30T12:26:13.698057Z",
     "iopub.status.busy": "2022-04-30T12:26:13.697891Z",
     "iopub.status.idle": "2022-04-30T12:26:13.700517Z",
     "shell.execute_reply": "2022-04-30T12:26:13.700226Z",
     "shell.execute_reply.started": "2022-04-30T12:26:13.698028Z"
    },
    "tags": []
   },
   "outputs": [],
   "source": [
    "get_imdb = partial(get_text_files, folders=['train', 'test', 'unsup'])"
   ]
  },
  {
   "cell_type": "code",
   "execution_count": 9,
   "metadata": {
    "execution": {
     "iopub.execute_input": "2022-04-30T12:26:14.469681Z",
     "iopub.status.busy": "2022-04-30T12:26:14.469528Z",
     "iopub.status.idle": "2022-04-30T12:26:18.653006Z",
     "shell.execute_reply": "2022-04-30T12:26:18.652603Z",
     "shell.execute_reply.started": "2022-04-30T12:26:14.469667Z"
    },
    "tags": []
   },
   "outputs": [],
   "source": [
    "dls_lm = DataBlock(\n",
    "    blocks=TextBlock.from_folder(path, is_lm=True),\n",
    "    get_items=get_imdb, splitter=RandomSplitter(0.1)\n",
    ").dataloaders(path, path, bs=128, seq_len=80)"
   ]
  },
  {
   "cell_type": "code",
   "execution_count": 10,
   "metadata": {
    "execution": {
     "iopub.execute_input": "2022-04-30T12:26:18.653790Z",
     "iopub.status.busy": "2022-04-30T12:26:18.653678Z",
     "iopub.status.idle": "2022-04-30T12:26:18.994664Z",
     "shell.execute_reply": "2022-04-30T12:26:18.994250Z",
     "shell.execute_reply.started": "2022-04-30T12:26:18.653777Z"
    },
    "tags": []
   },
   "outputs": [
    {
     "data": {
      "text/html": [
       "<table border=\"1\" class=\"dataframe\">\n",
       "  <thead>\n",
       "    <tr style=\"text-align: right;\">\n",
       "      <th></th>\n",
       "      <th>text</th>\n",
       "      <th>text_</th>\n",
       "    </tr>\n",
       "  </thead>\n",
       "  <tbody>\n",
       "    <tr>\n",
       "      <th>0</th>\n",
       "      <td>xxbos i do n't know what i missed here , but i ca n't believe all these positive comments by so many people on this film . i thought it was silly , and a bit over the top . i did like the performances of xxmaj gregg xxmaj henry and xxmaj michael xxmaj rooker , however the others were just … boring . \\n\\n xxmaj now i like b movies , i really do , but this was a</td>\n",
       "      <td>i do n't know what i missed here , but i ca n't believe all these positive comments by so many people on this film . i thought it was silly , and a bit over the top . i did like the performances of xxmaj gregg xxmaj henry and xxmaj michael xxmaj rooker , however the others were just … boring . \\n\\n xxmaj now i like b movies , i really do , but this was a bit</td>\n",
       "    </tr>\n",
       "    <tr>\n",
       "      <th>1</th>\n",
       "      <td>\" over having lost a bunch of money ; horrid performance . xxmaj patrick xxmaj muldoon is n't much better , and his \" it 's a hostile takeover \" line ( that 's the remainder of the title of this film ) was delivered about as badly as one could do it . xxmaj there are no other main characters , but no other actor / actress distinguished him / herself in this film . xxmaj we next come</td>\n",
       "      <td>over having lost a bunch of money ; horrid performance . xxmaj patrick xxmaj muldoon is n't much better , and his \" it 's a hostile takeover \" line ( that 's the remainder of the title of this film ) was delivered about as badly as one could do it . xxmaj there are no other main characters , but no other actor / actress distinguished him / herself in this film . xxmaj we next come to</td>\n",
       "    </tr>\n",
       "  </tbody>\n",
       "</table>"
      ],
      "text/plain": [
       "<IPython.core.display.HTML object>"
      ]
     },
     "metadata": {},
     "output_type": "display_data"
    }
   ],
   "source": [
    "dls_lm.show_batch(max_n=2)"
   ]
  },
  {
   "cell_type": "markdown",
   "metadata": {},
   "source": [
    "### Fine-Tuning the Language Model"
   ]
  },
  {
   "cell_type": "code",
   "execution_count": 11,
   "metadata": {
    "execution": {
     "iopub.execute_input": "2022-04-30T12:26:49.040826Z",
     "iopub.status.busy": "2022-04-30T12:26:49.040644Z",
     "iopub.status.idle": "2022-04-30T12:26:50.207393Z",
     "shell.execute_reply": "2022-04-30T12:26:50.207018Z",
     "shell.execute_reply.started": "2022-04-30T12:26:49.040796Z"
    },
    "tags": []
   },
   "outputs": [],
   "source": [
    "learn = language_model_learner(\n",
    "    dls_lm, AWD_LSTM, drop_mult=0.3, \n",
    "    metrics=[accuracy, Perplexity()]).to_fp16()"
   ]
  },
  {
   "cell_type": "code",
   "execution_count": 42,
   "metadata": {
    "execution": {
     "iopub.execute_input": "2022-04-30T11:22:22.850387Z",
     "iopub.status.busy": "2022-04-30T11:22:22.850176Z",
     "iopub.status.idle": "2022-04-30T11:50:33.292600Z",
     "shell.execute_reply": "2022-04-30T11:50:33.292266Z",
     "shell.execute_reply.started": "2022-04-30T11:22:22.850368Z"
    },
    "tags": []
   },
   "outputs": [
    {
     "data": {
      "text/html": [
       "<table border=\"1\" class=\"dataframe\">\n",
       "  <thead>\n",
       "    <tr style=\"text-align: left;\">\n",
       "      <th>epoch</th>\n",
       "      <th>train_loss</th>\n",
       "      <th>valid_loss</th>\n",
       "      <th>accuracy</th>\n",
       "      <th>perplexity</th>\n",
       "      <th>time</th>\n",
       "    </tr>\n",
       "  </thead>\n",
       "  <tbody>\n",
       "    <tr>\n",
       "      <td>0</td>\n",
       "      <td>3.986422</td>\n",
       "      <td>3.899642</td>\n",
       "      <td>0.300608</td>\n",
       "      <td>49.384743</td>\n",
       "      <td>28:10</td>\n",
       "    </tr>\n",
       "  </tbody>\n",
       "</table>"
      ],
      "text/plain": [
       "<IPython.core.display.HTML object>"
      ]
     },
     "metadata": {},
     "output_type": "display_data"
    }
   ],
   "source": [
    "learn.fit_one_cycle(1, 2e-2)"
   ]
  },
  {
   "cell_type": "markdown",
   "metadata": {},
   "source": [
    "### Saving and Loading Models"
   ]
  },
  {
   "cell_type": "code",
   "execution_count": 12,
   "metadata": {
    "execution": {
     "iopub.execute_input": "2022-04-30T12:26:55.550857Z",
     "iopub.status.busy": "2022-04-30T12:26:55.550692Z",
     "iopub.status.idle": "2022-04-30T12:26:55.553371Z",
     "shell.execute_reply": "2022-04-30T12:26:55.553116Z",
     "shell.execute_reply.started": "2022-04-30T12:26:55.550828Z"
    },
    "tags": []
   },
   "outputs": [
    {
     "data": {
      "text/plain": [
       "Path('/home/harpreet/Insync/google_drive_shaannoor/datasets/data/imdb')"
      ]
     },
     "execution_count": 12,
     "metadata": {},
     "output_type": "execute_result"
    }
   ],
   "source": [
    "learn.path"
   ]
  },
  {
   "cell_type": "code",
   "execution_count": 45,
   "metadata": {
    "execution": {
     "iopub.execute_input": "2022-04-30T12:06:01.826648Z",
     "iopub.status.busy": "2022-04-30T12:06:01.826504Z",
     "iopub.status.idle": "2022-04-30T12:06:02.246923Z",
     "shell.execute_reply": "2022-04-30T12:06:02.246432Z",
     "shell.execute_reply.started": "2022-04-30T12:06:01.826635Z"
    },
    "tags": []
   },
   "outputs": [
    {
     "data": {
      "text/plain": [
       "Path('/home/harpreet/Insync/google_drive_shaannoor/datasets/data/imdb/models/1epoch.pth')"
      ]
     },
     "execution_count": 45,
     "metadata": {},
     "output_type": "execute_result"
    }
   ],
   "source": [
    "learn.save('1epoch')"
   ]
  },
  {
   "cell_type": "code",
   "execution_count": 13,
   "metadata": {
    "execution": {
     "iopub.execute_input": "2022-04-30T12:26:58.791872Z",
     "iopub.status.busy": "2022-04-30T12:26:58.791706Z",
     "iopub.status.idle": "2022-04-30T12:26:59.040122Z",
     "shell.execute_reply": "2022-04-30T12:26:59.039713Z",
     "shell.execute_reply.started": "2022-04-30T12:26:58.791856Z"
    },
    "tags": []
   },
   "outputs": [],
   "source": [
    "learn = learn.load('1epoch')"
   ]
  },
  {
   "cell_type": "code",
   "execution_count": 14,
   "metadata": {
    "execution": {
     "iopub.execute_input": "2022-04-30T12:27:00.766663Z",
     "iopub.status.busy": "2022-04-30T12:27:00.766506Z",
     "iopub.status.idle": "2022-04-30T17:41:22.681589Z",
     "shell.execute_reply": "2022-04-30T17:41:22.681213Z",
     "shell.execute_reply.started": "2022-04-30T12:27:00.766649Z"
    },
    "tags": []
   },
   "outputs": [
    {
     "data": {
      "text/html": [
       "<table border=\"1\" class=\"dataframe\">\n",
       "  <thead>\n",
       "    <tr style=\"text-align: left;\">\n",
       "      <th>epoch</th>\n",
       "      <th>train_loss</th>\n",
       "      <th>valid_loss</th>\n",
       "      <th>accuracy</th>\n",
       "      <th>perplexity</th>\n",
       "      <th>time</th>\n",
       "    </tr>\n",
       "  </thead>\n",
       "  <tbody>\n",
       "    <tr>\n",
       "      <td>0</td>\n",
       "      <td>3.775334</td>\n",
       "      <td>3.679386</td>\n",
       "      <td>0.321670</td>\n",
       "      <td>39.622074</td>\n",
       "      <td>31:17</td>\n",
       "    </tr>\n",
       "    <tr>\n",
       "      <td>1</td>\n",
       "      <td>3.702650</td>\n",
       "      <td>3.643580</td>\n",
       "      <td>0.326642</td>\n",
       "      <td>38.228447</td>\n",
       "      <td>32:24</td>\n",
       "    </tr>\n",
       "    <tr>\n",
       "      <td>2</td>\n",
       "      <td>3.638296</td>\n",
       "      <td>3.606509</td>\n",
       "      <td>0.331719</td>\n",
       "      <td>36.837238</td>\n",
       "      <td>31:53</td>\n",
       "    </tr>\n",
       "    <tr>\n",
       "      <td>3</td>\n",
       "      <td>3.570001</td>\n",
       "      <td>3.580097</td>\n",
       "      <td>0.334851</td>\n",
       "      <td>35.877010</td>\n",
       "      <td>32:04</td>\n",
       "    </tr>\n",
       "    <tr>\n",
       "      <td>4</td>\n",
       "      <td>3.505574</td>\n",
       "      <td>3.558936</td>\n",
       "      <td>0.337656</td>\n",
       "      <td>35.125797</td>\n",
       "      <td>31:18</td>\n",
       "    </tr>\n",
       "    <tr>\n",
       "      <td>5</td>\n",
       "      <td>3.435345</td>\n",
       "      <td>3.545428</td>\n",
       "      <td>0.339654</td>\n",
       "      <td>34.654507</td>\n",
       "      <td>30:46</td>\n",
       "    </tr>\n",
       "    <tr>\n",
       "      <td>6</td>\n",
       "      <td>3.368109</td>\n",
       "      <td>3.534763</td>\n",
       "      <td>0.341558</td>\n",
       "      <td>34.286892</td>\n",
       "      <td>31:03</td>\n",
       "    </tr>\n",
       "    <tr>\n",
       "      <td>7</td>\n",
       "      <td>3.294571</td>\n",
       "      <td>3.532240</td>\n",
       "      <td>0.342481</td>\n",
       "      <td>34.200504</td>\n",
       "      <td>31:09</td>\n",
       "    </tr>\n",
       "    <tr>\n",
       "      <td>8</td>\n",
       "      <td>3.237670</td>\n",
       "      <td>3.534461</td>\n",
       "      <td>0.342661</td>\n",
       "      <td>34.276550</td>\n",
       "      <td>31:06</td>\n",
       "    </tr>\n",
       "    <tr>\n",
       "      <td>9</td>\n",
       "      <td>3.229012</td>\n",
       "      <td>3.538148</td>\n",
       "      <td>0.342501</td>\n",
       "      <td>34.403133</td>\n",
       "      <td>31:18</td>\n",
       "    </tr>\n",
       "  </tbody>\n",
       "</table>"
      ],
      "text/plain": [
       "<IPython.core.display.HTML object>"
      ]
     },
     "metadata": {},
     "output_type": "display_data"
    }
   ],
   "source": [
    "learn.unfreeze()\n",
    "learn.fit_one_cycle(10, 2e-3)"
   ]
  },
  {
   "cell_type": "code",
   "execution_count": 15,
   "metadata": {
    "execution": {
     "iopub.execute_input": "2022-04-30T17:41:22.682375Z",
     "iopub.status.busy": "2022-04-30T17:41:22.682249Z",
     "iopub.status.idle": "2022-04-30T17:41:22.876549Z",
     "shell.execute_reply": "2022-04-30T17:41:22.876148Z",
     "shell.execute_reply.started": "2022-04-30T17:41:22.682362Z"
    }
   },
   "outputs": [],
   "source": [
    "learn.save_encoder('finetuned')"
   ]
  },
  {
   "cell_type": "code",
   "execution_count": null,
   "metadata": {},
   "outputs": [],
   "source": [
    "print(\"\\n\".join(preds))"
   ]
  },
  {
   "cell_type": "markdown",
   "metadata": {},
   "source": [
    "### Creating the Classifier DataLoaders"
   ]
  },
  {
   "cell_type": "code",
   "execution_count": null,
   "metadata": {},
   "outputs": [],
   "source": [
    "dls_clas = DataBlock(\n",
    "    blocks=(TextBlock.from_folder(path, vocab=dls_lm.vocab),CategoryBlock),\n",
    "    get_y = parent_label,\n",
    "    get_items=partial(get_text_files, folders=['train', 'test']),\n",
    "    splitter=GrandparentSplitter(valid_name='test')\n",
    ").dataloaders(path, path=path, bs=128, seq_len=72)"
   ]
  },
  {
   "cell_type": "code",
   "execution_count": null,
   "metadata": {},
   "outputs": [],
   "source": [
    "dls_clas.show_batch(max_n=3)"
   ]
  },
  {
   "cell_type": "code",
   "execution_count": null,
   "metadata": {},
   "outputs": [],
   "source": [
    "nums_samp = toks200[:10].map(num)"
   ]
  },
  {
   "cell_type": "code",
   "execution_count": null,
   "metadata": {},
   "outputs": [],
   "source": [
    "nums_samp.map(len)"
   ]
  },
  {
   "cell_type": "code",
   "execution_count": null,
   "metadata": {},
   "outputs": [],
   "source": [
    "learn = text_classifier_learner(dls_clas, AWD_LSTM, drop_mult=0.5, \n",
    "                                metrics=accuracy).to_fp16()"
   ]
  },
  {
   "cell_type": "code",
   "execution_count": null,
   "metadata": {},
   "outputs": [],
   "source": [
    "learn = learn.load_encoder('finetuned')"
   ]
  },
  {
   "cell_type": "markdown",
   "metadata": {},
   "source": [
    "### Fine-Tuning the Classifier"
   ]
  },
  {
   "cell_type": "code",
   "execution_count": null,
   "metadata": {},
   "outputs": [],
   "source": [
    "learn.fit_one_cycle(1, 2e-2)"
   ]
  },
  {
   "cell_type": "code",
   "execution_count": null,
   "metadata": {},
   "outputs": [],
   "source": [
    "learn.freeze_to(-2)\n",
    "learn.fit_one_cycle(1, slice(1e-2/(2.6**4),1e-2))"
   ]
  },
  {
   "cell_type": "code",
   "execution_count": null,
   "metadata": {},
   "outputs": [],
   "source": [
    "learn.freeze_to(-3)\n",
    "learn.fit_one_cycle(1, slice(5e-3/(2.6**4),5e-3))"
   ]
  },
  {
   "cell_type": "code",
   "execution_count": null,
   "metadata": {},
   "outputs": [],
   "source": [
    "learn.unfreeze()\n",
    "learn.fit_one_cycle(2, slice(1e-3/(2.6**4),1e-3))"
   ]
  },
  {
   "cell_type": "markdown",
   "metadata": {},
   "source": [
    "## Disinformation and Language Models"
   ]
  },
  {
   "cell_type": "markdown",
   "metadata": {},
   "source": [
    "## Conclusion"
   ]
  },
  {
   "cell_type": "markdown",
   "metadata": {},
   "source": [
    "## Questionnaire"
   ]
  },
  {
   "cell_type": "markdown",
   "metadata": {},
   "source": [
    "1. What is \"self-supervised learning\"?\n",
    "1. What is a \"language model\"?\n",
    "1. Why is a language model considered self-supervised?\n",
    "1. What are self-supervised models usually used for?\n",
    "1. Why do we fine-tune language models?\n",
    "1. What are the three steps to create a state-of-the-art text classifier?\n",
    "1. How do the 50,000 unlabeled movie reviews help us create a better text classifier for the IMDb dataset?\n",
    "1. What are the three steps to prepare your data for a language model?\n",
    "1. What is \"tokenization\"? Why do we need it?\n",
    "1. Name three different approaches to tokenization.\n",
    "1. What is `xxbos`?\n",
    "1. List four rules that fastai applies to text during tokenization.\n",
    "1. Why are repeated characters replaced with a token showing the number of repetitions and the character that's repeated?\n",
    "1. What is \"numericalization\"?\n",
    "1. Why might there be words that are replaced with the \"unknown word\" token?\n",
    "1. With a batch size of 64, the first row of the tensor representing the first batch contains the first 64 tokens for the dataset. What does the second row of that tensor contain? What does the first row of the second batch contain? (Careful—students often get this one wrong! Be sure to check your answer on the book's website.)\n",
    "1. Why do we need padding for text classification? Why don't we need it for language modeling?\n",
    "1. What does an embedding matrix for NLP contain? What is its shape?\n",
    "1. What is \"perplexity\"?\n",
    "1. Why do we have to pass the vocabulary of the language model to the classifier data block?\n",
    "1. What is \"gradual unfreezing\"?\n",
    "1. Why is text generation always likely to be ahead of automatic identification of machine-generated texts?"
   ]
  },
  {
   "cell_type": "markdown",
   "metadata": {},
   "source": [
    "### Further Research"
   ]
  },
  {
   "cell_type": "markdown",
   "metadata": {},
   "source": [
    "1. See what you can learn about language models and disinformation. What are the best language models today? Take a look at some of their outputs. Do you find them convincing? How could a bad actor best use such a model to create conflict and uncertainty?\n",
    "1. Given the limitation that models are unlikely to be able to consistently recognize machine-generated texts, what other approaches may be needed to handle large-scale disinformation campaigns that leverage deep learning?"
   ]
  },
  {
   "cell_type": "code",
   "execution_count": null,
   "metadata": {},
   "outputs": [],
   "source": []
  }
 ],
 "metadata": {
  "jupytext": {
   "split_at_heading": true
  },
  "kernelspec": {
   "display_name": "pt10",
   "language": "python",
   "name": "pt10"
  },
  "language_info": {
   "codemirror_mode": {
    "name": "ipython",
    "version": 3
   },
   "file_extension": ".py",
   "mimetype": "text/x-python",
   "name": "python",
   "nbconvert_exporter": "python",
   "pygments_lexer": "ipython3",
   "version": "3.8.12"
  }
 },
 "nbformat": 4,
 "nbformat_minor": 4
}
