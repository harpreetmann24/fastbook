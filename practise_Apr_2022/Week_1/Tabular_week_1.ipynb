{
 "cells": [
  {
   "cell_type": "markdown",
   "metadata": {},
   "source": [
    "### End sidebar"
   ]
  },
  {
   "cell_type": "code",
   "execution_count": 12,
   "metadata": {
    "execution": {
     "iopub.execute_input": "2022-04-29T04:53:48.651653Z",
     "iopub.status.busy": "2022-04-29T04:53:48.651477Z",
     "iopub.status.idle": "2022-04-29T04:53:48.654192Z",
     "shell.execute_reply": "2022-04-29T04:53:48.653792Z",
     "shell.execute_reply.started": "2022-04-29T04:53:48.651636Z"
    },
    "tags": []
   },
   "outputs": [],
   "source": [
    "from fastai.tabular.all import *\n",
    "from pathlib import Path\n",
    "from fastdownload import FastDownload\n",
    "import pandas as pd"
   ]
  },
  {
   "cell_type": "code",
   "execution_count": 3,
   "metadata": {
    "execution": {
     "iopub.execute_input": "2022-04-29T04:47:09.886619Z",
     "iopub.status.busy": "2022-04-29T04:47:09.886425Z",
     "iopub.status.idle": "2022-04-29T04:47:09.888842Z",
     "shell.execute_reply": "2022-04-29T04:47:09.888395Z",
     "shell.execute_reply.started": "2022-04-29T04:47:09.886601Z"
    },
    "tags": []
   },
   "outputs": [],
   "source": [
    "base= Path('/home/harpreet/Insync/google_drive_shaannoor/datasets')"
   ]
  },
  {
   "cell_type": "code",
   "execution_count": 4,
   "metadata": {
    "execution": {
     "iopub.execute_input": "2022-04-29T04:47:26.202067Z",
     "iopub.status.busy": "2022-04-29T04:47:26.201787Z",
     "iopub.status.idle": "2022-04-29T04:47:26.204939Z",
     "shell.execute_reply": "2022-04-29T04:47:26.204553Z",
     "shell.execute_reply.started": "2022-04-29T04:47:26.202044Z"
    }
   },
   "outputs": [],
   "source": [
    "d = FastDownload(base=base, archive='archive', data='data')"
   ]
  },
  {
   "cell_type": "code",
   "execution_count": 5,
   "metadata": {
    "execution": {
     "iopub.execute_input": "2022-04-29T04:47:52.371661Z",
     "iopub.status.busy": "2022-04-29T04:47:52.371479Z",
     "iopub.status.idle": "2022-04-29T04:47:53.522935Z",
     "shell.execute_reply": "2022-04-29T04:47:53.522525Z",
     "shell.execute_reply.started": "2022-04-29T04:47:52.371644Z"
    },
    "tags": []
   },
   "outputs": [
    {
     "name": "stdout",
     "output_type": "stream",
     "text": [
      "Downloading bike-sharing-demand.zip to /home/harpreet/Insync/google_drive_shaannoor/datasets/archive\n",
      "100%|████████████████████████████████████████| 189k/189k [00:00<00:00, 1.37MB/s]\n",
      "100%|████████████████████████████████████████| 189k/189k [00:00<00:00, 1.37MB/s]\n"
     ]
    }
   ],
   "source": [
    "!kaggle competitions download -c bike-sharing-demand -p {base/'archive'}"
   ]
  },
  {
   "cell_type": "code",
   "execution_count": 7,
   "metadata": {
    "execution": {
     "iopub.execute_input": "2022-04-29T04:51:04.870904Z",
     "iopub.status.busy": "2022-04-29T04:51:04.870723Z",
     "iopub.status.idle": "2022-04-29T04:51:04.873684Z",
     "shell.execute_reply": "2022-04-29T04:51:04.873363Z",
     "shell.execute_reply.started": "2022-04-29T04:51:04.870872Z"
    },
    "tags": []
   },
   "outputs": [],
   "source": [
    "path = d.extract('bike-sharing-demand.zip')"
   ]
  },
  {
   "cell_type": "code",
   "execution_count": 13,
   "metadata": {
    "execution": {
     "iopub.execute_input": "2022-04-29T05:33:11.809614Z",
     "iopub.status.busy": "2022-04-29T05:33:11.809382Z",
     "iopub.status.idle": "2022-04-29T05:33:11.827703Z",
     "shell.execute_reply": "2022-04-29T05:33:11.827349Z",
     "shell.execute_reply.started": "2022-04-29T05:33:11.809600Z"
    }
   },
   "outputs": [],
   "source": [
    "df = pd.read_csv(path/'train.csv')"
   ]
  },
  {
   "cell_type": "code",
   "execution_count": 14,
   "metadata": {
    "execution": {
     "iopub.execute_input": "2022-04-29T05:33:18.182558Z",
     "iopub.status.busy": "2022-04-29T05:33:18.182358Z",
     "iopub.status.idle": "2022-04-29T05:33:18.191809Z",
     "shell.execute_reply": "2022-04-29T05:33:18.191354Z",
     "shell.execute_reply.started": "2022-04-29T05:33:18.182526Z"
    }
   },
   "outputs": [
    {
     "name": "stdout",
     "output_type": "stream",
     "text": [
      "<class 'pandas.core.frame.DataFrame'>\n",
      "RangeIndex: 10886 entries, 0 to 10885\n",
      "Data columns (total 12 columns):\n",
      " #   Column      Non-Null Count  Dtype  \n",
      "---  ------      --------------  -----  \n",
      " 0   datetime    10886 non-null  object \n",
      " 1   season      10886 non-null  int64  \n",
      " 2   holiday     10886 non-null  int64  \n",
      " 3   workingday  10886 non-null  int64  \n",
      " 4   weather     10886 non-null  int64  \n",
      " 5   temp        10886 non-null  float64\n",
      " 6   atemp       10886 non-null  float64\n",
      " 7   humidity    10886 non-null  int64  \n",
      " 8   windspeed   10886 non-null  float64\n",
      " 9   casual      10886 non-null  int64  \n",
      " 10  registered  10886 non-null  int64  \n",
      " 11  count       10886 non-null  int64  \n",
      "dtypes: float64(3), int64(8), object(1)\n",
      "memory usage: 1020.7+ KB\n"
     ]
    }
   ],
   "source": [
    "df.info()"
   ]
  },
  {
   "cell_type": "code",
   "execution_count": 16,
   "metadata": {
    "execution": {
     "iopub.execute_input": "2022-04-29T05:34:11.020423Z",
     "iopub.status.busy": "2022-04-29T05:34:11.020261Z",
     "iopub.status.idle": "2022-04-29T05:34:11.029296Z",
     "shell.execute_reply": "2022-04-29T05:34:11.029002Z",
     "shell.execute_reply.started": "2022-04-29T05:34:11.020408Z"
    },
    "tags": []
   },
   "outputs": [
    {
     "data": {
      "text/html": [
       "<div>\n",
       "<style scoped>\n",
       "    .dataframe tbody tr th:only-of-type {\n",
       "        vertical-align: middle;\n",
       "    }\n",
       "\n",
       "    .dataframe tbody tr th {\n",
       "        vertical-align: top;\n",
       "    }\n",
       "\n",
       "    .dataframe thead th {\n",
       "        text-align: right;\n",
       "    }\n",
       "</style>\n",
       "<table border=\"1\" class=\"dataframe\">\n",
       "  <thead>\n",
       "    <tr style=\"text-align: right;\">\n",
       "      <th></th>\n",
       "      <th>datetime</th>\n",
       "      <th>season</th>\n",
       "      <th>holiday</th>\n",
       "      <th>workingday</th>\n",
       "      <th>weather</th>\n",
       "      <th>temp</th>\n",
       "      <th>atemp</th>\n",
       "      <th>humidity</th>\n",
       "      <th>windspeed</th>\n",
       "      <th>casual</th>\n",
       "      <th>registered</th>\n",
       "      <th>count</th>\n",
       "    </tr>\n",
       "  </thead>\n",
       "  <tbody>\n",
       "    <tr>\n",
       "      <th>0</th>\n",
       "      <td>2011-01-01 00:00:00</td>\n",
       "      <td>1</td>\n",
       "      <td>0</td>\n",
       "      <td>0</td>\n",
       "      <td>1</td>\n",
       "      <td>9.84</td>\n",
       "      <td>14.395</td>\n",
       "      <td>81</td>\n",
       "      <td>0.0</td>\n",
       "      <td>3</td>\n",
       "      <td>13</td>\n",
       "      <td>16</td>\n",
       "    </tr>\n",
       "    <tr>\n",
       "      <th>1</th>\n",
       "      <td>2011-01-01 01:00:00</td>\n",
       "      <td>1</td>\n",
       "      <td>0</td>\n",
       "      <td>0</td>\n",
       "      <td>1</td>\n",
       "      <td>9.02</td>\n",
       "      <td>13.635</td>\n",
       "      <td>80</td>\n",
       "      <td>0.0</td>\n",
       "      <td>8</td>\n",
       "      <td>32</td>\n",
       "      <td>40</td>\n",
       "    </tr>\n",
       "    <tr>\n",
       "      <th>2</th>\n",
       "      <td>2011-01-01 02:00:00</td>\n",
       "      <td>1</td>\n",
       "      <td>0</td>\n",
       "      <td>0</td>\n",
       "      <td>1</td>\n",
       "      <td>9.02</td>\n",
       "      <td>13.635</td>\n",
       "      <td>80</td>\n",
       "      <td>0.0</td>\n",
       "      <td>5</td>\n",
       "      <td>27</td>\n",
       "      <td>32</td>\n",
       "    </tr>\n",
       "    <tr>\n",
       "      <th>3</th>\n",
       "      <td>2011-01-01 03:00:00</td>\n",
       "      <td>1</td>\n",
       "      <td>0</td>\n",
       "      <td>0</td>\n",
       "      <td>1</td>\n",
       "      <td>9.84</td>\n",
       "      <td>14.395</td>\n",
       "      <td>75</td>\n",
       "      <td>0.0</td>\n",
       "      <td>3</td>\n",
       "      <td>10</td>\n",
       "      <td>13</td>\n",
       "    </tr>\n",
       "    <tr>\n",
       "      <th>4</th>\n",
       "      <td>2011-01-01 04:00:00</td>\n",
       "      <td>1</td>\n",
       "      <td>0</td>\n",
       "      <td>0</td>\n",
       "      <td>1</td>\n",
       "      <td>9.84</td>\n",
       "      <td>14.395</td>\n",
       "      <td>75</td>\n",
       "      <td>0.0</td>\n",
       "      <td>0</td>\n",
       "      <td>1</td>\n",
       "      <td>1</td>\n",
       "    </tr>\n",
       "  </tbody>\n",
       "</table>\n",
       "</div>"
      ],
      "text/plain": [
       "              datetime  season  holiday  workingday  weather  temp   atemp  \\\n",
       "0  2011-01-01 00:00:00       1        0           0        1  9.84  14.395   \n",
       "1  2011-01-01 01:00:00       1        0           0        1  9.02  13.635   \n",
       "2  2011-01-01 02:00:00       1        0           0        1  9.02  13.635   \n",
       "3  2011-01-01 03:00:00       1        0           0        1  9.84  14.395   \n",
       "4  2011-01-01 04:00:00       1        0           0        1  9.84  14.395   \n",
       "\n",
       "   humidity  windspeed  casual  registered  count  \n",
       "0        81        0.0       3          13     16  \n",
       "1        80        0.0       8          32     40  \n",
       "2        80        0.0       5          27     32  \n",
       "3        75        0.0       3          10     13  \n",
       "4        75        0.0       0           1      1  "
      ]
     },
     "execution_count": 16,
     "metadata": {},
     "output_type": "execute_result"
    }
   ],
   "source": [
    "df.head()"
   ]
  },
  {
   "cell_type": "code",
   "execution_count": 17,
   "metadata": {
    "execution": {
     "iopub.execute_input": "2022-04-29T05:38:14.007038Z",
     "iopub.status.busy": "2022-04-29T05:38:14.006881Z",
     "iopub.status.idle": "2022-04-29T05:38:14.010553Z",
     "shell.execute_reply": "2022-04-29T05:38:14.010143Z",
     "shell.execute_reply.started": "2022-04-29T05:38:14.007025Z"
    }
   },
   "outputs": [
    {
     "data": {
      "text/plain": [
       "Index(['datetime', 'season', 'holiday', 'workingday', 'weather', 'temp',\n",
       "       'atemp', 'humidity', 'windspeed', 'casual', 'registered', 'count'],\n",
       "      dtype='object')"
      ]
     },
     "execution_count": 17,
     "metadata": {},
     "output_type": "execute_result"
    }
   ],
   "source": [
    "df.columns"
   ]
  },
  {
   "cell_type": "code",
   "execution_count": 27,
   "metadata": {
    "execution": {
     "iopub.execute_input": "2022-04-29T09:31:55.033303Z",
     "iopub.status.busy": "2022-04-29T09:31:55.033133Z",
     "iopub.status.idle": "2022-04-29T09:31:55.038873Z",
     "shell.execute_reply": "2022-04-29T09:31:55.038454Z",
     "shell.execute_reply.started": "2022-04-29T09:31:55.033272Z"
    },
    "tags": []
   },
   "outputs": [
    {
     "data": {
      "text/plain": [
       "count    10886.000000\n",
       "mean       191.574132\n",
       "std        181.144454\n",
       "min          1.000000\n",
       "25%         42.000000\n",
       "50%        145.000000\n",
       "75%        284.000000\n",
       "max        977.000000\n",
       "Name: count, dtype: float64"
      ]
     },
     "execution_count": 27,
     "metadata": {},
     "output_type": "execute_result"
    }
   ],
   "source": [
    "df['count'].describe()"
   ]
  },
  {
   "cell_type": "code",
   "execution_count": 79,
   "metadata": {
    "execution": {
     "iopub.execute_input": "2022-04-29T10:09:06.418240Z",
     "iopub.status.busy": "2022-04-29T10:09:06.417927Z",
     "iopub.status.idle": "2022-04-29T10:09:06.454231Z",
     "shell.execute_reply": "2022-04-29T10:09:06.453747Z",
     "shell.execute_reply.started": "2022-04-29T10:09:06.418187Z"
    },
    "tags": []
   },
   "outputs": [],
   "source": [
    "dls = TabularDataLoaders.from_csv(path/'train.csv', path=path, \n",
    "                                  y_names=\"count\",\n",
    "                                  cat_names = ['season', 'holiday', 'workingday', 'weather'],\n",
    "                                  cont_names = ['temp', 'atemp', 'humidity', 'windspeed'],\n",
    "                                  procs = [Categorify, FillMissing, ],\n",
    "                                  y_range = [0, 1000],\n",
    "                                  layers = [500, 200, 50],\n",
    "                                  loss_func = F.mse_loss)\n",
    "\n",
    "learn = tabular_learner(dls, metrics = [R2Score(), rmse])"
   ]
  },
  {
   "cell_type": "code",
   "execution_count": 80,
   "metadata": {
    "execution": {
     "iopub.execute_input": "2022-04-29T10:09:07.345381Z",
     "iopub.status.busy": "2022-04-29T10:09:07.345242Z",
     "iopub.status.idle": "2022-04-29T10:09:08.122522Z",
     "shell.execute_reply": "2022-04-29T10:09:08.122092Z",
     "shell.execute_reply.started": "2022-04-29T10:09:07.345369Z"
    },
    "tags": []
   },
   "outputs": [
    {
     "data": {
      "text/html": [],
      "text/plain": [
       "<IPython.core.display.HTML object>"
      ]
     },
     "metadata": {},
     "output_type": "display_data"
    },
    {
     "data": {
      "text/plain": [
       "SuggestedLRs(valley=0.0691830962896347)"
      ]
     },
     "execution_count": 80,
     "metadata": {},
     "output_type": "execute_result"
    },
    {
     "data": {
      "image/png": "[encoded data removed]",
      "text/plain": [
       "<Figure size 432x288 with 1 Axes>"
      ]
     },
     "metadata": {
      "needs_background": "light"
     },
     "output_type": "display_data"
    }
   ],
   "source": [
    "learn.lr_find()"
   ]
  },
  {
   "cell_type": "code",
   "execution_count": 81,
   "metadata": {
    "execution": {
     "iopub.execute_input": "2022-04-29T10:09:10.195665Z",
     "iopub.status.busy": "2022-04-29T10:09:10.195523Z",
     "iopub.status.idle": "2022-04-29T10:09:18.470657Z",
     "shell.execute_reply": "2022-04-29T10:09:18.470266Z",
     "shell.execute_reply.started": "2022-04-29T10:09:10.195652Z"
    },
    "tags": []
   },
   "outputs": [
    {
     "data": {
      "text/html": [
       "<table border=\"1\" class=\"dataframe\">\n",
       "  <thead>\n",
       "    <tr style=\"text-align: left;\">\n",
       "      <th>epoch</th>\n",
       "      <th>train_loss</th>\n",
       "      <th>valid_loss</th>\n",
       "      <th>r2_score</th>\n",
       "      <th>_rmse</th>\n",
       "      <th>time</th>\n",
       "    </tr>\n",
       "  </thead>\n",
       "  <tbody>\n",
       "    <tr>\n",
       "      <td>0</td>\n",
       "      <td>46996.542969</td>\n",
       "      <td>32391.367188</td>\n",
       "      <td>0.000767</td>\n",
       "      <td>179.976013</td>\n",
       "      <td>00:00</td>\n",
       "    </tr>\n",
       "    <tr>\n",
       "      <td>1</td>\n",
       "      <td>24800.982422</td>\n",
       "      <td>22978.929688</td>\n",
       "      <td>0.291129</td>\n",
       "      <td>151.588028</td>\n",
       "      <td>00:00</td>\n",
       "    </tr>\n",
       "    <tr>\n",
       "      <td>2</td>\n",
       "      <td>23899.603516</td>\n",
       "      <td>22042.441406</td>\n",
       "      <td>0.320018</td>\n",
       "      <td>148.466965</td>\n",
       "      <td>00:00</td>\n",
       "    </tr>\n",
       "    <tr>\n",
       "      <td>3</td>\n",
       "      <td>24439.943359</td>\n",
       "      <td>22175.464844</td>\n",
       "      <td>0.315915</td>\n",
       "      <td>148.914276</td>\n",
       "      <td>00:00</td>\n",
       "    </tr>\n",
       "    <tr>\n",
       "      <td>4</td>\n",
       "      <td>22549.472656</td>\n",
       "      <td>22556.789062</td>\n",
       "      <td>0.304151</td>\n",
       "      <td>150.189178</td>\n",
       "      <td>00:00</td>\n",
       "    </tr>\n",
       "    <tr>\n",
       "      <td>5</td>\n",
       "      <td>22439.974609</td>\n",
       "      <td>21387.873047</td>\n",
       "      <td>0.340211</td>\n",
       "      <td>146.245926</td>\n",
       "      <td>00:00</td>\n",
       "    </tr>\n",
       "    <tr>\n",
       "      <td>6</td>\n",
       "      <td>21897.525391</td>\n",
       "      <td>21527.287109</td>\n",
       "      <td>0.335910</td>\n",
       "      <td>146.721817</td>\n",
       "      <td>00:00</td>\n",
       "    </tr>\n",
       "    <tr>\n",
       "      <td>7</td>\n",
       "      <td>21859.853516</td>\n",
       "      <td>21113.058594</td>\n",
       "      <td>0.348688</td>\n",
       "      <td>145.303329</td>\n",
       "      <td>00:00</td>\n",
       "    </tr>\n",
       "    <tr>\n",
       "      <td>8</td>\n",
       "      <td>21564.580078</td>\n",
       "      <td>20918.564453</td>\n",
       "      <td>0.354688</td>\n",
       "      <td>144.632523</td>\n",
       "      <td>00:00</td>\n",
       "    </tr>\n",
       "    <tr>\n",
       "      <td>9</td>\n",
       "      <td>22013.554688</td>\n",
       "      <td>21001.943359</td>\n",
       "      <td>0.352116</td>\n",
       "      <td>144.920486</td>\n",
       "      <td>00:00</td>\n",
       "    </tr>\n",
       "  </tbody>\n",
       "</table>"
      ],
      "text/plain": [
       "<IPython.core.display.HTML object>"
      ]
     },
     "metadata": {},
     "output_type": "display_data"
    }
   ],
   "source": [
    "learn.fit_one_cycle(10, 0.05)"
   ]
  }
 ],
 "metadata": {
  "jupytext": {
   "split_at_heading": true
  },
  "kernelspec": {
   "display_name": "Python 3 (ipykernel)",
   "language": "python",
   "name": "python3"
  },
  "language_info": {
   "codemirror_mode": {
    "name": "ipython",
    "version": 3
   },
   "file_extension": ".py",
   "mimetype": "text/x-python",
   "name": "python",
   "nbconvert_exporter": "python",
   "pygments_lexer": "ipython3",
   "version": "3.8.12"
  }
 },
 "nbformat": 4,
 "nbformat_minor": 4
}
