{
 "cells": [
  {
   "cell_type": "code",
   "execution_count": 1,
   "id": "5c5cdd5c-1593-4c4f-90f5-fc7843dfb75c",
   "metadata": {
    "execution": {
     "iopub.execute_input": "2022-04-29T04:37:32.153669Z",
     "iopub.status.busy": "2022-04-29T04:37:32.153479Z",
     "iopub.status.idle": "2022-04-29T04:37:32.570593Z",
     "shell.execute_reply": "2022-04-29T04:37:32.570137Z",
     "shell.execute_reply.started": "2022-04-29T04:37:32.153626Z"
    },
    "tags": []
   },
   "outputs": [],
   "source": [
    "from fastdownload import FastDownload"
   ]
  },
  {
   "cell_type": "code",
   "execution_count": 2,
   "id": "340e9b81-16c6-49d6-9ba5-08683814199e",
   "metadata": {
    "execution": {
     "iopub.execute_input": "2022-04-29T04:37:33.319804Z",
     "iopub.status.busy": "2022-04-29T04:37:33.319602Z",
     "iopub.status.idle": "2022-04-29T04:37:33.325417Z",
     "shell.execute_reply": "2022-04-29T04:37:33.324850Z",
     "shell.execute_reply.started": "2022-04-29T04:37:33.319782Z"
    },
    "tags": []
   },
   "outputs": [
    {
     "data": {
      "text/plain": [
       "{}"
      ]
     },
     "execution_count": 2,
     "metadata": {},
     "output_type": "execute_result"
    }
   ],
   "source": [
    "d = FastDownload()\n",
    "d.module"
   ]
  },
  {
   "cell_type": "code",
   "execution_count": 3,
   "id": "d1309fc8-f801-4f06-bc03-fcb2bb98c972",
   "metadata": {
    "execution": {
     "iopub.execute_input": "2022-04-29T04:37:34.565409Z",
     "iopub.status.busy": "2022-04-29T04:37:34.565268Z",
     "iopub.status.idle": "2022-04-29T04:37:34.568731Z",
     "shell.execute_reply": "2022-04-29T04:37:34.568302Z",
     "shell.execute_reply.started": "2022-04-29T04:37:34.565395Z"
    },
    "tags": []
   },
   "outputs": [
    {
     "data": {
      "text/plain": [
       "Path('/home/harpreet/.fastdownload/config.ini')"
      ]
     },
     "execution_count": 3,
     "metadata": {},
     "output_type": "execute_result"
    }
   ],
   "source": [
    "d.cfg.config_file"
   ]
  },
  {
   "cell_type": "code",
   "execution_count": 4,
   "id": "1d8fbb6b-2f3a-4527-a50b-3fa4d8bad58c",
   "metadata": {
    "execution": {
     "iopub.execute_input": "2022-04-29T04:37:36.034948Z",
     "iopub.status.busy": "2022-04-29T04:37:36.034808Z",
     "iopub.status.idle": "2022-04-29T04:37:36.038344Z",
     "shell.execute_reply": "2022-04-29T04:37:36.037907Z",
     "shell.execute_reply.started": "2022-04-29T04:37:36.034935Z"
    },
    "tags": []
   },
   "outputs": [
    {
     "name": "stdout",
     "output_type": "stream",
     "text": [
      "[DEFAULT]\n",
      "data = data\n",
      "archive = archive\n",
      "\n",
      "\n"
     ]
    }
   ],
   "source": [
    "print(d.cfg.config_file.read_text())"
   ]
  },
  {
   "cell_type": "code",
   "execution_count": 10,
   "id": "7fdfc00b-55df-4c79-8b37-9e70f4c50a3f",
   "metadata": {
    "execution": {
     "iopub.execute_input": "2022-04-29T04:40:10.204930Z",
     "iopub.status.busy": "2022-04-29T04:40:10.204746Z",
     "iopub.status.idle": "2022-04-29T04:40:10.207154Z",
     "shell.execute_reply": "2022-04-29T04:40:10.206832Z",
     "shell.execute_reply.started": "2022-04-29T04:40:10.204899Z"
    },
    "tags": []
   },
   "outputs": [],
   "source": [
    "from pathlib import Path"
   ]
  },
  {
   "cell_type": "code",
   "execution_count": 11,
   "id": "8ea1191f-1044-4193-a6af-621e8a485b7f",
   "metadata": {
    "execution": {
     "iopub.execute_input": "2022-04-29T04:40:10.785593Z",
     "iopub.status.busy": "2022-04-29T04:40:10.785417Z",
     "iopub.status.idle": "2022-04-29T04:40:10.788185Z",
     "shell.execute_reply": "2022-04-29T04:40:10.787815Z",
     "shell.execute_reply.started": "2022-04-29T04:40:10.785579Z"
    },
    "tags": []
   },
   "outputs": [],
   "source": [
    "base= Path('/home/harpreet/Insync/google_drive_shaannoor/datasets')"
   ]
  },
  {
   "cell_type": "code",
   "execution_count": 12,
   "id": "8602385f-e14f-490f-8671-3dbb044de684",
   "metadata": {
    "execution": {
     "iopub.execute_input": "2022-04-29T04:40:11.355113Z",
     "iopub.status.busy": "2022-04-29T04:40:11.354972Z",
     "iopub.status.idle": "2022-04-29T04:40:11.357897Z",
     "shell.execute_reply": "2022-04-29T04:40:11.357612Z",
     "shell.execute_reply.started": "2022-04-29T04:40:11.355099Z"
    },
    "tags": []
   },
   "outputs": [],
   "source": [
    "d = FastDownload(base=base, archive='archive', data='data')"
   ]
  },
  {
   "cell_type": "code",
   "execution_count": 13,
   "id": "64e47541-5bfd-4722-8a0a-f095d56099f0",
   "metadata": {
    "execution": {
     "iopub.execute_input": "2022-04-29T04:40:12.242085Z",
     "iopub.status.busy": "2022-04-29T04:40:12.241544Z",
     "iopub.status.idle": "2022-04-29T04:40:12.244781Z",
     "shell.execute_reply": "2022-04-29T04:40:12.244386Z",
     "shell.execute_reply.started": "2022-04-29T04:40:12.242069Z"
    },
    "tags": []
   },
   "outputs": [
    {
     "data": {
      "text/plain": [
       "Path('/home/harpreet/Insync/google_drive_shaannoor/datasets/config.ini')"
      ]
     },
     "execution_count": 13,
     "metadata": {},
     "output_type": "execute_result"
    }
   ],
   "source": [
    "d.cfg.config_file"
   ]
  },
  {
   "cell_type": "code",
   "execution_count": 14,
   "id": "b5d3a4d3-236b-40a7-bc93-82c43841f9d0",
   "metadata": {
    "execution": {
     "iopub.execute_input": "2022-04-29T04:40:13.021441Z",
     "iopub.status.busy": "2022-04-29T04:40:13.021301Z",
     "iopub.status.idle": "2022-04-29T04:40:13.024495Z",
     "shell.execute_reply": "2022-04-29T04:40:13.024134Z",
     "shell.execute_reply.started": "2022-04-29T04:40:13.021428Z"
    },
    "tags": []
   },
   "outputs": [
    {
     "name": "stdout",
     "output_type": "stream",
     "text": [
      "[DEFAULT]\n",
      "data = data\n",
      "archive = archive\n",
      "\n",
      "\n"
     ]
    }
   ],
   "source": [
    "print(d.cfg.config_file.read_text())"
   ]
  },
  {
   "cell_type": "code",
   "execution_count": null,
   "id": "aaa7eeaf-0c06-400f-aea6-c72e1fe3be71",
   "metadata": {},
   "outputs": [],
   "source": []
  }
 ],
 "metadata": {
  "kernelspec": {
   "display_name": "pt10",
   "language": "python",
   "name": "pt10"
  },
  "language_info": {
   "codemirror_mode": {
    "name": "ipython",
    "version": 3
   },
   "file_extension": ".py",
   "mimetype": "text/x-python",
   "name": "python",
   "nbconvert_exporter": "python",
   "pygments_lexer": "ipython3",
   "version": "3.8.12"
  }
 },
 "nbformat": 4,
 "nbformat_minor": 5
}
