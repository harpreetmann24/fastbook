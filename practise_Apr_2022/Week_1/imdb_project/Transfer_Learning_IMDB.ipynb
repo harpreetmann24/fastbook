{
 "cells": [
  {
   "cell_type": "code",
   "execution_count": null,
   "metadata": {
    "execution": {
     "iopub.execute_input": "2022-05-02T06:15:59.782689Z",
     "iopub.status.busy": "2022-05-02T06:15:59.782313Z",
     "iopub.status.idle": "2022-05-02T06:16:01.581226Z",
     "shell.execute_reply": "2022-05-02T06:16:01.580723Z",
     "shell.execute_reply.started": "2022-05-02T06:15:59.782629Z"
    },
    "id": "TRUjPeARwayS",
    "tags": []
   },
   "outputs": [],
   "source": [
    "from fastai.text.all import *"
   ]
  },
  {
   "cell_type": "markdown",
   "metadata": {
    "id": "eTEhXd09wayX"
   },
   "source": [
    "# Classification - using Pre-Trained Language Model"
   ]
  },
  {
   "cell_type": "markdown",
   "metadata": {
    "id": "NqoxCpjxwaya"
   },
   "source": [
    "## Load Data"
   ]
  },
  {
   "cell_type": "code",
   "execution_count": null,
   "metadata": {
    "execution": {
     "iopub.execute_input": "2022-05-02T06:16:53.874063Z",
     "iopub.status.busy": "2022-05-02T06:16:53.873861Z",
     "iopub.status.idle": "2022-05-02T06:16:53.876162Z",
     "shell.execute_reply": "2022-05-02T06:16:53.875895Z",
     "shell.execute_reply.started": "2022-05-02T06:16:53.874049Z"
    },
    "id": "xqDz-ANawayb",
    "tags": []
   },
   "outputs": [],
   "source": [
    "base= Path('/home/harpreet/Insync/google_drive_shaannoor/datasets')"
   ]
  },
  {
   "cell_type": "code",
   "execution_count": null,
   "metadata": {
    "execution": {
     "iopub.execute_input": "2022-05-02T06:16:54.424595Z",
     "iopub.status.busy": "2022-05-02T06:16:54.424448Z",
     "iopub.status.idle": "2022-05-02T06:16:54.428327Z",
     "shell.execute_reply": "2022-05-02T06:16:54.427950Z",
     "shell.execute_reply.started": "2022-05-02T06:16:54.424582Z"
    },
    "id": "8gKDcUPOwayc",
    "outputId": "be8fbed8-a5ab-4ae6-f634-36c294b54469",
    "tags": []
   },
   "outputs": [
    {
     "data": {
      "text/plain": [
       "'https://s3.amazonaws.com/fast-ai-nlp/imdb.tgz'"
      ]
     },
     "execution_count": 3,
     "metadata": {},
     "output_type": "execute_result"
    }
   ],
   "source": [
    "URLs.IMDB"
   ]
  },
  {
   "cell_type": "code",
   "execution_count": null,
   "metadata": {
    "execution": {
     "iopub.execute_input": "2022-05-02T06:16:56.179954Z",
     "iopub.status.busy": "2022-05-02T06:16:56.179811Z",
     "iopub.status.idle": "2022-05-02T06:16:56.184083Z",
     "shell.execute_reply": "2022-05-02T06:16:56.183841Z",
     "shell.execute_reply.started": "2022-05-02T06:16:56.179940Z"
    },
    "id": "2D82zW23waye",
    "outputId": "ccbdaebc-e7af-4e4a-dc7d-c84207516caa",
    "tags": []
   },
   "outputs": [
    {
     "data": {
      "text/plain": [
       "Path('/home/harpreet/Insync/google_drive_shaannoor/datasets/data/imdb')"
      ]
     },
     "execution_count": 4,
     "metadata": {},
     "output_type": "execute_result"
    }
   ],
   "source": [
    "path = untar_data(URLs.IMDB, archive = base/'archive', data = base/'data'); path"
   ]
  },
  {
   "cell_type": "markdown",
   "metadata": {
    "id": "xC_MguQZwayf"
   },
   "source": [
    "# Transfer Learning - Pretrained language model for Classification task"
   ]
  },
  {
   "cell_type": "code",
   "execution_count": null,
   "metadata": {
    "execution": {
     "iopub.execute_input": "2022-05-02T06:21:24.102142Z",
     "iopub.status.busy": "2022-05-02T06:21:24.101677Z",
     "iopub.status.idle": "2022-05-02T06:43:05.405234Z",
     "shell.execute_reply": "2022-05-02T06:43:05.404883Z",
     "shell.execute_reply.started": "2022-05-02T06:21:24.102123Z"
    },
    "id": "scKYV3HDwayg",
    "outputId": "0dc1412a-a05f-4a50-c7c9-02b81abaaa37",
    "tags": []
   },
   "outputs": [
    {
     "data": {
      "text/html": [
       "<table border=\"1\" class=\"dataframe\">\n",
       "  <thead>\n",
       "    <tr style=\"text-align: left;\">\n",
       "      <th>epoch</th>\n",
       "      <th>train_loss</th>\n",
       "      <th>valid_loss</th>\n",
       "      <th>accuracy</th>\n",
       "      <th>time</th>\n",
       "    </tr>\n",
       "  </thead>\n",
       "  <tbody>\n",
       "    <tr>\n",
       "      <td>0</td>\n",
       "      <td>0.466856</td>\n",
       "      <td>0.390369</td>\n",
       "      <td>0.826040</td>\n",
       "      <td>02:18</td>\n",
       "    </tr>\n",
       "  </tbody>\n",
       "</table>"
      ],
      "text/plain": [
       "<IPython.core.display.HTML object>"
      ]
     },
     "metadata": {},
     "output_type": "display_data"
    },
    {
     "data": {
      "text/html": [
       "<table border=\"1\" class=\"dataframe\">\n",
       "  <thead>\n",
       "    <tr style=\"text-align: left;\">\n",
       "      <th>epoch</th>\n",
       "      <th>train_loss</th>\n",
       "      <th>valid_loss</th>\n",
       "      <th>accuracy</th>\n",
       "      <th>time</th>\n",
       "    </tr>\n",
       "  </thead>\n",
       "  <tbody>\n",
       "    <tr>\n",
       "      <td>0</td>\n",
       "      <td>0.310698</td>\n",
       "      <td>0.269283</td>\n",
       "      <td>0.883400</td>\n",
       "      <td>04:48</td>\n",
       "    </tr>\n",
       "    <tr>\n",
       "      <td>1</td>\n",
       "      <td>0.242144</td>\n",
       "      <td>0.204152</td>\n",
       "      <td>0.921480</td>\n",
       "      <td>04:49</td>\n",
       "    </tr>\n",
       "    <tr>\n",
       "      <td>2</td>\n",
       "      <td>0.180471</td>\n",
       "      <td>0.185548</td>\n",
       "      <td>0.931320</td>\n",
       "      <td>04:50</td>\n",
       "    </tr>\n",
       "    <tr>\n",
       "      <td>3</td>\n",
       "      <td>0.144198</td>\n",
       "      <td>0.190639</td>\n",
       "      <td>0.931160</td>\n",
       "      <td>04:49</td>\n",
       "    </tr>\n",
       "  </tbody>\n",
       "</table>"
      ],
      "text/plain": [
       "<IPython.core.display.HTML object>"
      ]
     },
     "metadata": {},
     "output_type": "display_data"
    }
   ],
   "source": [
    "dls = TextDataLoaders.from_folder(path, valid='test')\n",
    "learn = text_classifier_learner(dls, AWD_LSTM, drop_mult=0.5, metrics=accuracy)\n",
    "learn.fine_tune(4, 1e-2)"
   ]
  },
  {
   "cell_type": "code",
   "execution_count": null,
   "metadata": {
    "execution": {
     "iopub.execute_input": "2022-05-02T06:43:05.405986Z",
     "iopub.status.busy": "2022-05-02T06:43:05.405887Z",
     "iopub.status.idle": "2022-05-02T06:43:05.428944Z",
     "shell.execute_reply": "2022-05-02T06:43:05.428593Z",
     "shell.execute_reply.started": "2022-05-02T06:43:05.405972Z"
    },
    "id": "f9In72iywayi",
    "outputId": "99f7b331-c46d-489f-f279-fae2313103df",
    "tags": []
   },
   "outputs": [
    {
     "data": {
      "text/html": [],
      "text/plain": [
       "<IPython.core.display.HTML object>"
      ]
     },
     "metadata": {},
     "output_type": "display_data"
    },
    {
     "data": {
      "text/plain": [
       "('pos', TensorText(1), TensorText([3.5822e-04, 9.9964e-01]))"
      ]
     },
     "execution_count": 8,
     "metadata": {},
     "output_type": "execute_result"
    }
   ],
   "source": [
    "learn.predict(\"I really liked that movie!\")"
   ]
  },
  {
   "cell_type": "markdown",
   "metadata": {
    "id": "DCXfuj8mwayj"
   },
   "source": [
    "## Domain Adaptation and Transfer Learning \n",
    "- Step1: Fine Tune a language model using data from your domain (Domain adaptation)\n",
    "- Step2: Use Fine-tuned Language Model for Classiifcation Task (Transfer Learning)"
   ]
  },
  {
   "cell_type": "markdown",
   "metadata": {
    "id": "023pv8wSwayk"
   },
   "source": [
    "### Fine-Tuning the Language Model"
   ]
  },
  {
   "cell_type": "code",
   "execution_count": null,
   "metadata": {
    "execution": {
     "iopub.execute_input": "2022-05-02T06:43:41.025524Z",
     "iopub.status.busy": "2022-05-02T06:43:41.025294Z",
     "iopub.status.idle": "2022-05-02T06:43:41.027677Z",
     "shell.execute_reply": "2022-05-02T06:43:41.027320Z",
     "shell.execute_reply.started": "2022-05-02T06:43:41.025510Z"
    },
    "id": "5zcgZqJhwayl",
    "tags": []
   },
   "outputs": [],
   "source": [
    "get_imdb = partial(get_text_files, folders=['train', 'test', 'unsup'])"
   ]
  },
  {
   "cell_type": "code",
   "execution_count": null,
   "metadata": {
    "execution": {
     "iopub.execute_input": "2022-05-02T06:43:42.610259Z",
     "iopub.status.busy": "2022-05-02T06:43:42.610119Z",
     "iopub.status.idle": "2022-05-02T06:43:44.715764Z",
     "shell.execute_reply": "2022-05-02T06:43:44.715307Z",
     "shell.execute_reply.started": "2022-05-02T06:43:42.610246Z"
    },
    "id": "WkPFpVq0waym",
    "tags": []
   },
   "outputs": [],
   "source": [
    "dls_lm = DataBlock(\n",
    "    blocks=TextBlock.from_folder(path, is_lm=True),\n",
    "    get_items=get_imdb, splitter=RandomSplitter(0.1)\n",
    ").dataloaders(path, path, bs=128, seq_len=80)"
   ]
  },
  {
   "cell_type": "code",
   "execution_count": null,
   "metadata": {
    "execution": {
     "iopub.execute_input": "2022-05-02T06:43:45.925361Z",
     "iopub.status.busy": "2022-05-02T06:43:45.925214Z",
     "iopub.status.idle": "2022-05-02T06:43:46.199836Z",
     "shell.execute_reply": "2022-05-02T06:43:46.199516Z",
     "shell.execute_reply.started": "2022-05-02T06:43:45.925348Z"
    },
    "id": "XYrmUn8Swaym",
    "outputId": "05ea8981-03e4-425a-cbcf-411d5a43d396",
    "tags": []
   },
   "outputs": [
    {
     "data": {
      "text/html": [
       "<table border=\"1\" class=\"dataframe\">\n",
       "  <thead>\n",
       "    <tr style=\"text-align: right;\">\n",
       "      <th></th>\n",
       "      <th>text</th>\n",
       "      <th>text_</th>\n",
       "    </tr>\n",
       "  </thead>\n",
       "  <tbody>\n",
       "    <tr>\n",
       "      <th>0</th>\n",
       "      <td>xxbos xxmaj detective xxmaj barney xxmaj caine ( george xxup c. xxmaj scott ) gets involved in an increasingly twist - laden plot that begins when an old friend of his is found murdered . xxmaj as it progresses , he travels to xxmaj germany , speaks to a variety of characters , and hooks up with a grieving young woman ( marthe xxmaj keller ) . xxmaj the story actually began back at the end of xxmaj world xxmaj</td>\n",
       "      <td>xxmaj detective xxmaj barney xxmaj caine ( george xxup c. xxmaj scott ) gets involved in an increasingly twist - laden plot that begins when an old friend of his is found murdered . xxmaj as it progresses , he travels to xxmaj germany , speaks to a variety of characters , and hooks up with a grieving young woman ( marthe xxmaj keller ) . xxmaj the story actually began back at the end of xxmaj world xxmaj war</td>\n",
       "    </tr>\n",
       "    <tr>\n",
       "      <th>1</th>\n",
       "      <td>of the movie i had decided that this was a good thing , when seven i though the ' relationship ' guff was a bad thing . \\n\\n xxmaj for an action film there is also plenty of gratifying gory action , especially a couple of epic battle scenes between the platoon and hordes of xxmaj shogun era warriors . xxmaj the makers of the movie have ensured that as many deaths as possible are bloody and , lets face</td>\n",
       "      <td>the movie i had decided that this was a good thing , when seven i though the ' relationship ' guff was a bad thing . \\n\\n xxmaj for an action film there is also plenty of gratifying gory action , especially a couple of epic battle scenes between the platoon and hordes of xxmaj shogun era warriors . xxmaj the makers of the movie have ensured that as many deaths as possible are bloody and , lets face it</td>\n",
       "    </tr>\n",
       "  </tbody>\n",
       "</table>"
      ],
      "text/plain": [
       "<IPython.core.display.HTML object>"
      ]
     },
     "metadata": {},
     "output_type": "display_data"
    }
   ],
   "source": [
    "dls_lm.show_batch(max_n=2)"
   ]
  },
  {
   "cell_type": "code",
   "execution_count": null,
   "metadata": {
    "execution": {
     "iopub.execute_input": "2022-04-30T12:26:49.040826Z",
     "iopub.status.busy": "2022-04-30T12:26:49.040644Z",
     "iopub.status.idle": "2022-04-30T12:26:50.207393Z",
     "shell.execute_reply": "2022-04-30T12:26:50.207018Z",
     "shell.execute_reply.started": "2022-04-30T12:26:49.040796Z"
    },
    "id": "N3ossyUEwayn",
    "tags": []
   },
   "outputs": [],
   "source": [
    "learn = language_model_learner(\n",
    "    dls_lm, AWD_LSTM, drop_mult=0.3, \n",
    "    metrics=[accuracy, Perplexity()]).to_fp16()"
   ]
  },
  {
   "cell_type": "code",
   "execution_count": null,
   "metadata": {
    "execution": {
     "iopub.execute_input": "2022-04-30T11:22:22.850387Z",
     "iopub.status.busy": "2022-04-30T11:22:22.850176Z",
     "iopub.status.idle": "2022-04-30T11:50:33.292600Z",
     "shell.execute_reply": "2022-04-30T11:50:33.292266Z",
     "shell.execute_reply.started": "2022-04-30T11:22:22.850368Z"
    },
    "id": "msCTZbbOwayo",
    "outputId": "04b592c6-6e53-4191-94e4-9e0c108e1930",
    "tags": []
   },
   "outputs": [
    {
     "data": {
      "text/html": [
       "<table border=\"1\" class=\"dataframe\">\n",
       "  <thead>\n",
       "    <tr style=\"text-align: left;\">\n",
       "      <th>epoch</th>\n",
       "      <th>train_loss</th>\n",
       "      <th>valid_loss</th>\n",
       "      <th>accuracy</th>\n",
       "      <th>perplexity</th>\n",
       "      <th>time</th>\n",
       "    </tr>\n",
       "  </thead>\n",
       "  <tbody>\n",
       "    <tr>\n",
       "      <td>0</td>\n",
       "      <td>3.986422</td>\n",
       "      <td>3.899642</td>\n",
       "      <td>0.300608</td>\n",
       "      <td>49.384743</td>\n",
       "      <td>28:10</td>\n",
       "    </tr>\n",
       "  </tbody>\n",
       "</table>"
      ],
      "text/plain": [
       "<IPython.core.display.HTML object>"
      ]
     },
     "metadata": {},
     "output_type": "display_data"
    }
   ],
   "source": [
    "learn.fit_one_cycle(1, 2e-2)"
   ]
  },
  {
   "cell_type": "markdown",
   "metadata": {
    "id": "qEBfoJJ-wayp"
   },
   "source": [
    "#### Saving and Loading Models"
   ]
  },
  {
   "cell_type": "code",
   "execution_count": null,
   "metadata": {
    "execution": {
     "iopub.execute_input": "2022-04-30T12:26:55.550857Z",
     "iopub.status.busy": "2022-04-30T12:26:55.550692Z",
     "iopub.status.idle": "2022-04-30T12:26:55.553371Z",
     "shell.execute_reply": "2022-04-30T12:26:55.553116Z",
     "shell.execute_reply.started": "2022-04-30T12:26:55.550828Z"
    },
    "id": "WBl1Ajl1wayp",
    "outputId": "b4c69711-8d26-40ed-b9e8-0f5d6fe8b530",
    "tags": []
   },
   "outputs": [
    {
     "data": {
      "text/plain": [
       "Path('/home/harpreet/Insync/google_drive_shaannoor/datasets/data/imdb')"
      ]
     },
     "execution_count": 12,
     "metadata": {},
     "output_type": "execute_result"
    }
   ],
   "source": [
    "learn.path"
   ]
  },
  {
   "cell_type": "code",
   "execution_count": null,
   "metadata": {
    "execution": {
     "iopub.execute_input": "2022-04-30T12:06:01.826648Z",
     "iopub.status.busy": "2022-04-30T12:06:01.826504Z",
     "iopub.status.idle": "2022-04-30T12:06:02.246923Z",
     "shell.execute_reply": "2022-04-30T12:06:02.246432Z",
     "shell.execute_reply.started": "2022-04-30T12:06:01.826635Z"
    },
    "id": "ejua6qqOwayp",
    "outputId": "947114ca-6004-4485-f717-e6f1ee456e31",
    "tags": []
   },
   "outputs": [
    {
     "data": {
      "text/plain": [
       "Path('/home/harpreet/Insync/google_drive_shaannoor/datasets/data/imdb/models/1epoch.pth')"
      ]
     },
     "execution_count": 45,
     "metadata": {},
     "output_type": "execute_result"
    }
   ],
   "source": [
    "learn.save('1epoch')"
   ]
  },
  {
   "cell_type": "code",
   "execution_count": null,
   "metadata": {
    "execution": {
     "iopub.execute_input": "2022-04-30T12:26:58.791872Z",
     "iopub.status.busy": "2022-04-30T12:26:58.791706Z",
     "iopub.status.idle": "2022-04-30T12:26:59.040122Z",
     "shell.execute_reply": "2022-04-30T12:26:59.039713Z",
     "shell.execute_reply.started": "2022-04-30T12:26:58.791856Z"
    },
    "id": "bVb9u88Owayq",
    "tags": []
   },
   "outputs": [],
   "source": [
    "learn = learn.load('1epoch')"
   ]
  },
  {
   "cell_type": "code",
   "execution_count": null,
   "metadata": {
    "execution": {
     "iopub.execute_input": "2022-04-30T12:27:00.766663Z",
     "iopub.status.busy": "2022-04-30T12:27:00.766506Z",
     "iopub.status.idle": "2022-04-30T17:41:22.681589Z",
     "shell.execute_reply": "2022-04-30T17:41:22.681213Z",
     "shell.execute_reply.started": "2022-04-30T12:27:00.766649Z"
    },
    "id": "5ayjAni6wayr",
    "outputId": "0a78f97f-e876-45d9-8045-50b79e745a27",
    "tags": []
   },
   "outputs": [
    {
     "data": {
      "text/html": [
       "<table border=\"1\" class=\"dataframe\">\n",
       "  <thead>\n",
       "    <tr style=\"text-align: left;\">\n",
       "      <th>epoch</th>\n",
       "      <th>train_loss</th>\n",
       "      <th>valid_loss</th>\n",
       "      <th>accuracy</th>\n",
       "      <th>perplexity</th>\n",
       "      <th>time</th>\n",
       "    </tr>\n",
       "  </thead>\n",
       "  <tbody>\n",
       "    <tr>\n",
       "      <td>0</td>\n",
       "      <td>3.775334</td>\n",
       "      <td>3.679386</td>\n",
       "      <td>0.321670</td>\n",
       "      <td>39.622074</td>\n",
       "      <td>31:17</td>\n",
       "    </tr>\n",
       "    <tr>\n",
       "      <td>1</td>\n",
       "      <td>3.702650</td>\n",
       "      <td>3.643580</td>\n",
       "      <td>0.326642</td>\n",
       "      <td>38.228447</td>\n",
       "      <td>32:24</td>\n",
       "    </tr>\n",
       "    <tr>\n",
       "      <td>2</td>\n",
       "      <td>3.638296</td>\n",
       "      <td>3.606509</td>\n",
       "      <td>0.331719</td>\n",
       "      <td>36.837238</td>\n",
       "      <td>31:53</td>\n",
       "    </tr>\n",
       "    <tr>\n",
       "      <td>3</td>\n",
       "      <td>3.570001</td>\n",
       "      <td>3.580097</td>\n",
       "      <td>0.334851</td>\n",
       "      <td>35.877010</td>\n",
       "      <td>32:04</td>\n",
       "    </tr>\n",
       "    <tr>\n",
       "      <td>4</td>\n",
       "      <td>3.505574</td>\n",
       "      <td>3.558936</td>\n",
       "      <td>0.337656</td>\n",
       "      <td>35.125797</td>\n",
       "      <td>31:18</td>\n",
       "    </tr>\n",
       "    <tr>\n",
       "      <td>5</td>\n",
       "      <td>3.435345</td>\n",
       "      <td>3.545428</td>\n",
       "      <td>0.339654</td>\n",
       "      <td>34.654507</td>\n",
       "      <td>30:46</td>\n",
       "    </tr>\n",
       "    <tr>\n",
       "      <td>6</td>\n",
       "      <td>3.368109</td>\n",
       "      <td>3.534763</td>\n",
       "      <td>0.341558</td>\n",
       "      <td>34.286892</td>\n",
       "      <td>31:03</td>\n",
       "    </tr>\n",
       "    <tr>\n",
       "      <td>7</td>\n",
       "      <td>3.294571</td>\n",
       "      <td>3.532240</td>\n",
       "      <td>0.342481</td>\n",
       "      <td>34.200504</td>\n",
       "      <td>31:09</td>\n",
       "    </tr>\n",
       "    <tr>\n",
       "      <td>8</td>\n",
       "      <td>3.237670</td>\n",
       "      <td>3.534461</td>\n",
       "      <td>0.342661</td>\n",
       "      <td>34.276550</td>\n",
       "      <td>31:06</td>\n",
       "    </tr>\n",
       "    <tr>\n",
       "      <td>9</td>\n",
       "      <td>3.229012</td>\n",
       "      <td>3.538148</td>\n",
       "      <td>0.342501</td>\n",
       "      <td>34.403133</td>\n",
       "      <td>31:18</td>\n",
       "    </tr>\n",
       "  </tbody>\n",
       "</table>"
      ],
      "text/plain": [
       "<IPython.core.display.HTML object>"
      ]
     },
     "metadata": {},
     "output_type": "display_data"
    }
   ],
   "source": [
    "learn.unfreeze()\n",
    "learn.fit_one_cycle(10, 2e-3)"
   ]
  },
  {
   "cell_type": "code",
   "execution_count": null,
   "metadata": {
    "execution": {
     "iopub.execute_input": "2022-04-30T17:41:22.682375Z",
     "iopub.status.busy": "2022-04-30T17:41:22.682249Z",
     "iopub.status.idle": "2022-04-30T17:41:22.876549Z",
     "shell.execute_reply": "2022-04-30T17:41:22.876148Z",
     "shell.execute_reply.started": "2022-04-30T17:41:22.682362Z"
    },
    "id": "8cm0d8w_wayr"
   },
   "outputs": [],
   "source": [
    "learn.save_encoder('finetuned')"
   ]
  },
  {
   "cell_type": "markdown",
   "metadata": {
    "id": "8YSLF65Gways"
   },
   "source": [
    "### Transfer Learning using Fine-Tuned Language Model"
   ]
  },
  {
   "cell_type": "code",
   "execution_count": null,
   "metadata": {
    "execution": {
     "iopub.execute_input": "2022-05-02T06:47:25.665231Z",
     "iopub.status.busy": "2022-05-02T06:47:25.664857Z",
     "iopub.status.idle": "2022-05-02T06:47:28.380766Z",
     "shell.execute_reply": "2022-05-02T06:47:28.380273Z",
     "shell.execute_reply.started": "2022-05-02T06:47:25.665214Z"
    },
    "id": "xmayPF7nways"
   },
   "outputs": [],
   "source": [
    "dls_clas = DataBlock(\n",
    "    blocks=(TextBlock.from_folder(path, vocab=dls_lm.vocab),CategoryBlock),\n",
    "    get_y = parent_label,\n",
    "    get_items=partial(get_text_files, folders=['train', 'test']),\n",
    "    splitter=GrandparentSplitter(valid_name='test')\n",
    ").dataloaders(path, path=path, bs=128, seq_len=72)"
   ]
  },
  {
   "cell_type": "code",
   "execution_count": null,
   "metadata": {
    "execution": {
     "iopub.execute_input": "2022-05-02T06:47:32.230235Z",
     "iopub.status.busy": "2022-05-02T06:47:32.229599Z",
     "iopub.status.idle": "2022-05-02T06:47:32.416653Z",
     "shell.execute_reply": "2022-05-02T06:47:32.416320Z",
     "shell.execute_reply.started": "2022-05-02T06:47:32.230190Z"
    },
    "id": "JTBZ24Cnwayt",
    "outputId": "d666e78b-55c7-4b4d-fba7-98e9c1b8246b"
   },
   "outputs": [
    {
     "data": {
      "text/html": [
       "<table border=\"1\" class=\"dataframe\">\n",
       "  <thead>\n",
       "    <tr style=\"text-align: right;\">\n",
       "      <th></th>\n",
       "      <th>text</th>\n",
       "      <th>category</th>\n",
       "    </tr>\n",
       "  </thead>\n",
       "  <tbody>\n",
       "    <tr>\n",
       "      <th>0</th>\n",
       "      <td>xxbos xxmaj match 1 : xxmaj tag xxmaj team xxmaj table xxmaj match xxmaj bubba xxmaj ray and xxmaj spike xxmaj dudley vs xxmaj eddie xxmaj guerrero and xxmaj chris xxmaj benoit xxmaj bubba xxmaj ray and xxmaj spike xxmaj dudley started things off with a xxmaj tag xxmaj team xxmaj table xxmaj match against xxmaj eddie xxmaj guerrero and xxmaj chris xxmaj benoit . xxmaj according to the rules of the match , both opponents have to go through tables in order to get the win . xxmaj benoit and xxmaj guerrero heated up early on by taking turns hammering first xxmaj spike and then xxmaj bubba xxmaj ray . a xxmaj german xxunk by xxmaj benoit to xxmaj bubba took the wind out of the xxmaj dudley brother . xxmaj spike tried to help his brother , but the referee restrained him while xxmaj benoit and xxmaj guerrero</td>\n",
       "      <td>pos</td>\n",
       "    </tr>\n",
       "    <tr>\n",
       "      <th>1</th>\n",
       "      <td>xxbos * * attention xxmaj spoilers * * \\n\\n xxmaj first of all , let me say that xxmaj rob xxmaj roy is one of the best films of the 90 's . xxmaj it was an amazing achievement for all those involved , especially the acting of xxmaj liam xxmaj neeson , xxmaj jessica xxmaj lange , xxmaj john xxmaj hurt , xxmaj brian xxmaj cox , and xxmaj tim xxmaj roth . xxmaj michael xxmaj canton xxmaj jones painted a wonderful portrait of the honor and dishonor that men can represent in themselves . xxmaj but alas … \\n\\n it constantly , and unfairly gets compared to \" braveheart \" . xxmaj these are two entirely different films , probably only similar in the fact that they are both about xxmaj scots in historical xxmaj scotland . xxmaj yet , this comparison frequently bothers me because it seems</td>\n",
       "      <td>pos</td>\n",
       "    </tr>\n",
       "    <tr>\n",
       "      <th>2</th>\n",
       "      <td>xxbos xxmaj by now you 've probably heard a bit about the new xxmaj disney dub of xxmaj miyazaki 's classic film , xxmaj laputa : xxmaj castle xxmaj in xxmaj the xxmaj sky . xxmaj during late summer of 1998 , xxmaj disney released \" kiki 's xxmaj delivery xxmaj service \" on video which included a preview of the xxmaj laputa dub saying it was due out in \" 1 xxrep 3 9 \" . xxmaj it 's obviously way past that year now , but the dub has been finally completed . xxmaj and it 's not \" laputa : xxmaj castle xxmaj in xxmaj the xxmaj sky \" , just \" castle xxmaj in xxmaj the xxmaj sky \" for the dub , since xxmaj laputa is not such a nice word in xxmaj spanish ( even though they use the word xxmaj laputa many times</td>\n",
       "      <td>pos</td>\n",
       "    </tr>\n",
       "  </tbody>\n",
       "</table>"
      ],
      "text/plain": [
       "<IPython.core.display.HTML object>"
      ]
     },
     "metadata": {},
     "output_type": "display_data"
    }
   ],
   "source": [
    "dls_clas.show_batch(max_n=3)"
   ]
  },
  {
   "cell_type": "code",
   "execution_count": null,
   "metadata": {
    "execution": {
     "iopub.execute_input": "2022-05-02T06:48:03.791753Z",
     "iopub.status.busy": "2022-05-02T06:48:03.791438Z",
     "iopub.status.idle": "2022-05-02T06:48:04.545859Z",
     "shell.execute_reply": "2022-05-02T06:48:04.545469Z",
     "shell.execute_reply.started": "2022-05-02T06:48:03.791738Z"
    },
    "id": "Z3G0xzNrwayt"
   },
   "outputs": [],
   "source": [
    "learn = text_classifier_learner(dls_clas, AWD_LSTM, drop_mult=0.5, \n",
    "                                metrics=accuracy).to_fp16()"
   ]
  },
  {
   "cell_type": "code",
   "execution_count": null,
   "metadata": {
    "execution": {
     "iopub.execute_input": "2022-05-02T06:48:05.723662Z",
     "iopub.status.busy": "2022-05-02T06:48:05.723524Z",
     "iopub.status.idle": "2022-05-02T06:48:05.863179Z",
     "shell.execute_reply": "2022-05-02T06:48:05.862672Z",
     "shell.execute_reply.started": "2022-05-02T06:48:05.723650Z"
    },
    "id": "5iPIkrLmwayu"
   },
   "outputs": [],
   "source": [
    "learn = learn.load_encoder('finetuned')"
   ]
  },
  {
   "cell_type": "markdown",
   "metadata": {
    "id": "Wiq4eQOQwayu"
   },
   "source": [
    "### Fine-Tuning the Classifier"
   ]
  },
  {
   "cell_type": "code",
   "execution_count": null,
   "metadata": {
    "execution": {
     "iopub.execute_input": "2022-05-02T06:48:11.562387Z",
     "iopub.status.busy": "2022-05-02T06:48:11.562220Z",
     "iopub.status.idle": "2022-05-02T06:48:46.280541Z",
     "shell.execute_reply": "2022-05-02T06:48:46.280188Z",
     "shell.execute_reply.started": "2022-05-02T06:48:11.562358Z"
    },
    "id": "p29oX2DGwayu",
    "outputId": "316940e5-ad09-4ffe-db2c-c2570856cd71"
   },
   "outputs": [
    {
     "data": {
      "text/html": [
       "<table border=\"1\" class=\"dataframe\">\n",
       "  <thead>\n",
       "    <tr style=\"text-align: left;\">\n",
       "      <th>epoch</th>\n",
       "      <th>train_loss</th>\n",
       "      <th>valid_loss</th>\n",
       "      <th>accuracy</th>\n",
       "      <th>time</th>\n",
       "    </tr>\n",
       "  </thead>\n",
       "  <tbody>\n",
       "    <tr>\n",
       "      <td>0</td>\n",
       "      <td>0.248818</td>\n",
       "      <td>0.180218</td>\n",
       "      <td>0.931480</td>\n",
       "      <td>00:34</td>\n",
       "    </tr>\n",
       "  </tbody>\n",
       "</table>"
      ],
      "text/plain": [
       "<IPython.core.display.HTML object>"
      ]
     },
     "metadata": {},
     "output_type": "display_data"
    }
   ],
   "source": [
    "learn.fit_one_cycle(1, 2e-2)"
   ]
  },
  {
   "cell_type": "code",
   "execution_count": null,
   "metadata": {
    "execution": {
     "iopub.execute_input": "2022-05-02T06:48:46.281340Z",
     "iopub.status.busy": "2022-05-02T06:48:46.281237Z",
     "iopub.status.idle": "2022-05-02T06:49:27.013525Z",
     "shell.execute_reply": "2022-05-02T06:49:27.013177Z",
     "shell.execute_reply.started": "2022-05-02T06:48:46.281326Z"
    },
    "id": "YaBmgbsZwayv",
    "outputId": "b14f1a38-1e8d-43d5-cb99-b97de4a357f5"
   },
   "outputs": [
    {
     "data": {
      "text/html": [
       "<table border=\"1\" class=\"dataframe\">\n",
       "  <thead>\n",
       "    <tr style=\"text-align: left;\">\n",
       "      <th>epoch</th>\n",
       "      <th>train_loss</th>\n",
       "      <th>valid_loss</th>\n",
       "      <th>accuracy</th>\n",
       "      <th>time</th>\n",
       "    </tr>\n",
       "  </thead>\n",
       "  <tbody>\n",
       "    <tr>\n",
       "      <td>0</td>\n",
       "      <td>0.223589</td>\n",
       "      <td>0.166465</td>\n",
       "      <td>0.937800</td>\n",
       "      <td>00:40</td>\n",
       "    </tr>\n",
       "  </tbody>\n",
       "</table>"
      ],
      "text/plain": [
       "<IPython.core.display.HTML object>"
      ]
     },
     "metadata": {},
     "output_type": "display_data"
    }
   ],
   "source": [
    "learn.freeze_to(-2)\n",
    "learn.fit_one_cycle(1, slice(1e-2/(2.6**4),1e-2))"
   ]
  },
  {
   "cell_type": "code",
   "execution_count": null,
   "metadata": {
    "execution": {
     "iopub.execute_input": "2022-05-02T06:49:27.014288Z",
     "iopub.status.busy": "2022-05-02T06:49:27.014137Z",
     "iopub.status.idle": "2022-05-02T06:50:21.357790Z",
     "shell.execute_reply": "2022-05-02T06:50:21.357486Z",
     "shell.execute_reply.started": "2022-05-02T06:49:27.014273Z"
    },
    "id": "Gt2uxA0Wwayv",
    "outputId": "911c5c5b-538d-4be9-ada6-0bd46db115c8"
   },
   "outputs": [
    {
     "data": {
      "text/html": [
       "<table border=\"1\" class=\"dataframe\">\n",
       "  <thead>\n",
       "    <tr style=\"text-align: left;\">\n",
       "      <th>epoch</th>\n",
       "      <th>train_loss</th>\n",
       "      <th>valid_loss</th>\n",
       "      <th>accuracy</th>\n",
       "      <th>time</th>\n",
       "    </tr>\n",
       "  </thead>\n",
       "  <tbody>\n",
       "    <tr>\n",
       "      <td>0</td>\n",
       "      <td>0.193567</td>\n",
       "      <td>0.153479</td>\n",
       "      <td>0.942720</td>\n",
       "      <td>00:54</td>\n",
       "    </tr>\n",
       "  </tbody>\n",
       "</table>"
      ],
      "text/plain": [
       "<IPython.core.display.HTML object>"
      ]
     },
     "metadata": {},
     "output_type": "display_data"
    }
   ],
   "source": [
    "learn.freeze_to(-3)\n",
    "learn.fit_one_cycle(1, slice(5e-3/(2.6**4),5e-3))"
   ]
  },
  {
   "cell_type": "code",
   "execution_count": null,
   "metadata": {
    "execution": {
     "iopub.execute_input": "2022-05-02T06:50:21.358672Z",
     "iopub.status.busy": "2022-05-02T06:50:21.358546Z",
     "iopub.status.idle": "2022-05-02T06:52:38.690420Z",
     "shell.execute_reply": "2022-05-02T06:52:38.690001Z",
     "shell.execute_reply.started": "2022-05-02T06:50:21.358658Z"
    },
    "id": "M4DsUR5Owayv",
    "outputId": "5f4bfa9a-f985-4a60-b6f8-936597a33920"
   },
   "outputs": [
    {
     "data": {
      "text/html": [
       "<table border=\"1\" class=\"dataframe\">\n",
       "  <thead>\n",
       "    <tr style=\"text-align: left;\">\n",
       "      <th>epoch</th>\n",
       "      <th>train_loss</th>\n",
       "      <th>valid_loss</th>\n",
       "      <th>accuracy</th>\n",
       "      <th>time</th>\n",
       "    </tr>\n",
       "  </thead>\n",
       "  <tbody>\n",
       "    <tr>\n",
       "      <td>0</td>\n",
       "      <td>0.157099</td>\n",
       "      <td>0.149862</td>\n",
       "      <td>0.944840</td>\n",
       "      <td>01:08</td>\n",
       "    </tr>\n",
       "    <tr>\n",
       "      <td>1</td>\n",
       "      <td>0.147127</td>\n",
       "      <td>0.149495</td>\n",
       "      <td>0.945840</td>\n",
       "      <td>01:08</td>\n",
       "    </tr>\n",
       "  </tbody>\n",
       "</table>"
      ],
      "text/plain": [
       "<IPython.core.display.HTML object>"
      ]
     },
     "metadata": {},
     "output_type": "display_data"
    }
   ],
   "source": [
    "learn.unfreeze()\n",
    "learn.fit_one_cycle(2, slice(1e-3/(2.6**4),1e-3))"
   ]
  },
  {
   "cell_type": "code",
   "execution_count": null,
   "metadata": {
    "id": "1i_MpkmPEEG6"
   },
   "outputs": [],
   "source": []
  }
 ],
 "metadata": {
  "colab": {
   "name": "Transfer_Learning_IMDB.ipynb",
   "provenance": []
  },
  "jupytext": {
   "split_at_heading": true
  },
  "kernelspec": {
   "display_name": "Python 3 (ipykernel)",
   "language": "python",
   "name": "python3"
  },
  "language_info": {
   "codemirror_mode": {
    "name": "ipython",
    "version": 3
   },
   "file_extension": ".py",
   "mimetype": "text/x-python",
   "name": "python",
   "nbconvert_exporter": "python",
   "pygments_lexer": "ipython3",
   "version": "3.8.2"
  },
  "toc-autonumbering": false
 },
 "nbformat": 4,
 "nbformat_minor": 4
}
