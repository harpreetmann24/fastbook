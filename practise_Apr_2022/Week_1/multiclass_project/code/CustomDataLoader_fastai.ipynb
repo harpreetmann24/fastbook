{
 "cells": [
  {
   "cell_type": "markdown",
   "metadata": {
    "id": "QS0QzJ5k_Ayp"
   },
   "source": [
    "# Creating Dataloaders for Language Model\n",
    "We want to make sure that the sequence length is same in all the batches\n",
    "\n",
    "https://github.com/bentrevett/pytorch-language-modeling/blob/main/1_lstm_lm.ipynb"
   ]
  },
  {
   "cell_type": "code",
   "execution_count": 4,
   "metadata": {
    "execution": {
     "iopub.execute_input": "2022-05-12T19:53:13.306217Z",
     "iopub.status.busy": "2022-05-12T19:53:13.306046Z",
     "iopub.status.idle": "2022-05-12T19:53:13.308315Z",
     "shell.execute_reply": "2022-05-12T19:53:13.308007Z",
     "shell.execute_reply.started": "2022-05-12T19:53:13.306202Z"
    },
    "tags": []
   },
   "outputs": [],
   "source": [
    "from fastai.text.all import *\n",
    "import joblib\n",
    "#import pandas as pd\n",
    "#import swifter\n",
    "#from bs4 import BeautifulSoup"
   ]
  },
  {
   "cell_type": "markdown",
   "metadata": {
    "id": "aKyrMBqx_Aym"
   },
   "source": [
    "## Load Data"
   ]
  },
  {
   "cell_type": "code",
   "execution_count": 5,
   "metadata": {
    "execution": {
     "iopub.execute_input": "2022-05-12T19:53:17.945376Z",
     "iopub.status.busy": "2022-05-12T19:53:17.945246Z",
     "iopub.status.idle": "2022-05-12T19:53:17.947808Z",
     "shell.execute_reply": "2022-05-12T19:53:17.947444Z",
     "shell.execute_reply.started": "2022-05-12T19:53:17.945361Z"
    },
    "executionInfo": {
     "elapsed": 5,
     "status": "ok",
     "timestamp": 1651530638246,
     "user": {
      "displayName": "Shaannoor Mann",
      "userId": "02520257695567980696"
     },
     "user_tz": 300
    },
    "id": "amICzIe3_Aym",
    "tags": []
   },
   "outputs": [],
   "source": [
    "#path= Path('/scratch/08791/hsingh24/datasets')\n",
    "path = Path('/home/harpreet/Insync/google_drive_shaannoor/Machine_Learning/2_Courses/DL_fastai/fastai_course/fastai_course/practise_Apr_2022/Week_1/multiclass_project/datasets')"
   ]
  },
  {
   "cell_type": "code",
   "execution_count": 6,
   "metadata": {
    "execution": {
     "iopub.execute_input": "2022-05-12T19:53:18.850079Z",
     "iopub.status.busy": "2022-05-12T19:53:18.849924Z",
     "iopub.status.idle": "2022-05-12T19:53:27.018611Z",
     "shell.execute_reply": "2022-05-12T19:53:27.018204Z",
     "shell.execute_reply.started": "2022-05-12T19:53:18.850053Z"
    },
    "tags": []
   },
   "outputs": [],
   "source": [
    "df_raw = joblib.load(path/'df_raw_cleaned.joblib')"
   ]
  },
  {
   "cell_type": "code",
   "execution_count": 7,
   "metadata": {
    "collapsed": true,
    "execution": {
     "iopub.execute_input": "2022-05-10T00:15:38.536767Z",
     "iopub.status.busy": "2022-05-10T00:15:38.536605Z",
     "iopub.status.idle": "2022-05-10T00:15:38.544972Z",
     "shell.execute_reply": "2022-05-10T00:15:38.544698Z",
     "shell.execute_reply.started": "2022-05-10T00:15:38.536752Z"
    },
    "jupyter": {
     "outputs_hidden": true
    },
    "tags": []
   },
   "outputs": [
    {
     "data": {
      "text/html": [
       "<div>\n",
       "<style scoped>\n",
       "    .dataframe tbody tr th:only-of-type {\n",
       "        vertical-align: middle;\n",
       "    }\n",
       "\n",
       "    .dataframe tbody tr th {\n",
       "        vertical-align: top;\n",
       "    }\n",
       "\n",
       "    .dataframe thead th {\n",
       "        text-align: right;\n",
       "    }\n",
       "</style>\n",
       "<table border=\"1\" class=\"dataframe\">\n",
       "  <thead>\n",
       "    <tr style=\"text-align: right;\">\n",
       "      <th></th>\n",
       "      <th>Unnamed: 0</th>\n",
       "      <th>Id</th>\n",
       "      <th>Title</th>\n",
       "      <th>Body</th>\n",
       "      <th>text</th>\n",
       "    </tr>\n",
       "  </thead>\n",
       "  <tbody>\n",
       "    <tr>\n",
       "      <th>0</th>\n",
       "      <td>0</td>\n",
       "      <td>1</td>\n",
       "      <td>How to check if an uploaded file is an image without mime type?</td>\n",
       "      <td>&lt;p&gt;I'd like to check if an uploaded file is an image file (e.g png, jpg, jpeg, gif, bmp) or another file. The problem is that I'm using Uploadify to upload the files, which changes the mime type and gives a 'text/octal' or something as the mime type, no matter which file type you upload.&lt;/p&gt;\\n\\n&lt;p&gt;Is there a way to check if the uploaded file is an image apart from checking the file extension using PHP?&lt;/p&gt;\\n</td>\n",
       "      <td>I'd like to check if an uploaded file is an image file (e.g png, jpg, jpeg, gif, bmp) or another file. The problem is that I'm using Uploadify to upload the files, which changes the mime type and gives a 'text/octal' or something as the mime type, no matter which file type you upload.  Is there a way to check if the uploaded file is an image apart from checking the file extension using PHP?</td>\n",
       "    </tr>\n",
       "    <tr>\n",
       "      <th>1</th>\n",
       "      <td>3</td>\n",
       "      <td>4</td>\n",
       "      <td>How do I replace special characters in a URL?</td>\n",
       "      <td>&lt;p&gt;This is probably very simple, but I simply cannot find the answer myself :( &lt;/p&gt;\\n\\n&lt;p&gt;Basicaly, what I want is, given this string:&lt;/p&gt;\\n\\n&lt;p&gt;\"http://www.google.com/search?hl=en&amp;amp;q=c# objects\"&lt;/p&gt;\\n\\n&lt;p&gt;I want this output:&lt;/p&gt;\\n\\n&lt;p&gt;&lt;a href=\"http://www.google.com/search?hl=en&amp;amp;q=c%23+objects\"&gt;http://www.google.com/search?hl=en&amp;amp;q=c%23+objects&lt;/a&gt;&lt;/p&gt;\\n\\n&lt;p&gt;I'm sure there's some helper class somewhere buried in the Framework that takes care of that for me, but I'm having trouble finding it.&lt;/p&gt;\\n\\n&lt;p&gt;EDIT: I should add, that this is for a Winforms App.&lt;/p&gt;\\n</td>\n",
       "      <td>This is probably very simple, but I simply cannot find the answer myself :(   Basicaly, what I want is, given this string:  \"http://www.google.com/search?hl=en&amp;q=c# objects\"  I want this output:  http://www.google.com/search?hl=en&amp;q=c%23+objects  I'm sure there's some helper class somewhere buried in the Framework that takes care of that for me, but I'm having trouble finding it.  EDIT: I should add, that this is for a Winforms App.</td>\n",
       "    </tr>\n",
       "    <tr>\n",
       "      <th>2</th>\n",
       "      <td>4</td>\n",
       "      <td>5</td>\n",
       "      <td>How to modify whois contact details?</td>\n",
       "      <td>&lt;pre&gt;&lt;code&gt;function modify(.......)\\n{\\n  $mcontact = file_get_contents( \"https://test.httpapi.com/api/contacts/modify.json?auth-userid=$uid&amp;amp;auth-password=$pass&amp;amp;contact-id=$cid&amp;amp;name=$name &amp;amp;company=$company&amp;amp;email=$email&amp;amp;address-line-1=$street&amp;amp;city=$city&amp;amp;country=$country&amp;amp;zipcode=$pincode&amp;amp;phone-cc=$countryCodeList[$phc]&amp;amp;phone=$phone\" );\\n\\n  $mdetails = json_decode( $mcontact, true );\\n\\n  return $mdetails;\\n}\\n&lt;/code&gt;&lt;/pre&gt;\\n\\n&lt;p&gt;using this modify function, displays warning mesage\\n&lt;/p&gt;\\n\\n&lt;pre class=\"lang-none prettyprint-override\"&gt;&lt;code&gt;Warning: ...</td>\n",
       "      <td>function modify(.......) {   $mcontact = file_get_contents( \"https://test.httpapi.com/api/contacts/modify.json?auth-userid=$uid&amp;auth-password=$pass&amp;contact-id=$cid&amp;name=$name &amp;company=$company&amp;email=$email&amp;address-line-1=$street&amp;city=$city&amp;country=$country&amp;zipcode=$pincode&amp;phone-cc=$countryCodeList[$phc]&amp;phone=$phone\" );    $mdetails = json_decode( $mcontact, true );    return $mdetails; }   using this modify function, displays warning mesage   Warning: file_get_contents(https://...@hihfg.com&amp;address-line-1=3,dfgdf,fgdf&amp;city=dfgfd&amp;country=India&amp;zipcode=641005&amp;phone-cc=91&amp;phone=756657)    [...</td>\n",
       "    </tr>\n",
       "    <tr>\n",
       "      <th>3</th>\n",
       "      <td>7</td>\n",
       "      <td>8</td>\n",
       "      <td>How to fetch an XML feed using asp.net</td>\n",
       "      <td>&lt;p&gt;I've decided to convert a Windows Phone 7 app that fetches an XML feed and then parses it to an asp.net web app, using Visual Web Developer Express. I figure since the code already works for WP7, it should be a matter of mostly copying and pasting it for the C# code behind. &lt;/p&gt;\\n\\n&lt;pre&gt;&lt;code&gt;HttpWebRequest request = HttpWebRequest.CreateHttp(\"http://webservices.nextbus.com/service/publicXMLFeed?command=routeConfig&amp;amp;a=sf-muni&amp;amp;r=\" + line1);\\n&lt;/code&gt;&lt;/pre&gt;\\n\\n&lt;p&gt;That's the first line of code from my WP7 app that fetches the XML feed, but I can't even get HttpWebRequest to work in V...</td>\n",
       "      <td>I've decided to convert a Windows Phone 7 app that fetches an XML feed and then parses it to an asp.net web app, using Visual Web Developer Express. I figure since the code already works for WP7, it should be a matter of mostly copying and pasting it for the C# code behind.   HttpWebRequest request = HttpWebRequest.CreateHttp(\"http://webservices.nextbus.com/service/publicXMLFeed?command=routeConfig&amp;a=sf-muni&amp;r=\" + line1);   That's the first line of code from my WP7 app that fetches the XML feed, but I can't even get HttpWebRequest to work in Visual Web Developer like that. Intellisense sho...</td>\n",
       "    </tr>\n",
       "    <tr>\n",
       "      <th>4</th>\n",
       "      <td>8</td>\n",
       "      <td>9</td>\n",
       "      <td>.NET library for generating javascript?</td>\n",
       "      <td>&lt;p&gt;Do you know of a .NET library for generating javascript code? &lt;/p&gt;\\n\\n&lt;p&gt;I want to generate javascript code based on information in my .NET application. I would like to be able to create an AST-like datastructure (using C#) and have it turned into valid javascript. I need to be able to create functions, statements, expressions etc., so I need something more than a JSON serializer - but I guess you could think of this as a (&lt;em&gt;very&lt;/em&gt;) generalized JSON serializer.&lt;/p&gt;\\n\\n&lt;p&gt;Do such libraries exist and if so, could you recommend any?&lt;/p&gt;\\n\\n&lt;p&gt;Thank you.&lt;/p&gt;\\n</td>\n",
       "      <td>Do you know of a .NET library for generating javascript code?   I want to generate javascript code based on information in my .NET application. I would like to be able to create an AST-like datastructure (using C#) and have it turned into valid javascript. I need to be able to create functions, statements, expressions etc., so I need something more than a JSON serializer - but I guess you could think of this as a (very) generalized JSON serializer.  Do such libraries exist and if so, could you recommend any?  Thank you.</td>\n",
       "    </tr>\n",
       "  </tbody>\n",
       "</table>\n",
       "</div>"
      ],
      "text/plain": [
       "   Unnamed: 0  Id  \\\n",
       "0           0   1   \n",
       "1           3   4   \n",
       "2           4   5   \n",
       "3           7   8   \n",
       "4           8   9   \n",
       "\n",
       "                                                             Title  \\\n",
       "0  How to check if an uploaded file is an image without mime type?   \n",
       "1                    How do I replace special characters in a URL?   \n",
       "2                             How to modify whois contact details?   \n",
       "3                           How to fetch an XML feed using asp.net   \n",
       "4                          .NET library for generating javascript?   \n",
       "\n",
       "                                                                                                                                                                                                                                                                                                                                                                                                                                                                                                                                                                                                                      Body  \\\n",
       "0                                                                                                                                                                                              <p>I'd like to check if an uploaded file is an image file (e.g png, jpg, jpeg, gif, bmp) or another file. The problem is that I'm using Uploadify to upload the files, which changes the mime type and gives a 'text/octal' or something as the mime type, no matter which file type you upload.</p>\\n\\n<p>Is there a way to check if the uploaded file is an image apart from checking the file extension using PHP?</p>\\n   \n",
       "1                          <p>This is probably very simple, but I simply cannot find the answer myself :( </p>\\n\\n<p>Basicaly, what I want is, given this string:</p>\\n\\n<p>\"http://www.google.com/search?hl=en&amp;q=c# objects\"</p>\\n\\n<p>I want this output:</p>\\n\\n<p><a href=\"http://www.google.com/search?hl=en&amp;q=c%23+objects\">http://www.google.com/search?hl=en&amp;q=c%23+objects</a></p>\\n\\n<p>I'm sure there's some helper class somewhere buried in the Framework that takes care of that for me, but I'm having trouble finding it.</p>\\n\\n<p>EDIT: I should add, that this is for a Winforms App.</p>\\n   \n",
       "2  <pre><code>function modify(.......)\\n{\\n  $mcontact = file_get_contents( \"https://test.httpapi.com/api/contacts/modify.json?auth-userid=$uid&amp;auth-password=$pass&amp;contact-id=$cid&amp;name=$name &amp;company=$company&amp;email=$email&amp;address-line-1=$street&amp;city=$city&amp;country=$country&amp;zipcode=$pincode&amp;phone-cc=$countryCodeList[$phc]&amp;phone=$phone\" );\\n\\n  $mdetails = json_decode( $mcontact, true );\\n\\n  return $mdetails;\\n}\\n</code></pre>\\n\\n<p>using this modify function, displays warning mesage\\n</p>\\n\\n<pre class=\"lang-none prettyprint-override\"><code>Warning: ...   \n",
       "3  <p>I've decided to convert a Windows Phone 7 app that fetches an XML feed and then parses it to an asp.net web app, using Visual Web Developer Express. I figure since the code already works for WP7, it should be a matter of mostly copying and pasting it for the C# code behind. </p>\\n\\n<pre><code>HttpWebRequest request = HttpWebRequest.CreateHttp(\"http://webservices.nextbus.com/service/publicXMLFeed?command=routeConfig&amp;a=sf-muni&amp;r=\" + line1);\\n</code></pre>\\n\\n<p>That's the first line of code from my WP7 app that fetches the XML feed, but I can't even get HttpWebRequest to work in V...   \n",
       "4                               <p>Do you know of a .NET library for generating javascript code? </p>\\n\\n<p>I want to generate javascript code based on information in my .NET application. I would like to be able to create an AST-like datastructure (using C#) and have it turned into valid javascript. I need to be able to create functions, statements, expressions etc., so I need something more than a JSON serializer - but I guess you could think of this as a (<em>very</em>) generalized JSON serializer.</p>\\n\\n<p>Do such libraries exist and if so, could you recommend any?</p>\\n\\n<p>Thank you.</p>\\n   \n",
       "\n",
       "                                                                                                                                                                                                                                                                                                                                                                                                                                                                                                                                                                                                                      text  \n",
       "0                                                                                                                                                                                                               I'd like to check if an uploaded file is an image file (e.g png, jpg, jpeg, gif, bmp) or another file. The problem is that I'm using Uploadify to upload the files, which changes the mime type and gives a 'text/octal' or something as the mime type, no matter which file type you upload.  Is there a way to check if the uploaded file is an image apart from checking the file extension using PHP?   \n",
       "1                                                                                                                                                                    This is probably very simple, but I simply cannot find the answer myself :(   Basicaly, what I want is, given this string:  \"http://www.google.com/search?hl=en&q=c# objects\"  I want this output:  http://www.google.com/search?hl=en&q=c%23+objects  I'm sure there's some helper class somewhere buried in the Framework that takes care of that for me, but I'm having trouble finding it.  EDIT: I should add, that this is for a Winforms App.   \n",
       "2  function modify(.......) {   $mcontact = file_get_contents( \"https://test.httpapi.com/api/contacts/modify.json?auth-userid=$uid&auth-password=$pass&contact-id=$cid&name=$name &company=$company&email=$email&address-line-1=$street&city=$city&country=$country&zipcode=$pincode&phone-cc=$countryCodeList[$phc]&phone=$phone\" );    $mdetails = json_decode( $mcontact, true );    return $mdetails; }   using this modify function, displays warning mesage   Warning: file_get_contents(https://...@hihfg.com&address-line-1=3,dfgdf,fgdf&city=dfgfd&country=India&zipcode=641005&phone-cc=91&phone=756657)    [...  \n",
       "3  I've decided to convert a Windows Phone 7 app that fetches an XML feed and then parses it to an asp.net web app, using Visual Web Developer Express. I figure since the code already works for WP7, it should be a matter of mostly copying and pasting it for the C# code behind.   HttpWebRequest request = HttpWebRequest.CreateHttp(\"http://webservices.nextbus.com/service/publicXMLFeed?command=routeConfig&a=sf-muni&r=\" + line1);   That's the first line of code from my WP7 app that fetches the XML feed, but I can't even get HttpWebRequest to work in Visual Web Developer like that. Intellisense sho...  \n",
       "4                                                                           Do you know of a .NET library for generating javascript code?   I want to generate javascript code based on information in my .NET application. I would like to be able to create an AST-like datastructure (using C#) and have it turned into valid javascript. I need to be able to create functions, statements, expressions etc., so I need something more than a JSON serializer - but I guess you could think of this as a (very) generalized JSON serializer.  Do such libraries exist and if so, could you recommend any?  Thank you.   "
      ]
     },
     "execution_count": 7,
     "metadata": {},
     "output_type": "execute_result"
    }
   ],
   "source": [
    "#df_raw.head()"
   ]
  },
  {
   "cell_type": "code",
   "execution_count": 7,
   "metadata": {
    "execution": {
     "iopub.execute_input": "2022-05-12T19:54:08.837449Z",
     "iopub.status.busy": "2022-05-12T19:54:08.837261Z",
     "iopub.status.idle": "2022-05-12T19:54:09.196837Z",
     "shell.execute_reply": "2022-05-12T19:54:09.196304Z",
     "shell.execute_reply.started": "2022-05-12T19:54:08.837434Z"
    },
    "tags": []
   },
   "outputs": [],
   "source": [
    "df_raw_very_small = df_raw.copy().sample(frac=0.0001, random_state=42)"
   ]
  },
  {
   "cell_type": "code",
   "execution_count": 8,
   "metadata": {
    "execution": {
     "iopub.execute_input": "2022-05-12T19:54:10.114751Z",
     "iopub.status.busy": "2022-05-12T19:54:10.114604Z",
     "iopub.status.idle": "2022-05-12T19:54:10.122484Z",
     "shell.execute_reply": "2022-05-12T19:54:10.122203Z",
     "shell.execute_reply.started": "2022-05-12T19:54:10.114738Z"
    },
    "tags": []
   },
   "outputs": [
    {
     "data": {
      "text/html": [
       "<div>\n",
       "<style scoped>\n",
       "    .dataframe tbody tr th:only-of-type {\n",
       "        vertical-align: middle;\n",
       "    }\n",
       "\n",
       "    .dataframe tbody tr th {\n",
       "        vertical-align: top;\n",
       "    }\n",
       "\n",
       "    .dataframe thead th {\n",
       "        text-align: right;\n",
       "    }\n",
       "</style>\n",
       "<table border=\"1\" class=\"dataframe\">\n",
       "  <thead>\n",
       "    <tr style=\"text-align: right;\">\n",
       "      <th></th>\n",
       "      <th>Unnamed: 0</th>\n",
       "      <th>Id</th>\n",
       "      <th>Title</th>\n",
       "      <th>Body</th>\n",
       "      <th>text</th>\n",
       "    </tr>\n",
       "  </thead>\n",
       "  <tbody>\n",
       "    <tr>\n",
       "      <th>3338704</th>\n",
       "      <td>963912</td>\n",
       "      <td>6998108</td>\n",
       "      <td>Can i include alloyUI lib and also keeps the jQuery lib?</td>\n",
       "      <td>&lt;p&gt;Sorry about the lame question, but here we go:&lt;/p&gt;\\n\\n&lt;p&gt;Can I include the AlloyUI lib on my project and keep the jQuery lib ?\\nI mean, i already have some functions with jQuery, but i also would like to use the alloyUI components. &lt;/p&gt;\\n</td>\n",
       "      <td>Sorry about the lame question, but here we go:  Can I include the AlloyUI lib on my project and keep the jQuery lib ? I mean, i already have some functions with jQuery, but i also would like to use the alloyUI components.</td>\n",
       "    </tr>\n",
       "    <tr>\n",
       "      <th>4036280</th>\n",
       "      <td>1661488</td>\n",
       "      <td>7695684</td>\n",
       "      <td>How to prevent SQL injection with dynamic tablenames?</td>\n",
       "      <td>&lt;p&gt;I had this discussion with a high rep php guy:&lt;/p&gt;\\n\\n&lt;blockquote&gt;\\n  &lt;p&gt;PDO has no use here. as well as mysql_real_escape_string.&lt;br&gt;\\n  extremely poor quality.&lt;/p&gt;\\n&lt;/blockquote&gt;\\n\\n&lt;p&gt;This of course is cool, but I honestly don't know what's wrong with suggesting use of &lt;code&gt;mysql_real_escape_string&lt;/code&gt; or PDO to fix this code:&lt;/p&gt;\\n\\n&lt;pre&gt;&lt;code&gt;&amp;lt;script type=\"text/javascript\"&amp;gt;\\nvar layer;\\n\\nwindow.location.href = \"example3.php?layer=\"+ layer;\\n\\n&amp;lt;?php\\n  //Make a MySQL Connection\\n  $query = \"SELECT Category, COUNT(BUSNAME) \\n    FROM \".$_GET['layer'].\" GROUP BY Category...</td>\n",
       "      <td>I had this discussion with a high rep php guy:     PDO has no use here. as well as mysql_real_escape_string.   extremely poor quality.   This of course is cool, but I honestly don't know what's wrong with suggesting use of mysql_real_escape_string or PDO to fix this code:  &lt;script type=\"text/javascript\"&gt; var layer;  window.location.href = \"example3.php?layer=\"+ layer;  &lt;?php   //Make a MySQL Connection   $query = \"SELECT Category, COUNT(BUSNAME)      FROM \".$_GET['layer'].\" GROUP BY Category\";    $result = mysql_query($query) or die(mysql_error());   Into this   $layer = mysql_real_escape_...</td>\n",
       "    </tr>\n",
       "  </tbody>\n",
       "</table>\n",
       "</div>"
      ],
      "text/plain": [
       "         Unnamed: 0       Id  \\\n",
       "3338704      963912  6998108   \n",
       "4036280     1661488  7695684   \n",
       "\n",
       "                                                            Title  \\\n",
       "3338704  Can i include alloyUI lib and also keeps the jQuery lib?   \n",
       "4036280     How to prevent SQL injection with dynamic tablenames?   \n",
       "\n",
       "                                                                                                                                                                                                                                                                                                                                                                                                                                                                                                                                                                                                                            Body  \\\n",
       "3338704                                                                                                                                                                                                                                                                                                                                                                        <p>Sorry about the lame question, but here we go:</p>\\n\\n<p>Can I include the AlloyUI lib on my project and keep the jQuery lib ?\\nI mean, i already have some functions with jQuery, but i also would like to use the alloyUI components. </p>\\n   \n",
       "4036280  <p>I had this discussion with a high rep php guy:</p>\\n\\n<blockquote>\\n  <p>PDO has no use here. as well as mysql_real_escape_string.<br>\\n  extremely poor quality.</p>\\n</blockquote>\\n\\n<p>This of course is cool, but I honestly don't know what's wrong with suggesting use of <code>mysql_real_escape_string</code> or PDO to fix this code:</p>\\n\\n<pre><code>&lt;script type=\"text/javascript\"&gt;\\nvar layer;\\n\\nwindow.location.href = \"example3.php?layer=\"+ layer;\\n\\n&lt;?php\\n  //Make a MySQL Connection\\n  $query = \"SELECT Category, COUNT(BUSNAME) \\n    FROM \".$_GET['layer'].\" GROUP BY Category...   \n",
       "\n",
       "                                                                                                                                                                                                                                                                                                                                                                                                                                                                                                                                                                                                                            text  \n",
       "3338704                                                                                                                                                                                                                                                                                                                                                                                          Sorry about the lame question, but here we go:  Can I include the AlloyUI lib on my project and keep the jQuery lib ? I mean, i already have some functions with jQuery, but i also would like to use the alloyUI components.    \n",
       "4036280  I had this discussion with a high rep php guy:     PDO has no use here. as well as mysql_real_escape_string.   extremely poor quality.   This of course is cool, but I honestly don't know what's wrong with suggesting use of mysql_real_escape_string or PDO to fix this code:  <script type=\"text/javascript\"> var layer;  window.location.href = \"example3.php?layer=\"+ layer;  <?php   //Make a MySQL Connection   $query = \"SELECT Category, COUNT(BUSNAME)      FROM \".$_GET['layer'].\" GROUP BY Category\";    $result = mysql_query($query) or die(mysql_error());   Into this   $layer = mysql_real_escape_...  "
      ]
     },
     "execution_count": 8,
     "metadata": {},
     "output_type": "execute_result"
    }
   ],
   "source": [
    "df_raw_very_small.head(2)"
   ]
  },
  {
   "cell_type": "code",
   "execution_count": 9,
   "metadata": {
    "execution": {
     "iopub.execute_input": "2022-05-12T19:54:15.643919Z",
     "iopub.status.busy": "2022-05-12T19:54:15.643740Z",
     "iopub.status.idle": "2022-05-12T19:54:15.646511Z",
     "shell.execute_reply": "2022-05-12T19:54:15.646050Z",
     "shell.execute_reply.started": "2022-05-12T19:54:15.643904Z"
    },
    "tags": []
   },
   "outputs": [],
   "source": [
    "from sklearn.model_selection import train_test_split"
   ]
  },
  {
   "cell_type": "code",
   "execution_count": 10,
   "metadata": {
    "execution": {
     "iopub.execute_input": "2022-05-12T19:54:16.426506Z",
     "iopub.status.busy": "2022-05-12T19:54:16.426358Z",
     "iopub.status.idle": "2022-05-12T19:54:16.429817Z",
     "shell.execute_reply": "2022-05-12T19:54:16.429418Z",
     "shell.execute_reply.started": "2022-05-12T19:54:16.426493Z"
    },
    "tags": []
   },
   "outputs": [],
   "source": [
    "train, valid = train_test_split(df_raw_very_small['text'], test_size=0.2, random_state=123)"
   ]
  },
  {
   "cell_type": "code",
   "execution_count": 340,
   "metadata": {
    "execution": {
     "iopub.execute_input": "2022-05-12T18:00:56.690909Z",
     "iopub.status.busy": "2022-05-12T18:00:56.690729Z",
     "iopub.status.idle": "2022-05-12T18:00:56.693143Z",
     "shell.execute_reply": "2022-05-12T18:00:56.692675Z",
     "shell.execute_reply.started": "2022-05-12T18:00:56.690895Z"
    },
    "tags": []
   },
   "outputs": [],
   "source": [
    "\n",
    "#splits = #code here"
   ]
  },
  {
   "cell_type": "code",
   "execution_count": 341,
   "metadata": {
    "execution": {
     "iopub.execute_input": "2022-05-12T18:00:57.466542Z",
     "iopub.status.busy": "2022-05-12T18:00:57.466417Z",
     "iopub.status.idle": "2022-05-12T18:00:57.469162Z",
     "shell.execute_reply": "2022-05-12T18:00:57.468888Z",
     "shell.execute_reply.started": "2022-05-12T18:00:57.466529Z"
    },
    "tags": []
   },
   "outputs": [
    {
     "name": "stdout",
     "output_type": "stream",
     "text": [
      "351 88\n"
     ]
    }
   ],
   "source": [
    "print(len(train), len(valid))"
   ]
  },
  {
   "cell_type": "code",
   "execution_count": 254,
   "metadata": {
    "execution": {
     "iopub.execute_input": "2022-05-12T16:11:19.685580Z",
     "iopub.status.busy": "2022-05-12T16:11:19.685418Z",
     "iopub.status.idle": "2022-05-12T16:11:19.687338Z",
     "shell.execute_reply": "2022-05-12T16:11:19.687038Z",
     "shell.execute_reply.started": "2022-05-12T16:11:19.685565Z"
    },
    "tags": []
   },
   "outputs": [],
   "source": [
    "#tfms = [attrgetter(\"text\"), Tokenizer.from_df(0), Numericalize()]\n",
    "#dsets = Datasets(df_raw_very_small, [tfms], splits=RandomSplitter(valid_pct=0.1, seed = 123), dl_type=LMDataLoader)"
   ]
  },
  {
   "cell_type": "code",
   "execution_count": 11,
   "metadata": {
    "execution": {
     "iopub.execute_input": "2022-05-12T19:54:22.807856Z",
     "iopub.status.busy": "2022-05-12T19:54:22.807684Z",
     "iopub.status.idle": "2022-05-12T19:54:22.929820Z",
     "shell.execute_reply": "2022-05-12T19:54:22.929338Z",
     "shell.execute_reply.started": "2022-05-12T19:54:22.807840Z"
    },
    "tags": []
   },
   "outputs": [],
   "source": [
    "spacy = WordTokenizer()"
   ]
  },
  {
   "cell_type": "code",
   "execution_count": 12,
   "metadata": {
    "execution": {
     "iopub.execute_input": "2022-05-12T19:54:23.301333Z",
     "iopub.status.busy": "2022-05-12T19:54:23.301208Z",
     "iopub.status.idle": "2022-05-12T19:54:23.303758Z",
     "shell.execute_reply": "2022-05-12T19:54:23.303394Z",
     "shell.execute_reply.started": "2022-05-12T19:54:23.301320Z"
    },
    "tags": []
   },
   "outputs": [],
   "source": [
    "tokenizer = Tokenizer(spacy)"
   ]
  },
  {
   "cell_type": "code",
   "execution_count": 13,
   "metadata": {
    "execution": {
     "iopub.execute_input": "2022-05-12T19:54:23.851369Z",
     "iopub.status.busy": "2022-05-12T19:54:23.851249Z",
     "iopub.status.idle": "2022-05-12T19:54:24.610201Z",
     "shell.execute_reply": "2022-05-12T19:54:24.609529Z",
     "shell.execute_reply.started": "2022-05-12T19:54:23.851357Z"
    },
    "tags": []
   },
   "outputs": [],
   "source": [
    "train_tkns= L([tokenizer(text) for text in train])"
   ]
  },
  {
   "cell_type": "code",
   "execution_count": 14,
   "metadata": {
    "execution": {
     "iopub.execute_input": "2022-05-12T19:54:24.610930Z",
     "iopub.status.busy": "2022-05-12T19:54:24.610811Z",
     "iopub.status.idle": "2022-05-12T19:54:25.286703Z",
     "shell.execute_reply": "2022-05-12T19:54:25.286206Z",
     "shell.execute_reply.started": "2022-05-12T19:54:24.610918Z"
    }
   },
   "outputs": [],
   "source": [
    "valid_tkns =L([tokenizer(text) for text in train])"
   ]
  },
  {
   "cell_type": "code",
   "execution_count": 466,
   "metadata": {
    "execution": {
     "iopub.execute_input": "2022-05-12T18:47:40.590277Z",
     "iopub.status.busy": "2022-05-12T18:47:40.590131Z",
     "iopub.status.idle": "2022-05-12T18:47:40.593741Z",
     "shell.execute_reply": "2022-05-12T18:47:40.593276Z",
     "shell.execute_reply.started": "2022-05-12T18:47:40.590260Z"
    },
    "tags": []
   },
   "outputs": [
    {
     "data": {
      "text/plain": [
       "(#10) ['xxbos','xxmaj','so',',','our','designer','decided','on','using','xxup']"
      ]
     },
     "execution_count": 466,
     "metadata": {},
     "output_type": "execute_result"
    }
   ],
   "source": [
    "train_tkns[0][0:10]"
   ]
  },
  {
   "cell_type": "code",
   "execution_count": 467,
   "metadata": {
    "execution": {
     "iopub.execute_input": "2022-05-12T18:47:40.594610Z",
     "iopub.status.busy": "2022-05-12T18:47:40.594428Z",
     "iopub.status.idle": "2022-05-12T18:47:40.599206Z",
     "shell.execute_reply": "2022-05-12T18:47:40.598873Z",
     "shell.execute_reply.started": "2022-05-12T18:47:40.594579Z"
    },
    "tags": []
   },
   "outputs": [
    {
     "data": {
      "text/plain": [
       "fastcore.foundation.L"
      ]
     },
     "execution_count": 467,
     "metadata": {},
     "output_type": "execute_result"
    }
   ],
   "source": [
    "type(train_tkns)"
   ]
  },
  {
   "cell_type": "code",
   "execution_count": 15,
   "metadata": {
    "execution": {
     "iopub.execute_input": "2022-05-12T19:54:38.022723Z",
     "iopub.status.busy": "2022-05-12T19:54:38.022555Z",
     "iopub.status.idle": "2022-05-12T19:54:38.025168Z",
     "shell.execute_reply": "2022-05-12T19:54:38.024870Z",
     "shell.execute_reply.started": "2022-05-12T19:54:38.022708Z"
    },
    "tags": []
   },
   "outputs": [],
   "source": [
    "numericalizer = Numericalize(min_freq=5, max_vocab=60000)"
   ]
  },
  {
   "cell_type": "code",
   "execution_count": 16,
   "metadata": {
    "execution": {
     "iopub.execute_input": "2022-05-12T19:54:38.802083Z",
     "iopub.status.busy": "2022-05-12T19:54:38.801959Z",
     "iopub.status.idle": "2022-05-12T19:54:38.813870Z",
     "shell.execute_reply": "2022-05-12T19:54:38.813404Z",
     "shell.execute_reply.started": "2022-05-12T19:54:38.802070Z"
    },
    "tags": []
   },
   "outputs": [],
   "source": [
    "numericalizer.setup(train_tkns)"
   ]
  },
  {
   "cell_type": "code",
   "execution_count": 470,
   "metadata": {
    "execution": {
     "iopub.execute_input": "2022-05-12T18:47:40.630640Z",
     "iopub.status.busy": "2022-05-12T18:47:40.630484Z",
     "iopub.status.idle": "2022-05-12T18:47:40.633394Z",
     "shell.execute_reply": "2022-05-12T18:47:40.632992Z",
     "shell.execute_reply.started": "2022-05-12T18:47:40.630621Z"
    },
    "tags": []
   },
   "outputs": [
    {
     "name": "stdout",
     "output_type": "stream",
     "text": [
      "(#1384) ['xxunk','xxpad','xxbos','xxeos','xxfld','xxrep','xxwrep','xxup','xxmaj','/',')',',','\"','the','i'...]\n"
     ]
    }
   ],
   "source": [
    "print(coll_repr(numericalizer.vocab, 15))"
   ]
  },
  {
   "cell_type": "code",
   "execution_count": 471,
   "metadata": {
    "execution": {
     "iopub.execute_input": "2022-05-12T18:47:41.057043Z",
     "iopub.status.busy": "2022-05-12T18:47:41.056880Z",
     "iopub.status.idle": "2022-05-12T18:47:41.060619Z",
     "shell.execute_reply": "2022-05-12T18:47:41.060336Z",
     "shell.execute_reply.started": "2022-05-12T18:47:41.057028Z"
    },
    "tags": []
   },
   "outputs": [
    {
     "data": {
      "text/plain": [
       "TensorText([0])"
      ]
     },
     "execution_count": 471,
     "metadata": {},
     "output_type": "execute_result"
    }
   ],
   "source": [
    "# all unknown words are represented by xxunk token\n",
    "numericalizer(['altufaltu'])"
   ]
  },
  {
   "cell_type": "code",
   "execution_count": 472,
   "metadata": {
    "execution": {
     "iopub.execute_input": "2022-05-12T18:47:41.280645Z",
     "iopub.status.busy": "2022-05-12T18:47:41.280500Z",
     "iopub.status.idle": "2022-05-12T18:47:41.319445Z",
     "shell.execute_reply": "2022-05-12T18:47:41.319074Z",
     "shell.execute_reply.started": "2022-05-12T18:47:41.280631Z"
    },
    "tags": []
   },
   "outputs": [],
   "source": [
    "train_nums = train_tkns.map(numericalizer)"
   ]
  },
  {
   "cell_type": "code",
   "execution_count": 473,
   "metadata": {
    "execution": {
     "iopub.execute_input": "2022-05-12T18:47:41.443800Z",
     "iopub.status.busy": "2022-05-12T18:47:41.443669Z",
     "iopub.status.idle": "2022-05-12T18:47:41.447107Z",
     "shell.execute_reply": "2022-05-12T18:47:41.446801Z",
     "shell.execute_reply.started": "2022-05-12T18:47:41.443786Z"
    },
    "tags": []
   },
   "outputs": [
    {
     "data": {
      "text/plain": [
       "TensorText([  2,   8,  77,  11, 323,   0,   0,  48,  64,   7])"
      ]
     },
     "execution_count": 473,
     "metadata": {},
     "output_type": "execute_result"
    }
   ],
   "source": [
    "train_nums[0][0:10]"
   ]
  },
  {
   "cell_type": "code",
   "execution_count": 474,
   "metadata": {
    "execution": {
     "iopub.execute_input": "2022-05-12T18:47:41.630519Z",
     "iopub.status.busy": "2022-05-12T18:47:41.630395Z",
     "iopub.status.idle": "2022-05-12T18:47:41.792436Z",
     "shell.execute_reply": "2022-05-12T18:47:41.791931Z",
     "shell.execute_reply.started": "2022-05-12T18:47:41.630506Z"
    },
    "tags": []
   },
   "outputs": [],
   "source": [
    "valid_nums = L([tokenizer(text) for text in valid]).map(numericalizer)  "
   ]
  },
  {
   "cell_type": "code",
   "execution_count": 475,
   "metadata": {
    "execution": {
     "iopub.execute_input": "2022-05-12T18:47:42.268344Z",
     "iopub.status.busy": "2022-05-12T18:47:42.268219Z",
     "iopub.status.idle": "2022-05-12T18:47:42.485025Z",
     "shell.execute_reply": "2022-05-12T18:47:42.484610Z",
     "shell.execute_reply.started": "2022-05-12T18:47:42.268331Z"
    },
    "tags": []
   },
   "outputs": [],
   "source": [
    "trainset = []\n",
    "for nums in train_nums:\n",
    "    trainset.extend(nums)"
   ]
  },
  {
   "cell_type": "code",
   "execution_count": 476,
   "metadata": {
    "execution": {
     "iopub.execute_input": "2022-05-12T18:47:42.717872Z",
     "iopub.status.busy": "2022-05-12T18:47:42.717746Z",
     "iopub.status.idle": "2022-05-12T18:47:42.978661Z",
     "shell.execute_reply": "2022-05-12T18:47:42.978254Z",
     "shell.execute_reply.started": "2022-05-12T18:47:42.717858Z"
    },
    "tags": []
   },
   "outputs": [],
   "source": [
    "trainset = TensorText(trainset)"
   ]
  },
  {
   "cell_type": "code",
   "execution_count": 477,
   "metadata": {
    "execution": {
     "iopub.execute_input": "2022-05-12T18:47:42.979449Z",
     "iopub.status.busy": "2022-05-12T18:47:42.979317Z",
     "iopub.status.idle": "2022-05-12T18:47:42.982638Z",
     "shell.execute_reply": "2022-05-12T18:47:42.982302Z",
     "shell.execute_reply.started": "2022-05-12T18:47:42.979421Z"
    },
    "tags": []
   },
   "outputs": [
    {
     "data": {
      "text/plain": [
       "TensorText([ 2,  8, 77,  ..., 16, 10, 16])"
      ]
     },
     "execution_count": 477,
     "metadata": {},
     "output_type": "execute_result"
    }
   ],
   "source": [
    "trainset"
   ]
  },
  {
   "cell_type": "code",
   "execution_count": 478,
   "metadata": {
    "execution": {
     "iopub.execute_input": "2022-05-12T18:47:43.105982Z",
     "iopub.status.busy": "2022-05-12T18:47:43.105789Z",
     "iopub.status.idle": "2022-05-12T18:47:43.108780Z",
     "shell.execute_reply": "2022-05-12T18:47:43.108518Z",
     "shell.execute_reply.started": "2022-05-12T18:47:43.105966Z"
    },
    "tags": []
   },
   "outputs": [
    {
     "data": {
      "text/plain": [
       "80075"
      ]
     },
     "execution_count": 478,
     "metadata": {},
     "output_type": "execute_result"
    }
   ],
   "source": [
    "len(trainset)"
   ]
  },
  {
   "cell_type": "code",
   "execution_count": 479,
   "metadata": {
    "execution": {
     "iopub.execute_input": "2022-05-12T18:47:44.043567Z",
     "iopub.status.busy": "2022-05-12T18:47:44.043412Z",
     "iopub.status.idle": "2022-05-12T18:47:44.045958Z",
     "shell.execute_reply": "2022-05-12T18:47:44.045602Z",
     "shell.execute_reply.started": "2022-05-12T18:47:44.043552Z"
    },
    "tags": []
   },
   "outputs": [],
   "source": [
    "bs = 5\n",
    "num_tokens_in_row = trainset.shape[0] // bs"
   ]
  },
  {
   "cell_type": "code",
   "execution_count": 480,
   "metadata": {
    "execution": {
     "iopub.execute_input": "2022-05-12T18:47:44.221416Z",
     "iopub.status.busy": "2022-05-12T18:47:44.221248Z",
     "iopub.status.idle": "2022-05-12T18:47:44.223768Z",
     "shell.execute_reply": "2022-05-12T18:47:44.223415Z",
     "shell.execute_reply.started": "2022-05-12T18:47:44.221387Z"
    },
    "tags": []
   },
   "outputs": [],
   "source": [
    "seq_len = 4\n",
    "num_batches = num_tokens_in_row // (seq_len + 1)"
   ]
  },
  {
   "cell_type": "code",
   "execution_count": 481,
   "metadata": {
    "execution": {
     "iopub.execute_input": "2022-05-12T18:47:44.393324Z",
     "iopub.status.busy": "2022-05-12T18:47:44.393157Z",
     "iopub.status.idle": "2022-05-12T18:47:44.396259Z",
     "shell.execute_reply": "2022-05-12T18:47:44.395790Z",
     "shell.execute_reply.started": "2022-05-12T18:47:44.393308Z"
    },
    "tags": []
   },
   "outputs": [
    {
     "data": {
      "text/plain": [
       "3203"
      ]
     },
     "execution_count": 481,
     "metadata": {},
     "output_type": "execute_result"
    }
   ],
   "source": [
    "num_batches"
   ]
  },
  {
   "cell_type": "code",
   "execution_count": 482,
   "metadata": {
    "execution": {
     "iopub.execute_input": "2022-05-12T18:47:44.620609Z",
     "iopub.status.busy": "2022-05-12T18:47:44.620458Z",
     "iopub.status.idle": "2022-05-12T18:47:44.623352Z",
     "shell.execute_reply": "2022-05-12T18:47:44.623013Z",
     "shell.execute_reply.started": "2022-05-12T18:47:44.620595Z"
    },
    "tags": []
   },
   "outputs": [
    {
     "data": {
      "text/plain": [
       "16015"
      ]
     },
     "execution_count": 482,
     "metadata": {},
     "output_type": "execute_result"
    }
   ],
   "source": [
    "num_tokens_in_row"
   ]
  },
  {
   "cell_type": "code",
   "execution_count": 483,
   "metadata": {
    "execution": {
     "iopub.execute_input": "2022-05-12T18:47:45.593709Z",
     "iopub.status.busy": "2022-05-12T18:47:45.593549Z",
     "iopub.status.idle": "2022-05-12T18:47:45.595912Z",
     "shell.execute_reply": "2022-05-12T18:47:45.595527Z",
     "shell.execute_reply.started": "2022-05-12T18:47:45.593694Z"
    },
    "tags": []
   },
   "outputs": [],
   "source": [
    "trainset= trainset.narrow(0, 0, num_batches*(seq_len+1)*bs)"
   ]
  },
  {
   "cell_type": "code",
   "execution_count": 484,
   "metadata": {
    "execution": {
     "iopub.execute_input": "2022-05-12T18:47:45.981079Z",
     "iopub.status.busy": "2022-05-12T18:47:45.980912Z",
     "iopub.status.idle": "2022-05-12T18:47:45.984103Z",
     "shell.execute_reply": "2022-05-12T18:47:45.983624Z",
     "shell.execute_reply.started": "2022-05-12T18:47:45.981063Z"
    },
    "tags": []
   },
   "outputs": [
    {
     "data": {
      "text/plain": [
       "80075"
      ]
     },
     "execution_count": 484,
     "metadata": {},
     "output_type": "execute_result"
    }
   ],
   "source": [
    "len(trainset)"
   ]
  },
  {
   "cell_type": "code",
   "execution_count": 485,
   "metadata": {
    "execution": {
     "iopub.execute_input": "2022-05-12T18:47:46.818718Z",
     "iopub.status.busy": "2022-05-12T18:47:46.818533Z",
     "iopub.status.idle": "2022-05-12T18:47:46.821007Z",
     "shell.execute_reply": "2022-05-12T18:47:46.820721Z",
     "shell.execute_reply.started": "2022-05-12T18:47:46.818702Z"
    },
    "tags": []
   },
   "outputs": [],
   "source": [
    "trainset = trainset.view(bs, -1)"
   ]
  },
  {
   "cell_type": "code",
   "execution_count": 486,
   "metadata": {
    "execution": {
     "iopub.execute_input": "2022-05-12T18:47:47.643737Z",
     "iopub.status.busy": "2022-05-12T18:47:47.643580Z",
     "iopub.status.idle": "2022-05-12T18:47:47.646872Z",
     "shell.execute_reply": "2022-05-12T18:47:47.646597Z",
     "shell.execute_reply.started": "2022-05-12T18:47:47.643721Z"
    },
    "tags": []
   },
   "outputs": [
    {
     "data": {
      "text/plain": [
       "torch.Size([5, 16015])"
      ]
     },
     "execution_count": 486,
     "metadata": {},
     "output_type": "execute_result"
    }
   ],
   "source": [
    "trainset.shape"
   ]
  },
  {
   "cell_type": "code",
   "execution_count": 487,
   "metadata": {
    "execution": {
     "iopub.execute_input": "2022-05-12T18:47:51.194140Z",
     "iopub.status.busy": "2022-05-12T18:47:51.193993Z",
     "iopub.status.idle": "2022-05-12T18:47:51.263151Z",
     "shell.execute_reply": "2022-05-12T18:47:51.262708Z",
     "shell.execute_reply.started": "2022-05-12T18:47:51.194126Z"
    },
    "tags": []
   },
   "outputs": [],
   "source": [
    "seq =   L((trainset[:,i : i + seq_len], trainset[:, i +1 : i + seq_len + 1]) \n",
    "         for i in range(0 , seq_len*num_batches, seq_len))\n",
    "  "
   ]
  },
  {
   "cell_type": "code",
   "execution_count": 489,
   "metadata": {
    "execution": {
     "iopub.execute_input": "2022-05-12T18:48:27.529461Z",
     "iopub.status.busy": "2022-05-12T18:48:27.528960Z",
     "iopub.status.idle": "2022-05-12T18:48:27.533400Z",
     "shell.execute_reply": "2022-05-12T18:48:27.533040Z",
     "shell.execute_reply.started": "2022-05-12T18:48:27.529440Z"
    },
    "tags": []
   },
   "outputs": [
    {
     "data": {
      "text/plain": [
       "(TensorText([[  22, 1077,   19,   22],\n",
       "         [  38,    0,   13,  936],\n",
       "         [  17,    8, 1346,   21],\n",
       "         [  18,   83,   36,  168],\n",
       "         [  16,    8,  654,  212]]),\n",
       " TensorText([[1077,   19,   22,  516],\n",
       "         [   0,   13,  936,    0],\n",
       "         [   8, 1346,   21,    0],\n",
       "         [  83,   36,  168,    9],\n",
       "         [   8,  654,  212,   33]]))"
      ]
     },
     "execution_count": 489,
     "metadata": {},
     "output_type": "execute_result"
    }
   ],
   "source": [
    "seq[-1]\n",
    "    "
   ]
  },
  {
   "cell_type": "code",
   "execution_count": 17,
   "metadata": {
    "execution": {
     "iopub.execute_input": "2022-05-12T19:55:22.390401Z",
     "iopub.status.busy": "2022-05-12T19:55:22.390243Z",
     "iopub.status.idle": "2022-05-12T19:55:22.393939Z",
     "shell.execute_reply": "2022-05-12T19:55:22.393487Z",
     "shell.execute_reply.started": "2022-05-12T19:55:22.390388Z"
    },
    "tags": []
   },
   "outputs": [],
   "source": [
    "def get_dataset(tokens, seq_len, bs):\n",
    "    dataset = []\n",
    "    #tokens = L([tokenizer(text) for text in df])\n",
    "    num_tokens = tokens.map(numericalizer)\n",
    "    for nums in num_tokens:\n",
    "        dataset.extend(nums)\n",
    "    dataset = TensorText(dataset)\n",
    "    num_tokens_in_row = dataset.shape[0] // bs\n",
    "    num_batches = num_tokens_in_row // (seq_len + 1)\n",
    "    dataset= dataset.narrow(0, 0, num_batches*(seq_len+1)*bs)\n",
    "    dataset = dataset.view(bs, -1)\n",
    "    sequences =   L((dataset[:,i : i + seq_len], dataset[:, i +1 : i + seq_len + 1]) \n",
    "         for i in range(0 , seq_len*num_batches, seq_len))\n",
    "    return sequences"
   ]
  },
  {
   "cell_type": "code",
   "execution_count": 490,
   "metadata": {
    "execution": {
     "iopub.execute_input": "2022-05-12T18:49:30.879288Z",
     "iopub.status.busy": "2022-05-12T18:49:30.878860Z",
     "iopub.status.idle": "2022-05-12T18:49:32.231832Z",
     "shell.execute_reply": "2022-05-12T18:49:32.231425Z",
     "shell.execute_reply.started": "2022-05-12T18:49:30.879272Z"
    },
    "tags": []
   },
   "outputs": [],
   "source": [
    "train_set = get_dataset(train, seq_len = 3, bs = 5)\n",
    "valid_set = get_dataset(valid, seq_len = 3, bs = 5)"
   ]
  },
  {
   "cell_type": "code",
   "execution_count": 491,
   "metadata": {
    "execution": {
     "iopub.execute_input": "2022-05-12T18:49:32.373997Z",
     "iopub.status.busy": "2022-05-12T18:49:32.373808Z",
     "iopub.status.idle": "2022-05-12T18:49:32.376876Z",
     "shell.execute_reply": "2022-05-12T18:49:32.376475Z",
     "shell.execute_reply.started": "2022-05-12T18:49:32.373968Z"
    },
    "tags": []
   },
   "outputs": [
    {
     "name": "stdout",
     "output_type": "stream",
     "text": [
      "torch.Size([5, 3]) torch.Size([5, 3])\n"
     ]
    }
   ],
   "source": [
    "for x, y in train_set:\n",
    "    print(x.shape, y.shape)\n",
    "    break"
   ]
  },
  {
   "cell_type": "code",
   "execution_count": 492,
   "metadata": {
    "execution": {
     "iopub.execute_input": "2022-05-12T18:49:52.181658Z",
     "iopub.status.busy": "2022-05-12T18:49:52.181500Z",
     "iopub.status.idle": "2022-05-12T18:49:52.184621Z",
     "shell.execute_reply": "2022-05-12T18:49:52.184235Z",
     "shell.execute_reply.started": "2022-05-12T18:49:52.181643Z"
    }
   },
   "outputs": [
    {
     "data": {
      "text/plain": [
       "4003"
      ]
     },
     "execution_count": 492,
     "metadata": {},
     "output_type": "execute_result"
    }
   ],
   "source": [
    "len(train_set)"
   ]
  },
  {
   "cell_type": "code",
   "execution_count": 493,
   "metadata": {
    "execution": {
     "iopub.execute_input": "2022-05-12T18:49:58.003989Z",
     "iopub.status.busy": "2022-05-12T18:49:58.003629Z",
     "iopub.status.idle": "2022-05-12T18:49:58.007846Z",
     "shell.execute_reply": "2022-05-12T18:49:58.007568Z",
     "shell.execute_reply.started": "2022-05-12T18:49:58.003966Z"
    }
   },
   "outputs": [
    {
     "data": {
      "text/plain": [
       "810"
      ]
     },
     "execution_count": 493,
     "metadata": {},
     "output_type": "execute_result"
    }
   ],
   "source": [
    "len(valid_set)"
   ]
  },
  {
   "cell_type": "code",
   "execution_count": 502,
   "metadata": {
    "execution": {
     "iopub.execute_input": "2022-05-12T18:57:27.384825Z",
     "iopub.status.busy": "2022-05-12T18:57:27.384318Z",
     "iopub.status.idle": "2022-05-12T18:57:27.387996Z",
     "shell.execute_reply": "2022-05-12T18:57:27.387716Z",
     "shell.execute_reply.started": "2022-05-12T18:57:27.384807Z"
    },
    "tags": []
   },
   "outputs": [
    {
     "data": {
      "text/plain": [
       "(TensorText([[  2,   8,  77],\n",
       "         [ 54,   0,  19],\n",
       "         [  5, 136,  52],\n",
       "         [  7, 806,   0],\n",
       "         [  8, 467, 161]]),\n",
       " TensorText([[  8,  77,  11],\n",
       "         [  0,  19,   0],\n",
       "         [136,  52,  25],\n",
       "         [806,   0,   7],\n",
       "         [467, 161,  28]]))"
      ]
     },
     "execution_count": 502,
     "metadata": {},
     "output_type": "execute_result"
    }
   ],
   "source": [
    "train_set[0]"
   ]
  },
  {
   "cell_type": "code",
   "execution_count": 20,
   "metadata": {
    "execution": {
     "iopub.execute_input": "2022-05-12T19:56:02.966475Z",
     "iopub.status.busy": "2022-05-12T19:56:02.966309Z",
     "iopub.status.idle": "2022-05-12T19:56:04.415007Z",
     "shell.execute_reply": "2022-05-12T19:56:04.414505Z",
     "shell.execute_reply.started": "2022-05-12T19:56:02.966460Z"
    },
    "tags": []
   },
   "outputs": [],
   "source": [
    "dls = DataLoaders.from_dsets(get_dataset(train_tkns, seq_len=3, bs=5),\n",
    "                             get_dataset(valid_tkns, seq_len=3, bs=5),\n",
    "                             bs=5, drop_last=True, shuffle=False)"
   ]
  },
  {
   "cell_type": "code",
   "execution_count": 21,
   "metadata": {
    "execution": {
     "iopub.execute_input": "2022-05-12T19:59:51.592765Z",
     "iopub.status.busy": "2022-05-12T19:59:51.592437Z",
     "iopub.status.idle": "2022-05-12T19:59:51.594566Z",
     "shell.execute_reply": "2022-05-12T19:59:51.594268Z",
     "shell.execute_reply.started": "2022-05-12T19:59:51.592748Z"
    },
    "tags": []
   },
   "outputs": [],
   "source": [
    "train_loader = dls.train_ds"
   ]
  },
  {
   "cell_type": "code",
   "execution_count": 22,
   "metadata": {
    "execution": {
     "iopub.execute_input": "2022-05-12T19:59:54.007431Z",
     "iopub.status.busy": "2022-05-12T19:59:54.007276Z",
     "iopub.status.idle": "2022-05-12T19:59:54.029871Z",
     "shell.execute_reply": "2022-05-12T19:59:54.029447Z",
     "shell.execute_reply.started": "2022-05-12T19:59:54.007418Z"
    },
    "tags": []
   },
   "outputs": [
    {
     "name": "stdout",
     "output_type": "stream",
     "text": [
      "TensorText([[  2,   8,  77],\n",
      "        [ 54,   0,  19],\n",
      "        [  5, 136,  52],\n",
      "        [  7, 806,   0],\n",
      "        [  8, 467, 161]]) TensorText([[  8,  77,  11],\n",
      "        [  0,  19,   0],\n",
      "        [136,  52,  25],\n",
      "        [806,   0,   7],\n",
      "        [467, 161,  28]])\n"
     ]
    }
   ],
   "source": [
    "for x, y in train_loader:\n",
    "    print(x,y)\n",
    "    break"
   ]
  },
  {
   "cell_type": "code",
   "execution_count": null,
   "metadata": {},
   "outputs": [],
   "source": []
  }
 ],
 "metadata": {
  "colab": {
   "collapsed_sections": [
    "0drRucJ4_Ayr"
   ],
   "name": "Transfer_Learning_Stack_Exchange.ipynb",
   "provenance": []
  },
  "jupytext": {
   "split_at_heading": true
  },
  "kernelspec": {
   "display_name": "pt10",
   "language": "python",
   "name": "pt10"
  },
  "language_info": {
   "codemirror_mode": {
    "name": "ipython",
    "version": 3
   },
   "file_extension": ".py",
   "mimetype": "text/x-python",
   "name": "python",
   "nbconvert_exporter": "python",
   "pygments_lexer": "ipython3",
   "version": "3.8.12"
  },
  "toc-autonumbering": false,
  "widgets": {
   "application/vnd.jupyter.widget-state+json": {
    "1245922eddb1484a8a2eca47d218914a": {
     "model_module": "@jupyter-widgets/base",
     "model_module_version": "1.2.0",
     "model_name": "LayoutModel",
     "state": {
      "_model_module": "@jupyter-widgets/base",
      "_model_module_version": "1.2.0",
      "_model_name": "LayoutModel",
      "_view_count": null,
      "_view_module": "@jupyter-widgets/base",
      "_view_module_version": "1.2.0",
      "_view_name": "LayoutView",
      "align_content": null,
      "align_items": null,
      "align_self": null,
      "border": null,
      "bottom": null,
      "display": null,
      "flex": null,
      "flex_flow": null,
      "grid_area": null,
      "grid_auto_columns": null,
      "grid_auto_flow": null,
      "grid_auto_rows": null,
      "grid_column": null,
      "grid_gap": null,
      "grid_row": null,
      "grid_template_areas": null,
      "grid_template_columns": null,
      "grid_template_rows": null,
      "height": null,
      "justify_content": null,
      "justify_items": null,
      "left": null,
      "margin": null,
      "max_height": null,
      "max_width": null,
      "min_height": null,
      "min_width": null,
      "object_fit": null,
      "object_position": null,
      "order": null,
      "overflow": null,
      "overflow_x": null,
      "overflow_y": null,
      "padding": null,
      "right": null,
      "top": null,
      "visibility": null,
      "width": null
     }
    },
    "14d1d8c68ec34c52840898d9f5430c2f": {
     "model_module": "@jupyter-widgets/base",
     "model_module_version": "1.2.0",
     "model_name": "LayoutModel",
     "state": {
      "_model_module": "@jupyter-widgets/base",
      "_model_module_version": "1.2.0",
      "_model_name": "LayoutModel",
      "_view_count": null,
      "_view_module": "@jupyter-widgets/base",
      "_view_module_version": "1.2.0",
      "_view_name": "LayoutView",
      "align_content": null,
      "align_items": null,
      "align_self": null,
      "border": null,
      "bottom": null,
      "display": null,
      "flex": null,
      "flex_flow": null,
      "grid_area": null,
      "grid_auto_columns": null,
      "grid_auto_flow": null,
      "grid_auto_rows": null,
      "grid_column": null,
      "grid_gap": null,
      "grid_row": null,
      "grid_template_areas": null,
      "grid_template_columns": null,
      "grid_template_rows": null,
      "height": null,
      "justify_content": null,
      "justify_items": null,
      "left": null,
      "margin": null,
      "max_height": null,
      "max_width": null,
      "min_height": null,
      "min_width": null,
      "object_fit": null,
      "object_position": null,
      "order": null,
      "overflow": null,
      "overflow_x": null,
      "overflow_y": null,
      "padding": null,
      "right": null,
      "top": null,
      "visibility": null,
      "width": null
     }
    },
    "17d0d92b302a464ca36b60643134e7e6": {
     "model_module": "@jupyter-widgets/base",
     "model_module_version": "1.2.0",
     "model_name": "LayoutModel",
     "state": {
      "_model_module": "@jupyter-widgets/base",
      "_model_module_version": "1.2.0",
      "_model_name": "LayoutModel",
      "_view_count": null,
      "_view_module": "@jupyter-widgets/base",
      "_view_module_version": "1.2.0",
      "_view_name": "LayoutView",
      "align_content": null,
      "align_items": null,
      "align_self": null,
      "border": null,
      "bottom": null,
      "display": null,
      "flex": null,
      "flex_flow": null,
      "grid_area": null,
      "grid_auto_columns": null,
      "grid_auto_flow": null,
      "grid_auto_rows": null,
      "grid_column": null,
      "grid_gap": null,
      "grid_row": null,
      "grid_template_areas": null,
      "grid_template_columns": null,
      "grid_template_rows": null,
      "height": null,
      "justify_content": null,
      "justify_items": null,
      "left": null,
      "margin": null,
      "max_height": null,
      "max_width": null,
      "min_height": null,
      "min_width": null,
      "object_fit": null,
      "object_position": null,
      "order": null,
      "overflow": null,
      "overflow_x": null,
      "overflow_y": null,
      "padding": null,
      "right": null,
      "top": null,
      "visibility": null,
      "width": null
     }
    },
    "868d899c242f41f095153beebc1a4d62": {
     "model_module": "@jupyter-widgets/controls",
     "model_module_version": "1.5.0",
     "model_name": "DescriptionStyleModel",
     "state": {
      "_model_module": "@jupyter-widgets/controls",
      "_model_module_version": "1.5.0",
      "_model_name": "DescriptionStyleModel",
      "_view_count": null,
      "_view_module": "@jupyter-widgets/base",
      "_view_module_version": "1.2.0",
      "_view_name": "StyleView",
      "description_width": ""
     }
    },
    "8b7424d7bbcf4ac6b4b345586bafd514": {
     "model_module": "@jupyter-widgets/controls",
     "model_module_version": "1.5.0",
     "model_name": "HTMLModel",
     "state": {
      "_dom_classes": [],
      "_model_module": "@jupyter-widgets/controls",
      "_model_module_version": "1.5.0",
      "_model_name": "HTMLModel",
      "_view_count": null,
      "_view_module": "@jupyter-widgets/controls",
      "_view_module_version": "1.5.0",
      "_view_name": "HTMLView",
      "description": "",
      "description_tooltip": null,
      "layout": "IPY_MODEL_1245922eddb1484a8a2eca47d218914a",
      "placeholder": "​",
      "style": "IPY_MODEL_e692c2ce352649659d7e4d7164cba8d3",
      "value": " 188878/188878 [13:43&lt;00:00, 256.64it/s]"
     }
    },
    "9573144d71064c089857c6a581060675": {
     "model_module": "@jupyter-widgets/controls",
     "model_module_version": "1.5.0",
     "model_name": "FloatProgressModel",
     "state": {
      "_dom_classes": [],
      "_model_module": "@jupyter-widgets/controls",
      "_model_module_version": "1.5.0",
      "_model_name": "FloatProgressModel",
      "_view_count": null,
      "_view_module": "@jupyter-widgets/controls",
      "_view_module_version": "1.5.0",
      "_view_name": "ProgressView",
      "bar_style": "success",
      "description": "",
      "description_tooltip": null,
      "layout": "IPY_MODEL_17d0d92b302a464ca36b60643134e7e6",
      "max": 188878,
      "min": 0,
      "orientation": "horizontal",
      "style": "IPY_MODEL_dcc4bc3339284522965d878b80c9ae9d",
      "value": 188878
     }
    },
    "aef646e178db4295a96d430c37b7f021": {
     "model_module": "@jupyter-widgets/controls",
     "model_module_version": "1.5.0",
     "model_name": "HBoxModel",
     "state": {
      "_dom_classes": [],
      "_model_module": "@jupyter-widgets/controls",
      "_model_module_version": "1.5.0",
      "_model_name": "HBoxModel",
      "_view_count": null,
      "_view_module": "@jupyter-widgets/controls",
      "_view_module_version": "1.5.0",
      "_view_name": "HBoxView",
      "box_style": "",
      "children": [
       "IPY_MODEL_fad41d0e43f04c709acb71ffbf9b5690",
       "IPY_MODEL_9573144d71064c089857c6a581060675",
       "IPY_MODEL_8b7424d7bbcf4ac6b4b345586bafd514"
      ],
      "layout": "IPY_MODEL_14d1d8c68ec34c52840898d9f5430c2f"
     }
    },
    "b20f7b20bb6942348b761ff11829f8c1": {
     "model_module": "@jupyter-widgets/base",
     "model_module_version": "1.2.0",
     "model_name": "LayoutModel",
     "state": {
      "_model_module": "@jupyter-widgets/base",
      "_model_module_version": "1.2.0",
      "_model_name": "LayoutModel",
      "_view_count": null,
      "_view_module": "@jupyter-widgets/base",
      "_view_module_version": "1.2.0",
      "_view_name": "LayoutView",
      "align_content": null,
      "align_items": null,
      "align_self": null,
      "border": null,
      "bottom": null,
      "display": null,
      "flex": null,
      "flex_flow": null,
      "grid_area": null,
      "grid_auto_columns": null,
      "grid_auto_flow": null,
      "grid_auto_rows": null,
      "grid_column": null,
      "grid_gap": null,
      "grid_row": null,
      "grid_template_areas": null,
      "grid_template_columns": null,
      "grid_template_rows": null,
      "height": null,
      "justify_content": null,
      "justify_items": null,
      "left": null,
      "margin": null,
      "max_height": null,
      "max_width": null,
      "min_height": null,
      "min_width": null,
      "object_fit": null,
      "object_position": null,
      "order": null,
      "overflow": null,
      "overflow_x": null,
      "overflow_y": null,
      "padding": null,
      "right": null,
      "top": null,
      "visibility": null,
      "width": null
     }
    },
    "dcc4bc3339284522965d878b80c9ae9d": {
     "model_module": "@jupyter-widgets/controls",
     "model_module_version": "1.5.0",
     "model_name": "ProgressStyleModel",
     "state": {
      "_model_module": "@jupyter-widgets/controls",
      "_model_module_version": "1.5.0",
      "_model_name": "ProgressStyleModel",
      "_view_count": null,
      "_view_module": "@jupyter-widgets/base",
      "_view_module_version": "1.2.0",
      "_view_name": "StyleView",
      "bar_color": null,
      "description_width": ""
     }
    },
    "e692c2ce352649659d7e4d7164cba8d3": {
     "model_module": "@jupyter-widgets/controls",
     "model_module_version": "1.5.0",
     "model_name": "DescriptionStyleModel",
     "state": {
      "_model_module": "@jupyter-widgets/controls",
      "_model_module_version": "1.5.0",
      "_model_name": "DescriptionStyleModel",
      "_view_count": null,
      "_view_module": "@jupyter-widgets/base",
      "_view_module_version": "1.2.0",
      "_view_name": "StyleView",
      "description_width": ""
     }
    },
    "fad41d0e43f04c709acb71ffbf9b5690": {
     "model_module": "@jupyter-widgets/controls",
     "model_module_version": "1.5.0",
     "model_name": "HTMLModel",
     "state": {
      "_dom_classes": [],
      "_model_module": "@jupyter-widgets/controls",
      "_model_module_version": "1.5.0",
      "_model_name": "HTMLModel",
      "_view_count": null,
      "_view_module": "@jupyter-widgets/controls",
      "_view_module_version": "1.5.0",
      "_view_name": "HTMLView",
      "description": "",
      "description_tooltip": null,
      "layout": "IPY_MODEL_b20f7b20bb6942348b761ff11829f8c1",
      "placeholder": "​",
      "style": "IPY_MODEL_868d899c242f41f095153beebc1a4d62",
      "value": "Pandas Apply: 100%"
     }
    }
   }
  }
 },
 "nbformat": 4,
 "nbformat_minor": 4
}
