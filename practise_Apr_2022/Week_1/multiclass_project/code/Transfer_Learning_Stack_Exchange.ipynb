{
 "cells": [
  {
   "cell_type": "code",
   "execution_count": 1,
   "metadata": {
    "execution": {
     "iopub.execute_input": "2022-05-10T00:02:46.082962Z",
     "iopub.status.busy": "2022-05-10T00:02:46.082779Z",
     "iopub.status.idle": "2022-05-10T00:02:46.219047Z",
     "shell.execute_reply": "2022-05-10T00:02:46.218664Z",
     "shell.execute_reply.started": "2022-05-10T00:02:46.082919Z"
    },
    "tags": []
   },
   "outputs": [
    {
     "name": "stdout",
     "output_type": "stream",
     "text": [
      "Mon May  9 19:02:46 2022       \n",
      "+-----------------------------------------------------------------------------+\n",
      "| NVIDIA-SMI 470.103.01   Driver Version: 470.103.01   CUDA Version: 11.4     |\n",
      "|-------------------------------+----------------------+----------------------+\n",
      "| GPU  Name        Persistence-M| Bus-Id        Disp.A | Volatile Uncorr. ECC |\n",
      "| Fan  Temp  Perf  Pwr:Usage/Cap|         Memory-Usage | GPU-Util  Compute M. |\n",
      "|                               |                      |               MIG M. |\n",
      "|===============================+======================+======================|\n",
      "|   0  Quadro RTX 5000     Off  | 00000000:01:00.0 Off |                  N/A |\n",
      "| N/A   42C    P8     7W /  N/A |    266MiB / 16125MiB |     10%      Default |\n",
      "|                               |                      |                  N/A |\n",
      "+-------------------------------+----------------------+----------------------+\n",
      "                                                                               \n",
      "+-----------------------------------------------------------------------------+\n",
      "| Processes:                                                                  |\n",
      "|  GPU   GI   CI        PID   Type   Process name                  GPU Memory |\n",
      "|        ID   ID                                                   Usage      |\n",
      "|=============================================================================|\n",
      "|    0   N/A  N/A      2357      G   /usr/lib/xorg/Xorg                129MiB |\n",
      "|    0   N/A  N/A      2533      G   ...ome-remote-desktop-daemon        2MiB |\n",
      "|    0   N/A  N/A      2570      G   /usr/bin/gnome-shell               33MiB |\n",
      "|    0   N/A  N/A      3326      G   /usr/lib/insync/insync             35MiB |\n",
      "|    0   N/A  N/A     24532      G   ...038797231059278297,131072       62MiB |\n",
      "+-----------------------------------------------------------------------------+\n"
     ]
    }
   ],
   "source": [
    "!nvidia-smi"
   ]
  },
  {
   "cell_type": "code",
   "execution_count": 2,
   "metadata": {
    "execution": {
     "iopub.execute_input": "2022-05-10T00:02:51.380939Z",
     "iopub.status.busy": "2022-05-10T00:02:51.380734Z",
     "iopub.status.idle": "2022-05-10T00:02:52.964013Z",
     "shell.execute_reply": "2022-05-10T00:02:52.963567Z",
     "shell.execute_reply.started": "2022-05-10T00:02:51.380924Z"
    },
    "executionInfo": {
     "elapsed": 11,
     "status": "ok",
     "timestamp": 1651530636807,
     "user": {
      "displayName": "Shaannoor Mann",
      "userId": "02520257695567980696"
     },
     "user_tz": 300
    },
    "id": "gUJ_0JUa_Ayi",
    "tags": []
   },
   "outputs": [],
   "source": [
    "from fastai.text.all import *\n",
    "import pandas as pd\n",
    "import swifter\n",
    "from bs4 import BeautifulSoup"
   ]
  },
  {
   "cell_type": "code",
   "execution_count": 3,
   "metadata": {
    "execution": {
     "iopub.execute_input": "2022-05-10T00:02:53.217068Z",
     "iopub.status.busy": "2022-05-10T00:02:53.216901Z",
     "iopub.status.idle": "2022-05-10T00:02:53.222039Z",
     "shell.execute_reply": "2022-05-10T00:02:53.221690Z",
     "shell.execute_reply.started": "2022-05-10T00:02:53.217052Z"
    },
    "tags": []
   },
   "outputs": [],
   "source": [
    "import spacy"
   ]
  },
  {
   "cell_type": "code",
   "execution_count": 4,
   "metadata": {
    "execution": {
     "iopub.execute_input": "2022-05-10T00:02:53.805025Z",
     "iopub.status.busy": "2022-05-10T00:02:53.804862Z",
     "iopub.status.idle": "2022-05-10T00:02:53.809086Z",
     "shell.execute_reply": "2022-05-10T00:02:53.808761Z",
     "shell.execute_reply.started": "2022-05-10T00:02:53.805010Z"
    },
    "tags": []
   },
   "outputs": [
    {
     "data": {
      "text/plain": [
       "'3.2.4'"
      ]
     },
     "execution_count": 4,
     "metadata": {},
     "output_type": "execute_result"
    }
   ],
   "source": [
    "spacy.__version__"
   ]
  },
  {
   "cell_type": "markdown",
   "metadata": {
    "id": "tVWKOurQ_Ayk",
    "tags": []
   },
   "source": [
    "# Classification - using Pre-Trained Language Model"
   ]
  },
  {
   "cell_type": "markdown",
   "metadata": {
    "id": "aKyrMBqx_Aym"
   },
   "source": [
    "## Load Data"
   ]
  },
  {
   "cell_type": "code",
   "execution_count": 5,
   "metadata": {
    "execution": {
     "iopub.execute_input": "2022-05-10T00:03:28.998959Z",
     "iopub.status.busy": "2022-05-10T00:03:28.998624Z",
     "iopub.status.idle": "2022-05-10T00:03:29.111486Z",
     "shell.execute_reply": "2022-05-10T00:03:29.111031Z",
     "shell.execute_reply.started": "2022-05-10T00:03:28.998941Z"
    },
    "tags": []
   },
   "outputs": [
    {
     "name": "stdout",
     "output_type": "stream",
     "text": [
      "/home/harpreet/Insync/google_drive_shaannoor/Machine_Learning/2_Courses/DL_fastai/fastai_course/fastai_course/practise_Apr_2022/Week_1/multiclass_project/code\n"
     ]
    }
   ],
   "source": [
    "!pwd"
   ]
  },
  {
   "cell_type": "code",
   "execution_count": 6,
   "metadata": {
    "execution": {
     "iopub.execute_input": "2022-05-10T00:03:31.170227Z",
     "iopub.status.busy": "2022-05-10T00:03:31.170065Z",
     "iopub.status.idle": "2022-05-10T00:03:31.173437Z",
     "shell.execute_reply": "2022-05-10T00:03:31.173058Z",
     "shell.execute_reply.started": "2022-05-10T00:03:31.170212Z"
    },
    "executionInfo": {
     "elapsed": 5,
     "status": "ok",
     "timestamp": 1651530638246,
     "user": {
      "displayName": "Shaannoor Mann",
      "userId": "02520257695567980696"
     },
     "user_tz": 300
    },
    "id": "amICzIe3_Aym",
    "tags": []
   },
   "outputs": [],
   "source": [
    "#path= Path('/scratch/08791/hsingh24/datasets')\n",
    "path = Path('Insync/google_drive_shaannoor/Machine_Learning/2_Courses/DL_fastai/fastai_course/fastai_course/practise_Apr_2022/Week_1/multiclass_project/datasets')"
   ]
  },
  {
   "cell_type": "code",
   "execution_count": 8,
   "metadata": {
    "execution": {
     "iopub.execute_input": "2022-05-05T04:17:05.385859Z",
     "iopub.status.busy": "2022-05-05T04:17:05.385638Z",
     "iopub.status.idle": "2022-05-05T04:17:08.009739Z",
     "shell.execute_reply": "2022-05-05T04:17:08.008314Z",
     "shell.execute_reply.started": "2022-05-05T04:17:05.385843Z"
    },
    "executionInfo": {
     "elapsed": 3943,
     "status": "ok",
     "timestamp": 1651530642185,
     "user": {
      "displayName": "Shaannoor Mann",
      "userId": "02520257695567980696"
     },
     "user_tz": 300
    },
    "id": "3_QkaAw0DV7c",
    "tags": []
   },
   "outputs": [],
   "source": [
    "df = pd.read_csv(path/'multiclass_hw.csv')"
   ]
  },
  {
   "cell_type": "code",
   "execution_count": 9,
   "metadata": {
    "colab": {
     "base_uri": "https://localhost:8080/",
     "height": 511
    },
    "execution": {
     "iopub.execute_input": "2022-05-05T04:17:08.012102Z",
     "iopub.status.busy": "2022-05-05T04:17:08.011908Z",
     "iopub.status.idle": "2022-05-05T04:17:08.119512Z",
     "shell.execute_reply": "2022-05-05T04:17:08.118915Z",
     "shell.execute_reply.started": "2022-05-05T04:17:08.012080Z"
    },
    "executionInfo": {
     "elapsed": 16,
     "status": "ok",
     "timestamp": 1651530642186,
     "user": {
      "displayName": "Shaannoor Mann",
      "userId": "02520257695567980696"
     },
     "user_tz": 300
    },
    "id": "VZH9ZVzODceR",
    "outputId": "bf326ebe-791f-4fd9-bb55-cca7aa8a94ef",
    "tags": []
   },
   "outputs": [
    {
     "data": {
      "text/html": [
       "<div>\n",
       "<style scoped>\n",
       "    .dataframe tbody tr th:only-of-type {\n",
       "        vertical-align: middle;\n",
       "    }\n",
       "\n",
       "    .dataframe tbody tr th {\n",
       "        vertical-align: top;\n",
       "    }\n",
       "\n",
       "    .dataframe thead th {\n",
       "        text-align: right;\n",
       "    }\n",
       "</style>\n",
       "<table border=\"1\" class=\"dataframe\">\n",
       "  <thead>\n",
       "    <tr style=\"text-align: right;\">\n",
       "      <th></th>\n",
       "      <th>Unnamed: 0.1</th>\n",
       "      <th>Unnamed: 0</th>\n",
       "      <th>Id</th>\n",
       "      <th>Title</th>\n",
       "      <th>Body</th>\n",
       "      <th>Tags</th>\n",
       "      <th>Tag_Number</th>\n",
       "    </tr>\n",
       "  </thead>\n",
       "  <tbody>\n",
       "    <tr>\n",
       "      <th>0</th>\n",
       "      <td>104835</td>\n",
       "      <td>2679767</td>\n",
       "      <td>2679768</td>\n",
       "      <td>detail disclosure indicator on UIButton</td>\n",
       "      <td>&lt;p&gt;Is there a simple way to place a detail disclosure icon on a UIButton? I'm using a navigation controller and I want a button press to push a new view on the stack, so I thought a detail disclosure icon would be appropriate, but I haven't found a straightforward way to do that yet.&lt;/p&gt;\\n\\n&lt;p&gt;What I have in mind is something like the \"When Timer Ends\" button in the Timer subview of the Clock app.&lt;/p&gt;\\n</td>\n",
       "      <td>iphone</td>\n",
       "      <td>[8]</td>\n",
       "    </tr>\n",
       "    <tr>\n",
       "      <th>1</th>\n",
       "      <td>146243</td>\n",
       "      <td>3738134</td>\n",
       "      <td>3738135</td>\n",
       "      <td>hello world fails to show up in emulator</td>\n",
       "      <td>&lt;p&gt;I followed Hello World tutorial exactly.  Emulator comes up but fails to show Hello World text.  Here's the log info:&lt;/p&gt;\\n\\n&lt;pre&gt;&lt;code&gt;[2011-11-26 20:06:57 - HelloAndroid] Android Launch!\\n[2011-11-26 20:06:57 - HelloAndroid] adb is running normally.\\n[2011-11-26 20:06:57 - HelloAndroid] Performing com.example.helloandroid.HelloAndroid activity launch\\n[2011-11-26 20:06:57 - HelloAndroid] Automatic Target Mode: launching new emulator with compatible AVD 'AndroidPhone'\\n[2011-11-26 20:06:57 - HelloAndroid] Launching a new emulator with Virtual Device 'AndroidPhone'\\n[2011-11-26 20:07:09...</td>\n",
       "      <td>android</td>\n",
       "      <td>[4]</td>\n",
       "    </tr>\n",
       "    <tr>\n",
       "      <th>2</th>\n",
       "      <td>28023</td>\n",
       "      <td>715224</td>\n",
       "      <td>715225</td>\n",
       "      <td>Why is JSHint throwing a \"possible strict violation\" on this line</td>\n",
       "      <td>&lt;p&gt;Trying to validate some Javascript in JsHint, and I get the following:&lt;/p&gt;\\n\\n&lt;p&gt;Possible strict violation:&lt;/p&gt;\\n\\n&lt;pre&gt;&lt;code&gt;return ($.event.dispatch || $.event.handle).apply(this, args);\\n&lt;/code&gt;&lt;/pre&gt;\\n\\n&lt;p&gt;Any ideas why it's throwing that error?&lt;/p&gt;\\n\\n&lt;p&gt;Thanks guys&lt;/p&gt;\\n</td>\n",
       "      <td>javascript</td>\n",
       "      <td>[3]</td>\n",
       "    </tr>\n",
       "    <tr>\n",
       "      <th>3</th>\n",
       "      <td>44485</td>\n",
       "      <td>1132682</td>\n",
       "      <td>1132683</td>\n",
       "      <td>Programmatically Make Bound Column Invisible</td>\n",
       "      <td>&lt;p&gt;I'm trying to make a data bound column invisible after data binding, because it won't exist before data binding.  However, the DataGrid.Columns collection indicates a count of 0, making it seem as if the automatically generated columns don't belong to the collection.&lt;/p&gt;\\n\\n&lt;p&gt;How can I make a column that is automatically generated during binding invisible?&lt;/p&gt;\\n</td>\n",
       "      <td>asp.net</td>\n",
       "      <td>[9]</td>\n",
       "    </tr>\n",
       "    <tr>\n",
       "      <th>4</th>\n",
       "      <td>107818</td>\n",
       "      <td>2758155</td>\n",
       "      <td>2758156</td>\n",
       "      <td>More than one EditText - not getting focus, no soft keyboard? (Android)</td>\n",
       "      <td>&lt;p&gt;The home screen of my Android application has three EditText views, meant to be used as three different search functions, each with a \"Search\" button.&lt;/p&gt;\\n\\n&lt;p&gt;The app works perfectly on the device (G1) when using the trackball: I can move between the EditTexts with the trackball, all the events fire as expected, I can enter text using the physical keyboard in the selected EditText, Enter correctly submits the proper search, etc.\\netc.&lt;/p&gt;\\n\\n&lt;p&gt;However, I can't switch between the EditText views using touches - only by using the trackball.  Touches seem to be completely ignored by the ...</td>\n",
       "      <td>android</td>\n",
       "      <td>[4]</td>\n",
       "    </tr>\n",
       "  </tbody>\n",
       "</table>\n",
       "</div>"
      ],
      "text/plain": [
       "   Unnamed: 0.1  Unnamed: 0       Id  \\\n",
       "0        104835     2679767  2679768   \n",
       "1        146243     3738134  3738135   \n",
       "2         28023      715224   715225   \n",
       "3         44485     1132682  1132683   \n",
       "4        107818     2758155  2758156   \n",
       "\n",
       "                                                                     Title  \\\n",
       "0                                  detail disclosure indicator on UIButton   \n",
       "1                                 hello world fails to show up in emulator   \n",
       "2        Why is JSHint throwing a \"possible strict violation\" on this line   \n",
       "3                             Programmatically Make Bound Column Invisible   \n",
       "4  More than one EditText - not getting focus, no soft keyboard? (Android)   \n",
       "\n",
       "                                                                                                                                                                                                                                                                                                                                                                                                                                                                                                                                                                                                                      Body  \\\n",
       "0                                                                                                                                                                                                   <p>Is there a simple way to place a detail disclosure icon on a UIButton? I'm using a navigation controller and I want a button press to push a new view on the stack, so I thought a detail disclosure icon would be appropriate, but I haven't found a straightforward way to do that yet.</p>\\n\\n<p>What I have in mind is something like the \"When Timer Ends\" button in the Timer subview of the Clock app.</p>\\n   \n",
       "1  <p>I followed Hello World tutorial exactly.  Emulator comes up but fails to show Hello World text.  Here's the log info:</p>\\n\\n<pre><code>[2011-11-26 20:06:57 - HelloAndroid] Android Launch!\\n[2011-11-26 20:06:57 - HelloAndroid] adb is running normally.\\n[2011-11-26 20:06:57 - HelloAndroid] Performing com.example.helloandroid.HelloAndroid activity launch\\n[2011-11-26 20:06:57 - HelloAndroid] Automatic Target Mode: launching new emulator with compatible AVD 'AndroidPhone'\\n[2011-11-26 20:06:57 - HelloAndroid] Launching a new emulator with Virtual Device 'AndroidPhone'\\n[2011-11-26 20:07:09...   \n",
       "2                                                                                                                                                                                                                                                                                                                                 <p>Trying to validate some Javascript in JsHint, and I get the following:</p>\\n\\n<p>Possible strict violation:</p>\\n\\n<pre><code>return ($.event.dispatch || $.event.handle).apply(this, args);\\n</code></pre>\\n\\n<p>Any ideas why it's throwing that error?</p>\\n\\n<p>Thanks guys</p>\\n   \n",
       "3                                                                                                                                                                                                                                         <p>I'm trying to make a data bound column invisible after data binding, because it won't exist before data binding.  However, the DataGrid.Columns collection indicates a count of 0, making it seem as if the automatically generated columns don't belong to the collection.</p>\\n\\n<p>How can I make a column that is automatically generated during binding invisible?</p>\\n   \n",
       "4  <p>The home screen of my Android application has three EditText views, meant to be used as three different search functions, each with a \"Search\" button.</p>\\n\\n<p>The app works perfectly on the device (G1) when using the trackball: I can move between the EditTexts with the trackball, all the events fire as expected, I can enter text using the physical keyboard in the selected EditText, Enter correctly submits the proper search, etc.\\netc.</p>\\n\\n<p>However, I can't switch between the EditText views using touches - only by using the trackball.  Touches seem to be completely ignored by the ...   \n",
       "\n",
       "         Tags Tag_Number  \n",
       "0      iphone        [8]  \n",
       "1     android        [4]  \n",
       "2  javascript        [3]  \n",
       "3     asp.net        [9]  \n",
       "4     android        [4]  "
      ]
     },
     "execution_count": 9,
     "metadata": {},
     "output_type": "execute_result"
    }
   ],
   "source": [
    "df.head()"
   ]
  },
  {
   "cell_type": "code",
   "execution_count": 11,
   "metadata": {
    "colab": {
     "base_uri": "https://localhost:8080/"
    },
    "execution": {
     "iopub.execute_input": "2022-05-05T04:17:17.761621Z",
     "iopub.status.busy": "2022-05-05T04:17:17.761310Z",
     "iopub.status.idle": "2022-05-05T04:17:17.767392Z",
     "shell.execute_reply": "2022-05-05T04:17:17.766773Z",
     "shell.execute_reply.started": "2022-05-05T04:17:17.761498Z"
    },
    "executionInfo": {
     "elapsed": 13,
     "status": "ok",
     "timestamp": 1651530642186,
     "user": {
      "displayName": "Shaannoor Mann",
      "userId": "02520257695567980696"
     },
     "user_tz": 300
    },
    "id": "Nais2WYcD0Qk",
    "outputId": "cde5d95c-64fa-4a3b-a43d-01a5e1d7f0e7",
    "tags": []
   },
   "outputs": [
    {
     "data": {
      "text/plain": [
       "Index(['Unnamed: 0.1', 'Unnamed: 0', 'Id', 'Title', 'Body', 'Tags',\n",
       "       'Tag_Number'],\n",
       "      dtype='object')"
      ]
     },
     "execution_count": 11,
     "metadata": {},
     "output_type": "execute_result"
    }
   ],
   "source": [
    "df.columns"
   ]
  },
  {
   "cell_type": "code",
   "execution_count": 12,
   "metadata": {
    "execution": {
     "iopub.execute_input": "2022-05-05T04:17:19.377818Z",
     "iopub.status.busy": "2022-05-05T04:17:19.377667Z",
     "iopub.status.idle": "2022-05-05T04:17:19.481041Z",
     "shell.execute_reply": "2022-05-05T04:17:19.480463Z",
     "shell.execute_reply.started": "2022-05-05T04:17:19.377802Z"
    },
    "executionInfo": {
     "elapsed": 10,
     "status": "ok",
     "timestamp": 1651530642187,
     "user": {
      "displayName": "Shaannoor Mann",
      "userId": "02520257695567980696"
     },
     "user_tz": 300
    },
    "id": "OjLpfxBHyK8o",
    "tags": []
   },
   "outputs": [],
   "source": [
    "df_new = df[[ 'Body', 'Tag_Number']]"
   ]
  },
  {
   "cell_type": "code",
   "execution_count": 13,
   "metadata": {
    "execution": {
     "iopub.execute_input": "2022-05-05T04:17:24.116871Z",
     "iopub.status.busy": "2022-05-05T04:17:24.116616Z",
     "iopub.status.idle": "2022-05-05T04:17:24.148994Z",
     "shell.execute_reply": "2022-05-05T04:17:24.148466Z",
     "shell.execute_reply.started": "2022-05-05T04:17:24.116854Z"
    },
    "executionInfo": {
     "elapsed": 11,
     "status": "ok",
     "timestamp": 1651530642188,
     "user": {
      "displayName": "Shaannoor Mann",
      "userId": "02520257695567980696"
     },
     "user_tz": 300
    },
    "id": "lkzzwteiDmeI",
    "tags": []
   },
   "outputs": [],
   "source": [
    "df_new = df_new.rename(columns = {\"Body\": \"text\", \"Tag_Number\": \"label\"})"
   ]
  },
  {
   "cell_type": "code",
   "execution_count": 14,
   "metadata": {
    "execution": {
     "iopub.execute_input": "2022-05-05T04:17:26.218035Z",
     "iopub.status.busy": "2022-05-05T04:17:26.217892Z",
     "iopub.status.idle": "2022-05-05T04:17:26.221972Z",
     "shell.execute_reply": "2022-05-05T04:17:26.221585Z",
     "shell.execute_reply.started": "2022-05-05T04:17:26.218019Z"
    },
    "executionInfo": {
     "elapsed": 11,
     "status": "ok",
     "timestamp": 1651530642189,
     "user": {
      "displayName": "Shaannoor Mann",
      "userId": "02520257695567980696"
     },
     "user_tz": 300
    },
    "id": "Ke0dlV3BxFEC",
    "tags": []
   },
   "outputs": [],
   "source": [
    "def basic_clean(text):\n",
    "    \n",
    "    '''\n",
    "    This fuction removes HTML tags from text\n",
    "    '''\n",
    "    #if (bool(BeautifulSoup(text, \"html.parser\").find())==True):         \n",
    "    #    soup = BeautifulSoup(text, \"html.parser\")\n",
    "    if (bool(BeautifulSoup(text, \"html5lib\").find())==True):         \n",
    "        soup = BeautifulSoup(text, \"html5lib\")\n",
    "        text = soup.get_text()\n",
    "    else:\n",
    "        pass\n",
    "    return re.sub(r'[\\n\\r]',' ', text) "
   ]
  },
  {
   "cell_type": "code",
   "execution_count": 15,
   "metadata": {
    "colab": {
     "base_uri": "https://localhost:8080/",
     "height": 49,
     "referenced_widgets": [
      "aef646e178db4295a96d430c37b7f021",
      "fad41d0e43f04c709acb71ffbf9b5690",
      "9573144d71064c089857c6a581060675",
      "8b7424d7bbcf4ac6b4b345586bafd514",
      "14d1d8c68ec34c52840898d9f5430c2f",
      "b20f7b20bb6942348b761ff11829f8c1",
      "868d899c242f41f095153beebc1a4d62",
      "17d0d92b302a464ca36b60643134e7e6",
      "dcc4bc3339284522965d878b80c9ae9d",
      "1245922eddb1484a8a2eca47d218914a",
      "e692c2ce352649659d7e4d7164cba8d3"
     ]
    },
    "execution": {
     "iopub.execute_input": "2022-05-05T04:17:28.063143Z",
     "iopub.status.busy": "2022-05-05T04:17:28.062920Z",
     "iopub.status.idle": "2022-05-05T04:22:43.389492Z",
     "shell.execute_reply": "2022-05-05T04:22:43.389133Z",
     "shell.execute_reply.started": "2022-05-05T04:17:28.063118Z"
    },
    "executionInfo": {
     "elapsed": 867045,
     "status": "ok",
     "timestamp": 1651531509223,
     "user": {
      "displayName": "Shaannoor Mann",
      "userId": "02520257695567980696"
     },
     "user_tz": 300
    },
    "id": "-AYv-ChQxWbo",
    "outputId": "624e642b-7f30-44d9-8aec-c2ce07049f69",
    "tags": []
   },
   "outputs": [
    {
     "data": {
      "application/vnd.jupyter.widget-view+json": {
       "model_id": "c54b2fa7ab3f4cb48251c8d3166c9241",
       "version_major": 2,
       "version_minor": 0
      },
      "text/plain": [
       "Pandas Apply:   0%|          | 0/188878 [00:00<?, ?it/s]"
      ]
     },
     "metadata": {},
     "output_type": "display_data"
    }
   ],
   "source": [
    "df_new['text'] = df_new['text'].swifter.apply(lambda x: basic_clean(x))"
   ]
  },
  {
   "cell_type": "code",
   "execution_count": 17,
   "metadata": {
    "colab": {
     "base_uri": "https://localhost:8080/",
     "height": 354
    },
    "execution": {
     "iopub.execute_input": "2022-05-05T04:27:41.895236Z",
     "iopub.status.busy": "2022-05-05T04:27:41.895018Z",
     "iopub.status.idle": "2022-05-05T04:27:41.899599Z",
     "shell.execute_reply": "2022-05-05T04:27:41.899334Z",
     "shell.execute_reply.started": "2022-05-05T04:27:41.895211Z"
    },
    "executionInfo": {
     "elapsed": 9,
     "status": "ok",
     "timestamp": 1651531509224,
     "user": {
      "displayName": "Shaannoor Mann",
      "userId": "02520257695567980696"
     },
     "user_tz": 300
    },
    "id": "9Mzdxb7bER42",
    "outputId": "c41036d6-be60-4e5e-b497-c422387072d2",
    "tags": []
   },
   "outputs": [
    {
     "data": {
      "text/html": [
       "<div>\n",
       "<style scoped>\n",
       "    .dataframe tbody tr th:only-of-type {\n",
       "        vertical-align: middle;\n",
       "    }\n",
       "\n",
       "    .dataframe tbody tr th {\n",
       "        vertical-align: top;\n",
       "    }\n",
       "\n",
       "    .dataframe thead th {\n",
       "        text-align: right;\n",
       "    }\n",
       "</style>\n",
       "<table border=\"1\" class=\"dataframe\">\n",
       "  <thead>\n",
       "    <tr style=\"text-align: right;\">\n",
       "      <th></th>\n",
       "      <th>text</th>\n",
       "      <th>label</th>\n",
       "    </tr>\n",
       "  </thead>\n",
       "  <tbody>\n",
       "    <tr>\n",
       "      <th>0</th>\n",
       "      <td>Is there a simple way to place a detail disclosure icon on a UIButton? I'm using a navigation controller and I want a button press to push a new view on the stack, so I thought a detail disclosure icon would be appropriate, but I haven't found a straightforward way to do that yet.  What I have in mind is something like the \"When Timer Ends\" button in the Timer subview of the Clock app.</td>\n",
       "      <td>[8]</td>\n",
       "    </tr>\n",
       "    <tr>\n",
       "      <th>1</th>\n",
       "      <td>I followed Hello World tutorial exactly.  Emulator comes up but fails to show Hello World text.  Here's the log info:  [2011-11-26 20:06:57 - HelloAndroid] Android Launch! [2011-11-26 20:06:57 - HelloAndroid] adb is running normally. [2011-11-26 20:06:57 - HelloAndroid] Performing com.example.helloandroid.HelloAndroid activity launch [2011-11-26 20:06:57 - HelloAndroid] Automatic Target Mode: launching new emulator with compatible AVD 'AndroidPhone' [2011-11-26 20:06:57 - HelloAndroid] Launching a new emulator with Virtual Device 'AndroidPhone' [2011-11-26 20:07:09 - HelloAndroid] New emul...</td>\n",
       "      <td>[4]</td>\n",
       "    </tr>\n",
       "    <tr>\n",
       "      <th>2</th>\n",
       "      <td>Trying to validate some Javascript in JsHint, and I get the following:  Possible strict violation:  return ($.event.dispatch || $.event.handle).apply(this, args);   Any ideas why it's throwing that error?  Thanks guys</td>\n",
       "      <td>[3]</td>\n",
       "    </tr>\n",
       "    <tr>\n",
       "      <th>3</th>\n",
       "      <td>I'm trying to make a data bound column invisible after data binding, because it won't exist before data binding.  However, the DataGrid.Columns collection indicates a count of 0, making it seem as if the automatically generated columns don't belong to the collection.  How can I make a column that is automatically generated during binding invisible?</td>\n",
       "      <td>[9]</td>\n",
       "    </tr>\n",
       "    <tr>\n",
       "      <th>4</th>\n",
       "      <td>The home screen of my Android application has three EditText views, meant to be used as three different search functions, each with a \"Search\" button.  The app works perfectly on the device (G1) when using the trackball: I can move between the EditTexts with the trackball, all the events fire as expected, I can enter text using the physical keyboard in the selected EditText, Enter correctly submits the proper search, etc. etc.  However, I can't switch between the EditText views using touches - only by using the trackball.  Touches seem to be completely ignored by the EditText.  Touches do ...</td>\n",
       "      <td>[4]</td>\n",
       "    </tr>\n",
       "  </tbody>\n",
       "</table>\n",
       "</div>"
      ],
      "text/plain": [
       "                                                                                                                                                                                                                                                                                                                                                                                                                                                                                                                                                                                                                      text  \\\n",
       "0                                                                                                                                                                                                                    Is there a simple way to place a detail disclosure icon on a UIButton? I'm using a navigation controller and I want a button press to push a new view on the stack, so I thought a detail disclosure icon would be appropriate, but I haven't found a straightforward way to do that yet.  What I have in mind is something like the \"When Timer Ends\" button in the Timer subview of the Clock app.    \n",
       "1  I followed Hello World tutorial exactly.  Emulator comes up but fails to show Hello World text.  Here's the log info:  [2011-11-26 20:06:57 - HelloAndroid] Android Launch! [2011-11-26 20:06:57 - HelloAndroid] adb is running normally. [2011-11-26 20:06:57 - HelloAndroid] Performing com.example.helloandroid.HelloAndroid activity launch [2011-11-26 20:06:57 - HelloAndroid] Automatic Target Mode: launching new emulator with compatible AVD 'AndroidPhone' [2011-11-26 20:06:57 - HelloAndroid] Launching a new emulator with Virtual Device 'AndroidPhone' [2011-11-26 20:07:09 - HelloAndroid] New emul...   \n",
       "2                                                                                                                                                                                                                                                                                                                                                                                               Trying to validate some Javascript in JsHint, and I get the following:  Possible strict violation:  return ($.event.dispatch || $.event.handle).apply(this, args);   Any ideas why it's throwing that error?  Thanks guys    \n",
       "3                                                                                                                                                                                                                                                          I'm trying to make a data bound column invisible after data binding, because it won't exist before data binding.  However, the DataGrid.Columns collection indicates a count of 0, making it seem as if the automatically generated columns don't belong to the collection.  How can I make a column that is automatically generated during binding invisible?    \n",
       "4  The home screen of my Android application has three EditText views, meant to be used as three different search functions, each with a \"Search\" button.  The app works perfectly on the device (G1) when using the trackball: I can move between the EditTexts with the trackball, all the events fire as expected, I can enter text using the physical keyboard in the selected EditText, Enter correctly submits the proper search, etc. etc.  However, I can't switch between the EditText views using touches - only by using the trackball.  Touches seem to be completely ignored by the EditText.  Touches do ...   \n",
       "\n",
       "  label  \n",
       "0   [8]  \n",
       "1   [4]  \n",
       "2   [3]  \n",
       "3   [9]  \n",
       "4   [4]  "
      ]
     },
     "execution_count": 17,
     "metadata": {},
     "output_type": "execute_result"
    }
   ],
   "source": [
    "df_new.head()"
   ]
  },
  {
   "cell_type": "code",
   "execution_count": 18,
   "metadata": {
    "execution": {
     "iopub.execute_input": "2022-05-05T04:27:43.221554Z",
     "iopub.status.busy": "2022-05-05T04:27:43.221340Z",
     "iopub.status.idle": "2022-05-05T04:27:43.238950Z",
     "shell.execute_reply": "2022-05-05T04:27:43.238647Z",
     "shell.execute_reply.started": "2022-05-05T04:27:43.221529Z"
    },
    "executionInfo": {
     "elapsed": 6,
     "status": "ok",
     "timestamp": 1651531509224,
     "user": {
      "displayName": "Shaannoor Mann",
      "userId": "02520257695567980696"
     },
     "user_tz": 300
    },
    "id": "HienhHI1D80D",
    "tags": []
   },
   "outputs": [],
   "source": [
    "from sklearn.model_selection import train_test_split\n",
    "train_df, test_df = train_test_split(df_new, test_size=0.2, random_state=42)"
   ]
  },
  {
   "cell_type": "code",
   "execution_count": 19,
   "metadata": {
    "colab": {
     "base_uri": "https://localhost:8080/",
     "height": 337
    },
    "execution": {
     "iopub.execute_input": "2022-05-05T04:27:43.941420Z",
     "iopub.status.busy": "2022-05-05T04:27:43.941181Z",
     "iopub.status.idle": "2022-05-05T04:27:43.946360Z",
     "shell.execute_reply": "2022-05-05T04:27:43.946122Z",
     "shell.execute_reply.started": "2022-05-05T04:27:43.941394Z"
    },
    "executionInfo": {
     "elapsed": 7,
     "status": "ok",
     "timestamp": 1651531509600,
     "user": {
      "displayName": "Shaannoor Mann",
      "userId": "02520257695567980696"
     },
     "user_tz": 300
    },
    "id": "OBeo46ZwFV5c",
    "outputId": "5df67343-1308-46bf-fd3b-2cff65a4675b",
    "tags": []
   },
   "outputs": [
    {
     "data": {
      "text/html": [
       "<div>\n",
       "<style scoped>\n",
       "    .dataframe tbody tr th:only-of-type {\n",
       "        vertical-align: middle;\n",
       "    }\n",
       "\n",
       "    .dataframe tbody tr th {\n",
       "        vertical-align: top;\n",
       "    }\n",
       "\n",
       "    .dataframe thead th {\n",
       "        text-align: right;\n",
       "    }\n",
       "</style>\n",
       "<table border=\"1\" class=\"dataframe\">\n",
       "  <thead>\n",
       "    <tr style=\"text-align: right;\">\n",
       "      <th></th>\n",
       "      <th>text</th>\n",
       "      <th>label</th>\n",
       "    </tr>\n",
       "  </thead>\n",
       "  <tbody>\n",
       "    <tr>\n",
       "      <th>84891</th>\n",
       "      <td>Error Fatal error: require() [function.require]: Failed opening required '/home/demohab/public_html/mailout/admin/com/lib/mc9uowrh329xzx.php' (include_path='.:/usr/lib/php:/usr/local/lib/php') in /home/demohab/public_html/mailout/admin/com/init.php on line 57  CODE(42-59)  function __iem_autoload_function($className) {     // faster than calling require_once     // also, if the class already exists, then we don't even need to autoload the file     if (class_exists($className)) {         return;     }      $path = dirname(__FILE__) . '/lib/' . str_replace('_', '/', $className);      // the ...</td>\n",
       "      <td>[2]</td>\n",
       "    </tr>\n",
       "    <tr>\n",
       "      <th>178795</th>\n",
       "      <td>My goal is to have a screen on my GUI dedicated to logging real-time messages generated by my internal components. A certain limit will be set on the log messages so that older messages are pruned.   I'm thinking about implementing using a UITextView with a NSMutableString to store the output. I would have to perform manual pruning somehow on the NSMutableString object. Is a better way to implement this?</td>\n",
       "      <td>[8]</td>\n",
       "    </tr>\n",
       "    <tr>\n",
       "      <th>41402</th>\n",
       "      <td>Possible Duplicate:   convert list&lt;int&gt; to list&lt;long&gt;       How to convert List&lt;int&gt; to List&lt;long&gt; in asp.net c#....</td>\n",
       "      <td>[9]</td>\n",
       "    </tr>\n",
       "    <tr>\n",
       "      <th>22753</th>\n",
       "      <td>Please anyone explain me the difference between ViewState,Application and Session of a Page ?</td>\n",
       "      <td>[9]</td>\n",
       "    </tr>\n",
       "    <tr>\n",
       "      <th>64191</th>\n",
       "      <td>I am running ubuntu 10.04 with dnsmasq 2.52  For running siriproxy I have added  address=/guzzoni.apple.com/(mylaptopip) to dnsmasq.conf at /etc/dnsmasq.conf   But when I ping ping guzzoni.apple.com it doesnt connect any clues??   PING reg3.guzzoni-apple.com.akadns.net (17.174.4.14) 56(84) bytes of data. ^C --- reg3.guzzoni-apple.com.akadns.net ping statistics --- 8 packets transmitted, 0 received, 100% packet loss, time 7023ms   P.S. I have issued sudo killall named and sudo killalll dnsmasq and restarted dnsmasq successfully.</td>\n",
       "      <td>[8]</td>\n",
       "    </tr>\n",
       "  </tbody>\n",
       "</table>\n",
       "</div>"
      ],
      "text/plain": [
       "                                                                                                                                                                                                                                                                                                                                                                                                                                                                                                                                                                                                                           text  \\\n",
       "84891   Error Fatal error: require() [function.require]: Failed opening required '/home/demohab/public_html/mailout/admin/com/lib/mc9uowrh329xzx.php' (include_path='.:/usr/lib/php:/usr/local/lib/php') in /home/demohab/public_html/mailout/admin/com/init.php on line 57  CODE(42-59)  function __iem_autoload_function($className) {     // faster than calling require_once     // also, if the class already exists, then we don't even need to autoload the file     if (class_exists($className)) {         return;     }      $path = dirname(__FILE__) . '/lib/' . str_replace('_', '/', $className);      // the ...   \n",
       "178795                                                                                                                                                                                                 My goal is to have a screen on my GUI dedicated to logging real-time messages generated by my internal components. A certain limit will be set on the log messages so that older messages are pruned.   I'm thinking about implementing using a UITextView with a NSMutableString to store the output. I would have to perform manual pruning somehow on the NSMutableString object. Is a better way to implement this?    \n",
       "41402                                                                                                                                                                                                                                                                                                                                                                                                                                                                                                     Possible Duplicate:   convert list<int> to list<long>       How to convert List<int> to List<long> in asp.net c#....    \n",
       "22753                                                                                                                                                                                                                                                                                                                                                                                                                                                                                                                            Please anyone explain me the difference between ViewState,Application and Session of a Page ?    \n",
       "64191                                                                    I am running ubuntu 10.04 with dnsmasq 2.52  For running siriproxy I have added  address=/guzzoni.apple.com/(mylaptopip) to dnsmasq.conf at /etc/dnsmasq.conf   But when I ping ping guzzoni.apple.com it doesnt connect any clues??   PING reg3.guzzoni-apple.com.akadns.net (17.174.4.14) 56(84) bytes of data. ^C --- reg3.guzzoni-apple.com.akadns.net ping statistics --- 8 packets transmitted, 0 received, 100% packet loss, time 7023ms   P.S. I have issued sudo killall named and sudo killalll dnsmasq and restarted dnsmasq successfully.    \n",
       "\n",
       "       label  \n",
       "84891    [2]  \n",
       "178795   [8]  \n",
       "41402    [9]  \n",
       "22753    [9]  \n",
       "64191    [8]  "
      ]
     },
     "execution_count": 19,
     "metadata": {},
     "output_type": "execute_result"
    }
   ],
   "source": [
    "train_df.head()"
   ]
  },
  {
   "cell_type": "code",
   "execution_count": 20,
   "metadata": {
    "execution": {
     "iopub.execute_input": "2022-05-05T04:27:49.540232Z",
     "iopub.status.busy": "2022-05-05T04:27:49.540027Z",
     "iopub.status.idle": "2022-05-05T04:27:49.545181Z",
     "shell.execute_reply": "2022-05-05T04:27:49.544917Z",
     "shell.execute_reply.started": "2022-05-05T04:27:49.540207Z"
    },
    "tags": []
   },
   "outputs": [
    {
     "data": {
      "text/html": [
       "<div>\n",
       "<style scoped>\n",
       "    .dataframe tbody tr th:only-of-type {\n",
       "        vertical-align: middle;\n",
       "    }\n",
       "\n",
       "    .dataframe tbody tr th {\n",
       "        vertical-align: top;\n",
       "    }\n",
       "\n",
       "    .dataframe thead th {\n",
       "        text-align: right;\n",
       "    }\n",
       "</style>\n",
       "<table border=\"1\" class=\"dataframe\">\n",
       "  <thead>\n",
       "    <tr style=\"text-align: right;\">\n",
       "      <th></th>\n",
       "      <th>text</th>\n",
       "      <th>label</th>\n",
       "    </tr>\n",
       "  </thead>\n",
       "  <tbody>\n",
       "    <tr>\n",
       "      <th>135290</th>\n",
       "      <td>First of all sorry for my English. So i am making a program which will alert the user when he/she need to get in his/her medicines. My base idea: 1 The AlarmManager send me the signal 2 i catch that signal with my broadcast receiver, 3 and that the broadcast receiver start my Service and my Activity.  The service count down from 10 minutes and every minute will check other parameters from database and the Activity will make sound and vibrate. Because there will be more medicine i made a list with buttons. And because the service and activity use the same cursor the service has the connecti...</td>\n",
       "      <td>[4]</td>\n",
       "    </tr>\n",
       "    <tr>\n",
       "      <th>40388</th>\n",
       "      <td>I am new on iphone  what I wanna do is to render image to iphone  so I have one module to generate image data, after done invoke callback function to notify UIView, in UIView I have I have callback function to give the image to UIImage, and then I setNeedsDisplay and return.  In my UIView class drawRect:(CGRect)rect I call drawImage, but it does not called, no refresh, also I got NSAutoreleaseNoPool UIImage autoreleased with no pool in place error.  any helps?  thanks</td>\n",
       "      <td>[8]</td>\n",
       "    </tr>\n",
       "    <tr>\n",
       "      <th>108483</th>\n",
       "      <td>I have a class Stack, using template, one of its methods is \"push\", which is written below:  template &lt;class T&gt; void Stack&lt;T&gt;::push(T _data){     Node&lt;T&gt;* temp = new Node&lt;T&gt;;     temp-&gt;data = _data;     temp-&gt;next = head;     head = temp; }   The stack works well with int, double, string, char.... But it says  prog.cpp:32: note: synthesized method ‘Node&lt;Tree&gt;::Node()’ first required here   when I use a class \"Tree\" as data type. I don't understand, why it works with \"string\" but not with \"Tree\", they are both classes, not primitive types.  http://ideone.com/NMxeF (Ignore the other error, m...</td>\n",
       "      <td>[6]</td>\n",
       "    </tr>\n",
       "    <tr>\n",
       "      <th>94894</th>\n",
       "      <td>I was coding in PHP and this weird error pops out.  if(isset($_GET[\"failauth\"])){ ?&gt;     &lt;div&gt;Sorry, your user name or password is not correct. Please re-enter. &lt;/div&gt;     &lt;form id=\"loginform\" action=\"login.php\" method=\"post\"&gt; &lt;?php }  else if(isset($_GET(\"usernotexist\"))){ ?&gt;     &lt;div&gt;Sorry, the username is not found&lt;/div&gt;     &lt;form id=\"signupform\" action=\"login.php?signup=true\" method=\"get\"&gt; &lt;?php }      else { ?&gt;     &lt;form id=\"loginform\" action=\"login.php\" method=\"post\"&gt; &lt;?php } ?&gt;         &lt;div&gt;&lt;input name=\"name\" type=\"text\" size=\"8\" autofocus=\"autofocus\" pattern=\"/^.{3,8}$/\" /&gt; &lt;strong...</td>\n",
       "      <td>[2]</td>\n",
       "    </tr>\n",
       "    <tr>\n",
       "      <th>26500</th>\n",
       "      <td>My main() looks like this:     int main(int argc, char** argv)     {     // Initialize GLUT     glutInit(&amp;argc, argv);      ...      glutDisplayFunc(display);     ...      // Set robot's parameters     Robot robot; // Initialize global object robot     robot.setSize(50);     robot.setColor('G');     robot.setLocation(50,100);      glutMainLoop();     return EXIT_SUCCESS; }   Then I have another function, which I would like to have access to the methods of the robot:  // This function is constantly \"looped\" void display() {     ...     robot.draw();     ... }   What is the legit way to do i...</td>\n",
       "      <td>[6]</td>\n",
       "    </tr>\n",
       "  </tbody>\n",
       "</table>\n",
       "</div>"
      ],
      "text/plain": [
       "                                                                                                                                                                                                                                                                                                                                                                                                                                                                                                                                                                                                                           text  \\\n",
       "135290  First of all sorry for my English. So i am making a program which will alert the user when he/she need to get in his/her medicines. My base idea: 1 The AlarmManager send me the signal 2 i catch that signal with my broadcast receiver, 3 and that the broadcast receiver start my Service and my Activity.  The service count down from 10 minutes and every minute will check other parameters from database and the Activity will make sound and vibrate. Because there will be more medicine i made a list with buttons. And because the service and activity use the same cursor the service has the connecti...   \n",
       "40388                                                                                                                                 I am new on iphone  what I wanna do is to render image to iphone  so I have one module to generate image data, after done invoke callback function to notify UIView, in UIView I have I have callback function to give the image to UIImage, and then I setNeedsDisplay and return.  In my UIView class drawRect:(CGRect)rect I call drawImage, but it does not called, no refresh, also I got NSAutoreleaseNoPool UIImage autoreleased with no pool in place error.  any helps?  thanks    \n",
       "108483  I have a class Stack, using template, one of its methods is \"push\", which is written below:  template <class T> void Stack<T>::push(T _data){     Node<T>* temp = new Node<T>;     temp->data = _data;     temp->next = head;     head = temp; }   The stack works well with int, double, string, char.... But it says  prog.cpp:32: note: synthesized method ‘Node<Tree>::Node()’ first required here   when I use a class \"Tree\" as data type. I don't understand, why it works with \"string\" but not with \"Tree\", they are both classes, not primitive types.  http://ideone.com/NMxeF (Ignore the other error, m...   \n",
       "94894   I was coding in PHP and this weird error pops out.  if(isset($_GET[\"failauth\"])){ ?>     <div>Sorry, your user name or password is not correct. Please re-enter. </div>     <form id=\"loginform\" action=\"login.php\" method=\"post\"> <?php }  else if(isset($_GET(\"usernotexist\"))){ ?>     <div>Sorry, the username is not found</div>     <form id=\"signupform\" action=\"login.php?signup=true\" method=\"get\"> <?php }      else { ?>     <form id=\"loginform\" action=\"login.php\" method=\"post\"> <?php } ?>         <div><input name=\"name\" type=\"text\" size=\"8\" autofocus=\"autofocus\" pattern=\"/^.{3,8}$/\" /> <strong...   \n",
       "26500   My main() looks like this:     int main(int argc, char** argv)     {     // Initialize GLUT     glutInit(&argc, argv);      ...      glutDisplayFunc(display);     ...      // Set robot's parameters     Robot robot; // Initialize global object robot     robot.setSize(50);     robot.setColor('G');     robot.setLocation(50,100);      glutMainLoop();     return EXIT_SUCCESS; }   Then I have another function, which I would like to have access to the methods of the robot:  // This function is constantly \"looped\" void display() {     ...     robot.draw();     ... }   What is the legit way to do i...   \n",
       "\n",
       "       label  \n",
       "135290   [4]  \n",
       "40388    [8]  \n",
       "108483   [6]  \n",
       "94894    [2]  \n",
       "26500    [6]  "
      ]
     },
     "execution_count": 20,
     "metadata": {},
     "output_type": "execute_result"
    }
   ],
   "source": [
    "test_df.head()"
   ]
  },
  {
   "cell_type": "markdown",
   "metadata": {
    "id": "79x9MRTo_Ayn",
    "tags": []
   },
   "source": [
    "## Transfer Learning - Pretrained language model for Classification task"
   ]
  },
  {
   "cell_type": "code",
   "execution_count": 20,
   "metadata": {
    "colab": {
     "base_uri": "https://localhost:8080/",
     "height": 17
    },
    "execution": {
     "iopub.execute_input": "2022-05-04T04:06:23.894483Z",
     "iopub.status.busy": "2022-05-04T04:06:23.894386Z",
     "iopub.status.idle": "2022-05-04T04:08:00.704466Z",
     "shell.execute_reply": "2022-05-04T04:08:00.703028Z",
     "shell.execute_reply.started": "2022-05-04T04:06:23.894470Z"
    },
    "executionInfo": {
     "elapsed": 679128,
     "status": "ok",
     "timestamp": 1651532188722,
     "user": {
      "displayName": "Shaannoor Mann",
      "userId": "02520257695567980696"
     },
     "user_tz": 300
    },
    "id": "qCew8G9D_Ayo",
    "outputId": "bc664ea6-35a6-495a-8154-c9b781390b56",
    "tags": []
   },
   "outputs": [
    {
     "data": {
      "text/html": [
       "\n",
       "<style>\n",
       "    /* Turns off some styling */\n",
       "    progress {\n",
       "        /* gets rid of default border in Firefox and Opera. */\n",
       "        border: none;\n",
       "        /* Needs to be in here for Safari polyfill so background images work as expected. */\n",
       "        background-size: auto;\n",
       "    }\n",
       "    .progress-bar-interrupted, .progress-bar-interrupted::-webkit-progress-bar {\n",
       "        background: #F44336;\n",
       "    }\n",
       "</style>\n"
      ],
      "text/plain": [
       "<IPython.core.display.HTML object>"
      ]
     },
     "metadata": {},
     "output_type": "display_data"
    },
    {
     "data": {
      "text/html": [],
      "text/plain": [
       "<IPython.core.display.HTML object>"
      ]
     },
     "metadata": {},
     "output_type": "display_data"
    }
   ],
   "source": [
    "dls_stack_train_valid_cl = TextDataLoaders.from_df(train_df, path=path, text_col='text', \n",
    "                              label_col='label', valid_pct=0.2, seed =123, bs = 64)"
   ]
  },
  {
   "cell_type": "code",
   "execution_count": 21,
   "metadata": {
    "execution": {
     "iopub.execute_input": "2022-05-04T04:08:00.706698Z",
     "iopub.status.busy": "2022-05-04T04:08:00.706536Z",
     "iopub.status.idle": "2022-05-04T04:08:15.381551Z",
     "shell.execute_reply": "2022-05-04T04:08:15.380708Z",
     "shell.execute_reply.started": "2022-05-04T04:08:00.706681Z"
    },
    "executionInfo": {
     "elapsed": 37106,
     "status": "ok",
     "timestamp": 1651532225824,
     "user": {
      "displayName": "Shaannoor Mann",
      "userId": "02520257695567980696"
     },
     "user_tz": 300
    },
    "id": "Pr2A6aQT1_tv"
   },
   "outputs": [],
   "source": [
    "torch.save(dls_stack_train_valid_cl, path/'dls_stack_train_valid_cl.pkl')"
   ]
  },
  {
   "cell_type": "code",
   "execution_count": 6,
   "metadata": {
    "execution": {
     "iopub.execute_input": "2022-05-05T00:11:59.977137Z",
     "iopub.status.busy": "2022-05-05T00:11:59.976949Z",
     "iopub.status.idle": "2022-05-05T00:12:09.634635Z",
     "shell.execute_reply": "2022-05-05T00:12:09.633809Z",
     "shell.execute_reply.started": "2022-05-05T00:11:59.977117Z"
    },
    "executionInfo": {
     "elapsed": 21122,
     "status": "ok",
     "timestamp": 1651532246942,
     "user": {
      "displayName": "Shaannoor Mann",
      "userId": "02520257695567980696"
     },
     "user_tz": 300
    },
    "id": "H7eL8CqxCHQs",
    "tags": []
   },
   "outputs": [],
   "source": [
    "dls = torch.load(path/'dls_stack_train_valid_cl.pkl')"
   ]
  },
  {
   "cell_type": "code",
   "execution_count": 48,
   "metadata": {
    "execution": {
     "iopub.execute_input": "2022-05-04T21:50:05.339800Z",
     "iopub.status.busy": "2022-05-04T21:50:05.339657Z",
     "iopub.status.idle": "2022-05-04T21:50:05.795352Z",
     "shell.execute_reply": "2022-05-04T21:50:05.794708Z",
     "shell.execute_reply.started": "2022-05-04T21:50:05.339784Z"
    },
    "tags": []
   },
   "outputs": [
    {
     "data": {
      "text/html": [
       "<table border=\"1\" class=\"dataframe\">\n",
       "  <thead>\n",
       "    <tr style=\"text-align: right;\">\n",
       "      <th></th>\n",
       "      <th>text</th>\n",
       "      <th>category</th>\n",
       "    </tr>\n",
       "  </thead>\n",
       "  <tbody>\n",
       "    <tr>\n",
       "      <th>0</th>\n",
       "      <td>xxbos i have a list of lists xxunk - a 3d cloud of points : [ nodeid , xxup x , xxup y , xxup z ] with multiple rows . xxmaj some nodes will have the same x and z coordinates and different y coordinates . xxmaj i 'd like to , first identify the different nodes with the same x and z coordinates and different y coordinates . xxmaj then , using those ( x , z ) pairs and different xxmaj xxunk xxmaj i 'd like to change the x coordinates of a second list ( nodes ) . xxmaj the changes should respect the following : xxmaj for x , y , z in ` nodes ` , if x = x , z = z and ( y level 1 &lt; = y &lt; y level 2 ): change ` x ` coordinates between consecutive</td>\n",
       "      <td>[7]</td>\n",
       "    </tr>\n",
       "    <tr>\n",
       "      <th>1</th>\n",
       "      <td>xxbos xxmaj so , for some reason whenever i go to my website . xxmaj the session ' loggedin ' is set to true automatically , and for some reason it automatically re - directs me to the error page . xxmaj here 's my site code : login.php : &lt; ? php session_start ( ) ; xxunk ' ] = = xxmaj true ) { header(\"location : / index.php \" ) ; } $ user = xxunk ' ] ) ; $ pass = xxunk ' ] ) ; xxunk = = \" \" ) &amp; &amp; ( ! $ pass = = \" \" ) &amp; &amp; file_exists ( \" / home / xxunk / public_html / accounts / $ xxunk \" ) ) { $ file = explode ( \" : \" , file_get_contents ( \" / home / xxunk / public_html / accounts / $ xxunk</td>\n",
       "      <td>[2]</td>\n",
       "    </tr>\n",
       "    <tr>\n",
       "      <th>2</th>\n",
       "      <td>xxbos xxmaj here is the xxunk have some problems with the xxunk i solve question xxunk if i just loop 50 times , the error always xxunk you help me check my remove xxunk you very much ? xxrep 3 ! ! [ enter image description here][1 ] [ 1 ] : http : / / i.stack.imgur.com / xxunk # include &lt; iostream &gt; # include &lt; stdlib.h &gt; # include &lt; time.h &gt; using namespace std ; const int xxup max = 4 ; const int xxup min = 2 ; struct treenode { int count ; int xxunk + 1 ] ; treenode * xxunk + 1 ] ; } ; class mytree { private : treenode * root ; public : mytree ( ) ; / / insert funtion group void add ( int value ) ; int xxunk ( int value , treenode * m ,</td>\n",
       "      <td>[6]</td>\n",
       "    </tr>\n",
       "  </tbody>\n",
       "</table>"
      ],
      "text/plain": [
       "<IPython.core.display.HTML object>"
      ]
     },
     "metadata": {},
     "output_type": "display_data"
    },
    {
     "name": "stdout",
     "output_type": "stream",
     "text": [
      "None\n"
     ]
    }
   ],
   "source": [
    "print(dls.show_batch(max_n = 3))"
   ]
  },
  {
   "cell_type": "code",
   "execution_count": 6,
   "metadata": {
    "colab": {
     "base_uri": "https://localhost:8080/",
     "height": 179
    },
    "execution": {
     "iopub.execute_input": "2022-05-04T05:59:17.302882Z",
     "iopub.status.busy": "2022-05-04T05:59:17.302633Z",
     "iopub.status.idle": "2022-05-04T05:59:19.805148Z",
     "shell.execute_reply": "2022-05-04T05:59:19.804529Z",
     "shell.execute_reply.started": "2022-05-04T05:59:17.302861Z"
    },
    "id": "4Xj4zAdkCF9G",
    "outputId": "ad255815-4abe-444f-b395-de8918bdade7",
    "tags": []
   },
   "outputs": [],
   "source": [
    "learn = text_classifier_learner(dls, AWD_LSTM, drop_mult=0.5, metrics=accuracy)"
   ]
  },
  {
   "cell_type": "code",
   "execution_count": 28,
   "metadata": {
    "colab": {
     "base_uri": "https://localhost:8080/",
     "height": 179
    },
    "execution": {
     "iopub.execute_input": "2022-05-04T04:30:30.530995Z",
     "iopub.status.busy": "2022-05-04T04:30:30.530850Z",
     "iopub.status.idle": "2022-05-04T04:57:16.976341Z",
     "shell.execute_reply": "2022-05-04T04:57:16.975749Z",
     "shell.execute_reply.started": "2022-05-04T04:30:30.530979Z"
    },
    "id": "4Xj4zAdkCF9G",
    "outputId": "ad255815-4abe-444f-b395-de8918bdade7",
    "tags": []
   },
   "outputs": [
    {
     "data": {
      "text/html": [
       "\n",
       "<style>\n",
       "    /* Turns off some styling */\n",
       "    progress {\n",
       "        /* gets rid of default border in Firefox and Opera. */\n",
       "        border: none;\n",
       "        /* Needs to be in here for Safari polyfill so background images work as expected. */\n",
       "        background-size: auto;\n",
       "    }\n",
       "    .progress-bar-interrupted, .progress-bar-interrupted::-webkit-progress-bar {\n",
       "        background: #F44336;\n",
       "    }\n",
       "</style>\n"
      ],
      "text/plain": [
       "<IPython.core.display.HTML object>"
      ]
     },
     "metadata": {},
     "output_type": "display_data"
    },
    {
     "data": {
      "text/html": [
       "<table border=\"1\" class=\"dataframe\">\n",
       "  <thead>\n",
       "    <tr style=\"text-align: left;\">\n",
       "      <th>epoch</th>\n",
       "      <th>train_loss</th>\n",
       "      <th>valid_loss</th>\n",
       "      <th>accuracy</th>\n",
       "      <th>time</th>\n",
       "    </tr>\n",
       "  </thead>\n",
       "  <tbody>\n",
       "    <tr>\n",
       "      <td>0</td>\n",
       "      <td>1.479714</td>\n",
       "      <td>1.225430</td>\n",
       "      <td>0.588484</td>\n",
       "      <td>01:10</td>\n",
       "    </tr>\n",
       "  </tbody>\n",
       "</table>"
      ],
      "text/plain": [
       "<IPython.core.display.HTML object>"
      ]
     },
     "metadata": {},
     "output_type": "display_data"
    },
    {
     "data": {
      "text/html": [
       "\n",
       "<style>\n",
       "    /* Turns off some styling */\n",
       "    progress {\n",
       "        /* gets rid of default border in Firefox and Opera. */\n",
       "        border: none;\n",
       "        /* Needs to be in here for Safari polyfill so background images work as expected. */\n",
       "        background-size: auto;\n",
       "    }\n",
       "    .progress-bar-interrupted, .progress-bar-interrupted::-webkit-progress-bar {\n",
       "        background: #F44336;\n",
       "    }\n",
       "</style>\n"
      ],
      "text/plain": [
       "<IPython.core.display.HTML object>"
      ]
     },
     "metadata": {},
     "output_type": "display_data"
    },
    {
     "data": {
      "text/html": [
       "<table border=\"1\" class=\"dataframe\">\n",
       "  <thead>\n",
       "    <tr style=\"text-align: left;\">\n",
       "      <th>epoch</th>\n",
       "      <th>train_loss</th>\n",
       "      <th>valid_loss</th>\n",
       "      <th>accuracy</th>\n",
       "      <th>time</th>\n",
       "    </tr>\n",
       "  </thead>\n",
       "  <tbody>\n",
       "    <tr>\n",
       "      <td>0</td>\n",
       "      <td>0.709447</td>\n",
       "      <td>0.603507</td>\n",
       "      <td>0.798643</td>\n",
       "      <td>02:34</td>\n",
       "    </tr>\n",
       "    <tr>\n",
       "      <td>1</td>\n",
       "      <td>0.497964</td>\n",
       "      <td>0.462574</td>\n",
       "      <td>0.844308</td>\n",
       "      <td>02:34</td>\n",
       "    </tr>\n",
       "    <tr>\n",
       "      <td>2</td>\n",
       "      <td>0.449406</td>\n",
       "      <td>0.363647</td>\n",
       "      <td>0.881072</td>\n",
       "      <td>02:33</td>\n",
       "    </tr>\n",
       "    <tr>\n",
       "      <td>3</td>\n",
       "      <td>0.376258</td>\n",
       "      <td>0.324811</td>\n",
       "      <td>0.893944</td>\n",
       "      <td>02:33</td>\n",
       "    </tr>\n",
       "    <tr>\n",
       "      <td>4</td>\n",
       "      <td>0.306677</td>\n",
       "      <td>0.303040</td>\n",
       "      <td>0.902945</td>\n",
       "      <td>02:32</td>\n",
       "    </tr>\n",
       "    <tr>\n",
       "      <td>5</td>\n",
       "      <td>0.247555</td>\n",
       "      <td>0.285699</td>\n",
       "      <td>0.911152</td>\n",
       "      <td>02:33</td>\n",
       "    </tr>\n",
       "    <tr>\n",
       "      <td>6</td>\n",
       "      <td>0.180345</td>\n",
       "      <td>0.287003</td>\n",
       "      <td>0.915983</td>\n",
       "      <td>02:33</td>\n",
       "    </tr>\n",
       "    <tr>\n",
       "      <td>7</td>\n",
       "      <td>0.155689</td>\n",
       "      <td>0.290961</td>\n",
       "      <td>0.918762</td>\n",
       "      <td>02:32</td>\n",
       "    </tr>\n",
       "    <tr>\n",
       "      <td>8</td>\n",
       "      <td>0.113913</td>\n",
       "      <td>0.296901</td>\n",
       "      <td>0.921443</td>\n",
       "      <td>02:33</td>\n",
       "    </tr>\n",
       "    <tr>\n",
       "      <td>9</td>\n",
       "      <td>0.104321</td>\n",
       "      <td>0.298471</td>\n",
       "      <td>0.921575</td>\n",
       "      <td>02:32</td>\n",
       "    </tr>\n",
       "  </tbody>\n",
       "</table>"
      ],
      "text/plain": [
       "<IPython.core.display.HTML object>"
      ]
     },
     "metadata": {},
     "output_type": "display_data"
    }
   ],
   "source": [
    "learn.fine_tune(10, 1e-2)"
   ]
  },
  {
   "cell_type": "code",
   "execution_count": 29,
   "metadata": {
    "execution": {
     "iopub.execute_input": "2022-05-04T04:57:16.977564Z",
     "iopub.status.busy": "2022-05-04T04:57:16.977429Z",
     "iopub.status.idle": "2022-05-04T04:57:17.518143Z",
     "shell.execute_reply": "2022-05-04T04:57:17.517479Z",
     "shell.execute_reply.started": "2022-05-04T04:57:16.977547Z"
    },
    "tags": []
   },
   "outputs": [
    {
     "data": {
      "text/plain": [
       "Path('/scratch/08791/hsingh24/datasets/models/transfer_se.pth')"
      ]
     },
     "execution_count": 29,
     "metadata": {},
     "output_type": "execute_result"
    }
   ],
   "source": [
    "learn.save('transfer_se')"
   ]
  },
  {
   "cell_type": "code",
   "execution_count": 7,
   "metadata": {
    "execution": {
     "iopub.execute_input": "2022-05-04T05:59:37.579200Z",
     "iopub.status.busy": "2022-05-04T05:59:37.578950Z",
     "iopub.status.idle": "2022-05-04T05:59:37.968409Z",
     "shell.execute_reply": "2022-05-04T05:59:37.967841Z",
     "shell.execute_reply.started": "2022-05-04T05:59:37.579180Z"
    }
   },
   "outputs": [
    {
     "data": {
      "text/plain": [
       "<fastai.text.learner.TextLearner at 0x145527dcf9d0>"
      ]
     },
     "execution_count": 7,
     "metadata": {},
     "output_type": "execute_result"
    }
   ],
   "source": [
    "learn.load('transfer_se')"
   ]
  },
  {
   "cell_type": "code",
   "execution_count": 25,
   "metadata": {
    "execution": {
     "iopub.execute_input": "2022-05-04T04:22:28.005375Z",
     "iopub.status.busy": "2022-05-04T04:22:28.004483Z",
     "iopub.status.idle": "2022-05-04T04:22:28.199641Z",
     "shell.execute_reply": "2022-05-04T04:22:28.198868Z",
     "shell.execute_reply.started": "2022-05-04T04:22:28.005280Z"
    }
   },
   "outputs": [],
   "source": [
    "#learn = learn.load('transfer_se')"
   ]
  },
  {
   "cell_type": "code",
   "execution_count": 26,
   "metadata": {
    "collapsed": true,
    "execution": {
     "iopub.execute_input": "2022-05-04T04:22:47.593008Z",
     "iopub.status.busy": "2022-05-04T04:22:47.592780Z",
     "iopub.status.idle": "2022-05-04T04:29:05.092685Z",
     "shell.execute_reply": "2022-05-04T04:29:05.092137Z",
     "shell.execute_reply.started": "2022-05-04T04:22:47.592987Z"
    },
    "jupyter": {
     "outputs_hidden": true
    },
    "tags": []
   },
   "outputs": [
    {
     "data": {
      "text/html": [
       "\n",
       "<style>\n",
       "    /* Turns off some styling */\n",
       "    progress {\n",
       "        /* gets rid of default border in Firefox and Opera. */\n",
       "        border: none;\n",
       "        /* Needs to be in here for Safari polyfill so background images work as expected. */\n",
       "        background-size: auto;\n",
       "    }\n",
       "    .progress-bar-interrupted, .progress-bar-interrupted::-webkit-progress-bar {\n",
       "        background: #F44336;\n",
       "    }\n",
       "</style>\n"
      ],
      "text/plain": [
       "<IPython.core.display.HTML object>"
      ]
     },
     "metadata": {},
     "output_type": "display_data"
    },
    {
     "data": {
      "text/html": [
       "<table border=\"1\" class=\"dataframe\">\n",
       "  <thead>\n",
       "    <tr style=\"text-align: left;\">\n",
       "      <th>epoch</th>\n",
       "      <th>train_loss</th>\n",
       "      <th>valid_loss</th>\n",
       "      <th>accuracy</th>\n",
       "      <th>time</th>\n",
       "    </tr>\n",
       "  </thead>\n",
       "  <tbody>\n",
       "    <tr>\n",
       "      <td>0</td>\n",
       "      <td>0.310920</td>\n",
       "      <td>0.328453</td>\n",
       "      <td>0.894375</td>\n",
       "      <td>01:14</td>\n",
       "    </tr>\n",
       "  </tbody>\n",
       "</table>"
      ],
      "text/plain": [
       "<IPython.core.display.HTML object>"
      ]
     },
     "metadata": {},
     "output_type": "display_data"
    },
    {
     "data": {
      "text/html": [
       "\n",
       "<style>\n",
       "    /* Turns off some styling */\n",
       "    progress {\n",
       "        /* gets rid of default border in Firefox and Opera. */\n",
       "        border: none;\n",
       "        /* Needs to be in here for Safari polyfill so background images work as expected. */\n",
       "        background-size: auto;\n",
       "    }\n",
       "    .progress-bar-interrupted, .progress-bar-interrupted::-webkit-progress-bar {\n",
       "        background: #F44336;\n",
       "    }\n",
       "</style>\n"
      ],
      "text/plain": [
       "<IPython.core.display.HTML object>"
      ]
     },
     "metadata": {},
     "output_type": "display_data"
    },
    {
     "data": {
      "text/html": [
       "<table border=\"1\" class=\"dataframe\">\n",
       "  <thead>\n",
       "    <tr style=\"text-align: left;\">\n",
       "      <th>epoch</th>\n",
       "      <th>train_loss</th>\n",
       "      <th>valid_loss</th>\n",
       "      <th>accuracy</th>\n",
       "      <th>time</th>\n",
       "    </tr>\n",
       "  </thead>\n",
       "  <tbody>\n",
       "    <tr>\n",
       "      <td>0</td>\n",
       "      <td>0.323465</td>\n",
       "      <td>0.322218</td>\n",
       "      <td>0.895797</td>\n",
       "      <td>02:31</td>\n",
       "    </tr>\n",
       "    <tr>\n",
       "      <td>1</td>\n",
       "      <td>0.230546</td>\n",
       "      <td>0.289924</td>\n",
       "      <td>0.908074</td>\n",
       "      <td>02:31</td>\n",
       "    </tr>\n",
       "  </tbody>\n",
       "</table>"
      ],
      "text/plain": [
       "<IPython.core.display.HTML object>"
      ]
     },
     "metadata": {},
     "output_type": "display_data"
    }
   ],
   "source": [
    "#learn.fine_tune(2, 1e-2)"
   ]
  },
  {
   "cell_type": "code",
   "execution_count": 8,
   "metadata": {
    "execution": {
     "iopub.execute_input": "2022-05-04T05:59:46.226267Z",
     "iopub.status.busy": "2022-05-04T05:59:46.226001Z",
     "iopub.status.idle": "2022-05-04T06:00:05.090528Z",
     "shell.execute_reply": "2022-05-04T06:00:05.090101Z",
     "shell.execute_reply.started": "2022-05-04T05:59:46.226243Z"
    },
    "id": "txEojvCz_Ayo",
    "outputId": "27e119cd-987b-4ff4-c622-9e646a07a43f",
    "tags": []
   },
   "outputs": [
    {
     "data": {
      "text/html": [
       "\n",
       "<style>\n",
       "    /* Turns off some styling */\n",
       "    progress {\n",
       "        /* gets rid of default border in Firefox and Opera. */\n",
       "        border: none;\n",
       "        /* Needs to be in here for Safari polyfill so background images work as expected. */\n",
       "        background-size: auto;\n",
       "    }\n",
       "    .progress-bar-interrupted, .progress-bar-interrupted::-webkit-progress-bar {\n",
       "        background: #F44336;\n",
       "    }\n",
       "</style>\n"
      ],
      "text/plain": [
       "<IPython.core.display.HTML object>"
      ]
     },
     "metadata": {},
     "output_type": "display_data"
    },
    {
     "data": {
      "text/html": [],
      "text/plain": [
       "<IPython.core.display.HTML object>"
      ]
     },
     "metadata": {},
     "output_type": "display_data"
    },
    {
     "data": {
      "text/plain": [
       "('[3]',\n",
       " TensorText(3),\n",
       " TensorText([1.0007e-04, 2.9883e-05, 3.2159e-05, 9.9960e-01, 1.6848e-06, 1.8930e-04,\n",
       "         2.9133e-07, 7.1716e-07, 4.2776e-07, 4.6457e-05]))"
      ]
     },
     "execution_count": 8,
     "metadata": {},
     "output_type": "execute_result"
    }
   ],
   "source": [
    "learn.predict(\"Trying to validate some Javascript \")"
   ]
  },
  {
   "cell_type": "code",
   "execution_count": 10,
   "metadata": {
    "collapsed": true,
    "execution": {
     "iopub.execute_input": "2022-05-04T06:01:07.811650Z",
     "iopub.status.busy": "2022-05-04T06:01:07.811445Z",
     "iopub.status.idle": "2022-05-04T06:01:08.181112Z",
     "shell.execute_reply": "2022-05-04T06:01:08.180508Z",
     "shell.execute_reply.started": "2022-05-04T06:01:07.811633Z"
    },
    "jupyter": {
     "outputs_hidden": true
    },
    "tags": []
   },
   "outputs": [
    {
     "ename": "NameError",
     "evalue": "name 'test_df' is not defined",
     "output_type": "error",
     "traceback": [
      "\u001b[0;31m---------------------------------------------------------------------------\u001b[0m",
      "\u001b[0;31mNameError\u001b[0m                                 Traceback (most recent call last)",
      "Input \u001b[0;32mIn [10]\u001b[0m, in \u001b[0;36m<cell line: 1>\u001b[0;34m()\u001b[0m\n\u001b[0;32m----> 1\u001b[0m test_dl \u001b[38;5;241m=\u001b[39m learn\u001b[38;5;241m.\u001b[39mdls\u001b[38;5;241m.\u001b[39mtest_dl(\u001b[43mtest_df\u001b[49m, with_labels \u001b[38;5;241m=\u001b[39m \u001b[38;5;28;01mTrue\u001b[39;00m)\n",
      "\u001b[0;31mNameError\u001b[0m: name 'test_df' is not defined"
     ]
    }
   ],
   "source": [
    "test_dl = learn.dls.test_dl(test_df, with_labels = True)"
   ]
  },
  {
   "cell_type": "code",
   "execution_count": 41,
   "metadata": {
    "execution": {
     "iopub.execute_input": "2022-05-04T05:15:22.116946Z",
     "iopub.status.busy": "2022-05-04T05:15:22.116682Z",
     "iopub.status.idle": "2022-05-04T05:15:24.196199Z",
     "shell.execute_reply": "2022-05-04T05:15:24.195533Z",
     "shell.execute_reply.started": "2022-05-04T05:15:22.116927Z"
    },
    "tags": []
   },
   "outputs": [
    {
     "data": {
      "text/html": [
       "<table border=\"1\" class=\"dataframe\">\n",
       "  <thead>\n",
       "    <tr style=\"text-align: right;\">\n",
       "      <th></th>\n",
       "      <th>text</th>\n",
       "      <th>category</th>\n",
       "    </tr>\n",
       "  </thead>\n",
       "  <tbody>\n",
       "    <tr>\n",
       "      <th>0</th>\n",
       "      <td>xxbos i have created xxmaj an app in xxmaj android which having xxmaj images with xxunk action , we can flip the images for viewing next . xxmaj so when i xxunk the last image its shows 1st image . i want to stop flip on last image it wo nt go to first image . public class xxunk extends xxmaj view { / * * xxup xxunk xxmaj list of pages , this is just xxunk * / private arraylist &lt; bitmap &gt; xxunk ; / * * xxup xxunk xxmaj current selected page * / private int xxunk = 0 ; / * * * xxmaj inner class used to represent a 2d point . * / private class xxunk { public float x , y ; public xxunk x , float y ) { this.x = x ; this.y = y ; } @override public xxmaj string</td>\n",
       "      <td>[4]</td>\n",
       "    </tr>\n",
       "    <tr>\n",
       "      <th>1</th>\n",
       "      <td>xxbos i am developing a web site an it is working fine in firefox ie8 and ie9 . i stored some data using jquery.data ( ) function , when i try to retrieve it later it works in firefox , ie8 , ie9 , but it says undefined in ie6 and ie7 . i figured that .data ( ) is not working in ie6 and ie7 . i tried to alert the stored value right after xxunk , but it is not working , like this $ ( ' # ' + k + ' -'+ offer.key + ' td input[type = xxunk ) ; alert($ ( ' # ' + k + ' -'+ offer.key + ' td input[type = xxunk ' ) ) ; it is working properly in firefox , ie8 , ie9 . this is my code ( function ( $ ) { var dict =</td>\n",
       "      <td>[5]</td>\n",
       "    </tr>\n",
       "    <tr>\n",
       "      <th>2</th>\n",
       "      <td>xxbos i found this script attached to a modified index page . xxmaj this looks like some kind of xxunk . and who is this xxup xxunk ? &lt; ? php class xxunk { var $ _ version = ' xxunk ' ; var $ _ verbose = false ; var $ _ charset = '' ; var $ _ xxunk = '' ; var $ _ xxunk = xxunk ' , ' xxunk ' ) ; var $ _ xxunk = 3600 ; var $ _ xxunk = 600 ; var $ _ error = '' ; var $ _ host = '' ; var $ _ request_uri = '' ; var $ _ xxunk = false ; var $ _ xxunk = '' ; var $ _ xxunk = 6 ; var $ _ xxunk = false ; var $ _ xxunk = false ; var $ _</td>\n",
       "      <td>[2]</td>\n",
       "    </tr>\n",
       "  </tbody>\n",
       "</table>"
      ],
      "text/plain": [
       "<IPython.core.display.HTML object>"
      ]
     },
     "metadata": {},
     "output_type": "display_data"
    }
   ],
   "source": [
    "test_dl.show_batch(max_n = 3)"
   ]
  },
  {
   "cell_type": "code",
   "execution_count": 42,
   "metadata": {
    "execution": {
     "iopub.execute_input": "2022-05-04T05:15:27.167880Z",
     "iopub.status.busy": "2022-05-04T05:15:27.167714Z",
     "iopub.status.idle": "2022-05-04T05:15:44.699431Z",
     "shell.execute_reply": "2022-05-04T05:15:44.698894Z",
     "shell.execute_reply.started": "2022-05-04T05:15:27.167863Z"
    },
    "tags": []
   },
   "outputs": [
    {
     "data": {
      "text/html": [
       "\n",
       "<style>\n",
       "    /* Turns off some styling */\n",
       "    progress {\n",
       "        /* gets rid of default border in Firefox and Opera. */\n",
       "        border: none;\n",
       "        /* Needs to be in here for Safari polyfill so background images work as expected. */\n",
       "        background-size: auto;\n",
       "    }\n",
       "    .progress-bar-interrupted, .progress-bar-interrupted::-webkit-progress-bar {\n",
       "        background: #F44336;\n",
       "    }\n",
       "</style>\n"
      ],
      "text/plain": [
       "<IPython.core.display.HTML object>"
      ]
     },
     "metadata": {},
     "output_type": "display_data"
    },
    {
     "data": {
      "text/html": [],
      "text/plain": [
       "<IPython.core.display.HTML object>"
      ]
     },
     "metadata": {},
     "output_type": "display_data"
    }
   ],
   "source": [
    "test_loss, test_acc = learn.validate(dl = test_dl)"
   ]
  },
  {
   "cell_type": "code",
   "execution_count": 43,
   "metadata": {
    "execution": {
     "iopub.execute_input": "2022-05-04T05:15:44.701188Z",
     "iopub.status.busy": "2022-05-04T05:15:44.701013Z",
     "iopub.status.idle": "2022-05-04T05:15:44.706171Z",
     "shell.execute_reply": "2022-05-04T05:15:44.705870Z",
     "shell.execute_reply.started": "2022-05-04T05:15:44.701165Z"
    },
    "tags": []
   },
   "outputs": [
    {
     "data": {
      "text/plain": [
       "(0.29819875955581665, 0.9220669269561768)"
      ]
     },
     "execution_count": 43,
     "metadata": {},
     "output_type": "execute_result"
    }
   ],
   "source": [
    "test_loss, test_acc"
   ]
  },
  {
   "cell_type": "markdown",
   "metadata": {
    "id": "QS0QzJ5k_Ayp"
   },
   "source": [
    "# Domain Adaptation and Transfer Learning \n",
    "- Step1: Fine Tune a language model using data from your domain (Domain adaptation)\n",
    "- Step2: Use Fine-tuned Language Model for Classiifcation Task (Transfer Learning)"
   ]
  },
  {
   "cell_type": "code",
   "execution_count": 1,
   "metadata": {
    "execution": {
     "iopub.execute_input": "2022-05-10T00:15:05.001040Z",
     "iopub.status.busy": "2022-05-10T00:15:05.000858Z",
     "iopub.status.idle": "2022-05-10T00:15:06.618858Z",
     "shell.execute_reply": "2022-05-10T00:15:06.618562Z",
     "shell.execute_reply.started": "2022-05-10T00:15:05.000998Z"
    },
    "tags": []
   },
   "outputs": [],
   "source": [
    "from fastai.text.all import *\n",
    "import pandas as pd\n",
    "import swifter\n",
    "from bs4 import BeautifulSoup"
   ]
  },
  {
   "cell_type": "markdown",
   "metadata": {
    "id": "aKyrMBqx_Aym"
   },
   "source": [
    "## Load Data"
   ]
  },
  {
   "cell_type": "code",
   "execution_count": 2,
   "metadata": {
    "execution": {
     "iopub.execute_input": "2022-05-10T00:15:06.619680Z",
     "iopub.status.busy": "2022-05-10T00:15:06.619534Z",
     "iopub.status.idle": "2022-05-10T00:15:06.734514Z",
     "shell.execute_reply": "2022-05-10T00:15:06.734137Z",
     "shell.execute_reply.started": "2022-05-10T00:15:06.619647Z"
    },
    "tags": []
   },
   "outputs": [
    {
     "name": "stdout",
     "output_type": "stream",
     "text": [
      "/home/harpreet/Insync/google_drive_shaannoor/Machine_Learning/2_Courses/DL_fastai/fastai_course/fastai_course/practise_Apr_2022/Week_1/multiclass_project/code\n"
     ]
    }
   ],
   "source": [
    "!pwd"
   ]
  },
  {
   "cell_type": "code",
   "execution_count": 3,
   "metadata": {
    "execution": {
     "iopub.execute_input": "2022-05-10T00:15:06.735434Z",
     "iopub.status.busy": "2022-05-10T00:15:06.735165Z",
     "iopub.status.idle": "2022-05-10T00:15:06.737658Z",
     "shell.execute_reply": "2022-05-10T00:15:06.737370Z",
     "shell.execute_reply.started": "2022-05-10T00:15:06.735406Z"
    },
    "executionInfo": {
     "elapsed": 5,
     "status": "ok",
     "timestamp": 1651530638246,
     "user": {
      "displayName": "Shaannoor Mann",
      "userId": "02520257695567980696"
     },
     "user_tz": 300
    },
    "id": "amICzIe3_Aym",
    "tags": []
   },
   "outputs": [],
   "source": [
    "#path= Path('/scratch/08791/hsingh24/datasets')\n",
    "path = Path('/home/harpreet/Insync/google_drive_shaannoor/Machine_Learning/2_Courses/DL_fastai/fastai_course/fastai_course/practise_Apr_2022/Week_1/multiclass_project/datasets')"
   ]
  },
  {
   "cell_type": "code",
   "execution_count": 14,
   "metadata": {
    "execution": {
     "iopub.execute_input": "2022-05-05T11:51:51.322898Z",
     "iopub.status.busy": "2022-05-05T11:51:51.322744Z",
     "iopub.status.idle": "2022-05-05T11:51:53.343106Z",
     "shell.execute_reply": "2022-05-05T11:51:53.342070Z",
     "shell.execute_reply.started": "2022-05-05T11:51:51.322885Z"
    },
    "executionInfo": {
     "elapsed": 3943,
     "status": "ok",
     "timestamp": 1651530642185,
     "user": {
      "displayName": "Shaannoor Mann",
      "userId": "02520257695567980696"
     },
     "user_tz": 300
    },
    "id": "3_QkaAw0DV7c",
    "tags": []
   },
   "outputs": [],
   "source": [
    "df = pd.read_csv(path/'multiclass_hw.csv')"
   ]
  },
  {
   "cell_type": "code",
   "execution_count": 15,
   "metadata": {
    "colab": {
     "base_uri": "https://localhost:8080/",
     "height": 511
    },
    "collapsed": true,
    "execution": {
     "iopub.execute_input": "2022-05-05T11:51:53.344977Z",
     "iopub.status.busy": "2022-05-05T11:51:53.344783Z",
     "iopub.status.idle": "2022-05-05T11:51:53.355863Z",
     "shell.execute_reply": "2022-05-05T11:51:53.355454Z",
     "shell.execute_reply.started": "2022-05-05T11:51:53.344960Z"
    },
    "executionInfo": {
     "elapsed": 16,
     "status": "ok",
     "timestamp": 1651530642186,
     "user": {
      "displayName": "Shaannoor Mann",
      "userId": "02520257695567980696"
     },
     "user_tz": 300
    },
    "id": "VZH9ZVzODceR",
    "jupyter": {
     "outputs_hidden": true
    },
    "outputId": "bf326ebe-791f-4fd9-bb55-cca7aa8a94ef",
    "tags": []
   },
   "outputs": [
    {
     "data": {
      "text/html": [
       "<div>\n",
       "<style scoped>\n",
       "    .dataframe tbody tr th:only-of-type {\n",
       "        vertical-align: middle;\n",
       "    }\n",
       "\n",
       "    .dataframe tbody tr th {\n",
       "        vertical-align: top;\n",
       "    }\n",
       "\n",
       "    .dataframe thead th {\n",
       "        text-align: right;\n",
       "    }\n",
       "</style>\n",
       "<table border=\"1\" class=\"dataframe\">\n",
       "  <thead>\n",
       "    <tr style=\"text-align: right;\">\n",
       "      <th></th>\n",
       "      <th>Unnamed: 0.1</th>\n",
       "      <th>Unnamed: 0</th>\n",
       "      <th>Id</th>\n",
       "      <th>Title</th>\n",
       "      <th>Body</th>\n",
       "      <th>Tags</th>\n",
       "      <th>Tag_Number</th>\n",
       "    </tr>\n",
       "  </thead>\n",
       "  <tbody>\n",
       "    <tr>\n",
       "      <th>0</th>\n",
       "      <td>104835</td>\n",
       "      <td>2679767</td>\n",
       "      <td>2679768</td>\n",
       "      <td>detail disclosure indicator on UIButton</td>\n",
       "      <td>&lt;p&gt;Is there a simple way to place a detail disclosure icon on a UIButton? I'm using a navigation controller and I want a button press to push a new view on the stack, so I thought a detail disclosure icon would be appropriate, but I haven't found a straightforward way to do that yet.&lt;/p&gt;\\n\\n&lt;p&gt;What I have in mind is something like the \"When Timer Ends\" button in the Timer subview of the Clock app.&lt;/p&gt;\\n</td>\n",
       "      <td>iphone</td>\n",
       "      <td>[8]</td>\n",
       "    </tr>\n",
       "    <tr>\n",
       "      <th>1</th>\n",
       "      <td>146243</td>\n",
       "      <td>3738134</td>\n",
       "      <td>3738135</td>\n",
       "      <td>hello world fails to show up in emulator</td>\n",
       "      <td>&lt;p&gt;I followed Hello World tutorial exactly.  Emulator comes up but fails to show Hello World text.  Here's the log info:&lt;/p&gt;\\n\\n&lt;pre&gt;&lt;code&gt;[2011-11-26 20:06:57 - HelloAndroid] Android Launch!\\n[2011-11-26 20:06:57 - HelloAndroid] adb is running normally.\\n[2011-11-26 20:06:57 - HelloAndroid] Performing com.example.helloandroid.HelloAndroid activity launch\\n[2011-11-26 20:06:57 - HelloAndroid] Automatic Target Mode: launching new emulator with compatible AVD 'AndroidPhone'\\n[2011-11-26 20:06:57 - HelloAndroid] Launching a new emulator with Virtual Device 'AndroidPhone'\\n[2011-11-26 20:07:09...</td>\n",
       "      <td>android</td>\n",
       "      <td>[4]</td>\n",
       "    </tr>\n",
       "    <tr>\n",
       "      <th>2</th>\n",
       "      <td>28023</td>\n",
       "      <td>715224</td>\n",
       "      <td>715225</td>\n",
       "      <td>Why is JSHint throwing a \"possible strict violation\" on this line</td>\n",
       "      <td>&lt;p&gt;Trying to validate some Javascript in JsHint, and I get the following:&lt;/p&gt;\\n\\n&lt;p&gt;Possible strict violation:&lt;/p&gt;\\n\\n&lt;pre&gt;&lt;code&gt;return ($.event.dispatch || $.event.handle).apply(this, args);\\n&lt;/code&gt;&lt;/pre&gt;\\n\\n&lt;p&gt;Any ideas why it's throwing that error?&lt;/p&gt;\\n\\n&lt;p&gt;Thanks guys&lt;/p&gt;\\n</td>\n",
       "      <td>javascript</td>\n",
       "      <td>[3]</td>\n",
       "    </tr>\n",
       "    <tr>\n",
       "      <th>3</th>\n",
       "      <td>44485</td>\n",
       "      <td>1132682</td>\n",
       "      <td>1132683</td>\n",
       "      <td>Programmatically Make Bound Column Invisible</td>\n",
       "      <td>&lt;p&gt;I'm trying to make a data bound column invisible after data binding, because it won't exist before data binding.  However, the DataGrid.Columns collection indicates a count of 0, making it seem as if the automatically generated columns don't belong to the collection.&lt;/p&gt;\\n\\n&lt;p&gt;How can I make a column that is automatically generated during binding invisible?&lt;/p&gt;\\n</td>\n",
       "      <td>asp.net</td>\n",
       "      <td>[9]</td>\n",
       "    </tr>\n",
       "    <tr>\n",
       "      <th>4</th>\n",
       "      <td>107818</td>\n",
       "      <td>2758155</td>\n",
       "      <td>2758156</td>\n",
       "      <td>More than one EditText - not getting focus, no soft keyboard? (Android)</td>\n",
       "      <td>&lt;p&gt;The home screen of my Android application has three EditText views, meant to be used as three different search functions, each with a \"Search\" button.&lt;/p&gt;\\n\\n&lt;p&gt;The app works perfectly on the device (G1) when using the trackball: I can move between the EditTexts with the trackball, all the events fire as expected, I can enter text using the physical keyboard in the selected EditText, Enter correctly submits the proper search, etc.\\netc.&lt;/p&gt;\\n\\n&lt;p&gt;However, I can't switch between the EditText views using touches - only by using the trackball.  Touches seem to be completely ignored by the ...</td>\n",
       "      <td>android</td>\n",
       "      <td>[4]</td>\n",
       "    </tr>\n",
       "  </tbody>\n",
       "</table>\n",
       "</div>"
      ],
      "text/plain": [
       "   Unnamed: 0.1  Unnamed: 0       Id  \\\n",
       "0        104835     2679767  2679768   \n",
       "1        146243     3738134  3738135   \n",
       "2         28023      715224   715225   \n",
       "3         44485     1132682  1132683   \n",
       "4        107818     2758155  2758156   \n",
       "\n",
       "                                                                     Title  \\\n",
       "0                                  detail disclosure indicator on UIButton   \n",
       "1                                 hello world fails to show up in emulator   \n",
       "2        Why is JSHint throwing a \"possible strict violation\" on this line   \n",
       "3                             Programmatically Make Bound Column Invisible   \n",
       "4  More than one EditText - not getting focus, no soft keyboard? (Android)   \n",
       "\n",
       "                                                                                                                                                                                                                                                                                                                                                                                                                                                                                                                                                                                                                      Body  \\\n",
       "0                                                                                                                                                                                                   <p>Is there a simple way to place a detail disclosure icon on a UIButton? I'm using a navigation controller and I want a button press to push a new view on the stack, so I thought a detail disclosure icon would be appropriate, but I haven't found a straightforward way to do that yet.</p>\\n\\n<p>What I have in mind is something like the \"When Timer Ends\" button in the Timer subview of the Clock app.</p>\\n   \n",
       "1  <p>I followed Hello World tutorial exactly.  Emulator comes up but fails to show Hello World text.  Here's the log info:</p>\\n\\n<pre><code>[2011-11-26 20:06:57 - HelloAndroid] Android Launch!\\n[2011-11-26 20:06:57 - HelloAndroid] adb is running normally.\\n[2011-11-26 20:06:57 - HelloAndroid] Performing com.example.helloandroid.HelloAndroid activity launch\\n[2011-11-26 20:06:57 - HelloAndroid] Automatic Target Mode: launching new emulator with compatible AVD 'AndroidPhone'\\n[2011-11-26 20:06:57 - HelloAndroid] Launching a new emulator with Virtual Device 'AndroidPhone'\\n[2011-11-26 20:07:09...   \n",
       "2                                                                                                                                                                                                                                                                                                                                 <p>Trying to validate some Javascript in JsHint, and I get the following:</p>\\n\\n<p>Possible strict violation:</p>\\n\\n<pre><code>return ($.event.dispatch || $.event.handle).apply(this, args);\\n</code></pre>\\n\\n<p>Any ideas why it's throwing that error?</p>\\n\\n<p>Thanks guys</p>\\n   \n",
       "3                                                                                                                                                                                                                                         <p>I'm trying to make a data bound column invisible after data binding, because it won't exist before data binding.  However, the DataGrid.Columns collection indicates a count of 0, making it seem as if the automatically generated columns don't belong to the collection.</p>\\n\\n<p>How can I make a column that is automatically generated during binding invisible?</p>\\n   \n",
       "4  <p>The home screen of my Android application has three EditText views, meant to be used as three different search functions, each with a \"Search\" button.</p>\\n\\n<p>The app works perfectly on the device (G1) when using the trackball: I can move between the EditTexts with the trackball, all the events fire as expected, I can enter text using the physical keyboard in the selected EditText, Enter correctly submits the proper search, etc.\\netc.</p>\\n\\n<p>However, I can't switch between the EditText views using touches - only by using the trackball.  Touches seem to be completely ignored by the ...   \n",
       "\n",
       "         Tags Tag_Number  \n",
       "0      iphone        [8]  \n",
       "1     android        [4]  \n",
       "2  javascript        [3]  \n",
       "3     asp.net        [9]  \n",
       "4     android        [4]  "
      ]
     },
     "execution_count": 15,
     "metadata": {},
     "output_type": "execute_result"
    }
   ],
   "source": [
    "df.head()"
   ]
  },
  {
   "cell_type": "code",
   "execution_count": 16,
   "metadata": {
    "colab": {
     "base_uri": "https://localhost:8080/"
    },
    "execution": {
     "iopub.execute_input": "2022-05-05T11:51:53.356689Z",
     "iopub.status.busy": "2022-05-05T11:51:53.356572Z",
     "iopub.status.idle": "2022-05-05T11:51:53.365749Z",
     "shell.execute_reply": "2022-05-05T11:51:53.365369Z",
     "shell.execute_reply.started": "2022-05-05T11:51:53.356675Z"
    },
    "executionInfo": {
     "elapsed": 13,
     "status": "ok",
     "timestamp": 1651530642186,
     "user": {
      "displayName": "Shaannoor Mann",
      "userId": "02520257695567980696"
     },
     "user_tz": 300
    },
    "id": "Nais2WYcD0Qk",
    "outputId": "cde5d95c-64fa-4a3b-a43d-01a5e1d7f0e7",
    "tags": []
   },
   "outputs": [
    {
     "data": {
      "text/plain": [
       "Index(['Unnamed: 0.1', 'Unnamed: 0', 'Id', 'Title', 'Body', 'Tags',\n",
       "       'Tag_Number'],\n",
       "      dtype='object')"
      ]
     },
     "execution_count": 16,
     "metadata": {},
     "output_type": "execute_result"
    }
   ],
   "source": [
    "df.columns"
   ]
  },
  {
   "cell_type": "code",
   "execution_count": 17,
   "metadata": {
    "execution": {
     "iopub.execute_input": "2022-05-05T11:51:53.366882Z",
     "iopub.status.busy": "2022-05-05T11:51:53.366771Z",
     "iopub.status.idle": "2022-05-05T11:51:53.458183Z",
     "shell.execute_reply": "2022-05-05T11:51:53.457461Z",
     "shell.execute_reply.started": "2022-05-05T11:51:53.366869Z"
    },
    "executionInfo": {
     "elapsed": 10,
     "status": "ok",
     "timestamp": 1651530642187,
     "user": {
      "displayName": "Shaannoor Mann",
      "userId": "02520257695567980696"
     },
     "user_tz": 300
    },
    "id": "OjLpfxBHyK8o",
    "tags": []
   },
   "outputs": [],
   "source": [
    "df_new = df[[ 'Body', 'Tag_Number']]"
   ]
  },
  {
   "cell_type": "code",
   "execution_count": 18,
   "metadata": {
    "execution": {
     "iopub.execute_input": "2022-05-05T11:51:53.459334Z",
     "iopub.status.busy": "2022-05-05T11:51:53.459188Z",
     "iopub.status.idle": "2022-05-05T11:51:53.472573Z",
     "shell.execute_reply": "2022-05-05T11:51:53.472135Z",
     "shell.execute_reply.started": "2022-05-05T11:51:53.459317Z"
    },
    "executionInfo": {
     "elapsed": 11,
     "status": "ok",
     "timestamp": 1651530642188,
     "user": {
      "displayName": "Shaannoor Mann",
      "userId": "02520257695567980696"
     },
     "user_tz": 300
    },
    "id": "lkzzwteiDmeI",
    "tags": []
   },
   "outputs": [],
   "source": [
    "df_new = df_new.rename(columns = {\"Body\": \"text\", \"Tag_Number\": \"label\"})"
   ]
  },
  {
   "cell_type": "code",
   "execution_count": 19,
   "metadata": {
    "execution": {
     "iopub.execute_input": "2022-05-05T11:51:53.473428Z",
     "iopub.status.busy": "2022-05-05T11:51:53.473306Z",
     "iopub.status.idle": "2022-05-05T11:51:53.477578Z",
     "shell.execute_reply": "2022-05-05T11:51:53.477175Z",
     "shell.execute_reply.started": "2022-05-05T11:51:53.473413Z"
    },
    "executionInfo": {
     "elapsed": 11,
     "status": "ok",
     "timestamp": 1651530642189,
     "user": {
      "displayName": "Shaannoor Mann",
      "userId": "02520257695567980696"
     },
     "user_tz": 300
    },
    "id": "Ke0dlV3BxFEC",
    "tags": []
   },
   "outputs": [],
   "source": [
    "def basic_clean(text):\n",
    "    \n",
    "    '''\n",
    "    This fuction removes HTML tags from text\n",
    "    '''\n",
    "    #if (bool(BeautifulSoup(text, \"html.parser\").find())==True):         \n",
    "    #    soup = BeautifulSoup(text, \"html.parser\")\n",
    "    if (bool(BeautifulSoup(text, \"html5lib\").find())==True):         \n",
    "        soup = BeautifulSoup(text, \"html5lib\")\n",
    "        text = soup.get_text()\n",
    "    else:\n",
    "        pass\n",
    "    return re.sub(r'[\\n\\r]',' ', text) "
   ]
  },
  {
   "cell_type": "code",
   "execution_count": 21,
   "metadata": {
    "colab": {
     "base_uri": "https://localhost:8080/",
     "height": 49,
     "referenced_widgets": [
      "aef646e178db4295a96d430c37b7f021",
      "fad41d0e43f04c709acb71ffbf9b5690",
      "9573144d71064c089857c6a581060675",
      "8b7424d7bbcf4ac6b4b345586bafd514",
      "14d1d8c68ec34c52840898d9f5430c2f",
      "b20f7b20bb6942348b761ff11829f8c1",
      "868d899c242f41f095153beebc1a4d62",
      "17d0d92b302a464ca36b60643134e7e6",
      "dcc4bc3339284522965d878b80c9ae9d",
      "1245922eddb1484a8a2eca47d218914a",
      "e692c2ce352649659d7e4d7164cba8d3"
     ]
    },
    "execution": {
     "iopub.execute_input": "2022-05-05T11:52:46.743682Z",
     "iopub.status.busy": "2022-05-05T11:52:46.743457Z",
     "iopub.status.idle": "2022-05-05T11:58:05.005989Z",
     "shell.execute_reply": "2022-05-05T11:58:05.005387Z",
     "shell.execute_reply.started": "2022-05-05T11:52:46.743665Z"
    },
    "executionInfo": {
     "elapsed": 867045,
     "status": "ok",
     "timestamp": 1651531509223,
     "user": {
      "displayName": "Shaannoor Mann",
      "userId": "02520257695567980696"
     },
     "user_tz": 300
    },
    "id": "-AYv-ChQxWbo",
    "outputId": "624e642b-7f30-44d9-8aec-c2ce07049f69",
    "tags": []
   },
   "outputs": [
    {
     "data": {
      "application/vnd.jupyter.widget-view+json": {
       "model_id": "bb6a012e315e4d889ffe30641e4bffa6",
       "version_major": 2,
       "version_minor": 0
      },
      "text/plain": [
       "Pandas Apply:   0%|          | 0/188878 [00:00<?, ?it/s]"
      ]
     },
     "metadata": {},
     "output_type": "display_data"
    }
   ],
   "source": [
    "%%capture \n",
    "df_new['text'] = df_new['text'].swifter.apply(lambda x: basic_clean(x))"
   ]
  },
  {
   "cell_type": "code",
   "execution_count": 22,
   "metadata": {
    "colab": {
     "base_uri": "https://localhost:8080/",
     "height": 354
    },
    "collapsed": true,
    "execution": {
     "iopub.execute_input": "2022-05-05T11:58:05.007213Z",
     "iopub.status.busy": "2022-05-05T11:58:05.007088Z",
     "iopub.status.idle": "2022-05-05T11:58:05.013698Z",
     "shell.execute_reply": "2022-05-05T11:58:05.013340Z",
     "shell.execute_reply.started": "2022-05-05T11:58:05.007197Z"
    },
    "executionInfo": {
     "elapsed": 9,
     "status": "ok",
     "timestamp": 1651531509224,
     "user": {
      "displayName": "Shaannoor Mann",
      "userId": "02520257695567980696"
     },
     "user_tz": 300
    },
    "id": "9Mzdxb7bER42",
    "jupyter": {
     "outputs_hidden": true
    },
    "outputId": "c41036d6-be60-4e5e-b497-c422387072d2",
    "tags": []
   },
   "outputs": [
    {
     "data": {
      "text/html": [
       "<div>\n",
       "<style scoped>\n",
       "    .dataframe tbody tr th:only-of-type {\n",
       "        vertical-align: middle;\n",
       "    }\n",
       "\n",
       "    .dataframe tbody tr th {\n",
       "        vertical-align: top;\n",
       "    }\n",
       "\n",
       "    .dataframe thead th {\n",
       "        text-align: right;\n",
       "    }\n",
       "</style>\n",
       "<table border=\"1\" class=\"dataframe\">\n",
       "  <thead>\n",
       "    <tr style=\"text-align: right;\">\n",
       "      <th></th>\n",
       "      <th>text</th>\n",
       "      <th>label</th>\n",
       "    </tr>\n",
       "  </thead>\n",
       "  <tbody>\n",
       "    <tr>\n",
       "      <th>0</th>\n",
       "      <td>Is there a simple way to place a detail disclosure icon on a UIButton? I'm using a navigation controller and I want a button press to push a new view on the stack, so I thought a detail disclosure icon would be appropriate, but I haven't found a straightforward way to do that yet.  What I have in mind is something like the \"When Timer Ends\" button in the Timer subview of the Clock app.</td>\n",
       "      <td>[8]</td>\n",
       "    </tr>\n",
       "    <tr>\n",
       "      <th>1</th>\n",
       "      <td>I followed Hello World tutorial exactly.  Emulator comes up but fails to show Hello World text.  Here's the log info:  [2011-11-26 20:06:57 - HelloAndroid] Android Launch! [2011-11-26 20:06:57 - HelloAndroid] adb is running normally. [2011-11-26 20:06:57 - HelloAndroid] Performing com.example.helloandroid.HelloAndroid activity launch [2011-11-26 20:06:57 - HelloAndroid] Automatic Target Mode: launching new emulator with compatible AVD 'AndroidPhone' [2011-11-26 20:06:57 - HelloAndroid] Launching a new emulator with Virtual Device 'AndroidPhone' [2011-11-26 20:07:09 - HelloAndroid] New emul...</td>\n",
       "      <td>[4]</td>\n",
       "    </tr>\n",
       "    <tr>\n",
       "      <th>2</th>\n",
       "      <td>Trying to validate some Javascript in JsHint, and I get the following:  Possible strict violation:  return ($.event.dispatch || $.event.handle).apply(this, args);   Any ideas why it's throwing that error?  Thanks guys</td>\n",
       "      <td>[3]</td>\n",
       "    </tr>\n",
       "    <tr>\n",
       "      <th>3</th>\n",
       "      <td>I'm trying to make a data bound column invisible after data binding, because it won't exist before data binding.  However, the DataGrid.Columns collection indicates a count of 0, making it seem as if the automatically generated columns don't belong to the collection.  How can I make a column that is automatically generated during binding invisible?</td>\n",
       "      <td>[9]</td>\n",
       "    </tr>\n",
       "    <tr>\n",
       "      <th>4</th>\n",
       "      <td>The home screen of my Android application has three EditText views, meant to be used as three different search functions, each with a \"Search\" button.  The app works perfectly on the device (G1) when using the trackball: I can move between the EditTexts with the trackball, all the events fire as expected, I can enter text using the physical keyboard in the selected EditText, Enter correctly submits the proper search, etc. etc.  However, I can't switch between the EditText views using touches - only by using the trackball.  Touches seem to be completely ignored by the EditText.  Touches do ...</td>\n",
       "      <td>[4]</td>\n",
       "    </tr>\n",
       "  </tbody>\n",
       "</table>\n",
       "</div>"
      ],
      "text/plain": [
       "                                                                                                                                                                                                                                                                                                                                                                                                                                                                                                                                                                                                                      text  \\\n",
       "0                                                                                                                                                                                                                    Is there a simple way to place a detail disclosure icon on a UIButton? I'm using a navigation controller and I want a button press to push a new view on the stack, so I thought a detail disclosure icon would be appropriate, but I haven't found a straightforward way to do that yet.  What I have in mind is something like the \"When Timer Ends\" button in the Timer subview of the Clock app.    \n",
       "1  I followed Hello World tutorial exactly.  Emulator comes up but fails to show Hello World text.  Here's the log info:  [2011-11-26 20:06:57 - HelloAndroid] Android Launch! [2011-11-26 20:06:57 - HelloAndroid] adb is running normally. [2011-11-26 20:06:57 - HelloAndroid] Performing com.example.helloandroid.HelloAndroid activity launch [2011-11-26 20:06:57 - HelloAndroid] Automatic Target Mode: launching new emulator with compatible AVD 'AndroidPhone' [2011-11-26 20:06:57 - HelloAndroid] Launching a new emulator with Virtual Device 'AndroidPhone' [2011-11-26 20:07:09 - HelloAndroid] New emul...   \n",
       "2                                                                                                                                                                                                                                                                                                                                                                                               Trying to validate some Javascript in JsHint, and I get the following:  Possible strict violation:  return ($.event.dispatch || $.event.handle).apply(this, args);   Any ideas why it's throwing that error?  Thanks guys    \n",
       "3                                                                                                                                                                                                                                                          I'm trying to make a data bound column invisible after data binding, because it won't exist before data binding.  However, the DataGrid.Columns collection indicates a count of 0, making it seem as if the automatically generated columns don't belong to the collection.  How can I make a column that is automatically generated during binding invisible?    \n",
       "4  The home screen of my Android application has three EditText views, meant to be used as three different search functions, each with a \"Search\" button.  The app works perfectly on the device (G1) when using the trackball: I can move between the EditTexts with the trackball, all the events fire as expected, I can enter text using the physical keyboard in the selected EditText, Enter correctly submits the proper search, etc. etc.  However, I can't switch between the EditText views using touches - only by using the trackball.  Touches seem to be completely ignored by the EditText.  Touches do ...   \n",
       "\n",
       "  label  \n",
       "0   [8]  \n",
       "1   [4]  \n",
       "2   [3]  \n",
       "3   [9]  \n",
       "4   [4]  "
      ]
     },
     "execution_count": 22,
     "metadata": {},
     "output_type": "execute_result"
    }
   ],
   "source": [
    "df_new.head()"
   ]
  },
  {
   "cell_type": "code",
   "execution_count": 23,
   "metadata": {
    "execution": {
     "iopub.execute_input": "2022-05-05T11:58:05.014347Z",
     "iopub.status.busy": "2022-05-05T11:58:05.014232Z",
     "iopub.status.idle": "2022-05-05T11:58:05.036619Z",
     "shell.execute_reply": "2022-05-05T11:58:05.036186Z",
     "shell.execute_reply.started": "2022-05-05T11:58:05.014334Z"
    },
    "executionInfo": {
     "elapsed": 6,
     "status": "ok",
     "timestamp": 1651531509224,
     "user": {
      "displayName": "Shaannoor Mann",
      "userId": "02520257695567980696"
     },
     "user_tz": 300
    },
    "id": "HienhHI1D80D",
    "tags": []
   },
   "outputs": [],
   "source": [
    "from sklearn.model_selection import train_test_split\n",
    "train_df, test_df = train_test_split(df_new, test_size=0.2, random_state=42)"
   ]
  },
  {
   "cell_type": "code",
   "execution_count": 24,
   "metadata": {
    "colab": {
     "base_uri": "https://localhost:8080/",
     "height": 337
    },
    "collapsed": true,
    "execution": {
     "iopub.execute_input": "2022-05-05T11:58:05.037740Z",
     "iopub.status.busy": "2022-05-05T11:58:05.037618Z",
     "iopub.status.idle": "2022-05-05T11:58:05.043097Z",
     "shell.execute_reply": "2022-05-05T11:58:05.042728Z",
     "shell.execute_reply.started": "2022-05-05T11:58:05.037725Z"
    },
    "executionInfo": {
     "elapsed": 7,
     "status": "ok",
     "timestamp": 1651531509600,
     "user": {
      "displayName": "Shaannoor Mann",
      "userId": "02520257695567980696"
     },
     "user_tz": 300
    },
    "id": "OBeo46ZwFV5c",
    "jupyter": {
     "outputs_hidden": true
    },
    "outputId": "5df67343-1308-46bf-fd3b-2cff65a4675b",
    "tags": []
   },
   "outputs": [
    {
     "data": {
      "text/html": [
       "<div>\n",
       "<style scoped>\n",
       "    .dataframe tbody tr th:only-of-type {\n",
       "        vertical-align: middle;\n",
       "    }\n",
       "\n",
       "    .dataframe tbody tr th {\n",
       "        vertical-align: top;\n",
       "    }\n",
       "\n",
       "    .dataframe thead th {\n",
       "        text-align: right;\n",
       "    }\n",
       "</style>\n",
       "<table border=\"1\" class=\"dataframe\">\n",
       "  <thead>\n",
       "    <tr style=\"text-align: right;\">\n",
       "      <th></th>\n",
       "      <th>text</th>\n",
       "      <th>label</th>\n",
       "    </tr>\n",
       "  </thead>\n",
       "  <tbody>\n",
       "    <tr>\n",
       "      <th>84891</th>\n",
       "      <td>Error Fatal error: require() [function.require]: Failed opening required '/home/demohab/public_html/mailout/admin/com/lib/mc9uowrh329xzx.php' (include_path='.:/usr/lib/php:/usr/local/lib/php') in /home/demohab/public_html/mailout/admin/com/init.php on line 57  CODE(42-59)  function __iem_autoload_function($className) {     // faster than calling require_once     // also, if the class already exists, then we don't even need to autoload the file     if (class_exists($className)) {         return;     }      $path = dirname(__FILE__) . '/lib/' . str_replace('_', '/', $className);      // the ...</td>\n",
       "      <td>[2]</td>\n",
       "    </tr>\n",
       "    <tr>\n",
       "      <th>178795</th>\n",
       "      <td>My goal is to have a screen on my GUI dedicated to logging real-time messages generated by my internal components. A certain limit will be set on the log messages so that older messages are pruned.   I'm thinking about implementing using a UITextView with a NSMutableString to store the output. I would have to perform manual pruning somehow on the NSMutableString object. Is a better way to implement this?</td>\n",
       "      <td>[8]</td>\n",
       "    </tr>\n",
       "    <tr>\n",
       "      <th>41402</th>\n",
       "      <td>Possible Duplicate:   convert list&lt;int&gt; to list&lt;long&gt;       How to convert List&lt;int&gt; to List&lt;long&gt; in asp.net c#....</td>\n",
       "      <td>[9]</td>\n",
       "    </tr>\n",
       "    <tr>\n",
       "      <th>22753</th>\n",
       "      <td>Please anyone explain me the difference between ViewState,Application and Session of a Page ?</td>\n",
       "      <td>[9]</td>\n",
       "    </tr>\n",
       "    <tr>\n",
       "      <th>64191</th>\n",
       "      <td>I am running ubuntu 10.04 with dnsmasq 2.52  For running siriproxy I have added  address=/guzzoni.apple.com/(mylaptopip) to dnsmasq.conf at /etc/dnsmasq.conf   But when I ping ping guzzoni.apple.com it doesnt connect any clues??   PING reg3.guzzoni-apple.com.akadns.net (17.174.4.14) 56(84) bytes of data. ^C --- reg3.guzzoni-apple.com.akadns.net ping statistics --- 8 packets transmitted, 0 received, 100% packet loss, time 7023ms   P.S. I have issued sudo killall named and sudo killalll dnsmasq and restarted dnsmasq successfully.</td>\n",
       "      <td>[8]</td>\n",
       "    </tr>\n",
       "  </tbody>\n",
       "</table>\n",
       "</div>"
      ],
      "text/plain": [
       "                                                                                                                                                                                                                                                                                                                                                                                                                                                                                                                                                                                                                           text  \\\n",
       "84891   Error Fatal error: require() [function.require]: Failed opening required '/home/demohab/public_html/mailout/admin/com/lib/mc9uowrh329xzx.php' (include_path='.:/usr/lib/php:/usr/local/lib/php') in /home/demohab/public_html/mailout/admin/com/init.php on line 57  CODE(42-59)  function __iem_autoload_function($className) {     // faster than calling require_once     // also, if the class already exists, then we don't even need to autoload the file     if (class_exists($className)) {         return;     }      $path = dirname(__FILE__) . '/lib/' . str_replace('_', '/', $className);      // the ...   \n",
       "178795                                                                                                                                                                                                 My goal is to have a screen on my GUI dedicated to logging real-time messages generated by my internal components. A certain limit will be set on the log messages so that older messages are pruned.   I'm thinking about implementing using a UITextView with a NSMutableString to store the output. I would have to perform manual pruning somehow on the NSMutableString object. Is a better way to implement this?    \n",
       "41402                                                                                                                                                                                                                                                                                                                                                                                                                                                                                                     Possible Duplicate:   convert list<int> to list<long>       How to convert List<int> to List<long> in asp.net c#....    \n",
       "22753                                                                                                                                                                                                                                                                                                                                                                                                                                                                                                                            Please anyone explain me the difference between ViewState,Application and Session of a Page ?    \n",
       "64191                                                                    I am running ubuntu 10.04 with dnsmasq 2.52  For running siriproxy I have added  address=/guzzoni.apple.com/(mylaptopip) to dnsmasq.conf at /etc/dnsmasq.conf   But when I ping ping guzzoni.apple.com it doesnt connect any clues??   PING reg3.guzzoni-apple.com.akadns.net (17.174.4.14) 56(84) bytes of data. ^C --- reg3.guzzoni-apple.com.akadns.net ping statistics --- 8 packets transmitted, 0 received, 100% packet loss, time 7023ms   P.S. I have issued sudo killall named and sudo killalll dnsmasq and restarted dnsmasq successfully.    \n",
       "\n",
       "       label  \n",
       "84891    [2]  \n",
       "178795   [8]  \n",
       "41402    [9]  \n",
       "22753    [9]  \n",
       "64191    [8]  "
      ]
     },
     "execution_count": 24,
     "metadata": {},
     "output_type": "execute_result"
    }
   ],
   "source": [
    "train_df.head()"
   ]
  },
  {
   "cell_type": "code",
   "execution_count": 25,
   "metadata": {
    "collapsed": true,
    "execution": {
     "iopub.execute_input": "2022-05-05T11:58:05.043745Z",
     "iopub.status.busy": "2022-05-05T11:58:05.043634Z",
     "iopub.status.idle": "2022-05-05T11:58:05.051591Z",
     "shell.execute_reply": "2022-05-05T11:58:05.051225Z",
     "shell.execute_reply.started": "2022-05-05T11:58:05.043731Z"
    },
    "jupyter": {
     "outputs_hidden": true
    },
    "tags": []
   },
   "outputs": [
    {
     "data": {
      "text/html": [
       "<div>\n",
       "<style scoped>\n",
       "    .dataframe tbody tr th:only-of-type {\n",
       "        vertical-align: middle;\n",
       "    }\n",
       "\n",
       "    .dataframe tbody tr th {\n",
       "        vertical-align: top;\n",
       "    }\n",
       "\n",
       "    .dataframe thead th {\n",
       "        text-align: right;\n",
       "    }\n",
       "</style>\n",
       "<table border=\"1\" class=\"dataframe\">\n",
       "  <thead>\n",
       "    <tr style=\"text-align: right;\">\n",
       "      <th></th>\n",
       "      <th>text</th>\n",
       "      <th>label</th>\n",
       "    </tr>\n",
       "  </thead>\n",
       "  <tbody>\n",
       "    <tr>\n",
       "      <th>135290</th>\n",
       "      <td>First of all sorry for my English. So i am making a program which will alert the user when he/she need to get in his/her medicines. My base idea: 1 The AlarmManager send me the signal 2 i catch that signal with my broadcast receiver, 3 and that the broadcast receiver start my Service and my Activity.  The service count down from 10 minutes and every minute will check other parameters from database and the Activity will make sound and vibrate. Because there will be more medicine i made a list with buttons. And because the service and activity use the same cursor the service has the connecti...</td>\n",
       "      <td>[4]</td>\n",
       "    </tr>\n",
       "    <tr>\n",
       "      <th>40388</th>\n",
       "      <td>I am new on iphone  what I wanna do is to render image to iphone  so I have one module to generate image data, after done invoke callback function to notify UIView, in UIView I have I have callback function to give the image to UIImage, and then I setNeedsDisplay and return.  In my UIView class drawRect:(CGRect)rect I call drawImage, but it does not called, no refresh, also I got NSAutoreleaseNoPool UIImage autoreleased with no pool in place error.  any helps?  thanks</td>\n",
       "      <td>[8]</td>\n",
       "    </tr>\n",
       "    <tr>\n",
       "      <th>108483</th>\n",
       "      <td>I have a class Stack, using template, one of its methods is \"push\", which is written below:  template &lt;class T&gt; void Stack&lt;T&gt;::push(T _data){     Node&lt;T&gt;* temp = new Node&lt;T&gt;;     temp-&gt;data = _data;     temp-&gt;next = head;     head = temp; }   The stack works well with int, double, string, char.... But it says  prog.cpp:32: note: synthesized method ‘Node&lt;Tree&gt;::Node()’ first required here   when I use a class \"Tree\" as data type. I don't understand, why it works with \"string\" but not with \"Tree\", they are both classes, not primitive types.  http://ideone.com/NMxeF (Ignore the other error, m...</td>\n",
       "      <td>[6]</td>\n",
       "    </tr>\n",
       "    <tr>\n",
       "      <th>94894</th>\n",
       "      <td>I was coding in PHP and this weird error pops out.  if(isset($_GET[\"failauth\"])){ ?&gt;     &lt;div&gt;Sorry, your user name or password is not correct. Please re-enter. &lt;/div&gt;     &lt;form id=\"loginform\" action=\"login.php\" method=\"post\"&gt; &lt;?php }  else if(isset($_GET(\"usernotexist\"))){ ?&gt;     &lt;div&gt;Sorry, the username is not found&lt;/div&gt;     &lt;form id=\"signupform\" action=\"login.php?signup=true\" method=\"get\"&gt; &lt;?php }      else { ?&gt;     &lt;form id=\"loginform\" action=\"login.php\" method=\"post\"&gt; &lt;?php } ?&gt;         &lt;div&gt;&lt;input name=\"name\" type=\"text\" size=\"8\" autofocus=\"autofocus\" pattern=\"/^.{3,8}$/\" /&gt; &lt;strong...</td>\n",
       "      <td>[2]</td>\n",
       "    </tr>\n",
       "    <tr>\n",
       "      <th>26500</th>\n",
       "      <td>My main() looks like this:     int main(int argc, char** argv)     {     // Initialize GLUT     glutInit(&amp;argc, argv);      ...      glutDisplayFunc(display);     ...      // Set robot's parameters     Robot robot; // Initialize global object robot     robot.setSize(50);     robot.setColor('G');     robot.setLocation(50,100);      glutMainLoop();     return EXIT_SUCCESS; }   Then I have another function, which I would like to have access to the methods of the robot:  // This function is constantly \"looped\" void display() {     ...     robot.draw();     ... }   What is the legit way to do i...</td>\n",
       "      <td>[6]</td>\n",
       "    </tr>\n",
       "  </tbody>\n",
       "</table>\n",
       "</div>"
      ],
      "text/plain": [
       "                                                                                                                                                                                                                                                                                                                                                                                                                                                                                                                                                                                                                           text  \\\n",
       "135290  First of all sorry for my English. So i am making a program which will alert the user when he/she need to get in his/her medicines. My base idea: 1 The AlarmManager send me the signal 2 i catch that signal with my broadcast receiver, 3 and that the broadcast receiver start my Service and my Activity.  The service count down from 10 minutes and every minute will check other parameters from database and the Activity will make sound and vibrate. Because there will be more medicine i made a list with buttons. And because the service and activity use the same cursor the service has the connecti...   \n",
       "40388                                                                                                                                 I am new on iphone  what I wanna do is to render image to iphone  so I have one module to generate image data, after done invoke callback function to notify UIView, in UIView I have I have callback function to give the image to UIImage, and then I setNeedsDisplay and return.  In my UIView class drawRect:(CGRect)rect I call drawImage, but it does not called, no refresh, also I got NSAutoreleaseNoPool UIImage autoreleased with no pool in place error.  any helps?  thanks    \n",
       "108483  I have a class Stack, using template, one of its methods is \"push\", which is written below:  template <class T> void Stack<T>::push(T _data){     Node<T>* temp = new Node<T>;     temp->data = _data;     temp->next = head;     head = temp; }   The stack works well with int, double, string, char.... But it says  prog.cpp:32: note: synthesized method ‘Node<Tree>::Node()’ first required here   when I use a class \"Tree\" as data type. I don't understand, why it works with \"string\" but not with \"Tree\", they are both classes, not primitive types.  http://ideone.com/NMxeF (Ignore the other error, m...   \n",
       "94894   I was coding in PHP and this weird error pops out.  if(isset($_GET[\"failauth\"])){ ?>     <div>Sorry, your user name or password is not correct. Please re-enter. </div>     <form id=\"loginform\" action=\"login.php\" method=\"post\"> <?php }  else if(isset($_GET(\"usernotexist\"))){ ?>     <div>Sorry, the username is not found</div>     <form id=\"signupform\" action=\"login.php?signup=true\" method=\"get\"> <?php }      else { ?>     <form id=\"loginform\" action=\"login.php\" method=\"post\"> <?php } ?>         <div><input name=\"name\" type=\"text\" size=\"8\" autofocus=\"autofocus\" pattern=\"/^.{3,8}$/\" /> <strong...   \n",
       "26500   My main() looks like this:     int main(int argc, char** argv)     {     // Initialize GLUT     glutInit(&argc, argv);      ...      glutDisplayFunc(display);     ...      // Set robot's parameters     Robot robot; // Initialize global object robot     robot.setSize(50);     robot.setColor('G');     robot.setLocation(50,100);      glutMainLoop();     return EXIT_SUCCESS; }   Then I have another function, which I would like to have access to the methods of the robot:  // This function is constantly \"looped\" void display() {     ...     robot.draw();     ... }   What is the legit way to do i...   \n",
       "\n",
       "       label  \n",
       "135290   [4]  \n",
       "40388    [8]  \n",
       "108483   [6]  \n",
       "94894    [2]  \n",
       "26500    [6]  "
      ]
     },
     "execution_count": 25,
     "metadata": {},
     "output_type": "execute_result"
    }
   ],
   "source": [
    "test_df.head()"
   ]
  },
  {
   "cell_type": "markdown",
   "metadata": {
    "id": "8U9EwXRH_Ayp"
   },
   "source": [
    "### Fine-Tuning the Language Model"
   ]
  },
  {
   "cell_type": "code",
   "execution_count": 26,
   "metadata": {
    "execution": {
     "iopub.execute_input": "2022-05-05T11:58:05.052270Z",
     "iopub.status.busy": "2022-05-05T11:58:05.052120Z",
     "iopub.status.idle": "2022-05-05T11:59:02.835935Z",
     "shell.execute_reply": "2022-05-05T11:59:02.834845Z",
     "shell.execute_reply.started": "2022-05-05T11:58:05.052256Z"
    },
    "id": "KOpt4-uu_Ayp",
    "tags": []
   },
   "outputs": [],
   "source": [
    "#df_raw = pd.read_csv(path/'raw.csv')"
   ]
  },
  {
   "cell_type": "code",
   "execution_count": 27,
   "metadata": {
    "execution": {
     "iopub.execute_input": "2022-05-05T11:59:02.837314Z",
     "iopub.status.busy": "2022-05-05T11:59:02.837142Z",
     "iopub.status.idle": "2022-05-05T11:59:02.840296Z",
     "shell.execute_reply": "2022-05-05T11:59:02.839867Z",
     "shell.execute_reply.started": "2022-05-05T11:59:02.837293Z"
    },
    "tags": []
   },
   "outputs": [],
   "source": [
    "#df_small = df_raw[0:300].copy()"
   ]
  },
  {
   "cell_type": "code",
   "execution_count": 28,
   "metadata": {
    "collapsed": true,
    "execution": {
     "iopub.execute_input": "2022-05-05T11:59:02.841658Z",
     "iopub.status.busy": "2022-05-05T11:59:02.841540Z",
     "iopub.status.idle": "2022-05-05T11:59:02.854462Z",
     "shell.execute_reply": "2022-05-05T11:59:02.854039Z",
     "shell.execute_reply.started": "2022-05-05T11:59:02.841644Z"
    },
    "jupyter": {
     "outputs_hidden": true
    },
    "tags": []
   },
   "outputs": [
    {
     "data": {
      "text/html": [
       "<div>\n",
       "<style scoped>\n",
       "    .dataframe tbody tr th:only-of-type {\n",
       "        vertical-align: middle;\n",
       "    }\n",
       "\n",
       "    .dataframe tbody tr th {\n",
       "        vertical-align: top;\n",
       "    }\n",
       "\n",
       "    .dataframe thead th {\n",
       "        text-align: right;\n",
       "    }\n",
       "</style>\n",
       "<table border=\"1\" class=\"dataframe\">\n",
       "  <thead>\n",
       "    <tr style=\"text-align: right;\">\n",
       "      <th></th>\n",
       "      <th>Unnamed: 0</th>\n",
       "      <th>Id</th>\n",
       "      <th>Title</th>\n",
       "      <th>Body</th>\n",
       "    </tr>\n",
       "  </thead>\n",
       "  <tbody>\n",
       "    <tr>\n",
       "      <th>0</th>\n",
       "      <td>0</td>\n",
       "      <td>1</td>\n",
       "      <td>How to check if an uploaded file is an image without mime type?</td>\n",
       "      <td>&lt;p&gt;I'd like to check if an uploaded file is an image file (e.g png, jpg, jpeg, gif, bmp) or another file. The problem is that I'm using Uploadify to upload the files, which changes the mime type and gives a 'text/octal' or something as the mime type, no matter which file type you upload.&lt;/p&gt;\\n\\n&lt;p&gt;Is there a way to check if the uploaded file is an image apart from checking the file extension using PHP?&lt;/p&gt;\\n</td>\n",
       "    </tr>\n",
       "    <tr>\n",
       "      <th>1</th>\n",
       "      <td>3</td>\n",
       "      <td>4</td>\n",
       "      <td>How do I replace special characters in a URL?</td>\n",
       "      <td>&lt;p&gt;This is probably very simple, but I simply cannot find the answer myself :( &lt;/p&gt;\\n\\n&lt;p&gt;Basicaly, what I want is, given this string:&lt;/p&gt;\\n\\n&lt;p&gt;\"http://www.google.com/search?hl=en&amp;amp;q=c# objects\"&lt;/p&gt;\\n\\n&lt;p&gt;I want this output:&lt;/p&gt;\\n\\n&lt;p&gt;&lt;a href=\"http://www.google.com/search?hl=en&amp;amp;q=c%23+objects\"&gt;http://www.google.com/search?hl=en&amp;amp;q=c%23+objects&lt;/a&gt;&lt;/p&gt;\\n\\n&lt;p&gt;I'm sure there's some helper class somewhere buried in the Framework that takes care of that for me, but I'm having trouble finding it.&lt;/p&gt;\\n\\n&lt;p&gt;EDIT: I should add, that this is for a Winforms App.&lt;/p&gt;\\n</td>\n",
       "    </tr>\n",
       "    <tr>\n",
       "      <th>2</th>\n",
       "      <td>4</td>\n",
       "      <td>5</td>\n",
       "      <td>How to modify whois contact details?</td>\n",
       "      <td>&lt;pre&gt;&lt;code&gt;function modify(.......)\\n{\\n  $mcontact = file_get_contents( \"https://test.httpapi.com/api/contacts/modify.json?auth-userid=$uid&amp;amp;auth-password=$pass&amp;amp;contact-id=$cid&amp;amp;name=$name &amp;amp;company=$company&amp;amp;email=$email&amp;amp;address-line-1=$street&amp;amp;city=$city&amp;amp;country=$country&amp;amp;zipcode=$pincode&amp;amp;phone-cc=$countryCodeList[$phc]&amp;amp;phone=$phone\" );\\n\\n  $mdetails = json_decode( $mcontact, true );\\n\\n  return $mdetails;\\n}\\n&lt;/code&gt;&lt;/pre&gt;\\n\\n&lt;p&gt;using this modify function, displays warning mesage\\n&lt;/p&gt;\\n\\n&lt;pre class=\"lang-none prettyprint-override\"&gt;&lt;code&gt;Warning: ...</td>\n",
       "    </tr>\n",
       "    <tr>\n",
       "      <th>3</th>\n",
       "      <td>7</td>\n",
       "      <td>8</td>\n",
       "      <td>How to fetch an XML feed using asp.net</td>\n",
       "      <td>&lt;p&gt;I've decided to convert a Windows Phone 7 app that fetches an XML feed and then parses it to an asp.net web app, using Visual Web Developer Express. I figure since the code already works for WP7, it should be a matter of mostly copying and pasting it for the C# code behind. &lt;/p&gt;\\n\\n&lt;pre&gt;&lt;code&gt;HttpWebRequest request = HttpWebRequest.CreateHttp(\"http://webservices.nextbus.com/service/publicXMLFeed?command=routeConfig&amp;amp;a=sf-muni&amp;amp;r=\" + line1);\\n&lt;/code&gt;&lt;/pre&gt;\\n\\n&lt;p&gt;That's the first line of code from my WP7 app that fetches the XML feed, but I can't even get HttpWebRequest to work in V...</td>\n",
       "    </tr>\n",
       "    <tr>\n",
       "      <th>4</th>\n",
       "      <td>8</td>\n",
       "      <td>9</td>\n",
       "      <td>.NET library for generating javascript?</td>\n",
       "      <td>&lt;p&gt;Do you know of a .NET library for generating javascript code? &lt;/p&gt;\\n\\n&lt;p&gt;I want to generate javascript code based on information in my .NET application. I would like to be able to create an AST-like datastructure (using C#) and have it turned into valid javascript. I need to be able to create functions, statements, expressions etc., so I need something more than a JSON serializer - but I guess you could think of this as a (&lt;em&gt;very&lt;/em&gt;) generalized JSON serializer.&lt;/p&gt;\\n\\n&lt;p&gt;Do such libraries exist and if so, could you recommend any?&lt;/p&gt;\\n\\n&lt;p&gt;Thank you.&lt;/p&gt;\\n</td>\n",
       "    </tr>\n",
       "  </tbody>\n",
       "</table>\n",
       "</div>"
      ],
      "text/plain": [
       "   Unnamed: 0  Id  \\\n",
       "0           0   1   \n",
       "1           3   4   \n",
       "2           4   5   \n",
       "3           7   8   \n",
       "4           8   9   \n",
       "\n",
       "                                                             Title  \\\n",
       "0  How to check if an uploaded file is an image without mime type?   \n",
       "1                    How do I replace special characters in a URL?   \n",
       "2                             How to modify whois contact details?   \n",
       "3                           How to fetch an XML feed using asp.net   \n",
       "4                          .NET library for generating javascript?   \n",
       "\n",
       "                                                                                                                                                                                                                                                                                                                                                                                                                                                                                                                                                                                                                      Body  \n",
       "0                                                                                                                                                                                              <p>I'd like to check if an uploaded file is an image file (e.g png, jpg, jpeg, gif, bmp) or another file. The problem is that I'm using Uploadify to upload the files, which changes the mime type and gives a 'text/octal' or something as the mime type, no matter which file type you upload.</p>\\n\\n<p>Is there a way to check if the uploaded file is an image apart from checking the file extension using PHP?</p>\\n  \n",
       "1                          <p>This is probably very simple, but I simply cannot find the answer myself :( </p>\\n\\n<p>Basicaly, what I want is, given this string:</p>\\n\\n<p>\"http://www.google.com/search?hl=en&amp;q=c# objects\"</p>\\n\\n<p>I want this output:</p>\\n\\n<p><a href=\"http://www.google.com/search?hl=en&amp;q=c%23+objects\">http://www.google.com/search?hl=en&amp;q=c%23+objects</a></p>\\n\\n<p>I'm sure there's some helper class somewhere buried in the Framework that takes care of that for me, but I'm having trouble finding it.</p>\\n\\n<p>EDIT: I should add, that this is for a Winforms App.</p>\\n  \n",
       "2  <pre><code>function modify(.......)\\n{\\n  $mcontact = file_get_contents( \"https://test.httpapi.com/api/contacts/modify.json?auth-userid=$uid&amp;auth-password=$pass&amp;contact-id=$cid&amp;name=$name &amp;company=$company&amp;email=$email&amp;address-line-1=$street&amp;city=$city&amp;country=$country&amp;zipcode=$pincode&amp;phone-cc=$countryCodeList[$phc]&amp;phone=$phone\" );\\n\\n  $mdetails = json_decode( $mcontact, true );\\n\\n  return $mdetails;\\n}\\n</code></pre>\\n\\n<p>using this modify function, displays warning mesage\\n</p>\\n\\n<pre class=\"lang-none prettyprint-override\"><code>Warning: ...  \n",
       "3  <p>I've decided to convert a Windows Phone 7 app that fetches an XML feed and then parses it to an asp.net web app, using Visual Web Developer Express. I figure since the code already works for WP7, it should be a matter of mostly copying and pasting it for the C# code behind. </p>\\n\\n<pre><code>HttpWebRequest request = HttpWebRequest.CreateHttp(\"http://webservices.nextbus.com/service/publicXMLFeed?command=routeConfig&amp;a=sf-muni&amp;r=\" + line1);\\n</code></pre>\\n\\n<p>That's the first line of code from my WP7 app that fetches the XML feed, but I can't even get HttpWebRequest to work in V...  \n",
       "4                               <p>Do you know of a .NET library for generating javascript code? </p>\\n\\n<p>I want to generate javascript code based on information in my .NET application. I would like to be able to create an AST-like datastructure (using C#) and have it turned into valid javascript. I need to be able to create functions, statements, expressions etc., so I need something more than a JSON serializer - but I guess you could think of this as a (<em>very</em>) generalized JSON serializer.</p>\\n\\n<p>Do such libraries exist and if so, could you recommend any?</p>\\n\\n<p>Thank you.</p>\\n  "
      ]
     },
     "execution_count": 28,
     "metadata": {},
     "output_type": "execute_result"
    }
   ],
   "source": [
    "#df_raw.head()\n",
    "#df_small.head()"
   ]
  },
  {
   "cell_type": "code",
   "execution_count": 30,
   "metadata": {
    "execution": {
     "iopub.execute_input": "2022-05-05T11:59:02.863628Z",
     "iopub.status.busy": "2022-05-05T11:59:02.863219Z",
     "iopub.status.idle": "2022-05-05T11:59:02.868945Z",
     "shell.execute_reply": "2022-05-05T11:59:02.868538Z",
     "shell.execute_reply.started": "2022-05-05T11:59:02.863610Z"
    },
    "tags": []
   },
   "outputs": [
    {
     "data": {
      "text/plain": [
       "4388129"
      ]
     },
     "execution_count": 30,
     "metadata": {},
     "output_type": "execute_result"
    }
   ],
   "source": [
    "#len(df_raw)\n",
    "#len(df_small)"
   ]
  },
  {
   "cell_type": "code",
   "execution_count": 31,
   "metadata": {
    "execution": {
     "iopub.execute_input": "2022-05-05T11:59:18.574306Z",
     "iopub.status.busy": "2022-05-05T11:59:18.574054Z",
     "iopub.status.idle": "2022-05-05T14:16:53.059274Z",
     "shell.execute_reply": "2022-05-05T14:16:53.039781Z",
     "shell.execute_reply.started": "2022-05-05T11:59:18.574288Z"
    },
    "tags": []
   },
   "outputs": [],
   "source": [
    "#%%capture \n",
    "#df_raw['text'] = df_raw['Body'].swifter.apply(lambda x: basic_clean(x))\n",
    "#df_small['text'] = df_small['Body'].swifter.apply(lambda x: basic_clean(x))"
   ]
  },
  {
   "cell_type": "code",
   "execution_count": 17,
   "metadata": {
    "collapsed": true,
    "execution": {
     "iopub.execute_input": "2022-05-10T00:11:29.390165Z",
     "iopub.status.busy": "2022-05-10T00:11:29.389746Z",
     "iopub.status.idle": "2022-05-10T00:11:37.571331Z",
     "shell.execute_reply": "2022-05-10T00:11:37.570812Z",
     "shell.execute_reply.started": "2022-05-10T00:11:29.390129Z"
    },
    "jupyter": {
     "outputs_hidden": true
    },
    "tags": []
   },
   "outputs": [
    {
     "name": "stdout",
     "output_type": "stream",
     "text": [
      "Requirement already satisfied: pandas in /home/harpreet/miniconda3/envs/pt10/lib/python3.8/site-packages (1.3.4)\n",
      "Collecting pandas\n",
      "  Downloading pandas-1.4.2-cp38-cp38-manylinux_2_17_x86_64.manylinux2014_x86_64.whl (11.7 MB)\n",
      "     |████████████████████████████████| 11.7 MB 2.5 MB/s            \n",
      "\u001b[?25hRequirement already satisfied: python-dateutil>=2.8.1 in /home/harpreet/miniconda3/envs/pt10/lib/python3.8/site-packages (from pandas) (2.8.2)\n",
      "Requirement already satisfied: numpy>=1.18.5 in /home/harpreet/miniconda3/envs/pt10/lib/python3.8/site-packages (from pandas) (1.20.3)\n",
      "Requirement already satisfied: pytz>=2020.1 in /home/harpreet/miniconda3/envs/pt10/lib/python3.8/site-packages (from pandas) (2021.3)\n",
      "Requirement already satisfied: six>=1.5 in /home/harpreet/miniconda3/envs/pt10/lib/python3.8/site-packages (from python-dateutil>=2.8.1->pandas) (1.16.0)\n",
      "Installing collected packages: pandas\n",
      "  Attempting uninstall: pandas\n",
      "    Found existing installation: pandas 1.3.4\n",
      "    Uninstalling pandas-1.3.4:\n",
      "      Successfully uninstalled pandas-1.3.4\n",
      "\u001b[31mERROR: pip's dependency resolver does not currently take into account all the packages that are installed. This behaviour is the source of the following dependency conflicts.\n",
      "inltk 0.9 requires fastai==1.0.57, but you have fastai 2.6.3 which is incompatible.\u001b[0m\n",
      "Successfully installed pandas-1.4.2\n"
     ]
    }
   ],
   "source": [
    "#!pip install -U pandas"
   ]
  },
  {
   "cell_type": "code",
   "execution_count": 4,
   "metadata": {
    "execution": {
     "iopub.execute_input": "2022-05-10T00:15:19.852707Z",
     "iopub.status.busy": "2022-05-10T00:15:19.852526Z",
     "iopub.status.idle": "2022-05-10T00:15:19.854898Z",
     "shell.execute_reply": "2022-05-10T00:15:19.854592Z",
     "shell.execute_reply.started": "2022-05-10T00:15:19.852693Z"
    },
    "tags": []
   },
   "outputs": [],
   "source": [
    "import joblib"
   ]
  },
  {
   "cell_type": "code",
   "execution_count": 5,
   "metadata": {
    "execution": {
     "iopub.execute_input": "2022-05-10T00:15:20.417396Z",
     "iopub.status.busy": "2022-05-10T00:15:20.417225Z",
     "iopub.status.idle": "2022-05-10T00:15:20.419798Z",
     "shell.execute_reply": "2022-05-10T00:15:20.419365Z",
     "shell.execute_reply.started": "2022-05-10T00:15:20.417382Z"
    },
    "tags": []
   },
   "outputs": [],
   "source": [
    "#joblib.dump(df_raw, path/'df_raw_cleaned.joblib')"
   ]
  },
  {
   "cell_type": "code",
   "execution_count": 6,
   "metadata": {
    "execution": {
     "iopub.execute_input": "2022-05-10T00:15:21.035386Z",
     "iopub.status.busy": "2022-05-10T00:15:21.035232Z",
     "iopub.status.idle": "2022-05-10T00:15:31.270043Z",
     "shell.execute_reply": "2022-05-10T00:15:31.269637Z",
     "shell.execute_reply.started": "2022-05-10T00:15:21.035372Z"
    },
    "tags": []
   },
   "outputs": [],
   "source": [
    "#df_raw = joblib.load(path/'df_raw_cleaned.joblib')"
   ]
  },
  {
   "cell_type": "code",
   "execution_count": 7,
   "metadata": {
    "collapsed": true,
    "execution": {
     "iopub.execute_input": "2022-05-10T00:15:38.536767Z",
     "iopub.status.busy": "2022-05-10T00:15:38.536605Z",
     "iopub.status.idle": "2022-05-10T00:15:38.544972Z",
     "shell.execute_reply": "2022-05-10T00:15:38.544698Z",
     "shell.execute_reply.started": "2022-05-10T00:15:38.536752Z"
    },
    "jupyter": {
     "outputs_hidden": true
    },
    "tags": []
   },
   "outputs": [
    {
     "data": {
      "text/html": [
       "<div>\n",
       "<style scoped>\n",
       "    .dataframe tbody tr th:only-of-type {\n",
       "        vertical-align: middle;\n",
       "    }\n",
       "\n",
       "    .dataframe tbody tr th {\n",
       "        vertical-align: top;\n",
       "    }\n",
       "\n",
       "    .dataframe thead th {\n",
       "        text-align: right;\n",
       "    }\n",
       "</style>\n",
       "<table border=\"1\" class=\"dataframe\">\n",
       "  <thead>\n",
       "    <tr style=\"text-align: right;\">\n",
       "      <th></th>\n",
       "      <th>Unnamed: 0</th>\n",
       "      <th>Id</th>\n",
       "      <th>Title</th>\n",
       "      <th>Body</th>\n",
       "      <th>text</th>\n",
       "    </tr>\n",
       "  </thead>\n",
       "  <tbody>\n",
       "    <tr>\n",
       "      <th>0</th>\n",
       "      <td>0</td>\n",
       "      <td>1</td>\n",
       "      <td>How to check if an uploaded file is an image without mime type?</td>\n",
       "      <td>&lt;p&gt;I'd like to check if an uploaded file is an image file (e.g png, jpg, jpeg, gif, bmp) or another file. The problem is that I'm using Uploadify to upload the files, which changes the mime type and gives a 'text/octal' or something as the mime type, no matter which file type you upload.&lt;/p&gt;\\n\\n&lt;p&gt;Is there a way to check if the uploaded file is an image apart from checking the file extension using PHP?&lt;/p&gt;\\n</td>\n",
       "      <td>I'd like to check if an uploaded file is an image file (e.g png, jpg, jpeg, gif, bmp) or another file. The problem is that I'm using Uploadify to upload the files, which changes the mime type and gives a 'text/octal' or something as the mime type, no matter which file type you upload.  Is there a way to check if the uploaded file is an image apart from checking the file extension using PHP?</td>\n",
       "    </tr>\n",
       "    <tr>\n",
       "      <th>1</th>\n",
       "      <td>3</td>\n",
       "      <td>4</td>\n",
       "      <td>How do I replace special characters in a URL?</td>\n",
       "      <td>&lt;p&gt;This is probably very simple, but I simply cannot find the answer myself :( &lt;/p&gt;\\n\\n&lt;p&gt;Basicaly, what I want is, given this string:&lt;/p&gt;\\n\\n&lt;p&gt;\"http://www.google.com/search?hl=en&amp;amp;q=c# objects\"&lt;/p&gt;\\n\\n&lt;p&gt;I want this output:&lt;/p&gt;\\n\\n&lt;p&gt;&lt;a href=\"http://www.google.com/search?hl=en&amp;amp;q=c%23+objects\"&gt;http://www.google.com/search?hl=en&amp;amp;q=c%23+objects&lt;/a&gt;&lt;/p&gt;\\n\\n&lt;p&gt;I'm sure there's some helper class somewhere buried in the Framework that takes care of that for me, but I'm having trouble finding it.&lt;/p&gt;\\n\\n&lt;p&gt;EDIT: I should add, that this is for a Winforms App.&lt;/p&gt;\\n</td>\n",
       "      <td>This is probably very simple, but I simply cannot find the answer myself :(   Basicaly, what I want is, given this string:  \"http://www.google.com/search?hl=en&amp;q=c# objects\"  I want this output:  http://www.google.com/search?hl=en&amp;q=c%23+objects  I'm sure there's some helper class somewhere buried in the Framework that takes care of that for me, but I'm having trouble finding it.  EDIT: I should add, that this is for a Winforms App.</td>\n",
       "    </tr>\n",
       "    <tr>\n",
       "      <th>2</th>\n",
       "      <td>4</td>\n",
       "      <td>5</td>\n",
       "      <td>How to modify whois contact details?</td>\n",
       "      <td>&lt;pre&gt;&lt;code&gt;function modify(.......)\\n{\\n  $mcontact = file_get_contents( \"https://test.httpapi.com/api/contacts/modify.json?auth-userid=$uid&amp;amp;auth-password=$pass&amp;amp;contact-id=$cid&amp;amp;name=$name &amp;amp;company=$company&amp;amp;email=$email&amp;amp;address-line-1=$street&amp;amp;city=$city&amp;amp;country=$country&amp;amp;zipcode=$pincode&amp;amp;phone-cc=$countryCodeList[$phc]&amp;amp;phone=$phone\" );\\n\\n  $mdetails = json_decode( $mcontact, true );\\n\\n  return $mdetails;\\n}\\n&lt;/code&gt;&lt;/pre&gt;\\n\\n&lt;p&gt;using this modify function, displays warning mesage\\n&lt;/p&gt;\\n\\n&lt;pre class=\"lang-none prettyprint-override\"&gt;&lt;code&gt;Warning: ...</td>\n",
       "      <td>function modify(.......) {   $mcontact = file_get_contents( \"https://test.httpapi.com/api/contacts/modify.json?auth-userid=$uid&amp;auth-password=$pass&amp;contact-id=$cid&amp;name=$name &amp;company=$company&amp;email=$email&amp;address-line-1=$street&amp;city=$city&amp;country=$country&amp;zipcode=$pincode&amp;phone-cc=$countryCodeList[$phc]&amp;phone=$phone\" );    $mdetails = json_decode( $mcontact, true );    return $mdetails; }   using this modify function, displays warning mesage   Warning: file_get_contents(https://...@hihfg.com&amp;address-line-1=3,dfgdf,fgdf&amp;city=dfgfd&amp;country=India&amp;zipcode=641005&amp;phone-cc=91&amp;phone=756657)    [...</td>\n",
       "    </tr>\n",
       "    <tr>\n",
       "      <th>3</th>\n",
       "      <td>7</td>\n",
       "      <td>8</td>\n",
       "      <td>How to fetch an XML feed using asp.net</td>\n",
       "      <td>&lt;p&gt;I've decided to convert a Windows Phone 7 app that fetches an XML feed and then parses it to an asp.net web app, using Visual Web Developer Express. I figure since the code already works for WP7, it should be a matter of mostly copying and pasting it for the C# code behind. &lt;/p&gt;\\n\\n&lt;pre&gt;&lt;code&gt;HttpWebRequest request = HttpWebRequest.CreateHttp(\"http://webservices.nextbus.com/service/publicXMLFeed?command=routeConfig&amp;amp;a=sf-muni&amp;amp;r=\" + line1);\\n&lt;/code&gt;&lt;/pre&gt;\\n\\n&lt;p&gt;That's the first line of code from my WP7 app that fetches the XML feed, but I can't even get HttpWebRequest to work in V...</td>\n",
       "      <td>I've decided to convert a Windows Phone 7 app that fetches an XML feed and then parses it to an asp.net web app, using Visual Web Developer Express. I figure since the code already works for WP7, it should be a matter of mostly copying and pasting it for the C# code behind.   HttpWebRequest request = HttpWebRequest.CreateHttp(\"http://webservices.nextbus.com/service/publicXMLFeed?command=routeConfig&amp;a=sf-muni&amp;r=\" + line1);   That's the first line of code from my WP7 app that fetches the XML feed, but I can't even get HttpWebRequest to work in Visual Web Developer like that. Intellisense sho...</td>\n",
       "    </tr>\n",
       "    <tr>\n",
       "      <th>4</th>\n",
       "      <td>8</td>\n",
       "      <td>9</td>\n",
       "      <td>.NET library for generating javascript?</td>\n",
       "      <td>&lt;p&gt;Do you know of a .NET library for generating javascript code? &lt;/p&gt;\\n\\n&lt;p&gt;I want to generate javascript code based on information in my .NET application. I would like to be able to create an AST-like datastructure (using C#) and have it turned into valid javascript. I need to be able to create functions, statements, expressions etc., so I need something more than a JSON serializer - but I guess you could think of this as a (&lt;em&gt;very&lt;/em&gt;) generalized JSON serializer.&lt;/p&gt;\\n\\n&lt;p&gt;Do such libraries exist and if so, could you recommend any?&lt;/p&gt;\\n\\n&lt;p&gt;Thank you.&lt;/p&gt;\\n</td>\n",
       "      <td>Do you know of a .NET library for generating javascript code?   I want to generate javascript code based on information in my .NET application. I would like to be able to create an AST-like datastructure (using C#) and have it turned into valid javascript. I need to be able to create functions, statements, expressions etc., so I need something more than a JSON serializer - but I guess you could think of this as a (very) generalized JSON serializer.  Do such libraries exist and if so, could you recommend any?  Thank you.</td>\n",
       "    </tr>\n",
       "  </tbody>\n",
       "</table>\n",
       "</div>"
      ],
      "text/plain": [
       "   Unnamed: 0  Id  \\\n",
       "0           0   1   \n",
       "1           3   4   \n",
       "2           4   5   \n",
       "3           7   8   \n",
       "4           8   9   \n",
       "\n",
       "                                                             Title  \\\n",
       "0  How to check if an uploaded file is an image without mime type?   \n",
       "1                    How do I replace special characters in a URL?   \n",
       "2                             How to modify whois contact details?   \n",
       "3                           How to fetch an XML feed using asp.net   \n",
       "4                          .NET library for generating javascript?   \n",
       "\n",
       "                                                                                                                                                                                                                                                                                                                                                                                                                                                                                                                                                                                                                      Body  \\\n",
       "0                                                                                                                                                                                              <p>I'd like to check if an uploaded file is an image file (e.g png, jpg, jpeg, gif, bmp) or another file. The problem is that I'm using Uploadify to upload the files, which changes the mime type and gives a 'text/octal' or something as the mime type, no matter which file type you upload.</p>\\n\\n<p>Is there a way to check if the uploaded file is an image apart from checking the file extension using PHP?</p>\\n   \n",
       "1                          <p>This is probably very simple, but I simply cannot find the answer myself :( </p>\\n\\n<p>Basicaly, what I want is, given this string:</p>\\n\\n<p>\"http://www.google.com/search?hl=en&amp;q=c# objects\"</p>\\n\\n<p>I want this output:</p>\\n\\n<p><a href=\"http://www.google.com/search?hl=en&amp;q=c%23+objects\">http://www.google.com/search?hl=en&amp;q=c%23+objects</a></p>\\n\\n<p>I'm sure there's some helper class somewhere buried in the Framework that takes care of that for me, but I'm having trouble finding it.</p>\\n\\n<p>EDIT: I should add, that this is for a Winforms App.</p>\\n   \n",
       "2  <pre><code>function modify(.......)\\n{\\n  $mcontact = file_get_contents( \"https://test.httpapi.com/api/contacts/modify.json?auth-userid=$uid&amp;auth-password=$pass&amp;contact-id=$cid&amp;name=$name &amp;company=$company&amp;email=$email&amp;address-line-1=$street&amp;city=$city&amp;country=$country&amp;zipcode=$pincode&amp;phone-cc=$countryCodeList[$phc]&amp;phone=$phone\" );\\n\\n  $mdetails = json_decode( $mcontact, true );\\n\\n  return $mdetails;\\n}\\n</code></pre>\\n\\n<p>using this modify function, displays warning mesage\\n</p>\\n\\n<pre class=\"lang-none prettyprint-override\"><code>Warning: ...   \n",
       "3  <p>I've decided to convert a Windows Phone 7 app that fetches an XML feed and then parses it to an asp.net web app, using Visual Web Developer Express. I figure since the code already works for WP7, it should be a matter of mostly copying and pasting it for the C# code behind. </p>\\n\\n<pre><code>HttpWebRequest request = HttpWebRequest.CreateHttp(\"http://webservices.nextbus.com/service/publicXMLFeed?command=routeConfig&amp;a=sf-muni&amp;r=\" + line1);\\n</code></pre>\\n\\n<p>That's the first line of code from my WP7 app that fetches the XML feed, but I can't even get HttpWebRequest to work in V...   \n",
       "4                               <p>Do you know of a .NET library for generating javascript code? </p>\\n\\n<p>I want to generate javascript code based on information in my .NET application. I would like to be able to create an AST-like datastructure (using C#) and have it turned into valid javascript. I need to be able to create functions, statements, expressions etc., so I need something more than a JSON serializer - but I guess you could think of this as a (<em>very</em>) generalized JSON serializer.</p>\\n\\n<p>Do such libraries exist and if so, could you recommend any?</p>\\n\\n<p>Thank you.</p>\\n   \n",
       "\n",
       "                                                                                                                                                                                                                                                                                                                                                                                                                                                                                                                                                                                                                      text  \n",
       "0                                                                                                                                                                                                               I'd like to check if an uploaded file is an image file (e.g png, jpg, jpeg, gif, bmp) or another file. The problem is that I'm using Uploadify to upload the files, which changes the mime type and gives a 'text/octal' or something as the mime type, no matter which file type you upload.  Is there a way to check if the uploaded file is an image apart from checking the file extension using PHP?   \n",
       "1                                                                                                                                                                    This is probably very simple, but I simply cannot find the answer myself :(   Basicaly, what I want is, given this string:  \"http://www.google.com/search?hl=en&q=c# objects\"  I want this output:  http://www.google.com/search?hl=en&q=c%23+objects  I'm sure there's some helper class somewhere buried in the Framework that takes care of that for me, but I'm having trouble finding it.  EDIT: I should add, that this is for a Winforms App.   \n",
       "2  function modify(.......) {   $mcontact = file_get_contents( \"https://test.httpapi.com/api/contacts/modify.json?auth-userid=$uid&auth-password=$pass&contact-id=$cid&name=$name &company=$company&email=$email&address-line-1=$street&city=$city&country=$country&zipcode=$pincode&phone-cc=$countryCodeList[$phc]&phone=$phone\" );    $mdetails = json_decode( $mcontact, true );    return $mdetails; }   using this modify function, displays warning mesage   Warning: file_get_contents(https://...@hihfg.com&address-line-1=3,dfgdf,fgdf&city=dfgfd&country=India&zipcode=641005&phone-cc=91&phone=756657)    [...  \n",
       "3  I've decided to convert a Windows Phone 7 app that fetches an XML feed and then parses it to an asp.net web app, using Visual Web Developer Express. I figure since the code already works for WP7, it should be a matter of mostly copying and pasting it for the C# code behind.   HttpWebRequest request = HttpWebRequest.CreateHttp(\"http://webservices.nextbus.com/service/publicXMLFeed?command=routeConfig&a=sf-muni&r=\" + line1);   That's the first line of code from my WP7 app that fetches the XML feed, but I can't even get HttpWebRequest to work in Visual Web Developer like that. Intellisense sho...  \n",
       "4                                                                           Do you know of a .NET library for generating javascript code?   I want to generate javascript code based on information in my .NET application. I would like to be able to create an AST-like datastructure (using C#) and have it turned into valid javascript. I need to be able to create functions, statements, expressions etc., so I need something more than a JSON serializer - but I guess you could think of this as a (very) generalized JSON serializer.  Do such libraries exist and if so, could you recommend any?  Thank you.   "
      ]
     },
     "execution_count": 7,
     "metadata": {},
     "output_type": "execute_result"
    }
   ],
   "source": [
    "#df_raw.head()"
   ]
  },
  {
   "cell_type": "code",
   "execution_count": 8,
   "metadata": {
    "execution": {
     "iopub.execute_input": "2022-05-10T00:15:48.227643Z",
     "iopub.status.busy": "2022-05-10T00:15:48.227315Z",
     "iopub.status.idle": "2022-05-10T00:15:49.237878Z",
     "shell.execute_reply": "2022-05-10T00:15:49.237471Z",
     "shell.execute_reply.started": "2022-05-10T00:15:48.227621Z"
    },
    "tags": []
   },
   "outputs": [],
   "source": [
    "#df_raw_small = df_raw.copy().sample(frac=0.25, random_state=42)"
   ]
  },
  {
   "cell_type": "code",
   "execution_count": 7,
   "metadata": {
    "execution": {
     "iopub.execute_input": "2022-05-06T12:19:14.222077Z",
     "iopub.status.busy": "2022-05-06T12:19:14.221831Z",
     "iopub.status.idle": "2022-05-06T12:27:39.886104Z",
     "shell.execute_reply": "2022-05-06T12:27:39.885215Z",
     "shell.execute_reply.started": "2022-05-06T12:19:14.222055Z"
    },
    "tags": []
   },
   "outputs": [],
   "source": [
    "%%capture \n",
    "#dls_lm_stack_small = TextDataLoaders.from_df(df_raw_small, path=path, text_col='text', is_lm = True,\n",
    "                              valid_pct=0.1, seed =123, bs = 128, seq_len = 72)"
   ]
  },
  {
   "cell_type": "code",
   "execution_count": 11,
   "metadata": {
    "execution": {
     "iopub.execute_input": "2022-05-05T20:03:30.475234Z",
     "iopub.status.busy": "2022-05-05T20:03:30.475079Z",
     "iopub.status.idle": "2022-05-05T20:03:30.479034Z",
     "shell.execute_reply": "2022-05-05T20:03:30.478460Z",
     "shell.execute_reply.started": "2022-05-05T20:03:30.475216Z"
    },
    "tags": []
   },
   "outputs": [],
   "source": [
    "#dls_lm_stack_small = TextDataLoaders.from_df(df_small, path=path, text_col='text', is_lm = True,\n",
    "#                              valid_pct=0.1, seed =123, bs = 512, seq_len = 72)"
   ]
  },
  {
   "cell_type": "code",
   "execution_count": null,
   "metadata": {},
   "outputs": [],
   "source": [
    "#dls_lm_stack_small = TextDataLoaders.from_df(df_small, path=path, text_col='text', is_lm = True,\n",
    "#                              valid_pct=0.1, seed =123, bs = 64, seq_len = 72)"
   ]
  },
  {
   "cell_type": "code",
   "execution_count": 8,
   "metadata": {
    "execution": {
     "iopub.execute_input": "2022-05-06T12:27:39.888045Z",
     "iopub.status.busy": "2022-05-06T12:27:39.887906Z",
     "iopub.status.idle": "2022-05-06T12:29:48.136628Z",
     "shell.execute_reply": "2022-05-06T12:29:48.135935Z",
     "shell.execute_reply.started": "2022-05-06T12:27:39.888027Z"
    },
    "tags": []
   },
   "outputs": [],
   "source": [
    "#torch.save(dls_lm_stack_small , path/'dls_lm_stack_128_small.pkl')"
   ]
  },
  {
   "cell_type": "code",
   "execution_count": 10,
   "metadata": {
    "execution": {
     "iopub.execute_input": "2022-05-10T00:20:03.248409Z",
     "iopub.status.busy": "2022-05-10T00:20:03.247832Z",
     "iopub.status.idle": "2022-05-10T00:21:05.881731Z",
     "shell.execute_reply": "2022-05-10T00:21:05.881240Z",
     "shell.execute_reply.started": "2022-05-10T00:20:03.248392Z"
    },
    "tags": []
   },
   "outputs": [],
   "source": [
    "dls_lm = torch.load(path/'dls_lm_stack_128_small.pkl')"
   ]
  },
  {
   "cell_type": "code",
   "execution_count": 11,
   "metadata": {
    "execution": {
     "iopub.execute_input": "2022-05-10T00:21:05.882523Z",
     "iopub.status.busy": "2022-05-10T00:21:05.882407Z",
     "iopub.status.idle": "2022-05-10T00:21:10.292748Z",
     "shell.execute_reply": "2022-05-10T00:21:10.292327Z",
     "shell.execute_reply.started": "2022-05-10T00:21:05.882511Z"
    },
    "id": "iZglhb0b_Ayq",
    "outputId": "65146599-80a0-413f-a050-762a333f05ef",
    "tags": []
   },
   "outputs": [
    {
     "data": {
      "text/html": [
       "<table border=\"1\" class=\"dataframe\">\n",
       "  <thead>\n",
       "    <tr style=\"text-align: right;\">\n",
       "      <th></th>\n",
       "      <th>text</th>\n",
       "      <th>text_</th>\n",
       "    </tr>\n",
       "  </thead>\n",
       "  <tbody>\n",
       "    <tr>\n",
       "      <th>0</th>\n",
       "      <td>xxbos xxmaj how would you achieve an xxup led xxmaj scrolling effect like the example below ? xxbos i have a really simple method : void xxunk &lt; stuff const * &gt; &amp; xxunk ) const { xxunk = xxunk ; } xxmaj where xxunk is a member of someclass and is of type std::vector &lt; stuff * &gt; xxmaj this code gives me an error saying there 's no match for</td>\n",
       "      <td>xxmaj how would you achieve an xxup led xxmaj scrolling effect like the example below ? xxbos i have a really simple method : void xxunk &lt; stuff const * &gt; &amp; xxunk ) const { xxunk = xxunk ; } xxmaj where xxunk is a member of someclass and is of type std::vector &lt; stuff * &gt; xxmaj this code gives me an error saying there 's no match for '</td>\n",
       "    </tr>\n",
       "    <tr>\n",
       "      <th>1</th>\n",
       "      <td>, though . xxmaj thanks again . xxbos i need the xxunk from the datetime in xxup sql xxmaj server like ' jan 2008 ' . xxmaj i 'm grouping the query by month , year . xxmaj i 've searched and found functions like datepart , convert , etc . , but none of them seem useful for this . xxmaj am i missing something here ? xxmaj is there a</td>\n",
       "      <td>though . xxmaj thanks again . xxbos i need the xxunk from the datetime in xxup sql xxmaj server like ' jan 2008 ' . xxmaj i 'm grouping the query by month , year . xxmaj i 've searched and found functions like datepart , convert , etc . , but none of them seem useful for this . xxmaj am i missing something here ? xxmaj is there a function</td>\n",
       "    </tr>\n",
       "  </tbody>\n",
       "</table>"
      ],
      "text/plain": [
       "<IPython.core.display.HTML object>"
      ]
     },
     "metadata": {},
     "output_type": "display_data"
    }
   ],
   "source": [
    "dls_lm.show_batch(max_n=2)"
   ]
  },
  {
   "cell_type": "code",
   "execution_count": 16,
   "metadata": {
    "execution": {
     "iopub.execute_input": "2022-05-10T00:24:04.750505Z",
     "iopub.status.busy": "2022-05-10T00:24:04.750326Z",
     "iopub.status.idle": "2022-05-10T00:24:05.699443Z",
     "shell.execute_reply": "2022-05-10T00:24:05.699091Z",
     "shell.execute_reply.started": "2022-05-10T00:24:04.750474Z"
    },
    "id": "veKEF6OA_Ayq",
    "tags": []
   },
   "outputs": [],
   "source": [
    "learn = language_model_learner(\n",
    "    dls_lm, AWD_LSTM, drop_mult=0.3, \n",
    "    metrics=[accuracy, Perplexity()]).to_fp16()"
   ]
  },
  {
   "cell_type": "code",
   "execution_count": 13,
   "metadata": {
    "collapsed": true,
    "execution": {
     "iopub.execute_input": "2022-05-10T00:22:28.978160Z",
     "iopub.status.busy": "2022-05-10T00:22:28.977987Z",
     "iopub.status.idle": "2022-05-10T00:23:06.476777Z",
     "shell.execute_reply": "2022-05-10T00:23:06.475959Z",
     "shell.execute_reply.started": "2022-05-10T00:22:28.978129Z"
    },
    "id": "-hkEUSRS_Ayq",
    "jupyter": {
     "outputs_hidden": true
    },
    "outputId": "5843e2cf-79c5-4b6b-d31e-64a1bef4ee7d",
    "tags": []
   },
   "outputs": [
    {
     "data": {
      "text/html": [
       "\n",
       "    <div>\n",
       "        <style>\n",
       "            /* Turns off some styling */\n",
       "            progress {\n",
       "                /* gets rid of default border in Firefox and Opera. */\n",
       "                border: none;\n",
       "                /* Needs to be in here for Safari polyfill so background images work as expected. */\n",
       "                background-size: auto;\n",
       "            }\n",
       "            .progress-bar-interrupted, .progress-bar-interrupted::-webkit-progress-bar {\n",
       "                background: #F44336;\n",
       "            }\n",
       "        </style>\n",
       "      <progress value='0' class='' max='1' style='width:300px; height:20px; vertical-align: middle;'></progress>\n",
       "      0.00% [0/1 00:00<00:00]\n",
       "    </div>\n",
       "    \n",
       "<table border=\"1\" class=\"dataframe\">\n",
       "  <thead>\n",
       "    <tr style=\"text-align: left;\">\n",
       "      <th>epoch</th>\n",
       "      <th>train_loss</th>\n",
       "      <th>valid_loss</th>\n",
       "      <th>accuracy</th>\n",
       "      <th>perplexity</th>\n",
       "      <th>time</th>\n",
       "    </tr>\n",
       "  </thead>\n",
       "  <tbody>\n",
       "  </tbody>\n",
       "</table><p>\n",
       "\n",
       "    <div>\n",
       "        <style>\n",
       "            /* Turns off some styling */\n",
       "            progress {\n",
       "                /* gets rid of default border in Firefox and Opera. */\n",
       "                border: none;\n",
       "                /* Needs to be in here for Safari polyfill so background images work as expected. */\n",
       "                background-size: auto;\n",
       "            }\n",
       "            .progress-bar-interrupted, .progress-bar-interrupted::-webkit-progress-bar {\n",
       "                background: #F44336;\n",
       "            }\n",
       "        </style>\n",
       "      <progress value='32' class='' max='23039' style='width:300px; height:20px; vertical-align: middle;'></progress>\n",
       "      0.14% [32/23039 00:37<7:25:24 5.4671]\n",
       "    </div>\n",
       "    "
      ],
      "text/plain": [
       "<IPython.core.display.HTML object>"
      ]
     },
     "metadata": {},
     "output_type": "display_data"
    },
    {
     "ename": "KeyboardInterrupt",
     "evalue": "",
     "output_type": "error",
     "traceback": [
      "\u001b[0;31m---------------------------------------------------------------------------\u001b[0m",
      "\u001b[0;31mKeyboardInterrupt\u001b[0m                         Traceback (most recent call last)",
      "\u001b[0;32m/tmp/ipykernel_26738/594591802.py\u001b[0m in \u001b[0;36m<module>\u001b[0;34m\u001b[0m\n\u001b[0;32m----> 1\u001b[0;31m \u001b[0mlearn\u001b[0m\u001b[0;34m.\u001b[0m\u001b[0mfit_one_cycle\u001b[0m\u001b[0;34m(\u001b[0m\u001b[0;36m1\u001b[0m\u001b[0;34m,\u001b[0m \u001b[0;36m2e-2\u001b[0m\u001b[0;34m)\u001b[0m \u001b[0;31m# first cycle\u001b[0m\u001b[0;34m\u001b[0m\u001b[0;34m\u001b[0m\u001b[0m\n\u001b[0m",
      "\u001b[0;32m~/miniconda3/envs/pt10/lib/python3.8/site-packages/fastai/callback/schedule.py\u001b[0m in \u001b[0;36mfit_one_cycle\u001b[0;34m(self, n_epoch, lr_max, div, div_final, pct_start, wd, moms, cbs, reset_opt)\u001b[0m\n\u001b[1;32m    114\u001b[0m     scheds = {'lr': combined_cos(pct_start, lr_max/div, lr_max, lr_max/div_final),\n\u001b[1;32m    115\u001b[0m               'mom': combined_cos(pct_start, *(self.moms if moms is None else moms))}\n\u001b[0;32m--> 116\u001b[0;31m     \u001b[0mself\u001b[0m\u001b[0;34m.\u001b[0m\u001b[0mfit\u001b[0m\u001b[0;34m(\u001b[0m\u001b[0mn_epoch\u001b[0m\u001b[0;34m,\u001b[0m \u001b[0mcbs\u001b[0m\u001b[0;34m=\u001b[0m\u001b[0mParamScheduler\u001b[0m\u001b[0;34m(\u001b[0m\u001b[0mscheds\u001b[0m\u001b[0;34m)\u001b[0m\u001b[0;34m+\u001b[0m\u001b[0mL\u001b[0m\u001b[0;34m(\u001b[0m\u001b[0mcbs\u001b[0m\u001b[0;34m)\u001b[0m\u001b[0;34m,\u001b[0m \u001b[0mreset_opt\u001b[0m\u001b[0;34m=\u001b[0m\u001b[0mreset_opt\u001b[0m\u001b[0;34m,\u001b[0m \u001b[0mwd\u001b[0m\u001b[0;34m=\u001b[0m\u001b[0mwd\u001b[0m\u001b[0;34m)\u001b[0m\u001b[0;34m\u001b[0m\u001b[0;34m\u001b[0m\u001b[0m\n\u001b[0m\u001b[1;32m    117\u001b[0m \u001b[0;34m\u001b[0m\u001b[0m\n\u001b[1;32m    118\u001b[0m \u001b[0;31m# Cell\u001b[0m\u001b[0;34m\u001b[0m\u001b[0;34m\u001b[0m\u001b[0;34m\u001b[0m\u001b[0m\n",
      "\u001b[0;32m~/miniconda3/envs/pt10/lib/python3.8/site-packages/fastai/learner.py\u001b[0m in \u001b[0;36mfit\u001b[0;34m(self, n_epoch, lr, wd, cbs, reset_opt)\u001b[0m\n\u001b[1;32m    220\u001b[0m             \u001b[0mself\u001b[0m\u001b[0;34m.\u001b[0m\u001b[0mopt\u001b[0m\u001b[0;34m.\u001b[0m\u001b[0mset_hypers\u001b[0m\u001b[0;34m(\u001b[0m\u001b[0mlr\u001b[0m\u001b[0;34m=\u001b[0m\u001b[0mself\u001b[0m\u001b[0;34m.\u001b[0m\u001b[0mlr\u001b[0m \u001b[0;32mif\u001b[0m \u001b[0mlr\u001b[0m \u001b[0;32mis\u001b[0m \u001b[0;32mNone\u001b[0m \u001b[0;32melse\u001b[0m \u001b[0mlr\u001b[0m\u001b[0;34m)\u001b[0m\u001b[0;34m\u001b[0m\u001b[0;34m\u001b[0m\u001b[0m\n\u001b[1;32m    221\u001b[0m             \u001b[0mself\u001b[0m\u001b[0;34m.\u001b[0m\u001b[0mn_epoch\u001b[0m \u001b[0;34m=\u001b[0m \u001b[0mn_epoch\u001b[0m\u001b[0;34m\u001b[0m\u001b[0;34m\u001b[0m\u001b[0m\n\u001b[0;32m--> 222\u001b[0;31m             \u001b[0mself\u001b[0m\u001b[0;34m.\u001b[0m\u001b[0m_with_events\u001b[0m\u001b[0;34m(\u001b[0m\u001b[0mself\u001b[0m\u001b[0;34m.\u001b[0m\u001b[0m_do_fit\u001b[0m\u001b[0;34m,\u001b[0m \u001b[0;34m'fit'\u001b[0m\u001b[0;34m,\u001b[0m \u001b[0mCancelFitException\u001b[0m\u001b[0;34m,\u001b[0m \u001b[0mself\u001b[0m\u001b[0;34m.\u001b[0m\u001b[0m_end_cleanup\u001b[0m\u001b[0;34m)\u001b[0m\u001b[0;34m\u001b[0m\u001b[0;34m\u001b[0m\u001b[0m\n\u001b[0m\u001b[1;32m    223\u001b[0m \u001b[0;34m\u001b[0m\u001b[0m\n\u001b[1;32m    224\u001b[0m     \u001b[0;32mdef\u001b[0m \u001b[0m_end_cleanup\u001b[0m\u001b[0;34m(\u001b[0m\u001b[0mself\u001b[0m\u001b[0;34m)\u001b[0m\u001b[0;34m:\u001b[0m \u001b[0mself\u001b[0m\u001b[0;34m.\u001b[0m\u001b[0mdl\u001b[0m\u001b[0;34m,\u001b[0m\u001b[0mself\u001b[0m\u001b[0;34m.\u001b[0m\u001b[0mxb\u001b[0m\u001b[0;34m,\u001b[0m\u001b[0mself\u001b[0m\u001b[0;34m.\u001b[0m\u001b[0myb\u001b[0m\u001b[0;34m,\u001b[0m\u001b[0mself\u001b[0m\u001b[0;34m.\u001b[0m\u001b[0mpred\u001b[0m\u001b[0;34m,\u001b[0m\u001b[0mself\u001b[0m\u001b[0;34m.\u001b[0m\u001b[0mloss\u001b[0m \u001b[0;34m=\u001b[0m \u001b[0;32mNone\u001b[0m\u001b[0;34m,\u001b[0m\u001b[0;34m(\u001b[0m\u001b[0;32mNone\u001b[0m\u001b[0;34m,\u001b[0m\u001b[0;34m)\u001b[0m\u001b[0;34m,\u001b[0m\u001b[0;34m(\u001b[0m\u001b[0;32mNone\u001b[0m\u001b[0;34m,\u001b[0m\u001b[0;34m)\u001b[0m\u001b[0;34m,\u001b[0m\u001b[0;32mNone\u001b[0m\u001b[0;34m,\u001b[0m\u001b[0;32mNone\u001b[0m\u001b[0;34m\u001b[0m\u001b[0;34m\u001b[0m\u001b[0m\n",
      "\u001b[0;32m~/miniconda3/envs/pt10/lib/python3.8/site-packages/fastai/learner.py\u001b[0m in \u001b[0;36m_with_events\u001b[0;34m(self, f, event_type, ex, final)\u001b[0m\n\u001b[1;32m    162\u001b[0m \u001b[0;34m\u001b[0m\u001b[0m\n\u001b[1;32m    163\u001b[0m     \u001b[0;32mdef\u001b[0m \u001b[0m_with_events\u001b[0m\u001b[0;34m(\u001b[0m\u001b[0mself\u001b[0m\u001b[0;34m,\u001b[0m \u001b[0mf\u001b[0m\u001b[0;34m,\u001b[0m \u001b[0mevent_type\u001b[0m\u001b[0;34m,\u001b[0m \u001b[0mex\u001b[0m\u001b[0;34m,\u001b[0m \u001b[0mfinal\u001b[0m\u001b[0;34m=\u001b[0m\u001b[0mnoop\u001b[0m\u001b[0;34m)\u001b[0m\u001b[0;34m:\u001b[0m\u001b[0;34m\u001b[0m\u001b[0;34m\u001b[0m\u001b[0m\n\u001b[0;32m--> 164\u001b[0;31m         \u001b[0;32mtry\u001b[0m\u001b[0;34m:\u001b[0m \u001b[0mself\u001b[0m\u001b[0;34m(\u001b[0m\u001b[0;34mf'before_{event_type}'\u001b[0m\u001b[0;34m)\u001b[0m\u001b[0;34m;\u001b[0m  \u001b[0mf\u001b[0m\u001b[0;34m(\u001b[0m\u001b[0;34m)\u001b[0m\u001b[0;34m\u001b[0m\u001b[0;34m\u001b[0m\u001b[0m\n\u001b[0m\u001b[1;32m    165\u001b[0m         \u001b[0;32mexcept\u001b[0m \u001b[0mex\u001b[0m\u001b[0;34m:\u001b[0m \u001b[0mself\u001b[0m\u001b[0;34m(\u001b[0m\u001b[0;34mf'after_cancel_{event_type}'\u001b[0m\u001b[0;34m)\u001b[0m\u001b[0;34m\u001b[0m\u001b[0;34m\u001b[0m\u001b[0m\n\u001b[1;32m    166\u001b[0m         \u001b[0mself\u001b[0m\u001b[0;34m(\u001b[0m\u001b[0;34mf'after_{event_type}'\u001b[0m\u001b[0;34m)\u001b[0m\u001b[0;34m;\u001b[0m  \u001b[0mfinal\u001b[0m\u001b[0;34m(\u001b[0m\u001b[0;34m)\u001b[0m\u001b[0;34m\u001b[0m\u001b[0;34m\u001b[0m\u001b[0m\n",
      "\u001b[0;32m~/miniconda3/envs/pt10/lib/python3.8/site-packages/fastai/learner.py\u001b[0m in \u001b[0;36m_do_fit\u001b[0;34m(self)\u001b[0m\n\u001b[1;32m    211\u001b[0m         \u001b[0;32mfor\u001b[0m \u001b[0mepoch\u001b[0m \u001b[0;32min\u001b[0m \u001b[0mrange\u001b[0m\u001b[0;34m(\u001b[0m\u001b[0mself\u001b[0m\u001b[0;34m.\u001b[0m\u001b[0mn_epoch\u001b[0m\u001b[0;34m)\u001b[0m\u001b[0;34m:\u001b[0m\u001b[0;34m\u001b[0m\u001b[0;34m\u001b[0m\u001b[0m\n\u001b[1;32m    212\u001b[0m             \u001b[0mself\u001b[0m\u001b[0;34m.\u001b[0m\u001b[0mepoch\u001b[0m\u001b[0;34m=\u001b[0m\u001b[0mepoch\u001b[0m\u001b[0;34m\u001b[0m\u001b[0;34m\u001b[0m\u001b[0m\n\u001b[0;32m--> 213\u001b[0;31m             \u001b[0mself\u001b[0m\u001b[0;34m.\u001b[0m\u001b[0m_with_events\u001b[0m\u001b[0;34m(\u001b[0m\u001b[0mself\u001b[0m\u001b[0;34m.\u001b[0m\u001b[0m_do_epoch\u001b[0m\u001b[0;34m,\u001b[0m \u001b[0;34m'epoch'\u001b[0m\u001b[0;34m,\u001b[0m \u001b[0mCancelEpochException\u001b[0m\u001b[0;34m)\u001b[0m\u001b[0;34m\u001b[0m\u001b[0;34m\u001b[0m\u001b[0m\n\u001b[0m\u001b[1;32m    214\u001b[0m \u001b[0;34m\u001b[0m\u001b[0m\n\u001b[1;32m    215\u001b[0m     \u001b[0;32mdef\u001b[0m \u001b[0mfit\u001b[0m\u001b[0;34m(\u001b[0m\u001b[0mself\u001b[0m\u001b[0;34m,\u001b[0m \u001b[0mn_epoch\u001b[0m\u001b[0;34m,\u001b[0m \u001b[0mlr\u001b[0m\u001b[0;34m=\u001b[0m\u001b[0;32mNone\u001b[0m\u001b[0;34m,\u001b[0m \u001b[0mwd\u001b[0m\u001b[0;34m=\u001b[0m\u001b[0;32mNone\u001b[0m\u001b[0;34m,\u001b[0m \u001b[0mcbs\u001b[0m\u001b[0;34m=\u001b[0m\u001b[0;32mNone\u001b[0m\u001b[0;34m,\u001b[0m \u001b[0mreset_opt\u001b[0m\u001b[0;34m=\u001b[0m\u001b[0;32mFalse\u001b[0m\u001b[0;34m)\u001b[0m\u001b[0;34m:\u001b[0m\u001b[0;34m\u001b[0m\u001b[0;34m\u001b[0m\u001b[0m\n",
      "\u001b[0;32m~/miniconda3/envs/pt10/lib/python3.8/site-packages/fastai/learner.py\u001b[0m in \u001b[0;36m_with_events\u001b[0;34m(self, f, event_type, ex, final)\u001b[0m\n\u001b[1;32m    162\u001b[0m \u001b[0;34m\u001b[0m\u001b[0m\n\u001b[1;32m    163\u001b[0m     \u001b[0;32mdef\u001b[0m \u001b[0m_with_events\u001b[0m\u001b[0;34m(\u001b[0m\u001b[0mself\u001b[0m\u001b[0;34m,\u001b[0m \u001b[0mf\u001b[0m\u001b[0;34m,\u001b[0m \u001b[0mevent_type\u001b[0m\u001b[0;34m,\u001b[0m \u001b[0mex\u001b[0m\u001b[0;34m,\u001b[0m \u001b[0mfinal\u001b[0m\u001b[0;34m=\u001b[0m\u001b[0mnoop\u001b[0m\u001b[0;34m)\u001b[0m\u001b[0;34m:\u001b[0m\u001b[0;34m\u001b[0m\u001b[0;34m\u001b[0m\u001b[0m\n\u001b[0;32m--> 164\u001b[0;31m         \u001b[0;32mtry\u001b[0m\u001b[0;34m:\u001b[0m \u001b[0mself\u001b[0m\u001b[0;34m(\u001b[0m\u001b[0;34mf'before_{event_type}'\u001b[0m\u001b[0;34m)\u001b[0m\u001b[0;34m;\u001b[0m  \u001b[0mf\u001b[0m\u001b[0;34m(\u001b[0m\u001b[0;34m)\u001b[0m\u001b[0;34m\u001b[0m\u001b[0;34m\u001b[0m\u001b[0m\n\u001b[0m\u001b[1;32m    165\u001b[0m         \u001b[0;32mexcept\u001b[0m \u001b[0mex\u001b[0m\u001b[0;34m:\u001b[0m \u001b[0mself\u001b[0m\u001b[0;34m(\u001b[0m\u001b[0;34mf'after_cancel_{event_type}'\u001b[0m\u001b[0;34m)\u001b[0m\u001b[0;34m\u001b[0m\u001b[0;34m\u001b[0m\u001b[0m\n\u001b[1;32m    166\u001b[0m         \u001b[0mself\u001b[0m\u001b[0;34m(\u001b[0m\u001b[0;34mf'after_{event_type}'\u001b[0m\u001b[0;34m)\u001b[0m\u001b[0;34m;\u001b[0m  \u001b[0mfinal\u001b[0m\u001b[0;34m(\u001b[0m\u001b[0;34m)\u001b[0m\u001b[0;34m\u001b[0m\u001b[0;34m\u001b[0m\u001b[0m\n",
      "\u001b[0;32m~/miniconda3/envs/pt10/lib/python3.8/site-packages/fastai/learner.py\u001b[0m in \u001b[0;36m_do_epoch\u001b[0;34m(self)\u001b[0m\n\u001b[1;32m    205\u001b[0m \u001b[0;34m\u001b[0m\u001b[0m\n\u001b[1;32m    206\u001b[0m     \u001b[0;32mdef\u001b[0m \u001b[0m_do_epoch\u001b[0m\u001b[0;34m(\u001b[0m\u001b[0mself\u001b[0m\u001b[0;34m)\u001b[0m\u001b[0;34m:\u001b[0m\u001b[0;34m\u001b[0m\u001b[0;34m\u001b[0m\u001b[0m\n\u001b[0;32m--> 207\u001b[0;31m         \u001b[0mself\u001b[0m\u001b[0;34m.\u001b[0m\u001b[0m_do_epoch_train\u001b[0m\u001b[0;34m(\u001b[0m\u001b[0;34m)\u001b[0m\u001b[0;34m\u001b[0m\u001b[0;34m\u001b[0m\u001b[0m\n\u001b[0m\u001b[1;32m    208\u001b[0m         \u001b[0mself\u001b[0m\u001b[0;34m.\u001b[0m\u001b[0m_do_epoch_validate\u001b[0m\u001b[0;34m(\u001b[0m\u001b[0;34m)\u001b[0m\u001b[0;34m\u001b[0m\u001b[0;34m\u001b[0m\u001b[0m\n\u001b[1;32m    209\u001b[0m \u001b[0;34m\u001b[0m\u001b[0m\n",
      "\u001b[0;32m~/miniconda3/envs/pt10/lib/python3.8/site-packages/fastai/learner.py\u001b[0m in \u001b[0;36m_do_epoch_train\u001b[0;34m(self)\u001b[0m\n\u001b[1;32m    197\u001b[0m     \u001b[0;32mdef\u001b[0m \u001b[0m_do_epoch_train\u001b[0m\u001b[0;34m(\u001b[0m\u001b[0mself\u001b[0m\u001b[0;34m)\u001b[0m\u001b[0;34m:\u001b[0m\u001b[0;34m\u001b[0m\u001b[0;34m\u001b[0m\u001b[0m\n\u001b[1;32m    198\u001b[0m         \u001b[0mself\u001b[0m\u001b[0;34m.\u001b[0m\u001b[0mdl\u001b[0m \u001b[0;34m=\u001b[0m \u001b[0mself\u001b[0m\u001b[0;34m.\u001b[0m\u001b[0mdls\u001b[0m\u001b[0;34m.\u001b[0m\u001b[0mtrain\u001b[0m\u001b[0;34m\u001b[0m\u001b[0;34m\u001b[0m\u001b[0m\n\u001b[0;32m--> 199\u001b[0;31m         \u001b[0mself\u001b[0m\u001b[0;34m.\u001b[0m\u001b[0m_with_events\u001b[0m\u001b[0;34m(\u001b[0m\u001b[0mself\u001b[0m\u001b[0;34m.\u001b[0m\u001b[0mall_batches\u001b[0m\u001b[0;34m,\u001b[0m \u001b[0;34m'train'\u001b[0m\u001b[0;34m,\u001b[0m \u001b[0mCancelTrainException\u001b[0m\u001b[0;34m)\u001b[0m\u001b[0;34m\u001b[0m\u001b[0;34m\u001b[0m\u001b[0m\n\u001b[0m\u001b[1;32m    200\u001b[0m \u001b[0;34m\u001b[0m\u001b[0m\n\u001b[1;32m    201\u001b[0m     \u001b[0;32mdef\u001b[0m \u001b[0m_do_epoch_validate\u001b[0m\u001b[0;34m(\u001b[0m\u001b[0mself\u001b[0m\u001b[0;34m,\u001b[0m \u001b[0mds_idx\u001b[0m\u001b[0;34m=\u001b[0m\u001b[0;36m1\u001b[0m\u001b[0;34m,\u001b[0m \u001b[0mdl\u001b[0m\u001b[0;34m=\u001b[0m\u001b[0;32mNone\u001b[0m\u001b[0;34m)\u001b[0m\u001b[0;34m:\u001b[0m\u001b[0;34m\u001b[0m\u001b[0;34m\u001b[0m\u001b[0m\n",
      "\u001b[0;32m~/miniconda3/envs/pt10/lib/python3.8/site-packages/fastai/learner.py\u001b[0m in \u001b[0;36m_with_events\u001b[0;34m(self, f, event_type, ex, final)\u001b[0m\n\u001b[1;32m    162\u001b[0m \u001b[0;34m\u001b[0m\u001b[0m\n\u001b[1;32m    163\u001b[0m     \u001b[0;32mdef\u001b[0m \u001b[0m_with_events\u001b[0m\u001b[0;34m(\u001b[0m\u001b[0mself\u001b[0m\u001b[0;34m,\u001b[0m \u001b[0mf\u001b[0m\u001b[0;34m,\u001b[0m \u001b[0mevent_type\u001b[0m\u001b[0;34m,\u001b[0m \u001b[0mex\u001b[0m\u001b[0;34m,\u001b[0m \u001b[0mfinal\u001b[0m\u001b[0;34m=\u001b[0m\u001b[0mnoop\u001b[0m\u001b[0;34m)\u001b[0m\u001b[0;34m:\u001b[0m\u001b[0;34m\u001b[0m\u001b[0;34m\u001b[0m\u001b[0m\n\u001b[0;32m--> 164\u001b[0;31m         \u001b[0;32mtry\u001b[0m\u001b[0;34m:\u001b[0m \u001b[0mself\u001b[0m\u001b[0;34m(\u001b[0m\u001b[0;34mf'before_{event_type}'\u001b[0m\u001b[0;34m)\u001b[0m\u001b[0;34m;\u001b[0m  \u001b[0mf\u001b[0m\u001b[0;34m(\u001b[0m\u001b[0;34m)\u001b[0m\u001b[0;34m\u001b[0m\u001b[0;34m\u001b[0m\u001b[0m\n\u001b[0m\u001b[1;32m    165\u001b[0m         \u001b[0;32mexcept\u001b[0m \u001b[0mex\u001b[0m\u001b[0;34m:\u001b[0m \u001b[0mself\u001b[0m\u001b[0;34m(\u001b[0m\u001b[0;34mf'after_cancel_{event_type}'\u001b[0m\u001b[0;34m)\u001b[0m\u001b[0;34m\u001b[0m\u001b[0;34m\u001b[0m\u001b[0m\n\u001b[1;32m    166\u001b[0m         \u001b[0mself\u001b[0m\u001b[0;34m(\u001b[0m\u001b[0;34mf'after_{event_type}'\u001b[0m\u001b[0;34m)\u001b[0m\u001b[0;34m;\u001b[0m  \u001b[0mfinal\u001b[0m\u001b[0;34m(\u001b[0m\u001b[0;34m)\u001b[0m\u001b[0;34m\u001b[0m\u001b[0;34m\u001b[0m\u001b[0m\n",
      "\u001b[0;32m~/miniconda3/envs/pt10/lib/python3.8/site-packages/fastai/learner.py\u001b[0m in \u001b[0;36mall_batches\u001b[0;34m(self)\u001b[0m\n\u001b[1;32m    168\u001b[0m     \u001b[0;32mdef\u001b[0m \u001b[0mall_batches\u001b[0m\u001b[0;34m(\u001b[0m\u001b[0mself\u001b[0m\u001b[0;34m)\u001b[0m\u001b[0;34m:\u001b[0m\u001b[0;34m\u001b[0m\u001b[0;34m\u001b[0m\u001b[0m\n\u001b[1;32m    169\u001b[0m         \u001b[0mself\u001b[0m\u001b[0;34m.\u001b[0m\u001b[0mn_iter\u001b[0m \u001b[0;34m=\u001b[0m \u001b[0mlen\u001b[0m\u001b[0;34m(\u001b[0m\u001b[0mself\u001b[0m\u001b[0;34m.\u001b[0m\u001b[0mdl\u001b[0m\u001b[0;34m)\u001b[0m\u001b[0;34m\u001b[0m\u001b[0;34m\u001b[0m\u001b[0m\n\u001b[0;32m--> 170\u001b[0;31m         \u001b[0;32mfor\u001b[0m \u001b[0mo\u001b[0m \u001b[0;32min\u001b[0m \u001b[0menumerate\u001b[0m\u001b[0;34m(\u001b[0m\u001b[0mself\u001b[0m\u001b[0;34m.\u001b[0m\u001b[0mdl\u001b[0m\u001b[0;34m)\u001b[0m\u001b[0;34m:\u001b[0m \u001b[0mself\u001b[0m\u001b[0;34m.\u001b[0m\u001b[0mone_batch\u001b[0m\u001b[0;34m(\u001b[0m\u001b[0;34m*\u001b[0m\u001b[0mo\u001b[0m\u001b[0;34m)\u001b[0m\u001b[0;34m\u001b[0m\u001b[0;34m\u001b[0m\u001b[0m\n\u001b[0m\u001b[1;32m    171\u001b[0m \u001b[0;34m\u001b[0m\u001b[0m\n\u001b[1;32m    172\u001b[0m     \u001b[0;32mdef\u001b[0m \u001b[0m_do_one_batch\u001b[0m\u001b[0;34m(\u001b[0m\u001b[0mself\u001b[0m\u001b[0;34m)\u001b[0m\u001b[0;34m:\u001b[0m\u001b[0;34m\u001b[0m\u001b[0;34m\u001b[0m\u001b[0m\n",
      "\u001b[0;32m~/miniconda3/envs/pt10/lib/python3.8/site-packages/fastai/learner.py\u001b[0m in \u001b[0;36mone_batch\u001b[0;34m(self, i, b)\u001b[0m\n\u001b[1;32m    193\u001b[0m         \u001b[0mb\u001b[0m \u001b[0;34m=\u001b[0m \u001b[0mself\u001b[0m\u001b[0;34m.\u001b[0m\u001b[0m_set_device\u001b[0m\u001b[0;34m(\u001b[0m\u001b[0mb\u001b[0m\u001b[0;34m)\u001b[0m\u001b[0;34m\u001b[0m\u001b[0;34m\u001b[0m\u001b[0m\n\u001b[1;32m    194\u001b[0m         \u001b[0mself\u001b[0m\u001b[0;34m.\u001b[0m\u001b[0m_split\u001b[0m\u001b[0;34m(\u001b[0m\u001b[0mb\u001b[0m\u001b[0;34m)\u001b[0m\u001b[0;34m\u001b[0m\u001b[0;34m\u001b[0m\u001b[0m\n\u001b[0;32m--> 195\u001b[0;31m         \u001b[0mself\u001b[0m\u001b[0;34m.\u001b[0m\u001b[0m_with_events\u001b[0m\u001b[0;34m(\u001b[0m\u001b[0mself\u001b[0m\u001b[0;34m.\u001b[0m\u001b[0m_do_one_batch\u001b[0m\u001b[0;34m,\u001b[0m \u001b[0;34m'batch'\u001b[0m\u001b[0;34m,\u001b[0m \u001b[0mCancelBatchException\u001b[0m\u001b[0;34m)\u001b[0m\u001b[0;34m\u001b[0m\u001b[0;34m\u001b[0m\u001b[0m\n\u001b[0m\u001b[1;32m    196\u001b[0m \u001b[0;34m\u001b[0m\u001b[0m\n\u001b[1;32m    197\u001b[0m     \u001b[0;32mdef\u001b[0m \u001b[0m_do_epoch_train\u001b[0m\u001b[0;34m(\u001b[0m\u001b[0mself\u001b[0m\u001b[0;34m)\u001b[0m\u001b[0;34m:\u001b[0m\u001b[0;34m\u001b[0m\u001b[0;34m\u001b[0m\u001b[0m\n",
      "\u001b[0;32m~/miniconda3/envs/pt10/lib/python3.8/site-packages/fastai/learner.py\u001b[0m in \u001b[0;36m_with_events\u001b[0;34m(self, f, event_type, ex, final)\u001b[0m\n\u001b[1;32m    162\u001b[0m \u001b[0;34m\u001b[0m\u001b[0m\n\u001b[1;32m    163\u001b[0m     \u001b[0;32mdef\u001b[0m \u001b[0m_with_events\u001b[0m\u001b[0;34m(\u001b[0m\u001b[0mself\u001b[0m\u001b[0;34m,\u001b[0m \u001b[0mf\u001b[0m\u001b[0;34m,\u001b[0m \u001b[0mevent_type\u001b[0m\u001b[0;34m,\u001b[0m \u001b[0mex\u001b[0m\u001b[0;34m,\u001b[0m \u001b[0mfinal\u001b[0m\u001b[0;34m=\u001b[0m\u001b[0mnoop\u001b[0m\u001b[0;34m)\u001b[0m\u001b[0;34m:\u001b[0m\u001b[0;34m\u001b[0m\u001b[0;34m\u001b[0m\u001b[0m\n\u001b[0;32m--> 164\u001b[0;31m         \u001b[0;32mtry\u001b[0m\u001b[0;34m:\u001b[0m \u001b[0mself\u001b[0m\u001b[0;34m(\u001b[0m\u001b[0;34mf'before_{event_type}'\u001b[0m\u001b[0;34m)\u001b[0m\u001b[0;34m;\u001b[0m  \u001b[0mf\u001b[0m\u001b[0;34m(\u001b[0m\u001b[0;34m)\u001b[0m\u001b[0;34m\u001b[0m\u001b[0;34m\u001b[0m\u001b[0m\n\u001b[0m\u001b[1;32m    165\u001b[0m         \u001b[0;32mexcept\u001b[0m \u001b[0mex\u001b[0m\u001b[0;34m:\u001b[0m \u001b[0mself\u001b[0m\u001b[0;34m(\u001b[0m\u001b[0;34mf'after_cancel_{event_type}'\u001b[0m\u001b[0;34m)\u001b[0m\u001b[0;34m\u001b[0m\u001b[0;34m\u001b[0m\u001b[0m\n\u001b[1;32m    166\u001b[0m         \u001b[0mself\u001b[0m\u001b[0;34m(\u001b[0m\u001b[0;34mf'after_{event_type}'\u001b[0m\u001b[0;34m)\u001b[0m\u001b[0;34m;\u001b[0m  \u001b[0mfinal\u001b[0m\u001b[0;34m(\u001b[0m\u001b[0;34m)\u001b[0m\u001b[0;34m\u001b[0m\u001b[0;34m\u001b[0m\u001b[0m\n",
      "\u001b[0;32m~/miniconda3/envs/pt10/lib/python3.8/site-packages/fastai/learner.py\u001b[0m in \u001b[0;36m_do_one_batch\u001b[0;34m(self)\u001b[0m\n\u001b[1;32m    172\u001b[0m     \u001b[0;32mdef\u001b[0m \u001b[0m_do_one_batch\u001b[0m\u001b[0;34m(\u001b[0m\u001b[0mself\u001b[0m\u001b[0;34m)\u001b[0m\u001b[0;34m:\u001b[0m\u001b[0;34m\u001b[0m\u001b[0;34m\u001b[0m\u001b[0m\n\u001b[1;32m    173\u001b[0m         \u001b[0mself\u001b[0m\u001b[0;34m.\u001b[0m\u001b[0mpred\u001b[0m \u001b[0;34m=\u001b[0m \u001b[0mself\u001b[0m\u001b[0;34m.\u001b[0m\u001b[0mmodel\u001b[0m\u001b[0;34m(\u001b[0m\u001b[0;34m*\u001b[0m\u001b[0mself\u001b[0m\u001b[0;34m.\u001b[0m\u001b[0mxb\u001b[0m\u001b[0;34m)\u001b[0m\u001b[0;34m\u001b[0m\u001b[0;34m\u001b[0m\u001b[0m\n\u001b[0;32m--> 174\u001b[0;31m         \u001b[0mself\u001b[0m\u001b[0;34m(\u001b[0m\u001b[0;34m'after_pred'\u001b[0m\u001b[0;34m)\u001b[0m\u001b[0;34m\u001b[0m\u001b[0;34m\u001b[0m\u001b[0m\n\u001b[0m\u001b[1;32m    175\u001b[0m         \u001b[0;32mif\u001b[0m \u001b[0mlen\u001b[0m\u001b[0;34m(\u001b[0m\u001b[0mself\u001b[0m\u001b[0;34m.\u001b[0m\u001b[0myb\u001b[0m\u001b[0;34m)\u001b[0m\u001b[0;34m:\u001b[0m\u001b[0;34m\u001b[0m\u001b[0;34m\u001b[0m\u001b[0m\n\u001b[1;32m    176\u001b[0m             \u001b[0mself\u001b[0m\u001b[0;34m.\u001b[0m\u001b[0mloss_grad\u001b[0m \u001b[0;34m=\u001b[0m \u001b[0mself\u001b[0m\u001b[0;34m.\u001b[0m\u001b[0mloss_func\u001b[0m\u001b[0;34m(\u001b[0m\u001b[0mself\u001b[0m\u001b[0;34m.\u001b[0m\u001b[0mpred\u001b[0m\u001b[0;34m,\u001b[0m \u001b[0;34m*\u001b[0m\u001b[0mself\u001b[0m\u001b[0;34m.\u001b[0m\u001b[0myb\u001b[0m\u001b[0;34m)\u001b[0m\u001b[0;34m\u001b[0m\u001b[0;34m\u001b[0m\u001b[0m\n",
      "\u001b[0;32m~/miniconda3/envs/pt10/lib/python3.8/site-packages/fastai/learner.py\u001b[0m in \u001b[0;36m__call__\u001b[0;34m(self, event_name)\u001b[0m\n\u001b[1;32m    140\u001b[0m \u001b[0;34m\u001b[0m\u001b[0m\n\u001b[1;32m    141\u001b[0m     \u001b[0;32mdef\u001b[0m \u001b[0mordered_cbs\u001b[0m\u001b[0;34m(\u001b[0m\u001b[0mself\u001b[0m\u001b[0;34m,\u001b[0m \u001b[0mevent\u001b[0m\u001b[0;34m)\u001b[0m\u001b[0;34m:\u001b[0m \u001b[0;32mreturn\u001b[0m \u001b[0;34m[\u001b[0m\u001b[0mcb\u001b[0m \u001b[0;32mfor\u001b[0m \u001b[0mcb\u001b[0m \u001b[0;32min\u001b[0m \u001b[0mself\u001b[0m\u001b[0;34m.\u001b[0m\u001b[0mcbs\u001b[0m\u001b[0;34m.\u001b[0m\u001b[0msorted\u001b[0m\u001b[0;34m(\u001b[0m\u001b[0;34m'order'\u001b[0m\u001b[0;34m)\u001b[0m \u001b[0;32mif\u001b[0m \u001b[0mhasattr\u001b[0m\u001b[0;34m(\u001b[0m\u001b[0mcb\u001b[0m\u001b[0;34m,\u001b[0m \u001b[0mevent\u001b[0m\u001b[0;34m)\u001b[0m\u001b[0;34m]\u001b[0m\u001b[0;34m\u001b[0m\u001b[0;34m\u001b[0m\u001b[0m\n\u001b[0;32m--> 142\u001b[0;31m     \u001b[0;32mdef\u001b[0m \u001b[0m__call__\u001b[0m\u001b[0;34m(\u001b[0m\u001b[0mself\u001b[0m\u001b[0;34m,\u001b[0m \u001b[0mevent_name\u001b[0m\u001b[0;34m)\u001b[0m\u001b[0;34m:\u001b[0m \u001b[0mL\u001b[0m\u001b[0;34m(\u001b[0m\u001b[0mevent_name\u001b[0m\u001b[0;34m)\u001b[0m\u001b[0;34m.\u001b[0m\u001b[0mmap\u001b[0m\u001b[0;34m(\u001b[0m\u001b[0mself\u001b[0m\u001b[0;34m.\u001b[0m\u001b[0m_call_one\u001b[0m\u001b[0;34m)\u001b[0m\u001b[0;34m\u001b[0m\u001b[0;34m\u001b[0m\u001b[0m\n\u001b[0m\u001b[1;32m    143\u001b[0m \u001b[0;34m\u001b[0m\u001b[0m\n\u001b[1;32m    144\u001b[0m     \u001b[0;32mdef\u001b[0m \u001b[0m_call_one\u001b[0m\u001b[0;34m(\u001b[0m\u001b[0mself\u001b[0m\u001b[0;34m,\u001b[0m \u001b[0mevent_name\u001b[0m\u001b[0;34m)\u001b[0m\u001b[0;34m:\u001b[0m\u001b[0;34m\u001b[0m\u001b[0;34m\u001b[0m\u001b[0m\n",
      "\u001b[0;32m~/miniconda3/envs/pt10/lib/python3.8/site-packages/fastcore/foundation.py\u001b[0m in \u001b[0;36mmap\u001b[0;34m(self, f, gen, *args, **kwargs)\u001b[0m\n\u001b[1;32m    153\u001b[0m     \u001b[0;32mdef\u001b[0m \u001b[0mrange\u001b[0m\u001b[0;34m(\u001b[0m\u001b[0mcls\u001b[0m\u001b[0;34m,\u001b[0m \u001b[0ma\u001b[0m\u001b[0;34m,\u001b[0m \u001b[0mb\u001b[0m\u001b[0;34m=\u001b[0m\u001b[0;32mNone\u001b[0m\u001b[0;34m,\u001b[0m \u001b[0mstep\u001b[0m\u001b[0;34m=\u001b[0m\u001b[0;32mNone\u001b[0m\u001b[0;34m)\u001b[0m\u001b[0;34m:\u001b[0m \u001b[0;32mreturn\u001b[0m \u001b[0mcls\u001b[0m\u001b[0;34m(\u001b[0m\u001b[0mrange_of\u001b[0m\u001b[0;34m(\u001b[0m\u001b[0ma\u001b[0m\u001b[0;34m,\u001b[0m \u001b[0mb\u001b[0m\u001b[0;34m=\u001b[0m\u001b[0mb\u001b[0m\u001b[0;34m,\u001b[0m \u001b[0mstep\u001b[0m\u001b[0;34m=\u001b[0m\u001b[0mstep\u001b[0m\u001b[0;34m)\u001b[0m\u001b[0;34m)\u001b[0m\u001b[0;34m\u001b[0m\u001b[0;34m\u001b[0m\u001b[0m\n\u001b[1;32m    154\u001b[0m \u001b[0;34m\u001b[0m\u001b[0m\n\u001b[0;32m--> 155\u001b[0;31m     \u001b[0;32mdef\u001b[0m \u001b[0mmap\u001b[0m\u001b[0;34m(\u001b[0m\u001b[0mself\u001b[0m\u001b[0;34m,\u001b[0m \u001b[0mf\u001b[0m\u001b[0;34m,\u001b[0m \u001b[0;34m*\u001b[0m\u001b[0margs\u001b[0m\u001b[0;34m,\u001b[0m \u001b[0mgen\u001b[0m\u001b[0;34m=\u001b[0m\u001b[0;32mFalse\u001b[0m\u001b[0;34m,\u001b[0m \u001b[0;34m**\u001b[0m\u001b[0mkwargs\u001b[0m\u001b[0;34m)\u001b[0m\u001b[0;34m:\u001b[0m \u001b[0;32mreturn\u001b[0m \u001b[0mself\u001b[0m\u001b[0;34m.\u001b[0m\u001b[0m_new\u001b[0m\u001b[0;34m(\u001b[0m\u001b[0mmap_ex\u001b[0m\u001b[0;34m(\u001b[0m\u001b[0mself\u001b[0m\u001b[0;34m,\u001b[0m \u001b[0mf\u001b[0m\u001b[0;34m,\u001b[0m \u001b[0;34m*\u001b[0m\u001b[0margs\u001b[0m\u001b[0;34m,\u001b[0m \u001b[0mgen\u001b[0m\u001b[0;34m=\u001b[0m\u001b[0mgen\u001b[0m\u001b[0;34m,\u001b[0m \u001b[0;34m**\u001b[0m\u001b[0mkwargs\u001b[0m\u001b[0;34m)\u001b[0m\u001b[0;34m)\u001b[0m\u001b[0;34m\u001b[0m\u001b[0;34m\u001b[0m\u001b[0m\n\u001b[0m\u001b[1;32m    156\u001b[0m     \u001b[0;32mdef\u001b[0m \u001b[0margwhere\u001b[0m\u001b[0;34m(\u001b[0m\u001b[0mself\u001b[0m\u001b[0;34m,\u001b[0m \u001b[0mf\u001b[0m\u001b[0;34m,\u001b[0m \u001b[0mnegate\u001b[0m\u001b[0;34m=\u001b[0m\u001b[0;32mFalse\u001b[0m\u001b[0;34m,\u001b[0m \u001b[0;34m**\u001b[0m\u001b[0mkwargs\u001b[0m\u001b[0;34m)\u001b[0m\u001b[0;34m:\u001b[0m \u001b[0;32mreturn\u001b[0m \u001b[0mself\u001b[0m\u001b[0;34m.\u001b[0m\u001b[0m_new\u001b[0m\u001b[0;34m(\u001b[0m\u001b[0margwhere\u001b[0m\u001b[0;34m(\u001b[0m\u001b[0mself\u001b[0m\u001b[0;34m,\u001b[0m \u001b[0mf\u001b[0m\u001b[0;34m,\u001b[0m \u001b[0mnegate\u001b[0m\u001b[0;34m,\u001b[0m \u001b[0;34m**\u001b[0m\u001b[0mkwargs\u001b[0m\u001b[0;34m)\u001b[0m\u001b[0;34m)\u001b[0m\u001b[0;34m\u001b[0m\u001b[0;34m\u001b[0m\u001b[0m\n\u001b[1;32m    157\u001b[0m     \u001b[0;32mdef\u001b[0m \u001b[0margfirst\u001b[0m\u001b[0;34m(\u001b[0m\u001b[0mself\u001b[0m\u001b[0;34m,\u001b[0m \u001b[0mf\u001b[0m\u001b[0;34m,\u001b[0m \u001b[0mnegate\u001b[0m\u001b[0;34m=\u001b[0m\u001b[0;32mFalse\u001b[0m\u001b[0;34m)\u001b[0m\u001b[0;34m:\u001b[0m \u001b[0;32mreturn\u001b[0m \u001b[0mfirst\u001b[0m\u001b[0;34m(\u001b[0m\u001b[0mi\u001b[0m \u001b[0;32mfor\u001b[0m \u001b[0mi\u001b[0m\u001b[0;34m,\u001b[0m\u001b[0mo\u001b[0m \u001b[0;32min\u001b[0m \u001b[0mself\u001b[0m\u001b[0;34m.\u001b[0m\u001b[0menumerate\u001b[0m\u001b[0;34m(\u001b[0m\u001b[0;34m)\u001b[0m \u001b[0;32mif\u001b[0m \u001b[0mf\u001b[0m\u001b[0;34m(\u001b[0m\u001b[0mo\u001b[0m\u001b[0;34m)\u001b[0m\u001b[0;34m)\u001b[0m\u001b[0;34m\u001b[0m\u001b[0;34m\u001b[0m\u001b[0m\n",
      "\u001b[0;32m~/miniconda3/envs/pt10/lib/python3.8/site-packages/fastcore/basics.py\u001b[0m in \u001b[0;36mmap_ex\u001b[0;34m(iterable, f, gen, *args, **kwargs)\u001b[0m\n\u001b[1;32m    777\u001b[0m     \u001b[0mres\u001b[0m \u001b[0;34m=\u001b[0m \u001b[0mmap\u001b[0m\u001b[0;34m(\u001b[0m\u001b[0mg\u001b[0m\u001b[0;34m,\u001b[0m \u001b[0miterable\u001b[0m\u001b[0;34m)\u001b[0m\u001b[0;34m\u001b[0m\u001b[0;34m\u001b[0m\u001b[0m\n\u001b[1;32m    778\u001b[0m     \u001b[0;32mif\u001b[0m \u001b[0mgen\u001b[0m\u001b[0;34m:\u001b[0m \u001b[0;32mreturn\u001b[0m \u001b[0mres\u001b[0m\u001b[0;34m\u001b[0m\u001b[0;34m\u001b[0m\u001b[0m\n\u001b[0;32m--> 779\u001b[0;31m     \u001b[0;32mreturn\u001b[0m \u001b[0mlist\u001b[0m\u001b[0;34m(\u001b[0m\u001b[0mres\u001b[0m\u001b[0;34m)\u001b[0m\u001b[0;34m\u001b[0m\u001b[0;34m\u001b[0m\u001b[0m\n\u001b[0m\u001b[1;32m    780\u001b[0m \u001b[0;34m\u001b[0m\u001b[0m\n\u001b[1;32m    781\u001b[0m \u001b[0;31m# Cell\u001b[0m\u001b[0;34m\u001b[0m\u001b[0;34m\u001b[0m\u001b[0;34m\u001b[0m\u001b[0m\n",
      "\u001b[0;32m~/miniconda3/envs/pt10/lib/python3.8/site-packages/fastcore/basics.py\u001b[0m in \u001b[0;36m__call__\u001b[0;34m(self, *args, **kwargs)\u001b[0m\n\u001b[1;32m    762\u001b[0m             \u001b[0;32mif\u001b[0m \u001b[0misinstance\u001b[0m\u001b[0;34m(\u001b[0m\u001b[0mv\u001b[0m\u001b[0;34m,\u001b[0m\u001b[0m_Arg\u001b[0m\u001b[0;34m)\u001b[0m\u001b[0;34m:\u001b[0m \u001b[0mkwargs\u001b[0m\u001b[0;34m[\u001b[0m\u001b[0mk\u001b[0m\u001b[0;34m]\u001b[0m \u001b[0;34m=\u001b[0m \u001b[0margs\u001b[0m\u001b[0;34m.\u001b[0m\u001b[0mpop\u001b[0m\u001b[0;34m(\u001b[0m\u001b[0mv\u001b[0m\u001b[0;34m.\u001b[0m\u001b[0mi\u001b[0m\u001b[0;34m)\u001b[0m\u001b[0;34m\u001b[0m\u001b[0;34m\u001b[0m\u001b[0m\n\u001b[1;32m    763\u001b[0m         \u001b[0mfargs\u001b[0m \u001b[0;34m=\u001b[0m \u001b[0;34m[\u001b[0m\u001b[0margs\u001b[0m\u001b[0;34m[\u001b[0m\u001b[0mx\u001b[0m\u001b[0;34m.\u001b[0m\u001b[0mi\u001b[0m\u001b[0;34m]\u001b[0m \u001b[0;32mif\u001b[0m \u001b[0misinstance\u001b[0m\u001b[0;34m(\u001b[0m\u001b[0mx\u001b[0m\u001b[0;34m,\u001b[0m \u001b[0m_Arg\u001b[0m\u001b[0;34m)\u001b[0m \u001b[0;32melse\u001b[0m \u001b[0mx\u001b[0m \u001b[0;32mfor\u001b[0m \u001b[0mx\u001b[0m \u001b[0;32min\u001b[0m \u001b[0mself\u001b[0m\u001b[0;34m.\u001b[0m\u001b[0mpargs\u001b[0m\u001b[0;34m]\u001b[0m \u001b[0;34m+\u001b[0m \u001b[0margs\u001b[0m\u001b[0;34m[\u001b[0m\u001b[0mself\u001b[0m\u001b[0;34m.\u001b[0m\u001b[0mmaxi\u001b[0m\u001b[0;34m+\u001b[0m\u001b[0;36m1\u001b[0m\u001b[0;34m:\u001b[0m\u001b[0;34m]\u001b[0m\u001b[0;34m\u001b[0m\u001b[0;34m\u001b[0m\u001b[0m\n\u001b[0;32m--> 764\u001b[0;31m         \u001b[0;32mreturn\u001b[0m \u001b[0mself\u001b[0m\u001b[0;34m.\u001b[0m\u001b[0mfunc\u001b[0m\u001b[0;34m(\u001b[0m\u001b[0;34m*\u001b[0m\u001b[0mfargs\u001b[0m\u001b[0;34m,\u001b[0m \u001b[0;34m**\u001b[0m\u001b[0mkwargs\u001b[0m\u001b[0;34m)\u001b[0m\u001b[0;34m\u001b[0m\u001b[0;34m\u001b[0m\u001b[0m\n\u001b[0m\u001b[1;32m    765\u001b[0m \u001b[0;34m\u001b[0m\u001b[0m\n\u001b[1;32m    766\u001b[0m \u001b[0;31m# Cell\u001b[0m\u001b[0;34m\u001b[0m\u001b[0;34m\u001b[0m\u001b[0;34m\u001b[0m\u001b[0m\n",
      "\u001b[0;32m~/miniconda3/envs/pt10/lib/python3.8/site-packages/fastai/learner.py\u001b[0m in \u001b[0;36m_call_one\u001b[0;34m(self, event_name)\u001b[0m\n\u001b[1;32m    144\u001b[0m     \u001b[0;32mdef\u001b[0m \u001b[0m_call_one\u001b[0m\u001b[0;34m(\u001b[0m\u001b[0mself\u001b[0m\u001b[0;34m,\u001b[0m \u001b[0mevent_name\u001b[0m\u001b[0;34m)\u001b[0m\u001b[0;34m:\u001b[0m\u001b[0;34m\u001b[0m\u001b[0;34m\u001b[0m\u001b[0m\n\u001b[1;32m    145\u001b[0m         \u001b[0;32mif\u001b[0m \u001b[0;32mnot\u001b[0m \u001b[0mhasattr\u001b[0m\u001b[0;34m(\u001b[0m\u001b[0mevent\u001b[0m\u001b[0;34m,\u001b[0m \u001b[0mevent_name\u001b[0m\u001b[0;34m)\u001b[0m\u001b[0;34m:\u001b[0m \u001b[0;32mraise\u001b[0m \u001b[0mException\u001b[0m\u001b[0;34m(\u001b[0m\u001b[0;34mf'missing {event_name}'\u001b[0m\u001b[0;34m)\u001b[0m\u001b[0;34m\u001b[0m\u001b[0;34m\u001b[0m\u001b[0m\n\u001b[0;32m--> 146\u001b[0;31m         \u001b[0;32mfor\u001b[0m \u001b[0mcb\u001b[0m \u001b[0;32min\u001b[0m \u001b[0mself\u001b[0m\u001b[0;34m.\u001b[0m\u001b[0mcbs\u001b[0m\u001b[0;34m.\u001b[0m\u001b[0msorted\u001b[0m\u001b[0;34m(\u001b[0m\u001b[0;34m'order'\u001b[0m\u001b[0;34m)\u001b[0m\u001b[0;34m:\u001b[0m \u001b[0mcb\u001b[0m\u001b[0;34m(\u001b[0m\u001b[0mevent_name\u001b[0m\u001b[0;34m)\u001b[0m\u001b[0;34m\u001b[0m\u001b[0;34m\u001b[0m\u001b[0m\n\u001b[0m\u001b[1;32m    147\u001b[0m \u001b[0;34m\u001b[0m\u001b[0m\n\u001b[1;32m    148\u001b[0m     \u001b[0;32mdef\u001b[0m \u001b[0m_bn_bias_state\u001b[0m\u001b[0;34m(\u001b[0m\u001b[0mself\u001b[0m\u001b[0;34m,\u001b[0m \u001b[0mwith_bias\u001b[0m\u001b[0;34m)\u001b[0m\u001b[0;34m:\u001b[0m \u001b[0;32mreturn\u001b[0m \u001b[0mnorm_bias_params\u001b[0m\u001b[0;34m(\u001b[0m\u001b[0mself\u001b[0m\u001b[0;34m.\u001b[0m\u001b[0mmodel\u001b[0m\u001b[0;34m,\u001b[0m \u001b[0mwith_bias\u001b[0m\u001b[0;34m)\u001b[0m\u001b[0;34m.\u001b[0m\u001b[0mmap\u001b[0m\u001b[0;34m(\u001b[0m\u001b[0mself\u001b[0m\u001b[0;34m.\u001b[0m\u001b[0mopt\u001b[0m\u001b[0;34m.\u001b[0m\u001b[0mstate\u001b[0m\u001b[0;34m)\u001b[0m\u001b[0;34m\u001b[0m\u001b[0;34m\u001b[0m\u001b[0m\n",
      "\u001b[0;32m~/miniconda3/envs/pt10/lib/python3.8/site-packages/fastai/callback/core.py\u001b[0m in \u001b[0;36m__call__\u001b[0;34m(self, event_name)\u001b[0m\n\u001b[1;32m     55\u001b[0m         \u001b[0mres\u001b[0m \u001b[0;34m=\u001b[0m \u001b[0;32mNone\u001b[0m\u001b[0;34m\u001b[0m\u001b[0;34m\u001b[0m\u001b[0m\n\u001b[1;32m     56\u001b[0m         \u001b[0;32mif\u001b[0m \u001b[0mself\u001b[0m\u001b[0;34m.\u001b[0m\u001b[0mrun\u001b[0m \u001b[0;32mand\u001b[0m \u001b[0m_run\u001b[0m\u001b[0;34m:\u001b[0m\u001b[0;34m\u001b[0m\u001b[0;34m\u001b[0m\u001b[0m\n\u001b[0;32m---> 57\u001b[0;31m             \u001b[0;32mtry\u001b[0m\u001b[0;34m:\u001b[0m \u001b[0mres\u001b[0m \u001b[0;34m=\u001b[0m \u001b[0mgetattr\u001b[0m\u001b[0;34m(\u001b[0m\u001b[0mself\u001b[0m\u001b[0;34m,\u001b[0m \u001b[0mevent_name\u001b[0m\u001b[0;34m,\u001b[0m \u001b[0mnoop\u001b[0m\u001b[0;34m)\u001b[0m\u001b[0;34m(\u001b[0m\u001b[0;34m)\u001b[0m\u001b[0;34m\u001b[0m\u001b[0;34m\u001b[0m\u001b[0m\n\u001b[0m\u001b[1;32m     58\u001b[0m             \u001b[0;32mexcept\u001b[0m \u001b[0;34m(\u001b[0m\u001b[0mCancelBatchException\u001b[0m\u001b[0;34m,\u001b[0m \u001b[0mCancelEpochException\u001b[0m\u001b[0;34m,\u001b[0m \u001b[0mCancelFitException\u001b[0m\u001b[0;34m,\u001b[0m \u001b[0mCancelStepException\u001b[0m\u001b[0;34m,\u001b[0m \u001b[0mCancelTrainException\u001b[0m\u001b[0;34m,\u001b[0m \u001b[0mCancelValidException\u001b[0m\u001b[0;34m)\u001b[0m\u001b[0;34m:\u001b[0m \u001b[0;32mraise\u001b[0m\u001b[0;34m\u001b[0m\u001b[0;34m\u001b[0m\u001b[0m\n\u001b[1;32m     59\u001b[0m             \u001b[0;32mexcept\u001b[0m \u001b[0mException\u001b[0m \u001b[0;32mas\u001b[0m \u001b[0me\u001b[0m\u001b[0;34m:\u001b[0m\u001b[0;34m\u001b[0m\u001b[0;34m\u001b[0m\u001b[0m\n",
      "\u001b[0;32m~/miniconda3/envs/pt10/lib/python3.8/site-packages/fastai/callback/fp16.py\u001b[0m in \u001b[0;36mafter_pred\u001b[0;34m(self)\u001b[0m\n\u001b[1;32m     21\u001b[0m     \u001b[0;32mdef\u001b[0m \u001b[0mbefore_batch\u001b[0m\u001b[0;34m(\u001b[0m\u001b[0mself\u001b[0m\u001b[0;34m)\u001b[0m\u001b[0;34m:\u001b[0m \u001b[0mself\u001b[0m\u001b[0;34m.\u001b[0m\u001b[0mautocast\u001b[0m\u001b[0;34m.\u001b[0m\u001b[0m__enter__\u001b[0m\u001b[0;34m(\u001b[0m\u001b[0;34m)\u001b[0m\u001b[0;34m\u001b[0m\u001b[0;34m\u001b[0m\u001b[0m\n\u001b[1;32m     22\u001b[0m     \u001b[0;32mdef\u001b[0m \u001b[0mafter_pred\u001b[0m\u001b[0;34m(\u001b[0m\u001b[0mself\u001b[0m\u001b[0;34m)\u001b[0m\u001b[0;34m:\u001b[0m\u001b[0;34m\u001b[0m\u001b[0;34m\u001b[0m\u001b[0m\n\u001b[0;32m---> 23\u001b[0;31m         \u001b[0;32mif\u001b[0m \u001b[0mnext\u001b[0m\u001b[0;34m(\u001b[0m\u001b[0mflatten\u001b[0m\u001b[0;34m(\u001b[0m\u001b[0mself\u001b[0m\u001b[0;34m.\u001b[0m\u001b[0mpred\u001b[0m\u001b[0;34m)\u001b[0m\u001b[0;34m)\u001b[0m\u001b[0;34m.\u001b[0m\u001b[0mdtype\u001b[0m\u001b[0;34m==\u001b[0m\u001b[0mtorch\u001b[0m\u001b[0;34m.\u001b[0m\u001b[0mfloat16\u001b[0m\u001b[0;34m:\u001b[0m \u001b[0mself\u001b[0m\u001b[0;34m.\u001b[0m\u001b[0mlearn\u001b[0m\u001b[0;34m.\u001b[0m\u001b[0mpred\u001b[0m \u001b[0;34m=\u001b[0m \u001b[0mto_float\u001b[0m\u001b[0;34m(\u001b[0m\u001b[0mself\u001b[0m\u001b[0;34m.\u001b[0m\u001b[0mpred\u001b[0m\u001b[0;34m)\u001b[0m\u001b[0;34m\u001b[0m\u001b[0;34m\u001b[0m\u001b[0m\n\u001b[0m\u001b[1;32m     24\u001b[0m     \u001b[0;32mdef\u001b[0m \u001b[0mafter_loss\u001b[0m\u001b[0;34m(\u001b[0m\u001b[0mself\u001b[0m\u001b[0;34m)\u001b[0m\u001b[0;34m:\u001b[0m \u001b[0mself\u001b[0m\u001b[0;34m.\u001b[0m\u001b[0mautocast\u001b[0m\u001b[0;34m.\u001b[0m\u001b[0m__exit__\u001b[0m\u001b[0;34m(\u001b[0m\u001b[0;32mNone\u001b[0m\u001b[0;34m,\u001b[0m \u001b[0;32mNone\u001b[0m\u001b[0;34m,\u001b[0m \u001b[0;32mNone\u001b[0m\u001b[0;34m)\u001b[0m\u001b[0;34m\u001b[0m\u001b[0;34m\u001b[0m\u001b[0m\n\u001b[1;32m     25\u001b[0m     \u001b[0;32mdef\u001b[0m \u001b[0mbefore_backward\u001b[0m\u001b[0;34m(\u001b[0m\u001b[0mself\u001b[0m\u001b[0;34m)\u001b[0m\u001b[0;34m:\u001b[0m \u001b[0mself\u001b[0m\u001b[0;34m.\u001b[0m\u001b[0mlearn\u001b[0m\u001b[0;34m.\u001b[0m\u001b[0mloss_grad\u001b[0m \u001b[0;34m=\u001b[0m \u001b[0mself\u001b[0m\u001b[0;34m.\u001b[0m\u001b[0mscaler\u001b[0m\u001b[0;34m.\u001b[0m\u001b[0mscale\u001b[0m\u001b[0;34m(\u001b[0m\u001b[0mself\u001b[0m\u001b[0;34m.\u001b[0m\u001b[0mloss_grad\u001b[0m\u001b[0;34m)\u001b[0m\u001b[0;34m\u001b[0m\u001b[0;34m\u001b[0m\u001b[0m\n",
      "\u001b[0;32m~/miniconda3/envs/pt10/lib/python3.8/site-packages/fastcore/basics.py\u001b[0m in \u001b[0;36mflatten\u001b[0;34m(o)\u001b[0m\n\u001b[1;32m    490\u001b[0m     \u001b[0;34m\"Concatenate all collections and items as a generator\"\u001b[0m\u001b[0;34m\u001b[0m\u001b[0;34m\u001b[0m\u001b[0m\n\u001b[1;32m    491\u001b[0m     \u001b[0;32mfor\u001b[0m \u001b[0mitem\u001b[0m \u001b[0;32min\u001b[0m \u001b[0mo\u001b[0m\u001b[0;34m:\u001b[0m\u001b[0;34m\u001b[0m\u001b[0;34m\u001b[0m\u001b[0m\n\u001b[0;32m--> 492\u001b[0;31m         \u001b[0;32mtry\u001b[0m\u001b[0;34m:\u001b[0m \u001b[0;32myield\u001b[0m \u001b[0;32mfrom\u001b[0m \u001b[0mflatten\u001b[0m\u001b[0;34m(\u001b[0m\u001b[0mitem\u001b[0m\u001b[0;34m)\u001b[0m\u001b[0;34m\u001b[0m\u001b[0;34m\u001b[0m\u001b[0m\n\u001b[0m\u001b[1;32m    493\u001b[0m         \u001b[0;32mexcept\u001b[0m \u001b[0mTypeError\u001b[0m\u001b[0;34m:\u001b[0m \u001b[0;32myield\u001b[0m \u001b[0mitem\u001b[0m\u001b[0;34m\u001b[0m\u001b[0;34m\u001b[0m\u001b[0m\n\u001b[1;32m    494\u001b[0m \u001b[0;34m\u001b[0m\u001b[0m\n",
      "\u001b[0;32m~/miniconda3/envs/pt10/lib/python3.8/site-packages/fastcore/basics.py\u001b[0m in \u001b[0;36mflatten\u001b[0;34m(o)\u001b[0m\n\u001b[1;32m    490\u001b[0m     \u001b[0;34m\"Concatenate all collections and items as a generator\"\u001b[0m\u001b[0;34m\u001b[0m\u001b[0;34m\u001b[0m\u001b[0m\n\u001b[1;32m    491\u001b[0m     \u001b[0;32mfor\u001b[0m \u001b[0mitem\u001b[0m \u001b[0;32min\u001b[0m \u001b[0mo\u001b[0m\u001b[0;34m:\u001b[0m\u001b[0;34m\u001b[0m\u001b[0;34m\u001b[0m\u001b[0m\n\u001b[0;32m--> 492\u001b[0;31m         \u001b[0;32mtry\u001b[0m\u001b[0;34m:\u001b[0m \u001b[0;32myield\u001b[0m \u001b[0;32mfrom\u001b[0m \u001b[0mflatten\u001b[0m\u001b[0;34m(\u001b[0m\u001b[0mitem\u001b[0m\u001b[0;34m)\u001b[0m\u001b[0;34m\u001b[0m\u001b[0;34m\u001b[0m\u001b[0m\n\u001b[0m\u001b[1;32m    493\u001b[0m         \u001b[0;32mexcept\u001b[0m \u001b[0mTypeError\u001b[0m\u001b[0;34m:\u001b[0m \u001b[0;32myield\u001b[0m \u001b[0mitem\u001b[0m\u001b[0;34m\u001b[0m\u001b[0;34m\u001b[0m\u001b[0m\n\u001b[1;32m    494\u001b[0m \u001b[0;34m\u001b[0m\u001b[0m\n",
      "\u001b[0;32m~/miniconda3/envs/pt10/lib/python3.8/site-packages/fastcore/basics.py\u001b[0m in \u001b[0;36mflatten\u001b[0;34m(o)\u001b[0m\n\u001b[1;32m    489\u001b[0m \u001b[0;32mdef\u001b[0m \u001b[0mflatten\u001b[0m\u001b[0;34m(\u001b[0m\u001b[0mo\u001b[0m\u001b[0;34m)\u001b[0m\u001b[0;34m:\u001b[0m\u001b[0;34m\u001b[0m\u001b[0;34m\u001b[0m\u001b[0m\n\u001b[1;32m    490\u001b[0m     \u001b[0;34m\"Concatenate all collections and items as a generator\"\u001b[0m\u001b[0;34m\u001b[0m\u001b[0;34m\u001b[0m\u001b[0m\n\u001b[0;32m--> 491\u001b[0;31m     \u001b[0;32mfor\u001b[0m \u001b[0mitem\u001b[0m \u001b[0;32min\u001b[0m \u001b[0mo\u001b[0m\u001b[0;34m:\u001b[0m\u001b[0;34m\u001b[0m\u001b[0;34m\u001b[0m\u001b[0m\n\u001b[0m\u001b[1;32m    492\u001b[0m         \u001b[0;32mtry\u001b[0m\u001b[0;34m:\u001b[0m \u001b[0;32myield\u001b[0m \u001b[0;32mfrom\u001b[0m \u001b[0mflatten\u001b[0m\u001b[0;34m(\u001b[0m\u001b[0mitem\u001b[0m\u001b[0;34m)\u001b[0m\u001b[0;34m\u001b[0m\u001b[0;34m\u001b[0m\u001b[0m\n\u001b[1;32m    493\u001b[0m         \u001b[0;32mexcept\u001b[0m \u001b[0mTypeError\u001b[0m\u001b[0;34m:\u001b[0m \u001b[0;32myield\u001b[0m \u001b[0mitem\u001b[0m\u001b[0;34m\u001b[0m\u001b[0;34m\u001b[0m\u001b[0m\n",
      "\u001b[0;32m~/miniconda3/envs/pt10/lib/python3.8/site-packages/torch/_tensor.py\u001b[0m in \u001b[0;36m__iter__\u001b[0;34m(self)\u001b[0m\n\u001b[1;32m    646\u001b[0m                           \u001b[0;34m'iterations executed (and might lead to errors or silently give '\u001b[0m\u001b[0;34m\u001b[0m\u001b[0;34m\u001b[0m\u001b[0m\n\u001b[1;32m    647\u001b[0m                           'incorrect results).', category=torch.jit.TracerWarning, stacklevel=2)\n\u001b[0;32m--> 648\u001b[0;31m         \u001b[0;32mreturn\u001b[0m \u001b[0miter\u001b[0m\u001b[0;34m(\u001b[0m\u001b[0mself\u001b[0m\u001b[0;34m.\u001b[0m\u001b[0munbind\u001b[0m\u001b[0;34m(\u001b[0m\u001b[0;36m0\u001b[0m\u001b[0;34m)\u001b[0m\u001b[0;34m)\u001b[0m\u001b[0;34m\u001b[0m\u001b[0;34m\u001b[0m\u001b[0m\n\u001b[0m\u001b[1;32m    649\u001b[0m \u001b[0;34m\u001b[0m\u001b[0m\n\u001b[1;32m    650\u001b[0m     \u001b[0;32mdef\u001b[0m \u001b[0m__hash__\u001b[0m\u001b[0;34m(\u001b[0m\u001b[0mself\u001b[0m\u001b[0;34m)\u001b[0m\u001b[0;34m:\u001b[0m\u001b[0;34m\u001b[0m\u001b[0;34m\u001b[0m\u001b[0m\n",
      "\u001b[0;32m~/miniconda3/envs/pt10/lib/python3.8/site-packages/fastai/torch_core.py\u001b[0m in \u001b[0;36m__torch_function__\u001b[0;34m(self, func, types, args, kwargs)\u001b[0m\n\u001b[1;32m    339\u001b[0m         \u001b[0mconvert\u001b[0m\u001b[0;34m=\u001b[0m\u001b[0;32mFalse\u001b[0m\u001b[0;34m\u001b[0m\u001b[0;34m\u001b[0m\u001b[0m\n\u001b[1;32m    340\u001b[0m         \u001b[0;32mif\u001b[0m \u001b[0m_torch_handled\u001b[0m\u001b[0;34m(\u001b[0m\u001b[0margs\u001b[0m\u001b[0;34m,\u001b[0m \u001b[0mself\u001b[0m\u001b[0;34m.\u001b[0m\u001b[0m_opt\u001b[0m\u001b[0;34m,\u001b[0m \u001b[0mfunc\u001b[0m\u001b[0;34m)\u001b[0m\u001b[0;34m:\u001b[0m \u001b[0mconvert\u001b[0m\u001b[0;34m,\u001b[0m\u001b[0mtypes\u001b[0m \u001b[0;34m=\u001b[0m \u001b[0mtype\u001b[0m\u001b[0;34m(\u001b[0m\u001b[0mself\u001b[0m\u001b[0;34m)\u001b[0m\u001b[0;34m,\u001b[0m\u001b[0;34m(\u001b[0m\u001b[0mtorch\u001b[0m\u001b[0;34m.\u001b[0m\u001b[0mTensor\u001b[0m\u001b[0;34m,\u001b[0m\u001b[0;34m)\u001b[0m\u001b[0;34m\u001b[0m\u001b[0;34m\u001b[0m\u001b[0m\n\u001b[0;32m--> 341\u001b[0;31m         \u001b[0mres\u001b[0m \u001b[0;34m=\u001b[0m \u001b[0msuper\u001b[0m\u001b[0;34m(\u001b[0m\u001b[0;34m)\u001b[0m\u001b[0;34m.\u001b[0m\u001b[0m__torch_function__\u001b[0m\u001b[0;34m(\u001b[0m\u001b[0mfunc\u001b[0m\u001b[0;34m,\u001b[0m \u001b[0mtypes\u001b[0m\u001b[0;34m,\u001b[0m \u001b[0margs\u001b[0m\u001b[0;34m=\u001b[0m\u001b[0margs\u001b[0m\u001b[0;34m,\u001b[0m \u001b[0mkwargs\u001b[0m\u001b[0;34m=\u001b[0m\u001b[0mkwargs\u001b[0m\u001b[0;34m)\u001b[0m\u001b[0;34m\u001b[0m\u001b[0;34m\u001b[0m\u001b[0m\n\u001b[0m\u001b[1;32m    342\u001b[0m         \u001b[0;32mif\u001b[0m \u001b[0mconvert\u001b[0m\u001b[0;34m:\u001b[0m \u001b[0mres\u001b[0m \u001b[0;34m=\u001b[0m \u001b[0mconvert\u001b[0m\u001b[0;34m(\u001b[0m\u001b[0mres\u001b[0m\u001b[0;34m)\u001b[0m\u001b[0;34m\u001b[0m\u001b[0;34m\u001b[0m\u001b[0m\n\u001b[1;32m    343\u001b[0m         \u001b[0;32mif\u001b[0m \u001b[0misinstance\u001b[0m\u001b[0;34m(\u001b[0m\u001b[0mres\u001b[0m\u001b[0;34m,\u001b[0m \u001b[0mTensorBase\u001b[0m\u001b[0;34m)\u001b[0m\u001b[0;34m:\u001b[0m \u001b[0mres\u001b[0m\u001b[0;34m.\u001b[0m\u001b[0mset_meta\u001b[0m\u001b[0;34m(\u001b[0m\u001b[0mself\u001b[0m\u001b[0;34m,\u001b[0m \u001b[0mas_copy\u001b[0m\u001b[0;34m=\u001b[0m\u001b[0;32mTrue\u001b[0m\u001b[0;34m)\u001b[0m\u001b[0;34m\u001b[0m\u001b[0;34m\u001b[0m\u001b[0m\n",
      "\u001b[0;32m~/miniconda3/envs/pt10/lib/python3.8/site-packages/torch/_tensor.py\u001b[0m in \u001b[0;36m__torch_function__\u001b[0;34m(cls, func, types, args, kwargs)\u001b[0m\n\u001b[1;32m   1053\u001b[0m                 \u001b[0;32mreturn\u001b[0m \u001b[0mret\u001b[0m\u001b[0;34m\u001b[0m\u001b[0;34m\u001b[0m\u001b[0m\n\u001b[1;32m   1054\u001b[0m             \u001b[0;32melse\u001b[0m\u001b[0;34m:\u001b[0m\u001b[0;34m\u001b[0m\u001b[0;34m\u001b[0m\u001b[0m\n\u001b[0;32m-> 1055\u001b[0;31m                 \u001b[0;32mreturn\u001b[0m \u001b[0m_convert\u001b[0m\u001b[0;34m(\u001b[0m\u001b[0mret\u001b[0m\u001b[0;34m,\u001b[0m \u001b[0mcls\u001b[0m\u001b[0;34m)\u001b[0m\u001b[0;34m\u001b[0m\u001b[0;34m\u001b[0m\u001b[0m\n\u001b[0m\u001b[1;32m   1056\u001b[0m \u001b[0;34m\u001b[0m\u001b[0m\n\u001b[1;32m   1057\u001b[0m     \u001b[0;32mdef\u001b[0m \u001b[0m__dlpack__\u001b[0m\u001b[0;34m(\u001b[0m\u001b[0mself\u001b[0m\u001b[0;34m,\u001b[0m \u001b[0mstream\u001b[0m\u001b[0;34m=\u001b[0m\u001b[0;32mNone\u001b[0m\u001b[0;34m)\u001b[0m\u001b[0;34m:\u001b[0m\u001b[0;34m\u001b[0m\u001b[0;34m\u001b[0m\u001b[0m\n",
      "\u001b[0;32m~/miniconda3/envs/pt10/lib/python3.8/site-packages/torch/_tensor.py\u001b[0m in \u001b[0;36m_convert\u001b[0;34m(ret, cls)\u001b[0m\n\u001b[1;32m   1127\u001b[0m     \u001b[0;32mif\u001b[0m \u001b[0misinstance\u001b[0m\u001b[0;34m(\u001b[0m\u001b[0mret\u001b[0m\u001b[0;34m,\u001b[0m \u001b[0;34m(\u001b[0m\u001b[0mtuple\u001b[0m\u001b[0;34m,\u001b[0m \u001b[0mlist\u001b[0m\u001b[0;34m)\u001b[0m\u001b[0;34m)\u001b[0m\u001b[0;34m:\u001b[0m\u001b[0;34m\u001b[0m\u001b[0;34m\u001b[0m\u001b[0m\n\u001b[1;32m   1128\u001b[0m         \u001b[0;31m# Also handles things like namedtuples\u001b[0m\u001b[0;34m\u001b[0m\u001b[0;34m\u001b[0m\u001b[0;34m\u001b[0m\u001b[0m\n\u001b[0;32m-> 1129\u001b[0;31m         \u001b[0mret\u001b[0m \u001b[0;34m=\u001b[0m \u001b[0mtype\u001b[0m\u001b[0;34m(\u001b[0m\u001b[0mret\u001b[0m\u001b[0;34m)\u001b[0m\u001b[0;34m(\u001b[0m\u001b[0m_convert\u001b[0m\u001b[0;34m(\u001b[0m\u001b[0mr\u001b[0m\u001b[0;34m,\u001b[0m \u001b[0mcls\u001b[0m\u001b[0;34m)\u001b[0m \u001b[0;32mfor\u001b[0m \u001b[0mr\u001b[0m \u001b[0;32min\u001b[0m \u001b[0mret\u001b[0m\u001b[0;34m)\u001b[0m\u001b[0;34m\u001b[0m\u001b[0;34m\u001b[0m\u001b[0m\n\u001b[0m\u001b[1;32m   1130\u001b[0m \u001b[0;34m\u001b[0m\u001b[0m\n\u001b[1;32m   1131\u001b[0m     \u001b[0;32mreturn\u001b[0m \u001b[0mret\u001b[0m\u001b[0;34m\u001b[0m\u001b[0;34m\u001b[0m\u001b[0m\n",
      "\u001b[0;32m~/miniconda3/envs/pt10/lib/python3.8/site-packages/torch/_tensor.py\u001b[0m in \u001b[0;36m<genexpr>\u001b[0;34m(.0)\u001b[0m\n\u001b[1;32m   1127\u001b[0m     \u001b[0;32mif\u001b[0m \u001b[0misinstance\u001b[0m\u001b[0;34m(\u001b[0m\u001b[0mret\u001b[0m\u001b[0;34m,\u001b[0m \u001b[0;34m(\u001b[0m\u001b[0mtuple\u001b[0m\u001b[0;34m,\u001b[0m \u001b[0mlist\u001b[0m\u001b[0;34m)\u001b[0m\u001b[0;34m)\u001b[0m\u001b[0;34m:\u001b[0m\u001b[0;34m\u001b[0m\u001b[0;34m\u001b[0m\u001b[0m\n\u001b[1;32m   1128\u001b[0m         \u001b[0;31m# Also handles things like namedtuples\u001b[0m\u001b[0;34m\u001b[0m\u001b[0;34m\u001b[0m\u001b[0;34m\u001b[0m\u001b[0m\n\u001b[0;32m-> 1129\u001b[0;31m         \u001b[0mret\u001b[0m \u001b[0;34m=\u001b[0m \u001b[0mtype\u001b[0m\u001b[0;34m(\u001b[0m\u001b[0mret\u001b[0m\u001b[0;34m)\u001b[0m\u001b[0;34m(\u001b[0m\u001b[0m_convert\u001b[0m\u001b[0;34m(\u001b[0m\u001b[0mr\u001b[0m\u001b[0;34m,\u001b[0m \u001b[0mcls\u001b[0m\u001b[0;34m)\u001b[0m \u001b[0;32mfor\u001b[0m \u001b[0mr\u001b[0m \u001b[0;32min\u001b[0m \u001b[0mret\u001b[0m\u001b[0;34m)\u001b[0m\u001b[0;34m\u001b[0m\u001b[0;34m\u001b[0m\u001b[0m\n\u001b[0m\u001b[1;32m   1130\u001b[0m \u001b[0;34m\u001b[0m\u001b[0m\n\u001b[1;32m   1131\u001b[0m     \u001b[0;32mreturn\u001b[0m \u001b[0mret\u001b[0m\u001b[0;34m\u001b[0m\u001b[0;34m\u001b[0m\u001b[0m\n",
      "\u001b[0;32m~/miniconda3/envs/pt10/lib/python3.8/site-packages/torch/_tensor.py\u001b[0m in \u001b[0;36m_convert\u001b[0;34m(ret, cls)\u001b[0m\n\u001b[1;32m   1123\u001b[0m \u001b[0;34m\u001b[0m\u001b[0m\n\u001b[1;32m   1124\u001b[0m     \u001b[0;32mif\u001b[0m \u001b[0misinstance\u001b[0m\u001b[0;34m(\u001b[0m\u001b[0mret\u001b[0m\u001b[0;34m,\u001b[0m \u001b[0mTensor\u001b[0m\u001b[0;34m)\u001b[0m \u001b[0;32mand\u001b[0m \u001b[0;32mnot\u001b[0m \u001b[0misinstance\u001b[0m\u001b[0;34m(\u001b[0m\u001b[0mret\u001b[0m\u001b[0;34m,\u001b[0m \u001b[0mcls\u001b[0m\u001b[0;34m)\u001b[0m\u001b[0;34m:\u001b[0m\u001b[0;34m\u001b[0m\u001b[0;34m\u001b[0m\u001b[0m\n\u001b[0;32m-> 1125\u001b[0;31m         \u001b[0mret\u001b[0m \u001b[0;34m=\u001b[0m \u001b[0mret\u001b[0m\u001b[0;34m.\u001b[0m\u001b[0mas_subclass\u001b[0m\u001b[0;34m(\u001b[0m\u001b[0mcls\u001b[0m\u001b[0;34m)\u001b[0m\u001b[0;34m\u001b[0m\u001b[0;34m\u001b[0m\u001b[0m\n\u001b[0m\u001b[1;32m   1126\u001b[0m \u001b[0;34m\u001b[0m\u001b[0m\n\u001b[1;32m   1127\u001b[0m     \u001b[0;32mif\u001b[0m \u001b[0misinstance\u001b[0m\u001b[0;34m(\u001b[0m\u001b[0mret\u001b[0m\u001b[0;34m,\u001b[0m \u001b[0;34m(\u001b[0m\u001b[0mtuple\u001b[0m\u001b[0;34m,\u001b[0m \u001b[0mlist\u001b[0m\u001b[0;34m)\u001b[0m\u001b[0;34m)\u001b[0m\u001b[0;34m:\u001b[0m\u001b[0;34m\u001b[0m\u001b[0;34m\u001b[0m\u001b[0m\n",
      "\u001b[0;32m~/miniconda3/envs/pt10/lib/python3.8/site-packages/fastai/torch_core.py\u001b[0m in \u001b[0;36mas_subclass\u001b[0;34m(self, typ)\u001b[0m\n\u001b[1;32m    296\u001b[0m \u001b[0;32mdef\u001b[0m \u001b[0mas_subclass\u001b[0m\u001b[0;34m(\u001b[0m\u001b[0mself\u001b[0m\u001b[0;34m:\u001b[0m\u001b[0mTensor\u001b[0m\u001b[0;34m,\u001b[0m \u001b[0mtyp\u001b[0m\u001b[0;34m)\u001b[0m\u001b[0;34m:\u001b[0m\u001b[0;34m\u001b[0m\u001b[0;34m\u001b[0m\u001b[0m\n\u001b[1;32m    297\u001b[0m     \u001b[0;34m\"Cast to `typ` and include `__dict__` and meta\"\u001b[0m\u001b[0;34m\u001b[0m\u001b[0;34m\u001b[0m\u001b[0m\n\u001b[0;32m--> 298\u001b[0;31m     \u001b[0;32mreturn\u001b[0m \u001b[0mretain_meta\u001b[0m\u001b[0;34m(\u001b[0m\u001b[0mself\u001b[0m\u001b[0;34m,\u001b[0m \u001b[0mtorch\u001b[0m\u001b[0;34m.\u001b[0m\u001b[0mas_subclass\u001b[0m\u001b[0;34m(\u001b[0m\u001b[0mself\u001b[0m\u001b[0;34m,\u001b[0m \u001b[0mtyp\u001b[0m\u001b[0;34m)\u001b[0m\u001b[0;34m)\u001b[0m\u001b[0;34m\u001b[0m\u001b[0;34m\u001b[0m\u001b[0m\n\u001b[0m\u001b[1;32m    299\u001b[0m \u001b[0;34m\u001b[0m\u001b[0m\n\u001b[1;32m    300\u001b[0m \u001b[0;31m# Cell\u001b[0m\u001b[0;34m\u001b[0m\u001b[0;34m\u001b[0m\u001b[0;34m\u001b[0m\u001b[0m\n",
      "\u001b[0;31mKeyboardInterrupt\u001b[0m: "
     ]
    }
   ],
   "source": [
    "learn.fit_one_cycle(1, 2e-2) # first cycle"
   ]
  },
  {
   "cell_type": "markdown",
   "metadata": {
    "id": "0drRucJ4_Ayr"
   },
   "source": [
    "#### Saving and Loading Models"
   ]
  },
  {
   "cell_type": "code",
   "execution_count": 18,
   "metadata": {
    "execution": {
     "iopub.execute_input": "2022-05-10T00:24:52.924518Z",
     "iopub.status.busy": "2022-05-10T00:24:52.924317Z",
     "iopub.status.idle": "2022-05-10T00:24:52.926969Z",
     "shell.execute_reply": "2022-05-10T00:24:52.926595Z",
     "shell.execute_reply.started": "2022-05-10T00:24:52.924504Z"
    },
    "id": "T1IzVclE_Ayr",
    "outputId": "05fbcb31-23ae-419d-df9b-9748d9202293",
    "tags": []
   },
   "outputs": [],
   "source": [
    "learn.path = path"
   ]
  },
  {
   "cell_type": "code",
   "execution_count": 19,
   "metadata": {
    "execution": {
     "iopub.execute_input": "2022-05-10T00:25:02.984189Z",
     "iopub.status.busy": "2022-05-10T00:25:02.983910Z",
     "iopub.status.idle": "2022-05-10T00:25:02.987877Z",
     "shell.execute_reply": "2022-05-10T00:25:02.987366Z",
     "shell.execute_reply.started": "2022-05-10T00:25:02.984173Z"
    }
   },
   "outputs": [
    {
     "data": {
      "text/plain": [
       "Path('/home/harpreet/Insync/google_drive_shaannoor/Machine_Learning/2_Courses/DL_fastai/fastai_course/fastai_course/practise_Apr_2022/Week_1/multiclass_project/datasets')"
      ]
     },
     "execution_count": 19,
     "metadata": {},
     "output_type": "execute_result"
    }
   ],
   "source": [
    "learn.path"
   ]
  },
  {
   "cell_type": "code",
   "execution_count": 18,
   "metadata": {
    "execution": {
     "iopub.execute_input": "2022-05-06T04:52:24.461541Z",
     "iopub.status.busy": "2022-05-06T04:52:24.461438Z",
     "iopub.status.idle": "2022-05-06T04:52:25.553516Z",
     "shell.execute_reply": "2022-05-06T04:52:25.553029Z",
     "shell.execute_reply.started": "2022-05-06T04:52:24.461529Z"
    },
    "id": "nbm_VStm_Ayr",
    "outputId": "9fb8f5db-a9d8-4db6-cdec-c327dc09803d",
    "tags": []
   },
   "outputs": [
    {
     "data": {
      "text/plain": [
       "Path('/scratch/08791/hsingh24/datasets/models/lm_stack_exc.pth')"
      ]
     },
     "execution_count": 18,
     "metadata": {},
     "output_type": "execute_result"
    }
   ],
   "source": [
    "#learn.save('lm_stack_exc')"
   ]
  },
  {
   "cell_type": "code",
   "execution_count": 20,
   "metadata": {
    "execution": {
     "iopub.execute_input": "2022-05-10T00:25:16.006831Z",
     "iopub.status.busy": "2022-05-10T00:25:16.006442Z",
     "iopub.status.idle": "2022-05-10T00:25:16.261210Z",
     "shell.execute_reply": "2022-05-10T00:25:16.260791Z",
     "shell.execute_reply.started": "2022-05-10T00:25:16.006813Z"
    },
    "id": "UTCRFcJW_Ayr",
    "tags": []
   },
   "outputs": [],
   "source": [
    "learn = learn.load('lm_stack_exc')"
   ]
  },
  {
   "cell_type": "code",
   "execution_count": 6,
   "metadata": {
    "execution": {
     "iopub.execute_input": "2022-05-06T09:12:54.445768Z",
     "iopub.status.busy": "2022-05-06T09:12:54.445657Z",
     "iopub.status.idle": "2022-05-06T09:12:54.452323Z",
     "shell.execute_reply": "2022-05-06T09:12:54.452020Z",
     "shell.execute_reply.started": "2022-05-06T09:12:54.445754Z"
    },
    "tags": []
   },
   "outputs": [
    {
     "data": {
      "text/plain": [
       "2"
      ]
     },
     "execution_count": 6,
     "metadata": {},
     "output_type": "execute_result"
    }
   ],
   "source": [
    "#torch.cuda.device_count()"
   ]
  },
  {
   "cell_type": "code",
   "execution_count": 12,
   "metadata": {
    "execution": {
     "iopub.execute_input": "2022-05-06T08:29:24.190573Z",
     "iopub.status.busy": "2022-05-06T08:29:24.190380Z",
     "iopub.status.idle": "2022-05-06T08:29:24.195742Z",
     "shell.execute_reply": "2022-05-06T08:29:24.195234Z",
     "shell.execute_reply.started": "2022-05-06T08:29:24.190557Z"
    }
   },
   "outputs": [
    {
     "data": {
      "text/plain": [
       "SequentialRNN(\n",
       "  (0): AWD_LSTM(\n",
       "    (encoder): Embedding(60008, 400, padding_idx=1)\n",
       "    (encoder_dp): EmbeddingDropout(\n",
       "      (emb): Embedding(60008, 400, padding_idx=1)\n",
       "    )\n",
       "    (rnns): ModuleList(\n",
       "      (0): WeightDropout(\n",
       "        (module): LSTM(400, 1152, batch_first=True)\n",
       "      )\n",
       "      (1): WeightDropout(\n",
       "        (module): LSTM(1152, 1152, batch_first=True)\n",
       "      )\n",
       "      (2): WeightDropout(\n",
       "        (module): LSTM(1152, 400, batch_first=True)\n",
       "      )\n",
       "    )\n",
       "    (input_dp): RNNDropout()\n",
       "    (hidden_dps): ModuleList(\n",
       "      (0): RNNDropout()\n",
       "      (1): RNNDropout()\n",
       "      (2): RNNDropout()\n",
       "    )\n",
       "  )\n",
       "  (1): LinearDecoder(\n",
       "    (decoder): Linear(in_features=400, out_features=60008, bias=True)\n",
       "    (output_dp): RNNDropout()\n",
       "  )\n",
       ")"
      ]
     },
     "execution_count": 12,
     "metadata": {},
     "output_type": "execute_result"
    }
   ],
   "source": [
    "#learn.model"
   ]
  },
  {
   "cell_type": "code",
   "execution_count": 7,
   "metadata": {
    "execution": {
     "iopub.execute_input": "2022-05-06T09:12:54.452861Z",
     "iopub.status.busy": "2022-05-06T09:12:54.452762Z",
     "iopub.status.idle": "2022-05-06T09:12:54.474101Z",
     "shell.execute_reply": "2022-05-06T09:12:54.473665Z",
     "shell.execute_reply.started": "2022-05-06T09:12:54.452844Z"
    }
   },
   "outputs": [],
   "source": [
    "#from fastai.distributed import *"
   ]
  },
  {
   "cell_type": "code",
   "execution_count": 10,
   "metadata": {
    "execution": {
     "iopub.execute_input": "2022-05-06T09:19:24.804789Z",
     "iopub.status.busy": "2022-05-06T09:19:24.804600Z",
     "iopub.status.idle": "2022-05-06T09:19:24.808338Z",
     "shell.execute_reply": "2022-05-06T09:19:24.807986Z",
     "shell.execute_reply.started": "2022-05-06T09:19:24.804772Z"
    },
    "tags": []
   },
   "outputs": [],
   "source": [
    "#if torch.cuda.device_count() > 1:\n",
    "#    learn.model = nn.DataParallel(learn.model.cuda())    "
   ]
  },
  {
   "cell_type": "code",
   "execution_count": 11,
   "metadata": {
    "execution": {
     "iopub.execute_input": "2022-05-06T09:19:26.021475Z",
     "iopub.status.busy": "2022-05-06T09:19:26.021262Z",
     "iopub.status.idle": "2022-05-06T09:19:26.024585Z",
     "shell.execute_reply": "2022-05-06T09:19:26.024262Z",
     "shell.execute_reply.started": "2022-05-06T09:19:26.021449Z"
    },
    "tags": []
   },
   "outputs": [
    {
     "data": {
      "text/plain": [
       "DataParallel(\n",
       "  (module): DataParallel(\n",
       "    (module): SequentialRNN(\n",
       "      (0): AWD_LSTM(\n",
       "        (encoder): Embedding(60008, 400, padding_idx=1)\n",
       "        (encoder_dp): EmbeddingDropout(\n",
       "          (emb): Embedding(60008, 400, padding_idx=1)\n",
       "        )\n",
       "        (rnns): ModuleList(\n",
       "          (0): WeightDropout(\n",
       "            (module): LSTM(400, 1152, batch_first=True)\n",
       "          )\n",
       "          (1): WeightDropout(\n",
       "            (module): LSTM(1152, 1152, batch_first=True)\n",
       "          )\n",
       "          (2): WeightDropout(\n",
       "            (module): LSTM(1152, 400, batch_first=True)\n",
       "          )\n",
       "        )\n",
       "        (input_dp): RNNDropout()\n",
       "        (hidden_dps): ModuleList(\n",
       "          (0): RNNDropout()\n",
       "          (1): RNNDropout()\n",
       "          (2): RNNDropout()\n",
       "        )\n",
       "      )\n",
       "      (1): LinearDecoder(\n",
       "        (decoder): Linear(in_features=400, out_features=60008, bias=True)\n",
       "        (output_dp): RNNDropout()\n",
       "      )\n",
       "    )\n",
       "  )\n",
       ")"
      ]
     },
     "execution_count": 11,
     "metadata": {},
     "output_type": "execute_result"
    }
   ],
   "source": [
    "#learn.model"
   ]
  },
  {
   "cell_type": "code",
   "execution_count": null,
   "metadata": {
    "execution": {
     "iopub.execute_input": "2022-05-10T00:26:04.266674Z",
     "iopub.status.busy": "2022-05-10T00:26:04.266295Z"
    },
    "tags": []
   },
   "outputs": [
    {
     "data": {
      "text/html": [
       "\n",
       "    <div>\n",
       "        <style>\n",
       "            /* Turns off some styling */\n",
       "            progress {\n",
       "                /* gets rid of default border in Firefox and Opera. */\n",
       "                border: none;\n",
       "                /* Needs to be in here for Safari polyfill so background images work as expected. */\n",
       "                background-size: auto;\n",
       "            }\n",
       "            .progress-bar-interrupted, .progress-bar-interrupted::-webkit-progress-bar {\n",
       "                background: #F44336;\n",
       "            }\n",
       "        </style>\n",
       "      <progress value='0' class='' max='1' style='width:300px; height:20px; vertical-align: middle;'></progress>\n",
       "      0.00% [0/1 00:00<00:00]\n",
       "    </div>\n",
       "    \n",
       "<table border=\"1\" class=\"dataframe\">\n",
       "  <thead>\n",
       "    <tr style=\"text-align: left;\">\n",
       "      <th>epoch</th>\n",
       "      <th>train_loss</th>\n",
       "      <th>valid_loss</th>\n",
       "      <th>accuracy</th>\n",
       "      <th>perplexity</th>\n",
       "      <th>time</th>\n",
       "    </tr>\n",
       "  </thead>\n",
       "  <tbody>\n",
       "  </tbody>\n",
       "</table><p>\n",
       "\n",
       "    <div>\n",
       "        <style>\n",
       "            /* Turns off some styling */\n",
       "            progress {\n",
       "                /* gets rid of default border in Firefox and Opera. */\n",
       "                border: none;\n",
       "                /* Needs to be in here for Safari polyfill so background images work as expected. */\n",
       "                background-size: auto;\n",
       "            }\n",
       "            .progress-bar-interrupted, .progress-bar-interrupted::-webkit-progress-bar {\n",
       "                background: #F44336;\n",
       "            }\n",
       "        </style>\n",
       "      <progress value='1697' class='' max='23039' style='width:300px; height:20px; vertical-align: middle;'></progress>\n",
       "      7.37% [1697/23039 32:47<6:52:28 3.4094]\n",
       "    </div>\n",
       "    "
      ],
      "text/plain": [
       "<IPython.core.display.HTML object>"
      ]
     },
     "metadata": {},
     "output_type": "display_data"
    }
   ],
   "source": [
    "learn.fit_one_cycle(1, 2e-2) "
   ]
  },
  {
   "cell_type": "code",
   "execution_count": null,
   "metadata": {
    "execution": {
     "iopub.status.busy": "2022-05-06T12:58:30.492958Z",
     "iopub.status.idle": "2022-05-06T12:58:30.493142Z",
     "shell.execute_reply": "2022-05-06T12:58:30.493052Z",
     "shell.execute_reply.started": "2022-05-06T12:58:30.493042Z"
    },
    "tags": []
   },
   "outputs": [],
   "source": [
    "learn.save('lm_stack_exc_2_epochs')"
   ]
  },
  {
   "cell_type": "code",
   "execution_count": null,
   "metadata": {
    "execution": {
     "iopub.status.busy": "2022-05-06T12:58:30.493903Z",
     "iopub.status.idle": "2022-05-06T12:58:30.494074Z",
     "shell.execute_reply": "2022-05-06T12:58:30.493987Z",
     "shell.execute_reply.started": "2022-05-06T12:58:30.493978Z"
    },
    "id": "AF5lVkDB_Ayr",
    "outputId": "cf55822c-ab50-4c70-ebf7-a51aabf3c986",
    "tags": []
   },
   "outputs": [],
   "source": [
    "learn.unfreeze()\n",
    "learn.fit_one_cycle(2, 2e-3)"
   ]
  },
  {
   "cell_type": "code",
   "execution_count": null,
   "metadata": {
    "execution": {
     "iopub.status.busy": "2022-05-06T12:58:30.494957Z",
     "iopub.status.idle": "2022-05-06T12:58:30.495124Z",
     "shell.execute_reply": "2022-05-06T12:58:30.495040Z",
     "shell.execute_reply.started": "2022-05-06T12:58:30.495032Z"
    },
    "tags": []
   },
   "outputs": [],
   "source": [
    "learn.save('finetuned_lm_stack_exc_2ep')"
   ]
  },
  {
   "cell_type": "code",
   "execution_count": null,
   "metadata": {
    "execution": {
     "iopub.status.busy": "2022-05-05T15:55:35.337078Z",
     "iopub.status.idle": "2022-05-05T15:55:35.337240Z",
     "shell.execute_reply": "2022-05-05T15:55:35.337158Z",
     "shell.execute_reply.started": "2022-05-05T15:55:35.337150Z"
    },
    "id": "uc2N1DGj_Ays",
    "tags": []
   },
   "outputs": [],
   "source": [
    "learn.save_encoder('finetuned_lm_stack_exc')"
   ]
  },
  {
   "cell_type": "markdown",
   "metadata": {
    "id": "hfxNFQXI_Ays"
   },
   "source": [
    "### Transfer Learning using Fine-Tuned Language Model"
   ]
  },
  {
   "cell_type": "code",
   "execution_count": null,
   "metadata": {
    "execution": {
     "iopub.status.busy": "2022-05-05T15:55:35.337807Z",
     "iopub.status.idle": "2022-05-05T15:55:35.337958Z",
     "shell.execute_reply": "2022-05-05T15:55:35.337884Z",
     "shell.execute_reply.started": "2022-05-05T15:55:35.337876Z"
    },
    "tags": []
   },
   "outputs": [],
   "source": [
    "len(dls_lm.vocab)"
   ]
  },
  {
   "cell_type": "code",
   "execution_count": null,
   "metadata": {
    "execution": {
     "iopub.status.busy": "2022-05-05T15:55:35.338615Z",
     "iopub.status.idle": "2022-05-05T15:55:35.338768Z",
     "shell.execute_reply": "2022-05-05T15:55:35.338693Z",
     "shell.execute_reply.started": "2022-05-05T15:55:35.338685Z"
    },
    "tags": []
   },
   "outputs": [],
   "source": [
    "dls_stack_train_valid_cl_fine_tune = TextDataLoaders.from_df(train_df, path=path, \n",
    "                                                             text_col='text',\n",
    "                                                             label_col='label', \n",
    "                                                             valid_pct=0.2, \n",
    "                                                             seed =123, \n",
    "                                                             bs = 64,\n",
    "                                                            text_vocab =dls_lm.vocab )"
   ]
  },
  {
   "cell_type": "code",
   "execution_count": null,
   "metadata": {
    "execution": {
     "iopub.status.busy": "2022-05-05T15:55:35.339350Z",
     "iopub.status.idle": "2022-05-05T15:55:35.339512Z",
     "shell.execute_reply": "2022-05-05T15:55:35.339425Z",
     "shell.execute_reply.started": "2022-05-05T15:55:35.339417Z"
    },
    "tags": []
   },
   "outputs": [],
   "source": [
    "torch.save(dls_stack_train_valid_cl_fine_tune, path/'dls_stack_train_valid_cl_fine_tine_local.pkl')"
   ]
  },
  {
   "cell_type": "code",
   "execution_count": null,
   "metadata": {
    "execution": {
     "iopub.status.busy": "2022-05-05T15:55:35.340186Z",
     "iopub.status.idle": "2022-05-05T15:55:35.340340Z",
     "shell.execute_reply": "2022-05-05T15:55:35.340263Z",
     "shell.execute_reply.started": "2022-05-05T15:55:35.340255Z"
    },
    "tags": []
   },
   "outputs": [],
   "source": [
    "dls = torch.load(path/'dls_stack_train_valid_cl_fine_tine_local.pkl')"
   ]
  },
  {
   "cell_type": "code",
   "execution_count": null,
   "metadata": {
    "execution": {
     "iopub.status.busy": "2022-05-05T15:55:35.340927Z",
     "iopub.status.idle": "2022-05-05T15:55:35.341075Z",
     "shell.execute_reply": "2022-05-05T15:55:35.341002Z",
     "shell.execute_reply.started": "2022-05-05T15:55:35.340994Z"
    },
    "id": "3Opm_mhf_Ays",
    "outputId": "ceef4013-f4a6-43d1-e1fb-b5c8b11d8afe",
    "tags": []
   },
   "outputs": [],
   "source": [
    "dls.show_batch(max_n=3)"
   ]
  },
  {
   "cell_type": "code",
   "execution_count": null,
   "metadata": {
    "execution": {
     "iopub.status.busy": "2022-05-05T15:55:35.341711Z",
     "iopub.status.idle": "2022-05-05T15:55:35.341862Z",
     "shell.execute_reply": "2022-05-05T15:55:35.341788Z",
     "shell.execute_reply.started": "2022-05-05T15:55:35.341780Z"
    },
    "id": "YAaL2Ql1_Ays",
    "tags": []
   },
   "outputs": [],
   "source": [
    "learn = text_classifier_learner(dls, AWD_LSTM, drop_mult=0.5, \n",
    "                                metrics=accuracy).to_fp16()"
   ]
  },
  {
   "cell_type": "code",
   "execution_count": null,
   "metadata": {
    "execution": {
     "iopub.status.busy": "2022-05-05T15:55:35.342661Z",
     "iopub.status.idle": "2022-05-05T15:55:35.342819Z",
     "shell.execute_reply": "2022-05-05T15:55:35.342738Z",
     "shell.execute_reply.started": "2022-05-05T15:55:35.342730Z"
    },
    "id": "zFBEbhQg_Ays",
    "tags": []
   },
   "outputs": [],
   "source": [
    "learn = learn.load_encoder('finetuned_lm_stack_exc')"
   ]
  },
  {
   "cell_type": "markdown",
   "metadata": {
    "id": "8v9_ikm0_Ays"
   },
   "source": [
    "### Fine-Tuning the Classifier"
   ]
  },
  {
   "cell_type": "code",
   "execution_count": null,
   "metadata": {
    "execution": {
     "iopub.status.busy": "2022-05-05T15:55:35.343181Z",
     "iopub.status.idle": "2022-05-05T15:55:35.343323Z",
     "shell.execute_reply": "2022-05-05T15:55:35.343254Z",
     "shell.execute_reply.started": "2022-05-05T15:55:35.343246Z"
    },
    "id": "SAO9o-LA_Ayt",
    "outputId": "04bb0a60-9848-4123-c846-c7539c0e2fd4",
    "tags": []
   },
   "outputs": [],
   "source": [
    "learn.fit_one_cycle(1, 2e-2)"
   ]
  },
  {
   "cell_type": "code",
   "execution_count": null,
   "metadata": {
    "execution": {
     "iopub.status.busy": "2022-05-05T15:55:35.343900Z",
     "iopub.status.idle": "2022-05-05T15:55:35.344045Z",
     "shell.execute_reply": "2022-05-05T15:55:35.343974Z",
     "shell.execute_reply.started": "2022-05-05T15:55:35.343967Z"
    },
    "id": "CCR3HJgL_Ayt",
    "outputId": "9b0c09d8-8781-4c18-9af7-0ba53e7aca3d",
    "tags": []
   },
   "outputs": [],
   "source": [
    "learn.freeze_to(-2)\n",
    "learn.fit_one_cycle(1, slice(1e-2/(2.6**4),1e-2))"
   ]
  },
  {
   "cell_type": "code",
   "execution_count": null,
   "metadata": {
    "execution": {
     "iopub.status.busy": "2022-05-05T15:55:35.344598Z",
     "iopub.status.idle": "2022-05-05T15:55:35.344744Z",
     "shell.execute_reply": "2022-05-05T15:55:35.344673Z",
     "shell.execute_reply.started": "2022-05-05T15:55:35.344665Z"
    },
    "id": "WYd55FrH_Ayt",
    "outputId": "36fe5377-32c8-4041-f7c0-95547c042c33",
    "tags": []
   },
   "outputs": [],
   "source": [
    "learn.freeze_to(-3)\n",
    "learn.fit_one_cycle(1, slice(5e-3/(2.6**4),5e-3))"
   ]
  },
  {
   "cell_type": "code",
   "execution_count": null,
   "metadata": {
    "execution": {
     "iopub.status.busy": "2022-05-05T15:55:35.345312Z",
     "iopub.status.idle": "2022-05-05T15:55:35.345468Z",
     "shell.execute_reply": "2022-05-05T15:55:35.345385Z",
     "shell.execute_reply.started": "2022-05-05T15:55:35.345377Z"
    },
    "id": "cxLa9E7E_Ayt",
    "outputId": "a0335816-6f88-408f-c2db-79dc17dd977e",
    "tags": []
   },
   "outputs": [],
   "source": [
    "learn.unfreeze()\n",
    "learn.fit_one_cycle(2, slice(1e-3/(2.6**4),1e-3))"
   ]
  },
  {
   "cell_type": "code",
   "execution_count": null,
   "metadata": {
    "execution": {
     "iopub.status.busy": "2022-05-05T15:55:35.346081Z",
     "iopub.status.idle": "2022-05-05T15:55:35.346231Z",
     "shell.execute_reply": "2022-05-05T15:55:35.346155Z",
     "shell.execute_reply.started": "2022-05-05T15:55:35.346148Z"
    },
    "tags": []
   },
   "outputs": [],
   "source": [
    "learn.save('multiclass_stack_exc')"
   ]
  },
  {
   "cell_type": "code",
   "execution_count": null,
   "metadata": {
    "execution": {
     "iopub.status.busy": "2022-05-05T15:55:35.346763Z",
     "iopub.status.idle": "2022-05-05T15:55:35.346910Z",
     "shell.execute_reply": "2022-05-05T15:55:35.346835Z",
     "shell.execute_reply.started": "2022-05-05T15:55:35.346828Z"
    },
    "tags": []
   },
   "outputs": [],
   "source": [
    "torch.save(dls_lm.vocab, path/'dls_lm_vocab')"
   ]
  },
  {
   "cell_type": "code",
   "execution_count": null,
   "metadata": {},
   "outputs": [],
   "source": []
  },
  {
   "cell_type": "code",
   "execution_count": null,
   "metadata": {},
   "outputs": [],
   "source": []
  }
 ],
 "metadata": {
  "colab": {
   "collapsed_sections": [
    "0drRucJ4_Ayr"
   ],
   "name": "Transfer_Learning_Stack_Exchange.ipynb",
   "provenance": []
  },
  "jupytext": {
   "split_at_heading": true
  },
  "kernelspec": {
   "display_name": "pt10",
   "language": "python",
   "name": "pt10"
  },
  "language_info": {
   "codemirror_mode": {
    "name": "ipython",
    "version": 3
   },
   "file_extension": ".py",
   "mimetype": "text/x-python",
   "name": "python",
   "nbconvert_exporter": "python",
   "pygments_lexer": "ipython3",
   "version": "3.8.12"
  },
  "toc-autonumbering": false,
  "widgets": {
   "application/vnd.jupyter.widget-state+json": {
    "1245922eddb1484a8a2eca47d218914a": {
     "model_module": "@jupyter-widgets/base",
     "model_module_version": "1.2.0",
     "model_name": "LayoutModel",
     "state": {
      "_model_module": "@jupyter-widgets/base",
      "_model_module_version": "1.2.0",
      "_model_name": "LayoutModel",
      "_view_count": null,
      "_view_module": "@jupyter-widgets/base",
      "_view_module_version": "1.2.0",
      "_view_name": "LayoutView",
      "align_content": null,
      "align_items": null,
      "align_self": null,
      "border": null,
      "bottom": null,
      "display": null,
      "flex": null,
      "flex_flow": null,
      "grid_area": null,
      "grid_auto_columns": null,
      "grid_auto_flow": null,
      "grid_auto_rows": null,
      "grid_column": null,
      "grid_gap": null,
      "grid_row": null,
      "grid_template_areas": null,
      "grid_template_columns": null,
      "grid_template_rows": null,
      "height": null,
      "justify_content": null,
      "justify_items": null,
      "left": null,
      "margin": null,
      "max_height": null,
      "max_width": null,
      "min_height": null,
      "min_width": null,
      "object_fit": null,
      "object_position": null,
      "order": null,
      "overflow": null,
      "overflow_x": null,
      "overflow_y": null,
      "padding": null,
      "right": null,
      "top": null,
      "visibility": null,
      "width": null
     }
    },
    "14d1d8c68ec34c52840898d9f5430c2f": {
     "model_module": "@jupyter-widgets/base",
     "model_module_version": "1.2.0",
     "model_name": "LayoutModel",
     "state": {
      "_model_module": "@jupyter-widgets/base",
      "_model_module_version": "1.2.0",
      "_model_name": "LayoutModel",
      "_view_count": null,
      "_view_module": "@jupyter-widgets/base",
      "_view_module_version": "1.2.0",
      "_view_name": "LayoutView",
      "align_content": null,
      "align_items": null,
      "align_self": null,
      "border": null,
      "bottom": null,
      "display": null,
      "flex": null,
      "flex_flow": null,
      "grid_area": null,
      "grid_auto_columns": null,
      "grid_auto_flow": null,
      "grid_auto_rows": null,
      "grid_column": null,
      "grid_gap": null,
      "grid_row": null,
      "grid_template_areas": null,
      "grid_template_columns": null,
      "grid_template_rows": null,
      "height": null,
      "justify_content": null,
      "justify_items": null,
      "left": null,
      "margin": null,
      "max_height": null,
      "max_width": null,
      "min_height": null,
      "min_width": null,
      "object_fit": null,
      "object_position": null,
      "order": null,
      "overflow": null,
      "overflow_x": null,
      "overflow_y": null,
      "padding": null,
      "right": null,
      "top": null,
      "visibility": null,
      "width": null
     }
    },
    "17d0d92b302a464ca36b60643134e7e6": {
     "model_module": "@jupyter-widgets/base",
     "model_module_version": "1.2.0",
     "model_name": "LayoutModel",
     "state": {
      "_model_module": "@jupyter-widgets/base",
      "_model_module_version": "1.2.0",
      "_model_name": "LayoutModel",
      "_view_count": null,
      "_view_module": "@jupyter-widgets/base",
      "_view_module_version": "1.2.0",
      "_view_name": "LayoutView",
      "align_content": null,
      "align_items": null,
      "align_self": null,
      "border": null,
      "bottom": null,
      "display": null,
      "flex": null,
      "flex_flow": null,
      "grid_area": null,
      "grid_auto_columns": null,
      "grid_auto_flow": null,
      "grid_auto_rows": null,
      "grid_column": null,
      "grid_gap": null,
      "grid_row": null,
      "grid_template_areas": null,
      "grid_template_columns": null,
      "grid_template_rows": null,
      "height": null,
      "justify_content": null,
      "justify_items": null,
      "left": null,
      "margin": null,
      "max_height": null,
      "max_width": null,
      "min_height": null,
      "min_width": null,
      "object_fit": null,
      "object_position": null,
      "order": null,
      "overflow": null,
      "overflow_x": null,
      "overflow_y": null,
      "padding": null,
      "right": null,
      "top": null,
      "visibility": null,
      "width": null
     }
    },
    "868d899c242f41f095153beebc1a4d62": {
     "model_module": "@jupyter-widgets/controls",
     "model_module_version": "1.5.0",
     "model_name": "DescriptionStyleModel",
     "state": {
      "_model_module": "@jupyter-widgets/controls",
      "_model_module_version": "1.5.0",
      "_model_name": "DescriptionStyleModel",
      "_view_count": null,
      "_view_module": "@jupyter-widgets/base",
      "_view_module_version": "1.2.0",
      "_view_name": "StyleView",
      "description_width": ""
     }
    },
    "8b7424d7bbcf4ac6b4b345586bafd514": {
     "model_module": "@jupyter-widgets/controls",
     "model_module_version": "1.5.0",
     "model_name": "HTMLModel",
     "state": {
      "_dom_classes": [],
      "_model_module": "@jupyter-widgets/controls",
      "_model_module_version": "1.5.0",
      "_model_name": "HTMLModel",
      "_view_count": null,
      "_view_module": "@jupyter-widgets/controls",
      "_view_module_version": "1.5.0",
      "_view_name": "HTMLView",
      "description": "",
      "description_tooltip": null,
      "layout": "IPY_MODEL_1245922eddb1484a8a2eca47d218914a",
      "placeholder": "​",
      "style": "IPY_MODEL_e692c2ce352649659d7e4d7164cba8d3",
      "value": " 188878/188878 [13:43&lt;00:00, 256.64it/s]"
     }
    },
    "9573144d71064c089857c6a581060675": {
     "model_module": "@jupyter-widgets/controls",
     "model_module_version": "1.5.0",
     "model_name": "FloatProgressModel",
     "state": {
      "_dom_classes": [],
      "_model_module": "@jupyter-widgets/controls",
      "_model_module_version": "1.5.0",
      "_model_name": "FloatProgressModel",
      "_view_count": null,
      "_view_module": "@jupyter-widgets/controls",
      "_view_module_version": "1.5.0",
      "_view_name": "ProgressView",
      "bar_style": "success",
      "description": "",
      "description_tooltip": null,
      "layout": "IPY_MODEL_17d0d92b302a464ca36b60643134e7e6",
      "max": 188878,
      "min": 0,
      "orientation": "horizontal",
      "style": "IPY_MODEL_dcc4bc3339284522965d878b80c9ae9d",
      "value": 188878
     }
    },
    "aef646e178db4295a96d430c37b7f021": {
     "model_module": "@jupyter-widgets/controls",
     "model_module_version": "1.5.0",
     "model_name": "HBoxModel",
     "state": {
      "_dom_classes": [],
      "_model_module": "@jupyter-widgets/controls",
      "_model_module_version": "1.5.0",
      "_model_name": "HBoxModel",
      "_view_count": null,
      "_view_module": "@jupyter-widgets/controls",
      "_view_module_version": "1.5.0",
      "_view_name": "HBoxView",
      "box_style": "",
      "children": [
       "IPY_MODEL_fad41d0e43f04c709acb71ffbf9b5690",
       "IPY_MODEL_9573144d71064c089857c6a581060675",
       "IPY_MODEL_8b7424d7bbcf4ac6b4b345586bafd514"
      ],
      "layout": "IPY_MODEL_14d1d8c68ec34c52840898d9f5430c2f"
     }
    },
    "b20f7b20bb6942348b761ff11829f8c1": {
     "model_module": "@jupyter-widgets/base",
     "model_module_version": "1.2.0",
     "model_name": "LayoutModel",
     "state": {
      "_model_module": "@jupyter-widgets/base",
      "_model_module_version": "1.2.0",
      "_model_name": "LayoutModel",
      "_view_count": null,
      "_view_module": "@jupyter-widgets/base",
      "_view_module_version": "1.2.0",
      "_view_name": "LayoutView",
      "align_content": null,
      "align_items": null,
      "align_self": null,
      "border": null,
      "bottom": null,
      "display": null,
      "flex": null,
      "flex_flow": null,
      "grid_area": null,
      "grid_auto_columns": null,
      "grid_auto_flow": null,
      "grid_auto_rows": null,
      "grid_column": null,
      "grid_gap": null,
      "grid_row": null,
      "grid_template_areas": null,
      "grid_template_columns": null,
      "grid_template_rows": null,
      "height": null,
      "justify_content": null,
      "justify_items": null,
      "left": null,
      "margin": null,
      "max_height": null,
      "max_width": null,
      "min_height": null,
      "min_width": null,
      "object_fit": null,
      "object_position": null,
      "order": null,
      "overflow": null,
      "overflow_x": null,
      "overflow_y": null,
      "padding": null,
      "right": null,
      "top": null,
      "visibility": null,
      "width": null
     }
    },
    "dcc4bc3339284522965d878b80c9ae9d": {
     "model_module": "@jupyter-widgets/controls",
     "model_module_version": "1.5.0",
     "model_name": "ProgressStyleModel",
     "state": {
      "_model_module": "@jupyter-widgets/controls",
      "_model_module_version": "1.5.0",
      "_model_name": "ProgressStyleModel",
      "_view_count": null,
      "_view_module": "@jupyter-widgets/base",
      "_view_module_version": "1.2.0",
      "_view_name": "StyleView",
      "bar_color": null,
      "description_width": ""
     }
    },
    "e692c2ce352649659d7e4d7164cba8d3": {
     "model_module": "@jupyter-widgets/controls",
     "model_module_version": "1.5.0",
     "model_name": "DescriptionStyleModel",
     "state": {
      "_model_module": "@jupyter-widgets/controls",
      "_model_module_version": "1.5.0",
      "_model_name": "DescriptionStyleModel",
      "_view_count": null,
      "_view_module": "@jupyter-widgets/base",
      "_view_module_version": "1.2.0",
      "_view_name": "StyleView",
      "description_width": ""
     }
    },
    "fad41d0e43f04c709acb71ffbf9b5690": {
     "model_module": "@jupyter-widgets/controls",
     "model_module_version": "1.5.0",
     "model_name": "HTMLModel",
     "state": {
      "_dom_classes": [],
      "_model_module": "@jupyter-widgets/controls",
      "_model_module_version": "1.5.0",
      "_model_name": "HTMLModel",
      "_view_count": null,
      "_view_module": "@jupyter-widgets/controls",
      "_view_module_version": "1.5.0",
      "_view_name": "HTMLView",
      "description": "",
      "description_tooltip": null,
      "layout": "IPY_MODEL_b20f7b20bb6942348b761ff11829f8c1",
      "placeholder": "​",
      "style": "IPY_MODEL_868d899c242f41f095153beebc1a4d62",
      "value": "Pandas Apply: 100%"
     }
    }
   }
  }
 },
 "nbformat": 4,
 "nbformat_minor": 4
}
