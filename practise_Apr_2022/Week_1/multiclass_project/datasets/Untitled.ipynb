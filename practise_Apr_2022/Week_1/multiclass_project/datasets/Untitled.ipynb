{
 "cells": [
  {
   "cell_type": "code",
   "execution_count": null,
   "id": "30a13ea4-0c4b-4986-81f3-733c283410f9",
   "metadata": {},
   "outputs": [],
   "source": [
    "from fastai.text "
   ]
  }
 ],
 "metadata": {
  "kernelspec": {
   "display_name": "pt10",
   "language": "python",
   "name": "pt10"
  },
  "language_info": {
   "codemirror_mode": {
    "name": "ipython",
    "version": 3
   },
   "file_extension": ".py",
   "mimetype": "text/x-python",
   "name": "python",
   "nbconvert_exporter": "python",
   "pygments_lexer": "ipython3",
   "version": "3.8.12"
  }
 },
 "nbformat": 4,
 "nbformat_minor": 5
}
